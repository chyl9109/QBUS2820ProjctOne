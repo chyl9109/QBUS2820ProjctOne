{
 "cells": [
  {
   "cell_type": "code",
   "execution_count": 69,
   "metadata": {},
   "outputs": [],
   "source": [
    "from sklearn.model_selection import cross_val_score\n",
    "from sklearn.linear_model import LassoCV\n",
    "from sklearn.model_selection import KFold\n",
    "from sklearn.metrics import r2_score\n",
    "from sklearn.preprocessing import StandardScaler\n",
    "from sklearn.pipeline import Pipeline\n",
    "from sklearn.metrics import make_scorer\n",
    "from sklearn.tree import DecisionTreeRegressor\n",
    "from sklearn.model_selection import GridSearchCV\n",
    "from sklearn.model_selection import ShuffleSplit\n",
    "import pandas as pd\n",
    "import numpy as np\n",
    "import matplotlib.pyplot as plt\n",
    "import seaborn as sns\n",
    "import warnings\n",
    "import statsmodels.formula.api as smf\n",
    "from sklearn.metrics import mean_absolute_error\n",
    "from sklearn.ensemble import AdaBoostRegressor, GradientBoostingRegressor, ExtraTreesRegressor\n",
    "from sklearn.tree import DecisionTreeRegressor\n",
    "from QBUS2820 import rmse_jack, r2_jack \n",
    "from sklearn.linear_model import Ridge \n",
    "from sklearn.linear_model import Lasso\n",
    "from sklearn.linear_model import RidgeCV\n",
    "import xgboost as xgb\n",
    "from sklearn.grid_search import GridSearchCV\n",
    "from ExtraCode import getResultTable\n",
    "from sklearn.model_selection import cross_val_score\n",
    "from QBUS2820 import forward\n",
    "from sklearn.linear_model import ElasticNet\n",
    "from QBUS2820 import pcrCV\n",
    "from QBUS2820 import plsCV\n",
    "from sklearn.preprocessing import StandardScaler\n",
    "from sklearn.neighbors import KNeighborsRegressor"
   ]
  },
  {
   "cell_type": "code",
   "execution_count": 56,
   "metadata": {
    "collapsed": true
   },
   "outputs": [],
   "source": [
    "data = pd.read_csv('Train6_1.csv')\n",
    "final_train = data.sample(frac=0.6, random_state=1)\n",
    "final_test = data[data.index.isin(final_train.index)==False]\n",
    "final_train.head()\n",
    "y_train = final_train.pop('SalePrice')\n",
    "y_test = final_test.pop('SalePrice')\n",
    "y_train = np.log(y_train)\n",
    "\n"
   ]
  },
  {
   "cell_type": "code",
   "execution_count": null,
   "metadata": {
    "collapsed": true
   },
   "outputs": [],
   "source": [
    "pred = []\n",
    "method = []"
   ]
  },
  {
   "cell_type": "code",
   "execution_count": 59,
   "metadata": {},
   "outputs": [],
   "source": [
    "pcr=pcrCV(final_train, y_train)\n",
    "predpcr = pcr.predict(final_test)\n",
    "method.append('PCR')\n",
    "pred.append(np.exp(predpcr))\n"
   ]
  },
  {
   "cell_type": "code",
   "execution_count": 71,
   "metadata": {},
   "outputs": [],
   "source": [
    "knn1 = KNeighborsRegressor(n_neighbors=10) \n",
    "knn1.fit(final_train, y_train)\n",
    "\n",
    "predknn = np.exp(knn1.predict(final_test))\n",
    "method.append('KNN with 10')\n",
    "pred.append(predknn)"
   ]
  },
  {
   "cell_type": "markdown",
   "metadata": {},
   "source": [
    "### Testing Models"
   ]
  },
  {
   "cell_type": "code",
   "execution_count": 3,
   "metadata": {
    "collapsed": true
   },
   "outputs": [],
   "source": [
    "#Forward selection\n",
    "fwd = forward()\n",
    "fwd.fit(final_train, y_train)\n",
    "predforward = fwd.predict(final_test)\n",
    "method.append('Forward')\n",
    "pred.append(np.exp(predforward))\n",
    "\n",
    "GBoost = GradientBoostingRegressor(n_estimators=3000, learning_rate=0.05,\n",
    "                                   max_depth=4, max_features='sqrt',\n",
    "                                   min_samples_leaf=15, min_samples_split=10, \n",
    "                                   loss='huber', random_state =5)\n",
    "GBoost.fit(final_train,y_train)\n",
    "predFinalBoost = GBoost.predict(final_test)\n",
    "method.append('GBoost')\n",
    "pred.append(np.exp(predFinalBoost))\n",
    "\n",
    "regr = AdaBoostRegressor(loss='linear', learning_rate = 1, n_estimators = 350)\n",
    "regr = regr.fit(final_train,y_train)\n",
    "adapred = regr.predict(final_test)\n",
    "method.append('AdaBoost')\n",
    "pred.append(np.exp(adapred))"
   ]
  },
  {
   "cell_type": "code",
   "execution_count": 4,
   "metadata": {
    "collapsed": true
   },
   "outputs": [],
   "source": [
    "xgdmat = xgb.DMatrix(final_train, y_train) # Create our DMatrix to make XGBoost more efficient\n",
    "our_params = {'eta': 0.1, 'seed':0, 'subsample': 0.8, 'colsample_bytree': 0.8, \n",
    "             'objective': 'reg:linear', 'max_depth':3, 'min_child_weight':1} \n",
    "\n",
    "final_gb = xgb.train(our_params, xgdmat, num_boost_round = 432)\n",
    "testFinaldmat = xgb.DMatrix(final_test)\n",
    "xgpred = final_gb.predict(testFinaldmat)\n",
    "method.append('XGBoost')\n",
    "pred.append(np.exp(xgpred))"
   ]
  },
  {
   "cell_type": "code",
   "execution_count": 5,
   "metadata": {
    "collapsed": true
   },
   "outputs": [],
   "source": [
    "pred2 = (np.exp(xgpred)+np.exp(adapred)+np.exp(predFinalBoost))/3\n",
    "pred.append(pred2)\n",
    "method.append('XGBoost, ada, GB')"
   ]
  },
  {
   "cell_type": "code",
   "execution_count": 6,
   "metadata": {
    "collapsed": true
   },
   "outputs": [],
   "source": [
    "pred3 = (np.exp(xgpred)+np.exp(predFinalBoost))/2\n",
    "\n",
    "pred5 = (np.exp(xgpred)+np.exp(adapred))/2\n",
    "pred.append(pred3)\n",
    "pred.append(pred5)\n",
    "method.append('xg GB')\n",
    "method.append('xg adaboost')"
   ]
  },
  {
   "cell_type": "code",
   "execution_count": 7,
   "metadata": {
    "collapsed": true
   },
   "outputs": [],
   "source": [
    "#Extremely Random forest\n",
    "regr2 = ExtraTreesRegressor(criterion='mae',max_depth=None,min_samples_split=2)\n",
    "regr2 = regr.fit(final_train,y_train)\n",
    "\n",
    "predFinalExtRandomForestlad = regr2.predict(final_test)\n",
    "pred.append(np.exp(predFinalExtRandomForestlad))\n",
    "method.append('Random Forest')"
   ]
  },
  {
   "cell_type": "code",
   "execution_count": 8,
   "metadata": {
    "collapsed": true
   },
   "outputs": [],
   "source": [
    "pred5 = (np.exp(xgpred)+np.exp(predFinalExtRandomForestlad)+np.exp(predFinalBoost))/3\n",
    "pred.append(pred5)\n",
    "method.append('XGBoost, random tree, GB')"
   ]
  },
  {
   "cell_type": "code",
   "execution_count": 9,
   "metadata": {
    "collapsed": true
   },
   "outputs": [],
   "source": [
    "pred6 = (np.exp(xgpred)+np.exp(predFinalExtRandomForestlad))/2\n",
    "pred.append(pred6)\n",
    "method.append('xg Random tree')"
   ]
  },
  {
   "cell_type": "code",
   "execution_count": 10,
   "metadata": {
    "collapsed": true
   },
   "outputs": [],
   "source": [
    "pred10 = (np.exp(xgpred)+np.exp(predFinalBoost)+np.exp(predFinalExtRandomForestlad))/3\n",
    "pred.append(pred10)\n",
    "method.append('XGBoost, GBoost Random Forest')"
   ]
  },
  {
   "cell_type": "code",
   "execution_count": 11,
   "metadata": {
    "collapsed": true
   },
   "outputs": [],
   "source": [
    "#LASSO\n",
    "lasso = Lasso(alpha = 1)\n",
    "lasso.fit(final_train, np.ravel(y_train)) \n",
    "pred_L = lasso.predict(final_test)\n",
    "method.append('LASSO')\n",
    "pred.append(np.exp(pred_L))"
   ]
  },
  {
   "cell_type": "code",
   "execution_count": 12,
   "metadata": {
    "collapsed": true
   },
   "outputs": [],
   "source": [
    "alpha = 10\n",
    "rg = Ridge(alpha = alpha)\n",
    "rg.fit(final_train, y_train)\n",
    "y_pred_rg = (rg.predict(final_test))\n",
    "y_pred_rg\n",
    "\n",
    "pred.append(np.exp(y_pred_rg))\n",
    "method.append('Ridge alpha 10')"
   ]
  },
  {
   "cell_type": "code",
   "execution_count": 13,
   "metadata": {
    "collapsed": true
   },
   "outputs": [],
   "source": [
    "pred11 = (np.exp(xgpred)+np.exp(predFinalBoost)+np.exp(predFinalExtRandomForestlad)+np.exp(y_pred_rg))/4\n",
    "pred.append(pred11)\n",
    "method.append('XGBoost, GBoost Random Forest Ridge')"
   ]
  },
  {
   "cell_type": "code",
   "execution_count": 14,
   "metadata": {
    "collapsed": true
   },
   "outputs": [],
   "source": [
    "pred12 = (np.exp(xgpred)+np.exp(predFinalBoost)+np.exp(predFinalExtRandomForestlad)+np.exp(pred_L))/4\n",
    "pred.append(pred12)\n",
    "method.append('XGBoost, GBoost Random Forest LASSO')"
   ]
  },
  {
   "cell_type": "code",
   "execution_count": 15,
   "metadata": {
    "collapsed": true
   },
   "outputs": [],
   "source": [
    "regr = ElasticNet(random_state=0, alpha = 1)\n",
    "    \n",
    "regr.fit(final_train, y_train)    \n",
    "pred13 = regr.predict(final_test)\n",
    "pred.append(np.exp(pred13))\n",
    "method.append('ENET')"
   ]
  },
  {
   "cell_type": "code",
   "execution_count": 16,
   "metadata": {
    "collapsed": true
   },
   "outputs": [],
   "source": [
    "pred12 = (np.exp(xgpred)+np.exp(predFinalBoost)+np.exp(predFinalExtRandomForestlad)+np.exp(pred13))/4\n",
    "pred.append(pred12)\n",
    "method.append('XGBoost, GBoost Random Forest ENET')"
   ]
  },
  {
   "cell_type": "code",
   "execution_count": 17,
   "metadata": {
    "collapsed": true
   },
   "outputs": [],
   "source": [
    "pred13 = (np.exp(xgpred)+np.exp(predFinalBoost)+np.exp(y_pred_rg))/3\n",
    "pred.append(pred13)\n",
    "method.append('XGBoost, GBoost Ridge')"
   ]
  },
  {
   "cell_type": "code",
   "execution_count": 18,
   "metadata": {
    "collapsed": true
   },
   "outputs": [],
   "source": [
    "pred14 = (np.exp(xgpred)+np.exp(predFinalBoost)+np.exp(y_pred_rg)+np.exp(predforward))/4\n",
    "pred.append(pred14)\n",
    "method.append('XGBoost, GBoost Ridge Forward')"
   ]
  },
  {
   "cell_type": "code",
   "execution_count": 19,
   "metadata": {
    "collapsed": true
   },
   "outputs": [],
   "source": [
    "pred15 = (np.exp(xgpred)+np.exp(predFinalBoost)+np.exp(y_pred_rg)+np.exp(predforward)+ np.exp(predFinalExtRandomForestlad))/5\n",
    "pred.append(pred15)\n",
    "method.append('XGBoost, GBoost Ridge Forward Tree')"
   ]
  },
  {
   "cell_type": "code",
   "execution_count": 20,
   "metadata": {
    "collapsed": true
   },
   "outputs": [],
   "source": [
    "pred16 = (np.exp(xgpred)+np.exp(predFinalBoost)+np.exp(y_pred_rg)+np.exp(predforward)+ np.exp(pred_L))/5\n",
    "pred.append(pred16)\n",
    "method.append('XGBoost, GBoost Ridge Forward Lasso')"
   ]
  },
  {
   "cell_type": "code",
   "execution_count": 21,
   "metadata": {
    "collapsed": true
   },
   "outputs": [],
   "source": [
    "pred15 = (np.exp(xgpred)+np.exp(predFinalBoost)+ np.exp(predFinalExtRandomForestlad))/3\n",
    "pred.append(pred15)\n",
    "method.append('XGBoost, GBoost, RandomTree')"
   ]
  },
  {
   "cell_type": "code",
   "execution_count": 22,
   "metadata": {
    "collapsed": true
   },
   "outputs": [],
   "source": [
    "\n",
    "pred15 = ((0.3*np.exp(xgpred))+(0.3*np.exp(predFinalBoost))+(0.2*np.exp(y_pred_rg))+(0.2*np.exp(predforward)))\n",
    "pred.append(pred15)\n",
    "method.append('XGBoost, GBoost Ridge Forward 30 30 20 20')"
   ]
  },
  {
   "cell_type": "code",
   "execution_count": 23,
   "metadata": {
    "collapsed": true
   },
   "outputs": [],
   "source": [
    "pred16 = ((0.4*np.exp(xgpred))+(0.4*np.exp(predFinalBoost))+(0.1*np.exp(y_pred_rg))+(0.1*np.exp(predforward)))\n",
    "pred.append(pred16)\n",
    "method.append('XGBoost, GBoost Ridge Forward 40 40 10 10')"
   ]
  },
  {
   "cell_type": "code",
   "execution_count": 24,
   "metadata": {
    "collapsed": true
   },
   "outputs": [],
   "source": [
    "pred17 = ((0.2*np.exp(xgpred))+(0.2*np.exp(predFinalBoost))+(0.3*np.exp(y_pred_rg))+(0.3*np.exp(predforward)))\n",
    "pred.append(pred17)\n",
    "method.append('XGBoost, GBoost Ridge Forward 20 20 30 30')"
   ]
  },
  {
   "cell_type": "code",
   "execution_count": 25,
   "metadata": {
    "collapsed": true
   },
   "outputs": [],
   "source": [
    "pred18 = ((0.35*np.exp(xgpred))+(0.35*np.exp(predFinalBoost))+(0.15*np.exp(y_pred_rg))+(0.15*np.exp(predforward)))\n",
    "pred.append(pred18)\n",
    "method.append('XGBoost, GBoost Ridge Forward 35 35 15 15')"
   ]
  },
  {
   "cell_type": "code",
   "execution_count": 26,
   "metadata": {
    "collapsed": true
   },
   "outputs": [],
   "source": [
    "pred19 = ((0.25*np.exp(xgpred))+(0.35*np.exp(predFinalBoost))+(0.2*np.exp(y_pred_rg))+(0.2*np.exp(predforward)))\n",
    "pred.append(pred19)\n",
    "method.append('XGBoost, GBoost Ridge Forward 25 35 20 20')"
   ]
  },
  {
   "cell_type": "code",
   "execution_count": 27,
   "metadata": {
    "collapsed": true
   },
   "outputs": [],
   "source": [
    "pred20 = ((0.2*np.exp(xgpred))+(0.4*np.exp(predFinalBoost))+(0.2*np.exp(y_pred_rg))+(0.2*np.exp(predforward)))\n",
    "pred.append(pred20)\n",
    "method.append('XGBoost, GBoost Ridge Forward 20 40 20 20')"
   ]
  },
  {
   "cell_type": "code",
   "execution_count": 28,
   "metadata": {
    "collapsed": true
   },
   "outputs": [],
   "source": [
    "pred21 = ((0.2*np.exp(xgpred))+(0.3*np.exp(predFinalBoost))+(0.2*np.exp(y_pred_rg))+(0.3*np.exp(predforward)))\n",
    "pred.append(pred21)\n",
    "method.append('XGBoost, GBoost Ridge Forward 20 30 20 30')"
   ]
  },
  {
   "cell_type": "code",
   "execution_count": 29,
   "metadata": {
    "collapsed": true
   },
   "outputs": [],
   "source": [
    "pred22 = ((0.2*np.exp(xgpred))+(0.3*np.exp(predFinalBoost))+(0.3*np.exp(y_pred_rg))+(0.2*np.exp(predforward)))\n",
    "pred.append(pred22)\n",
    "method.append('XGBoost, GBoost Ridge Forward 20 30 30 20')"
   ]
  },
  {
   "cell_type": "code",
   "execution_count": 30,
   "metadata": {
    "collapsed": true
   },
   "outputs": [],
   "source": [
    "pred23 = ((0.2*np.exp(xgpred))+(0.2*np.exp(predFinalBoost))+(0.3*np.exp(y_pred_rg))+(0.3*np.exp(predforward)))\n",
    "pred.append(pred23)\n",
    "method.append('XGBoost, GBoost Ridge Forward 20 20 30 30')"
   ]
  },
  {
   "cell_type": "code",
   "execution_count": 31,
   "metadata": {
    "collapsed": true
   },
   "outputs": [],
   "source": [
    "pred24 = ((0.3*np.exp(xgpred))+(0.5*np.exp(predFinalBoost))+(0.1*np.exp(y_pred_rg))+(0.1*np.exp(predforward)))\n",
    "pred.append(pred24)\n",
    "method.append('XGBoost, GBoost Ridge Forward 30 50 10 10')"
   ]
  },
  {
   "cell_type": "code",
   "execution_count": 32,
   "metadata": {
    "collapsed": true
   },
   "outputs": [],
   "source": [
    "pred24 = ((0.2*np.exp(xgpred))+(0.2*np.exp(predFinalBoost))+(0.2*np.exp(y_pred_rg))+(0.4*np.exp(predforward)))\n",
    "pred.append(pred24)\n",
    "method.append('XGBoost, GBoost Ridge Forward 20 20 20 40')"
   ]
  },
  {
   "cell_type": "code",
   "execution_count": 33,
   "metadata": {
    "collapsed": true
   },
   "outputs": [],
   "source": [
    "pred25 = ((0.3*np.exp(xgpred))+(0.3*np.exp(predFinalBoost))+(0.3*np.exp(y_pred_rg))+(0.1*np.exp(predforward)))\n",
    "pred.append(pred25)\n",
    "method.append('XGBoost, GBoost Ridge Forward 30 30 30 10')"
   ]
  },
  {
   "cell_type": "code",
   "execution_count": 34,
   "metadata": {
    "collapsed": true
   },
   "outputs": [],
   "source": [
    "pred26 = ((0.26*np.exp(xgpred))+(0.27*np.exp(predFinalBoost))+(0.27*np.exp(y_pred_rg))+(0.2*np.exp(predforward)))\n",
    "pred.append(pred26)\n",
    "method.append('XGBoost, GBoost Ridge Forward 26 27 27 20')"
   ]
  },
  {
   "cell_type": "code",
   "execution_count": 35,
   "metadata": {
    "collapsed": true
   },
   "outputs": [],
   "source": [
    "pred27 = ((0.23*np.exp(xgpred))+(0.24*np.exp(predFinalBoost))+(0.24*np.exp(y_pred_rg))+(0.3*np.exp(predforward)))\n",
    "pred.append(pred27)\n",
    "method.append('XGBoost, GBoost Ridge Forward 23 24 24 30')"
   ]
  },
  {
   "cell_type": "code",
   "execution_count": 74,
   "metadata": {},
   "outputs": [
    {
     "data": {
      "text/html": [
       "<div>\n",
       "<style>\n",
       "    .dataframe thead tr:only-child th {\n",
       "        text-align: right;\n",
       "    }\n",
       "\n",
       "    .dataframe thead th {\n",
       "        text-align: left;\n",
       "    }\n",
       "\n",
       "    .dataframe tbody tr th {\n",
       "        vertical-align: top;\n",
       "    }\n",
       "</style>\n",
       "<table border=\"1\" class=\"dataframe\">\n",
       "  <thead>\n",
       "    <tr style=\"text-align: right;\">\n",
       "      <th></th>\n",
       "      <th>Test RMSE</th>\n",
       "      <th>SE</th>\n",
       "      <th>Jack R2</th>\n",
       "      <th>SE</th>\n",
       "      <th>MAE</th>\n",
       "      <th>R-square</th>\n",
       "    </tr>\n",
       "  </thead>\n",
       "  <tbody>\n",
       "    <tr>\n",
       "      <th>Forward</th>\n",
       "      <td>23834.417</td>\n",
       "      <td>4933.468</td>\n",
       "      <td>0.884</td>\n",
       "      <td>0.047</td>\n",
       "      <td>14042.658</td>\n",
       "      <td>0.884</td>\n",
       "    </tr>\n",
       "    <tr>\n",
       "      <th>GBoost</th>\n",
       "      <td>19401.538</td>\n",
       "      <td>2816.862</td>\n",
       "      <td>0.923</td>\n",
       "      <td>0.015</td>\n",
       "      <td>12968.305</td>\n",
       "      <td>0.923</td>\n",
       "    </tr>\n",
       "    <tr>\n",
       "      <th>AdaBoost</th>\n",
       "      <td>26319.667</td>\n",
       "      <td>3692.210</td>\n",
       "      <td>0.858</td>\n",
       "      <td>0.025</td>\n",
       "      <td>18198.414</td>\n",
       "      <td>0.858</td>\n",
       "    </tr>\n",
       "    <tr>\n",
       "      <th>XGBoost</th>\n",
       "      <td>20400.397</td>\n",
       "      <td>3406.287</td>\n",
       "      <td>0.915</td>\n",
       "      <td>0.020</td>\n",
       "      <td>13619.232</td>\n",
       "      <td>0.915</td>\n",
       "    </tr>\n",
       "    <tr>\n",
       "      <th>XGBoost, ada, GB</th>\n",
       "      <td>20452.570</td>\n",
       "      <td>3570.834</td>\n",
       "      <td>0.915</td>\n",
       "      <td>0.020</td>\n",
       "      <td>13540.463</td>\n",
       "      <td>0.915</td>\n",
       "    </tr>\n",
       "    <tr>\n",
       "      <th>xg GB</th>\n",
       "      <td>19250.267</td>\n",
       "      <td>3211.549</td>\n",
       "      <td>0.924</td>\n",
       "      <td>0.017</td>\n",
       "      <td>12745.760</td>\n",
       "      <td>0.924</td>\n",
       "    </tr>\n",
       "    <tr>\n",
       "      <th>xg adaboost</th>\n",
       "      <td>21852.740</td>\n",
       "      <td>3803.248</td>\n",
       "      <td>0.902</td>\n",
       "      <td>0.023</td>\n",
       "      <td>14624.290</td>\n",
       "      <td>0.902</td>\n",
       "    </tr>\n",
       "    <tr>\n",
       "      <th>Random Forest</th>\n",
       "      <td>25869.901</td>\n",
       "      <td>3510.182</td>\n",
       "      <td>0.863</td>\n",
       "      <td>0.023</td>\n",
       "      <td>17952.529</td>\n",
       "      <td>0.863</td>\n",
       "    </tr>\n",
       "    <tr>\n",
       "      <th>XGBoost, random tree, GB</th>\n",
       "      <td>20264.068</td>\n",
       "      <td>3505.125</td>\n",
       "      <td>0.916</td>\n",
       "      <td>0.020</td>\n",
       "      <td>13440.667</td>\n",
       "      <td>0.916</td>\n",
       "    </tr>\n",
       "    <tr>\n",
       "      <th>xg Random tree</th>\n",
       "      <td>21582.591</td>\n",
       "      <td>3705.208</td>\n",
       "      <td>0.905</td>\n",
       "      <td>0.022</td>\n",
       "      <td>14419.793</td>\n",
       "      <td>0.905</td>\n",
       "    </tr>\n",
       "    <tr>\n",
       "      <th>XGBoost, GBoost Random Forest</th>\n",
       "      <td>20264.068</td>\n",
       "      <td>3505.125</td>\n",
       "      <td>0.916</td>\n",
       "      <td>0.020</td>\n",
       "      <td>13440.667</td>\n",
       "      <td>0.916</td>\n",
       "    </tr>\n",
       "    <tr>\n",
       "      <th>LASSO</th>\n",
       "      <td>34657.818</td>\n",
       "      <td>7340.865</td>\n",
       "      <td>0.755</td>\n",
       "      <td>0.097</td>\n",
       "      <td>20087.645</td>\n",
       "      <td>0.755</td>\n",
       "    </tr>\n",
       "    <tr>\n",
       "      <th>Ridge alpha 10</th>\n",
       "      <td>23016.283</td>\n",
       "      <td>6348.168</td>\n",
       "      <td>0.892</td>\n",
       "      <td>0.055</td>\n",
       "      <td>12901.650</td>\n",
       "      <td>0.892</td>\n",
       "    </tr>\n",
       "    <tr>\n",
       "      <th>XGBoost, GBoost Random Forest Ridge</th>\n",
       "      <td>18050.736</td>\n",
       "      <td>2126.419</td>\n",
       "      <td>0.933</td>\n",
       "      <td>0.010</td>\n",
       "      <td>12636.495</td>\n",
       "      <td>0.933</td>\n",
       "    </tr>\n",
       "    <tr>\n",
       "      <th>XGBoost, GBoost Random Forest LASSO</th>\n",
       "      <td>20571.403</td>\n",
       "      <td>2921.659</td>\n",
       "      <td>0.914</td>\n",
       "      <td>0.016</td>\n",
       "      <td>13877.805</td>\n",
       "      <td>0.914</td>\n",
       "    </tr>\n",
       "    <tr>\n",
       "      <th>ENET</th>\n",
       "      <td>34151.039</td>\n",
       "      <td>8005.147</td>\n",
       "      <td>0.762</td>\n",
       "      <td>0.103</td>\n",
       "      <td>18888.261</td>\n",
       "      <td>0.762</td>\n",
       "    </tr>\n",
       "    <tr>\n",
       "      <th>XGBoost, GBoost Random Forest ENET</th>\n",
       "      <td>20415.450</td>\n",
       "      <td>2905.905</td>\n",
       "      <td>0.915</td>\n",
       "      <td>0.016</td>\n",
       "      <td>13739.609</td>\n",
       "      <td>0.915</td>\n",
       "    </tr>\n",
       "    <tr>\n",
       "      <th>XGBoost, GBoost Ridge</th>\n",
       "      <td>17281.535</td>\n",
       "      <td>1636.619</td>\n",
       "      <td>0.939</td>\n",
       "      <td>0.008</td>\n",
       "      <td>12111.831</td>\n",
       "      <td>0.939</td>\n",
       "    </tr>\n",
       "    <tr>\n",
       "      <th>XGBoost, GBoost Ridge Forward</th>\n",
       "      <td>17862.469</td>\n",
       "      <td>1812.492</td>\n",
       "      <td>0.935</td>\n",
       "      <td>0.012</td>\n",
       "      <td>12284.778</td>\n",
       "      <td>0.935</td>\n",
       "    </tr>\n",
       "    <tr>\n",
       "      <th>XGBoost, GBoost Ridge Forward Tree</th>\n",
       "      <td>17918.236</td>\n",
       "      <td>1747.041</td>\n",
       "      <td>0.934</td>\n",
       "      <td>0.009</td>\n",
       "      <td>12596.492</td>\n",
       "      <td>0.934</td>\n",
       "    </tr>\n",
       "    <tr>\n",
       "      <th>XGBoost, GBoost Ridge Forward Lasso</th>\n",
       "      <td>19715.427</td>\n",
       "      <td>2888.109</td>\n",
       "      <td>0.921</td>\n",
       "      <td>0.022</td>\n",
       "      <td>12719.451</td>\n",
       "      <td>0.921</td>\n",
       "    </tr>\n",
       "    <tr>\n",
       "      <th>XGBoost, GBoost, RandomTree</th>\n",
       "      <td>20264.068</td>\n",
       "      <td>3505.125</td>\n",
       "      <td>0.916</td>\n",
       "      <td>0.020</td>\n",
       "      <td>13440.667</td>\n",
       "      <td>0.916</td>\n",
       "    </tr>\n",
       "    <tr>\n",
       "      <th>XGBoost, GBoost Ridge Forward 30 30 20 20</th>\n",
       "      <td>17571.955</td>\n",
       "      <td>1657.378</td>\n",
       "      <td>0.937</td>\n",
       "      <td>0.009</td>\n",
       "      <td>12249.831</td>\n",
       "      <td>0.937</td>\n",
       "    </tr>\n",
       "    <tr>\n",
       "      <th>XGBoost, GBoost Ridge Forward 40 40 10 10</th>\n",
       "      <td>17862.755</td>\n",
       "      <td>2279.217</td>\n",
       "      <td>0.935</td>\n",
       "      <td>0.011</td>\n",
       "      <td>12360.641</td>\n",
       "      <td>0.935</td>\n",
       "    </tr>\n",
       "    <tr>\n",
       "      <th>XGBoost, GBoost Ridge Forward 20 20 30 30</th>\n",
       "      <td>18429.855</td>\n",
       "      <td>2328.360</td>\n",
       "      <td>0.931</td>\n",
       "      <td>0.018</td>\n",
       "      <td>12353.008</td>\n",
       "      <td>0.931</td>\n",
       "    </tr>\n",
       "    <tr>\n",
       "      <th>XGBoost, GBoost Ridge Forward 35 35 15 15</th>\n",
       "      <td>17572.052</td>\n",
       "      <td>1869.569</td>\n",
       "      <td>0.937</td>\n",
       "      <td>0.009</td>\n",
       "      <td>12275.339</td>\n",
       "      <td>0.937</td>\n",
       "    </tr>\n",
       "    <tr>\n",
       "      <th>XGBoost, GBoost Ridge Forward 25 35 20 20</th>\n",
       "      <td>17545.527</td>\n",
       "      <td>1643.278</td>\n",
       "      <td>0.937</td>\n",
       "      <td>0.009</td>\n",
       "      <td>12248.799</td>\n",
       "      <td>0.937</td>\n",
       "    </tr>\n",
       "    <tr>\n",
       "      <th>XGBoost, GBoost Ridge Forward 20 40 20 20</th>\n",
       "      <td>17533.736</td>\n",
       "      <td>1628.856</td>\n",
       "      <td>0.937</td>\n",
       "      <td>0.009</td>\n",
       "      <td>12260.901</td>\n",
       "      <td>0.937</td>\n",
       "    </tr>\n",
       "    <tr>\n",
       "      <th>XGBoost, GBoost Ridge Forward 20 30 20 30</th>\n",
       "      <td>17935.120</td>\n",
       "      <td>1803.330</td>\n",
       "      <td>0.934</td>\n",
       "      <td>0.012</td>\n",
       "      <td>12331.272</td>\n",
       "      <td>0.934</td>\n",
       "    </tr>\n",
       "    <tr>\n",
       "      <th>XGBoost, GBoost Ridge Forward 20 30 30 20</th>\n",
       "      <td>17762.046</td>\n",
       "      <td>1822.661</td>\n",
       "      <td>0.936</td>\n",
       "      <td>0.013</td>\n",
       "      <td>12227.814</td>\n",
       "      <td>0.936</td>\n",
       "    </tr>\n",
       "    <tr>\n",
       "      <th>XGBoost, GBoost Ridge Forward 20 20 30 30</th>\n",
       "      <td>18429.855</td>\n",
       "      <td>2328.360</td>\n",
       "      <td>0.931</td>\n",
       "      <td>0.018</td>\n",
       "      <td>12353.008</td>\n",
       "      <td>0.931</td>\n",
       "    </tr>\n",
       "    <tr>\n",
       "      <th>XGBoost, GBoost Ridge Forward 30 50 10 10</th>\n",
       "      <td>17802.636</td>\n",
       "      <td>2221.436</td>\n",
       "      <td>0.935</td>\n",
       "      <td>0.010</td>\n",
       "      <td>12344.916</td>\n",
       "      <td>0.935</td>\n",
       "    </tr>\n",
       "    <tr>\n",
       "      <th>XGBoost, GBoost Ridge Forward 20 20 20 40</th>\n",
       "      <td>18610.175</td>\n",
       "      <td>2260.916</td>\n",
       "      <td>0.929</td>\n",
       "      <td>0.017</td>\n",
       "      <td>12465.021</td>\n",
       "      <td>0.929</td>\n",
       "    </tr>\n",
       "    <tr>\n",
       "      <th>XGBoost, GBoost Ridge Forward 30 30 30 10</th>\n",
       "      <td>17408.697</td>\n",
       "      <td>1613.442</td>\n",
       "      <td>0.938</td>\n",
       "      <td>0.009</td>\n",
       "      <td>12153.772</td>\n",
       "      <td>0.938</td>\n",
       "    </tr>\n",
       "    <tr>\n",
       "      <th>XGBoost, GBoost Ridge Forward 26 27 27 20</th>\n",
       "      <td>17683.220</td>\n",
       "      <td>1722.557</td>\n",
       "      <td>0.936</td>\n",
       "      <td>0.011</td>\n",
       "      <td>12234.719</td>\n",
       "      <td>0.936</td>\n",
       "    </tr>\n",
       "    <tr>\n",
       "      <th>XGBoost, GBoost Ridge Forward 23 24 24 30</th>\n",
       "      <td>18189.306</td>\n",
       "      <td>1991.202</td>\n",
       "      <td>0.932</td>\n",
       "      <td>0.015</td>\n",
       "      <td>12380.729</td>\n",
       "      <td>0.932</td>\n",
       "    </tr>\n",
       "    <tr>\n",
       "      <th>PCR</th>\n",
       "      <td>36467.782</td>\n",
       "      <td>5127.398</td>\n",
       "      <td>0.728</td>\n",
       "      <td>0.078</td>\n",
       "      <td>23630.285</td>\n",
       "      <td>0.728</td>\n",
       "    </tr>\n",
       "    <tr>\n",
       "      <th>PCR</th>\n",
       "      <td>36467.782</td>\n",
       "      <td>5127.398</td>\n",
       "      <td>0.728</td>\n",
       "      <td>0.078</td>\n",
       "      <td>23630.285</td>\n",
       "      <td>0.728</td>\n",
       "    </tr>\n",
       "    <tr>\n",
       "      <th>KNN with 10</th>\n",
       "      <td>43162.450</td>\n",
       "      <td>3555.633</td>\n",
       "      <td>0.619</td>\n",
       "      <td>0.033</td>\n",
       "      <td>29128.044</td>\n",
       "      <td>0.619</td>\n",
       "    </tr>\n",
       "  </tbody>\n",
       "</table>\n",
       "</div>"
      ],
      "text/plain": [
       "                                           Test RMSE        SE  Jack R2  \\\n",
       "Forward                                    23834.417  4933.468    0.884   \n",
       "GBoost                                     19401.538  2816.862    0.923   \n",
       "AdaBoost                                   26319.667  3692.210    0.858   \n",
       "XGBoost                                    20400.397  3406.287    0.915   \n",
       "XGBoost, ada, GB                           20452.570  3570.834    0.915   \n",
       "xg GB                                      19250.267  3211.549    0.924   \n",
       "xg adaboost                                21852.740  3803.248    0.902   \n",
       "Random Forest                              25869.901  3510.182    0.863   \n",
       "XGBoost, random tree, GB                   20264.068  3505.125    0.916   \n",
       "xg Random tree                             21582.591  3705.208    0.905   \n",
       "XGBoost, GBoost Random Forest              20264.068  3505.125    0.916   \n",
       "LASSO                                      34657.818  7340.865    0.755   \n",
       "Ridge alpha 10                             23016.283  6348.168    0.892   \n",
       "XGBoost, GBoost Random Forest Ridge        18050.736  2126.419    0.933   \n",
       "XGBoost, GBoost Random Forest LASSO        20571.403  2921.659    0.914   \n",
       "ENET                                       34151.039  8005.147    0.762   \n",
       "XGBoost, GBoost Random Forest ENET         20415.450  2905.905    0.915   \n",
       "XGBoost, GBoost Ridge                      17281.535  1636.619    0.939   \n",
       "XGBoost, GBoost Ridge Forward              17862.469  1812.492    0.935   \n",
       "XGBoost, GBoost Ridge Forward Tree         17918.236  1747.041    0.934   \n",
       "XGBoost, GBoost Ridge Forward Lasso        19715.427  2888.109    0.921   \n",
       "XGBoost, GBoost, RandomTree                20264.068  3505.125    0.916   \n",
       "XGBoost, GBoost Ridge Forward 30 30 20 20  17571.955  1657.378    0.937   \n",
       "XGBoost, GBoost Ridge Forward 40 40 10 10  17862.755  2279.217    0.935   \n",
       "XGBoost, GBoost Ridge Forward 20 20 30 30  18429.855  2328.360    0.931   \n",
       "XGBoost, GBoost Ridge Forward 35 35 15 15  17572.052  1869.569    0.937   \n",
       "XGBoost, GBoost Ridge Forward 25 35 20 20  17545.527  1643.278    0.937   \n",
       "XGBoost, GBoost Ridge Forward 20 40 20 20  17533.736  1628.856    0.937   \n",
       "XGBoost, GBoost Ridge Forward 20 30 20 30  17935.120  1803.330    0.934   \n",
       "XGBoost, GBoost Ridge Forward 20 30 30 20  17762.046  1822.661    0.936   \n",
       "XGBoost, GBoost Ridge Forward 20 20 30 30  18429.855  2328.360    0.931   \n",
       "XGBoost, GBoost Ridge Forward 30 50 10 10  17802.636  2221.436    0.935   \n",
       "XGBoost, GBoost Ridge Forward 20 20 20 40  18610.175  2260.916    0.929   \n",
       "XGBoost, GBoost Ridge Forward 30 30 30 10  17408.697  1613.442    0.938   \n",
       "XGBoost, GBoost Ridge Forward 26 27 27 20  17683.220  1722.557    0.936   \n",
       "XGBoost, GBoost Ridge Forward 23 24 24 30  18189.306  1991.202    0.932   \n",
       "PCR                                        36467.782  5127.398    0.728   \n",
       "PCR                                        36467.782  5127.398    0.728   \n",
       "KNN with 10                                43162.450  3555.633    0.619   \n",
       "\n",
       "                                              SE        MAE  R-square  \n",
       "Forward                                    0.047  14042.658     0.884  \n",
       "GBoost                                     0.015  12968.305     0.923  \n",
       "AdaBoost                                   0.025  18198.414     0.858  \n",
       "XGBoost                                    0.020  13619.232     0.915  \n",
       "XGBoost, ada, GB                           0.020  13540.463     0.915  \n",
       "xg GB                                      0.017  12745.760     0.924  \n",
       "xg adaboost                                0.023  14624.290     0.902  \n",
       "Random Forest                              0.023  17952.529     0.863  \n",
       "XGBoost, random tree, GB                   0.020  13440.667     0.916  \n",
       "xg Random tree                             0.022  14419.793     0.905  \n",
       "XGBoost, GBoost Random Forest              0.020  13440.667     0.916  \n",
       "LASSO                                      0.097  20087.645     0.755  \n",
       "Ridge alpha 10                             0.055  12901.650     0.892  \n",
       "XGBoost, GBoost Random Forest Ridge        0.010  12636.495     0.933  \n",
       "XGBoost, GBoost Random Forest LASSO        0.016  13877.805     0.914  \n",
       "ENET                                       0.103  18888.261     0.762  \n",
       "XGBoost, GBoost Random Forest ENET         0.016  13739.609     0.915  \n",
       "XGBoost, GBoost Ridge                      0.008  12111.831     0.939  \n",
       "XGBoost, GBoost Ridge Forward              0.012  12284.778     0.935  \n",
       "XGBoost, GBoost Ridge Forward Tree         0.009  12596.492     0.934  \n",
       "XGBoost, GBoost Ridge Forward Lasso        0.022  12719.451     0.921  \n",
       "XGBoost, GBoost, RandomTree                0.020  13440.667     0.916  \n",
       "XGBoost, GBoost Ridge Forward 30 30 20 20  0.009  12249.831     0.937  \n",
       "XGBoost, GBoost Ridge Forward 40 40 10 10  0.011  12360.641     0.935  \n",
       "XGBoost, GBoost Ridge Forward 20 20 30 30  0.018  12353.008     0.931  \n",
       "XGBoost, GBoost Ridge Forward 35 35 15 15  0.009  12275.339     0.937  \n",
       "XGBoost, GBoost Ridge Forward 25 35 20 20  0.009  12248.799     0.937  \n",
       "XGBoost, GBoost Ridge Forward 20 40 20 20  0.009  12260.901     0.937  \n",
       "XGBoost, GBoost Ridge Forward 20 30 20 30  0.012  12331.272     0.934  \n",
       "XGBoost, GBoost Ridge Forward 20 30 30 20  0.013  12227.814     0.936  \n",
       "XGBoost, GBoost Ridge Forward 20 20 30 30  0.018  12353.008     0.931  \n",
       "XGBoost, GBoost Ridge Forward 30 50 10 10  0.010  12344.916     0.935  \n",
       "XGBoost, GBoost Ridge Forward 20 20 20 40  0.017  12465.021     0.929  \n",
       "XGBoost, GBoost Ridge Forward 30 30 30 10  0.009  12153.772     0.938  \n",
       "XGBoost, GBoost Ridge Forward 26 27 27 20  0.011  12234.719     0.936  \n",
       "XGBoost, GBoost Ridge Forward 23 24 24 30  0.015  12380.729     0.932  \n",
       "PCR                                        0.078  23630.285     0.728  \n",
       "PCR                                        0.078  23630.285     0.728  \n",
       "KNN with 10                                0.033  29128.044     0.619  "
      ]
     },
     "execution_count": 74,
     "metadata": {},
     "output_type": "execute_result"
    }
   ],
   "source": [
    "getResultTable(method,pred)"
   ]
  },
  {
   "cell_type": "code",
   "execution_count": 73,
   "metadata": {
    "collapsed": true
   },
   "outputs": [],
   "source": [
    "def getResultTable(rows, predictions):\n",
    "    columns=['Test RMSE', 'SE', 'Jack R2', 'SE', 'MAE', 'R-square']\n",
    "    results=pd.DataFrame(0.0, columns=columns, index=rows)\n",
    "\n",
    "    for row,pred in zip(range(0,len(rows)),predictions):\n",
    "        results.iloc[row,0], results.iloc[row,1] = rmse_jack(y_test, pred)\n",
    "        results.iloc[row,2], results.iloc[row,3] = (r2_jack(y_test, pred))\n",
    "        results.iloc[row,4] = mean_absolute_error(y_test, pred)\n",
    "        results.iloc[row,5] = r2_score(y_test,pred)\n",
    "    return results.round(3)"
   ]
  },
  {
   "cell_type": "markdown",
   "metadata": {},
   "source": [
    "## Kaggle Predictions"
   ]
  },
  {
   "cell_type": "code",
   "execution_count": 77,
   "metadata": {
    "collapsed": true
   },
   "outputs": [],
   "source": [
    "data = pd.read_csv('Train6_1.csv')\n",
    "y_price = data.pop('SalePrice')\n",
    "kaggle = pd.read_csv('Test6_1.csv')\n",
    "y_price = np.log(y_price)\n",
    "xgdmat = xgb.DMatrix(data, y_price) # Create our DMatrix to make XGBoost more efficient\n",
    "testFinaldmat = xgb.DMatrix(kaggle)"
   ]
  },
  {
   "cell_type": "code",
   "execution_count": 78,
   "metadata": {
    "collapsed": true
   },
   "outputs": [],
   "source": [
    "our_params = {'eta': 0.1, 'seed':0, 'subsample': 0.8, 'colsample_bytree': 0.8, \n",
    "             'objective': 'reg:linear', 'max_depth':3, 'min_child_weight':1} \n",
    "\n",
    "final_gb = xgb.train(our_params, xgdmat, num_boost_round = 432)\n",
    "prediction = final_gb.predict(testFinaldmat)"
   ]
  },
  {
   "cell_type": "code",
   "execution_count": 79,
   "metadata": {
    "collapsed": true
   },
   "outputs": [],
   "source": [
    "GBoost = GradientBoostingRegressor(n_estimators=3000, learning_rate=0.05,\n",
    "                                   max_depth=4, max_features='sqrt',\n",
    "                                   min_samples_leaf=15, min_samples_split=10, \n",
    "                                   loss='huber', random_state =5)\n",
    "GBoost.fit(data,y_price)\n",
    "predFinalBoost = GBoost.predict(kaggle)\n"
   ]
  },
  {
   "cell_type": "code",
   "execution_count": 80,
   "metadata": {
    "collapsed": true
   },
   "outputs": [],
   "source": [
    "alpha = 10\n",
    "rg = Ridge(alpha = alpha)\n",
    "rg.fit(data, y_price)\n",
    "y_pred_rg = (rg.predict(kaggle))"
   ]
  },
  {
   "cell_type": "code",
   "execution_count": 81,
   "metadata": {
    "collapsed": true
   },
   "outputs": [],
   "source": [
    "#Forward selection\n",
    "fwd = forward()\n",
    "fwd.fit(data, y_price)\n",
    "predforward = fwd.predict(kaggle)"
   ]
  },
  {
   "cell_type": "code",
   "execution_count": 47,
   "metadata": {
    "collapsed": true
   },
   "outputs": [],
   "source": [
    "finalprediction = ((0.2*np.exp(prediction))+(0.35*np.exp(predFinalBoost))+(0.2*np.exp(y_pred_rg))+(0.25*np.exp(predforward)))"
   ]
  },
  {
   "cell_type": "code",
   "execution_count": 48,
   "metadata": {
    "collapsed": true
   },
   "outputs": [],
   "source": [
    "#This is for the indices\n",
    "ind = np.arange(1,1609)\n",
    "headers = ['Id','Prediction']\n",
    "prediction2 = pd.DataFrame({'Id':ind, 'Prediction':finalprediction})\n",
    "#Saving results into CSV file \n",
    "prediction2.to_csv(\"Day10_1.csv\", index=False)"
   ]
  },
  {
   "cell_type": "code",
   "execution_count": null,
   "metadata": {
    "collapsed": true
   },
   "outputs": [],
   "source": []
  },
  {
   "cell_type": "code",
   "execution_count": 50,
   "metadata": {
    "collapsed": true
   },
   "outputs": [],
   "source": [
    "finalprediction = ((0.15*np.exp(prediction))+(0.35*np.exp(predFinalBoost))+(0.2*np.exp(y_pred_rg))+(0.3*np.exp(predforward)))"
   ]
  },
  {
   "cell_type": "code",
   "execution_count": 51,
   "metadata": {
    "collapsed": true
   },
   "outputs": [],
   "source": [
    "#This is for the indices\n",
    "ind = np.arange(1,1609)\n",
    "headers = ['Id','Prediction']\n",
    "prediction2 = pd.DataFrame({'Id':ind, 'Prediction':finalprediction})\n",
    "#Saving results into CSV file \n",
    "prediction2.to_csv(\"Day10_2.csv\", index=False)"
   ]
  },
  {
   "cell_type": "code",
   "execution_count": null,
   "metadata": {
    "collapsed": true
   },
   "outputs": [],
   "source": []
  },
  {
   "cell_type": "code",
   "execution_count": 52,
   "metadata": {
    "collapsed": true
   },
   "outputs": [],
   "source": [
    "finalprediction = ((0.1*np.exp(prediction))+(0.35*np.exp(predFinalBoost))+(0.25*np.exp(y_pred_rg))+(0.3*np.exp(predforward)))"
   ]
  },
  {
   "cell_type": "code",
   "execution_count": 53,
   "metadata": {
    "collapsed": true
   },
   "outputs": [],
   "source": [
    "#This is for the indices\n",
    "ind = np.arange(1,1609)\n",
    "headers = ['Id','Prediction']\n",
    "prediction2 = pd.DataFrame({'Id':ind, 'Prediction':finalprediction})\n",
    "#Saving results into CSV file \n",
    "prediction2.to_csv(\"Day10_3.csv\", index=False)"
   ]
  },
  {
   "cell_type": "code",
   "execution_count": null,
   "metadata": {
    "collapsed": true
   },
   "outputs": [],
   "source": []
  },
  {
   "cell_type": "code",
   "execution_count": 54,
   "metadata": {
    "collapsed": true
   },
   "outputs": [],
   "source": [
    "finalprediction = ((0.15*np.exp(prediction))+(0.35*np.exp(predFinalBoost))+(0.15*np.exp(y_pred_rg))+(0.35*np.exp(predforward)))"
   ]
  },
  {
   "cell_type": "code",
   "execution_count": 55,
   "metadata": {
    "collapsed": true
   },
   "outputs": [],
   "source": [
    "#This is for the indices\n",
    "ind = np.arange(1,1609)\n",
    "headers = ['Id','Prediction']\n",
    "prediction2 = pd.DataFrame({'Id':ind, 'Prediction':finalprediction})\n",
    "#Saving results into CSV file \n",
    "prediction2.to_csv(\"Day10_4.csv\", index=False)"
   ]
  },
  {
   "cell_type": "code",
   "execution_count": null,
   "metadata": {
    "collapsed": true
   },
   "outputs": [],
   "source": []
  },
  {
   "cell_type": "code",
   "execution_count": 82,
   "metadata": {
    "collapsed": true
   },
   "outputs": [],
   "source": [
    "#Extremely Random forest\n",
    "regr2 = ExtraTreesRegressor(criterion='mae',max_depth=None,min_samples_split=2)\n",
    "regr2 = regr.fit(data,y_price)\n",
    "\n",
    "predFinalExtRandomForestlad = regr2.predict(kaggle)"
   ]
  },
  {
   "cell_type": "code",
   "execution_count": 83,
   "metadata": {
    "collapsed": true
   },
   "outputs": [],
   "source": [
    "finalprediction = ((0.15*np.exp(prediction))+(0.35*np.exp(predFinalBoost))+(0.1*np.exp(y_pred_rg))+ (predFinalExtRandomForestlad*0.05) + (0.35*np.exp(predforward)))"
   ]
  },
  {
   "cell_type": "code",
   "execution_count": 84,
   "metadata": {
    "collapsed": true
   },
   "outputs": [],
   "source": [
    "#This is for the indices\n",
    "ind = np.arange(1,1609)\n",
    "headers = ['Id','Prediction']\n",
    "prediction2 = pd.DataFrame({'Id':ind, 'Prediction':finalprediction})\n",
    "#Saving results into CSV file \n",
    "prediction2.to_csv(\"Day10_5.csv\", index=False)"
   ]
  },
  {
   "cell_type": "code",
   "execution_count": 85,
   "metadata": {},
   "outputs": [
    {
     "data": {
      "text/html": [
       "<div>\n",
       "<style>\n",
       "    .dataframe thead tr:only-child th {\n",
       "        text-align: right;\n",
       "    }\n",
       "\n",
       "    .dataframe thead th {\n",
       "        text-align: left;\n",
       "    }\n",
       "\n",
       "    .dataframe tbody tr th {\n",
       "        vertical-align: top;\n",
       "    }\n",
       "</style>\n",
       "<table border=\"1\" class=\"dataframe\">\n",
       "  <thead>\n",
       "    <tr style=\"text-align: right;\">\n",
       "      <th></th>\n",
       "      <th>Id</th>\n",
       "      <th>Prediction</th>\n",
       "    </tr>\n",
       "  </thead>\n",
       "  <tbody>\n",
       "    <tr>\n",
       "      <th>0</th>\n",
       "      <td>1</td>\n",
       "      <td>92072.823471</td>\n",
       "    </tr>\n",
       "    <tr>\n",
       "      <th>1</th>\n",
       "      <td>2</td>\n",
       "      <td>153179.049732</td>\n",
       "    </tr>\n",
       "    <tr>\n",
       "      <th>2</th>\n",
       "      <td>3</td>\n",
       "      <td>129355.663851</td>\n",
       "    </tr>\n",
       "    <tr>\n",
       "      <th>3</th>\n",
       "      <td>4</td>\n",
       "      <td>178094.097731</td>\n",
       "    </tr>\n",
       "    <tr>\n",
       "      <th>4</th>\n",
       "      <td>5</td>\n",
       "      <td>140120.653509</td>\n",
       "    </tr>\n",
       "    <tr>\n",
       "      <th>5</th>\n",
       "      <td>6</td>\n",
       "      <td>353037.400209</td>\n",
       "    </tr>\n",
       "    <tr>\n",
       "      <th>6</th>\n",
       "      <td>7</td>\n",
       "      <td>126564.163675</td>\n",
       "    </tr>\n",
       "    <tr>\n",
       "      <th>7</th>\n",
       "      <td>8</td>\n",
       "      <td>263930.578905</td>\n",
       "    </tr>\n",
       "    <tr>\n",
       "      <th>8</th>\n",
       "      <td>9</td>\n",
       "      <td>111575.424262</td>\n",
       "    </tr>\n",
       "    <tr>\n",
       "      <th>9</th>\n",
       "      <td>10</td>\n",
       "      <td>120892.795160</td>\n",
       "    </tr>\n",
       "    <tr>\n",
       "      <th>10</th>\n",
       "      <td>11</td>\n",
       "      <td>132632.437922</td>\n",
       "    </tr>\n",
       "    <tr>\n",
       "      <th>11</th>\n",
       "      <td>12</td>\n",
       "      <td>125887.388221</td>\n",
       "    </tr>\n",
       "    <tr>\n",
       "      <th>12</th>\n",
       "      <td>13</td>\n",
       "      <td>174215.702495</td>\n",
       "    </tr>\n",
       "    <tr>\n",
       "      <th>13</th>\n",
       "      <td>14</td>\n",
       "      <td>230221.325381</td>\n",
       "    </tr>\n",
       "    <tr>\n",
       "      <th>14</th>\n",
       "      <td>15</td>\n",
       "      <td>131485.721103</td>\n",
       "    </tr>\n",
       "    <tr>\n",
       "      <th>15</th>\n",
       "      <td>16</td>\n",
       "      <td>107868.296704</td>\n",
       "    </tr>\n",
       "    <tr>\n",
       "      <th>16</th>\n",
       "      <td>17</td>\n",
       "      <td>209672.208673</td>\n",
       "    </tr>\n",
       "    <tr>\n",
       "      <th>17</th>\n",
       "      <td>18</td>\n",
       "      <td>70002.243902</td>\n",
       "    </tr>\n",
       "    <tr>\n",
       "      <th>18</th>\n",
       "      <td>19</td>\n",
       "      <td>170284.653185</td>\n",
       "    </tr>\n",
       "    <tr>\n",
       "      <th>19</th>\n",
       "      <td>20</td>\n",
       "      <td>132653.221808</td>\n",
       "    </tr>\n",
       "    <tr>\n",
       "      <th>20</th>\n",
       "      <td>21</td>\n",
       "      <td>271080.563182</td>\n",
       "    </tr>\n",
       "    <tr>\n",
       "      <th>21</th>\n",
       "      <td>22</td>\n",
       "      <td>180927.832870</td>\n",
       "    </tr>\n",
       "    <tr>\n",
       "      <th>22</th>\n",
       "      <td>23</td>\n",
       "      <td>135825.540882</td>\n",
       "    </tr>\n",
       "    <tr>\n",
       "      <th>23</th>\n",
       "      <td>24</td>\n",
       "      <td>123255.477598</td>\n",
       "    </tr>\n",
       "    <tr>\n",
       "      <th>24</th>\n",
       "      <td>25</td>\n",
       "      <td>126247.439110</td>\n",
       "    </tr>\n",
       "    <tr>\n",
       "      <th>25</th>\n",
       "      <td>26</td>\n",
       "      <td>131848.984300</td>\n",
       "    </tr>\n",
       "    <tr>\n",
       "      <th>26</th>\n",
       "      <td>27</td>\n",
       "      <td>161945.277790</td>\n",
       "    </tr>\n",
       "    <tr>\n",
       "      <th>27</th>\n",
       "      <td>28</td>\n",
       "      <td>116035.075768</td>\n",
       "    </tr>\n",
       "    <tr>\n",
       "      <th>28</th>\n",
       "      <td>29</td>\n",
       "      <td>204195.303484</td>\n",
       "    </tr>\n",
       "    <tr>\n",
       "      <th>29</th>\n",
       "      <td>30</td>\n",
       "      <td>271512.274611</td>\n",
       "    </tr>\n",
       "    <tr>\n",
       "      <th>...</th>\n",
       "      <td>...</td>\n",
       "      <td>...</td>\n",
       "    </tr>\n",
       "    <tr>\n",
       "      <th>1578</th>\n",
       "      <td>1579</td>\n",
       "      <td>218455.100698</td>\n",
       "    </tr>\n",
       "    <tr>\n",
       "      <th>1579</th>\n",
       "      <td>1580</td>\n",
       "      <td>245817.730621</td>\n",
       "    </tr>\n",
       "    <tr>\n",
       "      <th>1580</th>\n",
       "      <td>1581</td>\n",
       "      <td>138925.367663</td>\n",
       "    </tr>\n",
       "    <tr>\n",
       "      <th>1581</th>\n",
       "      <td>1582</td>\n",
       "      <td>189649.112023</td>\n",
       "    </tr>\n",
       "    <tr>\n",
       "      <th>1582</th>\n",
       "      <td>1583</td>\n",
       "      <td>118335.106271</td>\n",
       "    </tr>\n",
       "    <tr>\n",
       "      <th>1583</th>\n",
       "      <td>1584</td>\n",
       "      <td>289231.135099</td>\n",
       "    </tr>\n",
       "    <tr>\n",
       "      <th>1584</th>\n",
       "      <td>1585</td>\n",
       "      <td>233033.366387</td>\n",
       "    </tr>\n",
       "    <tr>\n",
       "      <th>1585</th>\n",
       "      <td>1586</td>\n",
       "      <td>160929.426097</td>\n",
       "    </tr>\n",
       "    <tr>\n",
       "      <th>1586</th>\n",
       "      <td>1587</td>\n",
       "      <td>136236.841170</td>\n",
       "    </tr>\n",
       "    <tr>\n",
       "      <th>1587</th>\n",
       "      <td>1588</td>\n",
       "      <td>139749.622411</td>\n",
       "    </tr>\n",
       "    <tr>\n",
       "      <th>1588</th>\n",
       "      <td>1589</td>\n",
       "      <td>111854.408878</td>\n",
       "    </tr>\n",
       "    <tr>\n",
       "      <th>1589</th>\n",
       "      <td>1590</td>\n",
       "      <td>87864.940202</td>\n",
       "    </tr>\n",
       "    <tr>\n",
       "      <th>1590</th>\n",
       "      <td>1591</td>\n",
       "      <td>122282.969650</td>\n",
       "    </tr>\n",
       "    <tr>\n",
       "      <th>1591</th>\n",
       "      <td>1592</td>\n",
       "      <td>150782.386848</td>\n",
       "    </tr>\n",
       "    <tr>\n",
       "      <th>1592</th>\n",
       "      <td>1593</td>\n",
       "      <td>196071.120298</td>\n",
       "    </tr>\n",
       "    <tr>\n",
       "      <th>1593</th>\n",
       "      <td>1594</td>\n",
       "      <td>119996.704068</td>\n",
       "    </tr>\n",
       "    <tr>\n",
       "      <th>1594</th>\n",
       "      <td>1595</td>\n",
       "      <td>261820.420703</td>\n",
       "    </tr>\n",
       "    <tr>\n",
       "      <th>1595</th>\n",
       "      <td>1596</td>\n",
       "      <td>183786.946905</td>\n",
       "    </tr>\n",
       "    <tr>\n",
       "      <th>1596</th>\n",
       "      <td>1597</td>\n",
       "      <td>204315.120162</td>\n",
       "    </tr>\n",
       "    <tr>\n",
       "      <th>1597</th>\n",
       "      <td>1598</td>\n",
       "      <td>215676.833321</td>\n",
       "    </tr>\n",
       "    <tr>\n",
       "      <th>1598</th>\n",
       "      <td>1599</td>\n",
       "      <td>143840.238227</td>\n",
       "    </tr>\n",
       "    <tr>\n",
       "      <th>1599</th>\n",
       "      <td>1600</td>\n",
       "      <td>145043.851531</td>\n",
       "    </tr>\n",
       "    <tr>\n",
       "      <th>1600</th>\n",
       "      <td>1601</td>\n",
       "      <td>425531.653044</td>\n",
       "    </tr>\n",
       "    <tr>\n",
       "      <th>1601</th>\n",
       "      <td>1602</td>\n",
       "      <td>51554.700578</td>\n",
       "    </tr>\n",
       "    <tr>\n",
       "      <th>1602</th>\n",
       "      <td>1603</td>\n",
       "      <td>158941.758866</td>\n",
       "    </tr>\n",
       "    <tr>\n",
       "      <th>1603</th>\n",
       "      <td>1604</td>\n",
       "      <td>156381.894456</td>\n",
       "    </tr>\n",
       "    <tr>\n",
       "      <th>1604</th>\n",
       "      <td>1605</td>\n",
       "      <td>141512.171755</td>\n",
       "    </tr>\n",
       "    <tr>\n",
       "      <th>1605</th>\n",
       "      <td>1606</td>\n",
       "      <td>83219.862083</td>\n",
       "    </tr>\n",
       "    <tr>\n",
       "      <th>1606</th>\n",
       "      <td>1607</td>\n",
       "      <td>189324.814102</td>\n",
       "    </tr>\n",
       "    <tr>\n",
       "      <th>1607</th>\n",
       "      <td>1608</td>\n",
       "      <td>201199.902935</td>\n",
       "    </tr>\n",
       "  </tbody>\n",
       "</table>\n",
       "<p>1608 rows × 2 columns</p>\n",
       "</div>"
      ],
      "text/plain": [
       "        Id     Prediction\n",
       "0        1   92072.823471\n",
       "1        2  153179.049732\n",
       "2        3  129355.663851\n",
       "3        4  178094.097731\n",
       "4        5  140120.653509\n",
       "5        6  353037.400209\n",
       "6        7  126564.163675\n",
       "7        8  263930.578905\n",
       "8        9  111575.424262\n",
       "9       10  120892.795160\n",
       "10      11  132632.437922\n",
       "11      12  125887.388221\n",
       "12      13  174215.702495\n",
       "13      14  230221.325381\n",
       "14      15  131485.721103\n",
       "15      16  107868.296704\n",
       "16      17  209672.208673\n",
       "17      18   70002.243902\n",
       "18      19  170284.653185\n",
       "19      20  132653.221808\n",
       "20      21  271080.563182\n",
       "21      22  180927.832870\n",
       "22      23  135825.540882\n",
       "23      24  123255.477598\n",
       "24      25  126247.439110\n",
       "25      26  131848.984300\n",
       "26      27  161945.277790\n",
       "27      28  116035.075768\n",
       "28      29  204195.303484\n",
       "29      30  271512.274611\n",
       "...    ...            ...\n",
       "1578  1579  218455.100698\n",
       "1579  1580  245817.730621\n",
       "1580  1581  138925.367663\n",
       "1581  1582  189649.112023\n",
       "1582  1583  118335.106271\n",
       "1583  1584  289231.135099\n",
       "1584  1585  233033.366387\n",
       "1585  1586  160929.426097\n",
       "1586  1587  136236.841170\n",
       "1587  1588  139749.622411\n",
       "1588  1589  111854.408878\n",
       "1589  1590   87864.940202\n",
       "1590  1591  122282.969650\n",
       "1591  1592  150782.386848\n",
       "1592  1593  196071.120298\n",
       "1593  1594  119996.704068\n",
       "1594  1595  261820.420703\n",
       "1595  1596  183786.946905\n",
       "1596  1597  204315.120162\n",
       "1597  1598  215676.833321\n",
       "1598  1599  143840.238227\n",
       "1599  1600  145043.851531\n",
       "1600  1601  425531.653044\n",
       "1601  1602   51554.700578\n",
       "1602  1603  158941.758866\n",
       "1603  1604  156381.894456\n",
       "1604  1605  141512.171755\n",
       "1605  1606   83219.862083\n",
       "1606  1607  189324.814102\n",
       "1607  1608  201199.902935\n",
       "\n",
       "[1608 rows x 2 columns]"
      ]
     },
     "execution_count": 85,
     "metadata": {},
     "output_type": "execute_result"
    }
   ],
   "source": [
    "prediction2"
   ]
  },
  {
   "cell_type": "code",
   "execution_count": null,
   "metadata": {
    "collapsed": true
   },
   "outputs": [],
   "source": []
  }
 ],
 "metadata": {
  "kernelspec": {
   "display_name": "Python 3",
   "language": "python",
   "name": "python3"
  },
  "language_info": {
   "codemirror_mode": {
    "name": "ipython",
    "version": 3
   },
   "file_extension": ".py",
   "mimetype": "text/x-python",
   "name": "python",
   "nbconvert_exporter": "python",
   "pygments_lexer": "ipython3",
   "version": "3.6.1"
  }
 },
 "nbformat": 4,
 "nbformat_minor": 2
}
