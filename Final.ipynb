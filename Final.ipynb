{
 "cells": [
  {
   "cell_type": "code",
   "execution_count": 230,
   "metadata": {
    "collapsed": true,
    "deletable": true,
    "editable": true
   },
   "outputs": [],
   "source": [
    "from sklearn.model_selection import cross_val_score\n",
    "from sklearn.linear_model import LassoCV\n",
    "from sklearn.model_selection import KFold\n",
    "from sklearn.metrics import r2_score\n",
    "from sklearn.preprocessing import StandardScaler\n",
    "from sklearn.pipeline import Pipeline\n",
    "from sklearn.metrics import make_scorer\n",
    "from sklearn.tree import DecisionTreeRegressor\n",
    "from sklearn.model_selection import GridSearchCV\n",
    "from sklearn.model_selection import ShuffleSplit\n",
    "import pandas as pd\n",
    "import numpy as np\n",
    "import matplotlib.pyplot as plt\n",
    "import seaborn as sns\n",
    "import warnings\n",
    "import statsmodels.formula.api as smf\n",
    "from sklearn.metrics import mean_absolute_error\n",
    "from sklearn.ensemble import AdaBoostRegressor\n",
    "from sklearn.tree import DecisionTreeRegressor"
   ]
  },
  {
   "cell_type": "code",
   "execution_count": 231,
   "metadata": {
    "collapsed": false,
    "deletable": true,
    "editable": true
   },
   "outputs": [],
   "source": [
    "data = pd.read_csv('Train6.csv')\n",
    "final_train = data.sample(frac=0.6, random_state=1)\n",
    "final_test = data[data.index.isin(final_train.index)==False]\n",
    "final_train.head()\n",
    "y_train = final_train.pop('SalePrice')\n",
    "y_test = final_test.pop('SalePrice')\n"
   ]
  },
  {
   "cell_type": "code",
   "execution_count": 232,
   "metadata": {
    "collapsed": false,
    "deletable": true,
    "editable": true
   },
   "outputs": [
    {
     "data": {
      "text/html": [
       "<div>\n",
       "<table border=\"1\" class=\"dataframe\">\n",
       "  <thead>\n",
       "    <tr style=\"text-align: right;\">\n",
       "      <th></th>\n",
       "      <th>1stFlrSF</th>\n",
       "      <th>2ndFlrSF</th>\n",
       "      <th>3SsnPorch</th>\n",
       "      <th>Alley</th>\n",
       "      <th>BedroomAbvGr</th>\n",
       "      <th>BsmtCond</th>\n",
       "      <th>BsmtExposure</th>\n",
       "      <th>BsmtFinSF1</th>\n",
       "      <th>BsmtFinSF2</th>\n",
       "      <th>BsmtFinType1</th>\n",
       "      <th>...</th>\n",
       "      <th>SaleType_CWD</th>\n",
       "      <th>SaleType_Con</th>\n",
       "      <th>SaleType_ConLD</th>\n",
       "      <th>SaleType_ConLI</th>\n",
       "      <th>SaleType_ConLw</th>\n",
       "      <th>SaleType_Oth</th>\n",
       "      <th>SaleType_VWD</th>\n",
       "      <th>SaleType_WD</th>\n",
       "      <th>Utilities_AllPub</th>\n",
       "      <th>Utilities_NoSewr</th>\n",
       "    </tr>\n",
       "  </thead>\n",
       "  <tbody>\n",
       "    <tr>\n",
       "      <th>0</th>\n",
       "      <td>864</td>\n",
       "      <td>0</td>\n",
       "      <td>0</td>\n",
       "      <td>1</td>\n",
       "      <td>3</td>\n",
       "      <td>5</td>\n",
       "      <td>3</td>\n",
       "      <td>646.0</td>\n",
       "      <td>0.0</td>\n",
       "      <td>0</td>\n",
       "      <td>...</td>\n",
       "      <td>0</td>\n",
       "      <td>0</td>\n",
       "      <td>0</td>\n",
       "      <td>0</td>\n",
       "      <td>0</td>\n",
       "      <td>0</td>\n",
       "      <td>0</td>\n",
       "      <td>1</td>\n",
       "      <td>1</td>\n",
       "      <td>0</td>\n",
       "    </tr>\n",
       "    <tr>\n",
       "      <th>1</th>\n",
       "      <td>1368</td>\n",
       "      <td>0</td>\n",
       "      <td>0</td>\n",
       "      <td>1</td>\n",
       "      <td>3</td>\n",
       "      <td>5</td>\n",
       "      <td>2</td>\n",
       "      <td>1078.0</td>\n",
       "      <td>0.0</td>\n",
       "      <td>5</td>\n",
       "      <td>...</td>\n",
       "      <td>0</td>\n",
       "      <td>0</td>\n",
       "      <td>0</td>\n",
       "      <td>0</td>\n",
       "      <td>0</td>\n",
       "      <td>0</td>\n",
       "      <td>0</td>\n",
       "      <td>1</td>\n",
       "      <td>1</td>\n",
       "      <td>0</td>\n",
       "    </tr>\n",
       "    <tr>\n",
       "      <th>2</th>\n",
       "      <td>1113</td>\n",
       "      <td>858</td>\n",
       "      <td>0</td>\n",
       "      <td>1</td>\n",
       "      <td>3</td>\n",
       "      <td>5</td>\n",
       "      <td>2</td>\n",
       "      <td>341.0</td>\n",
       "      <td>0.0</td>\n",
       "      <td>2</td>\n",
       "      <td>...</td>\n",
       "      <td>0</td>\n",
       "      <td>0</td>\n",
       "      <td>0</td>\n",
       "      <td>0</td>\n",
       "      <td>0</td>\n",
       "      <td>0</td>\n",
       "      <td>0</td>\n",
       "      <td>1</td>\n",
       "      <td>1</td>\n",
       "      <td>0</td>\n",
       "    </tr>\n",
       "    <tr>\n",
       "      <th>3</th>\n",
       "      <td>684</td>\n",
       "      <td>720</td>\n",
       "      <td>0</td>\n",
       "      <td>2</td>\n",
       "      <td>3</td>\n",
       "      <td>5</td>\n",
       "      <td>3</td>\n",
       "      <td>600.0</td>\n",
       "      <td>0.0</td>\n",
       "      <td>2</td>\n",
       "      <td>...</td>\n",
       "      <td>0</td>\n",
       "      <td>0</td>\n",
       "      <td>0</td>\n",
       "      <td>0</td>\n",
       "      <td>0</td>\n",
       "      <td>0</td>\n",
       "      <td>0</td>\n",
       "      <td>1</td>\n",
       "      <td>1</td>\n",
       "      <td>0</td>\n",
       "    </tr>\n",
       "    <tr>\n",
       "      <th>4</th>\n",
       "      <td>815</td>\n",
       "      <td>875</td>\n",
       "      <td>0</td>\n",
       "      <td>1</td>\n",
       "      <td>3</td>\n",
       "      <td>5</td>\n",
       "      <td>3</td>\n",
       "      <td>0.0</td>\n",
       "      <td>0.0</td>\n",
       "      <td>6</td>\n",
       "      <td>...</td>\n",
       "      <td>0</td>\n",
       "      <td>0</td>\n",
       "      <td>0</td>\n",
       "      <td>0</td>\n",
       "      <td>1</td>\n",
       "      <td>0</td>\n",
       "      <td>0</td>\n",
       "      <td>0</td>\n",
       "      <td>1</td>\n",
       "      <td>0</td>\n",
       "    </tr>\n",
       "  </tbody>\n",
       "</table>\n",
       "<p>5 rows × 222 columns</p>\n",
       "</div>"
      ],
      "text/plain": [
       "   1stFlrSF  2ndFlrSF  3SsnPorch  Alley  BedroomAbvGr  BsmtCond  BsmtExposure  \\\n",
       "0       864         0          0      1             3         5             3   \n",
       "1      1368         0          0      1             3         5             2   \n",
       "2      1113       858          0      1             3         5             2   \n",
       "3       684       720          0      2             3         5             3   \n",
       "4       815       875          0      1             3         5             3   \n",
       "\n",
       "   BsmtFinSF1  BsmtFinSF2  BsmtFinType1        ...         SaleType_CWD  \\\n",
       "0       646.0         0.0             0        ...                    0   \n",
       "1      1078.0         0.0             5        ...                    0   \n",
       "2       341.0         0.0             2        ...                    0   \n",
       "3       600.0         0.0             2        ...                    0   \n",
       "4         0.0         0.0             6        ...                    0   \n",
       "\n",
       "   SaleType_Con  SaleType_ConLD  SaleType_ConLI  SaleType_ConLw  SaleType_Oth  \\\n",
       "0             0               0               0               0             0   \n",
       "1             0               0               0               0             0   \n",
       "2             0               0               0               0             0   \n",
       "3             0               0               0               0             0   \n",
       "4             0               0               0               1             0   \n",
       "\n",
       "   SaleType_VWD  SaleType_WD   Utilities_AllPub  Utilities_NoSewr  \n",
       "0             0             1                 1                 0  \n",
       "1             0             1                 1                 0  \n",
       "2             0             1                 1                 0  \n",
       "3             0             1                 1                 0  \n",
       "4             0             0                 1                 0  \n",
       "\n",
       "[5 rows x 222 columns]"
      ]
     },
     "execution_count": 232,
     "metadata": {},
     "output_type": "execute_result"
    }
   ],
   "source": [
    "data.head()"
   ]
  },
  {
   "cell_type": "markdown",
   "metadata": {
    "deletable": true,
    "editable": true
   },
   "source": [
    "# Testing adaboosting + Trees"
   ]
  },
  {
   "cell_type": "code",
   "execution_count": 233,
   "metadata": {
    "collapsed": false,
    "deletable": true,
    "editable": true
   },
   "outputs": [],
   "source": [
    "#http://scikit-learn.org/stable/modules/generated/sklearn.ensemble.AdaBoostRegressor.html#sklearn.ensemble.AdaBoostRegressor\n",
    "#http://scikit-learn.org/stable/auto_examples/ensemble/plot_adaboost_regression.html\n",
    "\n",
    "regr = AdaBoostRegressor(DecisionTreeRegressor(max_depth=9),random_state=0)\n",
    "regr = regr.fit(final_train,y_train)"
   ]
  },
  {
   "cell_type": "code",
   "execution_count": 234,
   "metadata": {
    "collapsed": false,
    "deletable": true,
    "editable": true
   },
   "outputs": [],
   "source": [
    "pred = regr.predict(final_test)"
   ]
  },
  {
   "cell_type": "code",
   "execution_count": 235,
   "metadata": {
    "collapsed": false,
    "deletable": true,
    "editable": true
   },
   "outputs": [
    {
     "data": {
      "text/plain": [
       "16639.76613059935"
      ]
     },
     "execution_count": 235,
     "metadata": {},
     "output_type": "execute_result"
    }
   ],
   "source": [
    "mean_absolute_error(y_test, pred)"
   ]
  },
  {
   "cell_type": "code",
   "execution_count": 236,
   "metadata": {
    "collapsed": false,
    "deletable": true,
    "editable": true
   },
   "outputs": [
    {
     "data": {
      "text/plain": [
       "0.88182299874358849"
      ]
     },
     "execution_count": 236,
     "metadata": {},
     "output_type": "execute_result"
    }
   ],
   "source": [
    "r2_score(y_test, pred)"
   ]
  },
  {
   "cell_type": "code",
   "execution_count": 237,
   "metadata": {
    "collapsed": false,
    "deletable": true,
    "editable": true
   },
   "outputs": [
    {
     "name": "stdout",
     "output_type": "stream",
     "text": [
      "Node 1\n",
      "R-square is 0.602396662829\n",
      "MAE is 35670.101181\n",
      "Node 2\n",
      "R-square is 0.828513196305\n",
      "MAE is 21876.6314771\n",
      "Node 3\n",
      "R-square is 0.856990915588\n",
      "MAE is 18910.2758894\n",
      "Node 4\n",
      "R-square is 0.882043398342\n",
      "MAE is 16963.6673744\n",
      "Node 5\n",
      "R-square is 0.881785592125\n",
      "MAE is 17088.8933392\n",
      "Node 6\n",
      "R-square is 0.884945252707\n",
      "MAE is 16793.4867847\n",
      "Node 7\n",
      "R-square is 0.879063658874\n",
      "MAE is 16802.9531185\n",
      "Node 8\n",
      "R-square is 0.897214886703\n",
      "MAE is 15932.8481544\n",
      "Node 9\n",
      "R-square is 0.881822998744\n",
      "MAE is 16639.7661306\n",
      "Node 10\n",
      "R-square is 0.897943103512\n",
      "MAE is 15717.7201378\n",
      "Node 11\n",
      "R-square is 0.888409275758\n",
      "MAE is 16482.6942951\n",
      "Node 12\n",
      "R-square is 0.903188285759\n",
      "MAE is 15667.9656898\n",
      "Node 13\n",
      "R-square is 0.88928519733\n",
      "MAE is 16055.1131984\n",
      "Node 14\n",
      "R-square is 0.885565451642\n",
      "MAE is 16168.6374593\n",
      "Node 15\n",
      "R-square is 0.891609068743\n",
      "MAE is 15879.7516822\n",
      "Node 16\n",
      "R-square is 0.890782585772\n",
      "MAE is 15946.4627329\n",
      "Node 17\n",
      "R-square is 0.897729021207\n",
      "MAE is 15983.7038845\n",
      "Node 18\n",
      "R-square is 0.887982847988\n",
      "MAE is 16076.9006211\n",
      "Node 19\n",
      "R-square is 0.904547660434\n",
      "MAE is 15672.6149068\n",
      "Node 20\n",
      "R-square is 0.891530373247\n",
      "MAE is 15944.0113872\n",
      "Node 21\n",
      "R-square is 0.889684377902\n",
      "MAE is 16578.3354037\n",
      "Node 22\n",
      "R-square is 0.889684377902\n",
      "MAE is 16578.3354037\n",
      "Node 23\n",
      "R-square is 0.889684377902\n",
      "MAE is 16578.3354037\n",
      "Node 24\n",
      "R-square is 0.889684377902\n",
      "MAE is 16578.3354037\n",
      " \n",
      "Optimal nodes is 12\n",
      "R-squared score: 0.903188285759\n",
      "Mean Absolute Error: 15667.9656898\n"
     ]
    }
   ],
   "source": [
    "values = range(1,20)\n",
    "maximum = 0\n",
    "minimum = 1000000000000\n",
    "optimal_node = 0\n",
    "for i in range(1,25):\n",
    "    regr = AdaBoostRegressor(DecisionTreeRegressor(max_depth=i),random_state=0)\n",
    "    regr = regr.fit(final_train,y_train)\n",
    "    pred = regr.predict(final_test)\n",
    "    \n",
    "    #Check to see if this layer is better since highest r2 score\n",
    "    r2 = r2_score(y_test, pred)\n",
    "    MAE = mean_absolute_error(y_test, pred)\n",
    "    print(\"Node {}\".format(i))\n",
    "    print(\"R-square is {}\".format(r2))\n",
    "    print(\"MAE is {}\".format(MAE))\n",
    "    if r2>maximum and (MAE<minimum):\n",
    "        optimal_node = i\n",
    "        maximum = r2\n",
    "        minimum = MAE\n",
    "\n",
    "print(\" \")        \n",
    "print(\"Optimal nodes is {}\".format(optimal_node))\n",
    "regr = AdaBoostRegressor(DecisionTreeRegressor(max_depth=optimal_node),random_state=0)\n",
    "\n",
    "regr.fit(final_train, y_train)\n",
    "y_1 = regr.predict(final_test)\n",
    "accuracy = r2_score(y_test, y_1)\n",
    "accuracy_2 = mean_absolute_error(y_test, y_1)\n",
    "\n",
    "print(\"R-squared score: {}\".format(accuracy))\n",
    "print(\"Mean Absolute Error: {}\".format(accuracy_2))"
   ]
  },
  {
   "cell_type": "code",
   "execution_count": null,
   "metadata": {
    "collapsed": true,
    "deletable": true,
    "editable": true
   },
   "outputs": [],
   "source": []
  },
  {
   "cell_type": "markdown",
   "metadata": {
    "deletable": true,
    "editable": true
   },
   "source": [
    "## This is testing LASSO, RIDGE, and ENET"
   ]
  },
  {
   "cell_type": "markdown",
   "metadata": {
    "deletable": true,
    "editable": true
   },
   "source": [
    "### LASSO"
   ]
  },
  {
   "cell_type": "code",
   "execution_count": 238,
   "metadata": {
    "collapsed": false,
    "deletable": true,
    "editable": true
   },
   "outputs": [],
   "source": [
    "lasso = LassoCV(cv=10)\n",
    "lasso.fit(final_train, np.ravel(y_train)) \n",
    "pred_L = lasso.predict(final_test)"
   ]
  },
  {
   "cell_type": "markdown",
   "metadata": {
    "deletable": true,
    "editable": true
   },
   "source": [
    "### Enet"
   ]
  },
  {
   "cell_type": "code",
   "execution_count": 239,
   "metadata": {
    "collapsed": false,
    "deletable": true,
    "editable": true
   },
   "outputs": [
    {
     "data": {
      "text/plain": [
       "ElasticNet(alpha=174760.54192474418, copy_X=True, fit_intercept=True,\n",
       "      l1_ratio=0.98999999999999999, max_iter=1000, normalize=False,\n",
       "      positive=False, precompute=False, random_state=None,\n",
       "      selection='cyclic', tol=0.0001, warm_start=False)"
      ]
     },
     "execution_count": 239,
     "metadata": {},
     "output_type": "execute_result"
    }
   ],
   "source": [
    "#Elastic Net\n",
    "from sklearn.linear_model import ElasticNetCV\n",
    "enet = ElasticNetCV(l1_ratio=[0.01,0.05,0.1,0.2,0.3,0.4,0.5,0.6,0.7,0.8,0.9,0.95,0.99], cv=10)\n",
    "enet.fit(final_train, np.ravel(y_train))\n",
    "\n",
    "from sklearn.linear_model import ElasticNet\n",
    "enet = ElasticNet(alpha=enet.alpha_, l1_ratio=enet.l1_ratio_)\n",
    "enet.fit(final_train, np.ravel(y_train))"
   ]
  },
  {
   "cell_type": "markdown",
   "metadata": {
    "deletable": true,
    "editable": true
   },
   "source": [
    "### Ridge"
   ]
  },
  {
   "cell_type": "code",
   "execution_count": 240,
   "metadata": {
    "collapsed": false,
    "deletable": true,
    "editable": true
   },
   "outputs": [
    {
     "data": {
      "text/plain": [
       "Ridge(alpha=5.603810954001732, copy_X=True, fit_intercept=True, max_iter=None,\n",
       "   normalize=False, random_state=None, solver='auto', tol=0.001)"
      ]
     },
     "execution_count": 240,
     "metadata": {},
     "output_type": "execute_result"
    }
   ],
   "source": [
    "#Ridge Regression\n",
    "from sklearn.linear_model import Ridge\n",
    "from sklearn.linear_model import RidgeCV\n",
    "\n",
    "alphas = np.exp(np.linspace(-10,20,500)) \n",
    "ridge = RidgeCV(alphas=alphas, cv=10)\n",
    "ridge.fit(final_train, np.ravel(y_train))\n",
    "ridge = Ridge(alpha=ridge.alpha_)\n",
    "ridge.fit(final_train, np.ravel(y_train))"
   ]
  },
  {
   "cell_type": "markdown",
   "metadata": {
    "deletable": true,
    "editable": true
   },
   "source": [
    "### Predictions"
   ]
  },
  {
   "cell_type": "code",
   "execution_count": 241,
   "metadata": {
    "collapsed": true,
    "deletable": true,
    "editable": true
   },
   "outputs": [],
   "source": [
    "pred_L = lasso.predict(final_test)\n",
    "pred_E = enet.predict(final_test)\n",
    "pred_R = ridge.predict(final_test)\n",
    "\n",
    "regr = AdaBoostRegressor(DecisionTreeRegressor(max_depth=optimal_node),random_state=0)\n",
    "\n",
    "regr.fit(final_train, y_train)\n",
    "pred_T = regr.predict(final_test)"
   ]
  },
  {
   "cell_type": "code",
   "execution_count": 242,
   "metadata": {
    "collapsed": true,
    "deletable": true,
    "editable": true
   },
   "outputs": [],
   "source": [
    "#Combining the 2 predictions\n",
    "pred_combined = (pred_L+pred_T)/2\n",
    "pred_combined2 = (pred_T+pred_R)/2\n",
    "pred_combined3 = (pred_T+pred_E)/2\n",
    "pred_combined4 = (pred_T+pred_R+pred_E+pred_T)/4"
   ]
  },
  {
   "cell_type": "markdown",
   "metadata": {
    "deletable": true,
    "editable": true
   },
   "source": [
    "### Variable selection"
   ]
  },
  {
   "cell_type": "code",
   "execution_count": 254,
   "metadata": {
    "collapsed": false,
    "deletable": true,
    "editable": true
   },
   "outputs": [],
   "source": [
    "from QBUS2820 import forward\n",
    "\n",
    "fwd = forward()\n",
    "fwd.fit(final_train, y_train)\n",
    "pred_F = fwd.predict(final_test)"
   ]
  },
  {
   "cell_type": "code",
   "execution_count": 258,
   "metadata": {
    "collapsed": true,
    "deletable": true,
    "editable": true
   },
   "outputs": [],
   "source": [
    "pred_combined5 = (pred_F+pred_T)/2\n",
    "pred_combined6 = (pred_F+pred_T+pred_R)/3"
   ]
  },
  {
   "cell_type": "markdown",
   "metadata": {
    "deletable": true,
    "editable": true
   },
   "source": [
    "### Other random models"
   ]
  },
  {
   "cell_type": "markdown",
   "metadata": {
    "deletable": true,
    "editable": true
   },
   "source": [
    "### Kernel Ridge Regression"
   ]
  },
  {
   "cell_type": "code",
   "execution_count": 274,
   "metadata": {
    "collapsed": false,
    "deletable": true,
    "editable": true
   },
   "outputs": [],
   "source": [
    "from sklearn.linear_model import ElasticNet, Lasso,  BayesianRidge, LassoLarsIC\n",
    "from sklearn.ensemble import RandomForestRegressor,  GradientBoostingRegressor\n",
    "from sklearn.kernel_ridge import KernelRidge\n",
    "from sklearn.pipeline import make_pipeline\n",
    "from sklearn.preprocessing import RobustScaler"
   ]
  },
  {
   "cell_type": "code",
   "execution_count": 279,
   "metadata": {
    "collapsed": true,
    "deletable": true,
    "editable": true
   },
   "outputs": [],
   "source": [
    "KRR = KernelRidge(alpha=0.1)"
   ]
  },
  {
   "cell_type": "code",
   "execution_count": 280,
   "metadata": {
    "collapsed": false,
    "deletable": true,
    "editable": true
   },
   "outputs": [],
   "source": [
    "KRR.fit(final_train,y_train)\n",
    "pred_K = KRR.predict(final_test)"
   ]
  },
  {
   "cell_type": "markdown",
   "metadata": {
    "deletable": true,
    "editable": true
   },
   "source": [
    "### Gradient Boosting Regression "
   ]
  },
  {
   "cell_type": "code",
   "execution_count": 281,
   "metadata": {
    "collapsed": false,
    "deletable": true,
    "editable": true
   },
   "outputs": [],
   "source": [
    "GBoost = GradientBoostingRegressor(n_estimators=3000, learning_rate=0.05,\n",
    "                                   max_depth=4, max_features='sqrt',\n",
    "                                   min_samples_leaf=15, min_samples_split=10, \n",
    "                                   loss='huber', random_state =5)\n",
    "GBoost.fit(final_train,y_train)\n",
    "pred_GB = GBoost.predict(final_test)"
   ]
  },
  {
   "cell_type": "code",
   "execution_count": 286,
   "metadata": {
    "collapsed": true,
    "deletable": true,
    "editable": true
   },
   "outputs": [],
   "source": [
    "pred_combined7 = (pred_F+pred_T+pred_R+pred_GB)/4\n",
    "pred_combined8 = (pred_F+pred_T+pred_R+pred_GB+pred_K)/5"
   ]
  },
  {
   "cell_type": "markdown",
   "metadata": {
    "deletable": true,
    "editable": true
   },
   "source": [
    "### Evaluation of the model"
   ]
  },
  {
   "cell_type": "code",
   "execution_count": 288,
   "metadata": {
    "collapsed": false,
    "deletable": true,
    "editable": true
   },
   "outputs": [
    {
     "data": {
      "text/html": [
       "<div>\n",
       "<table border=\"1\" class=\"dataframe\">\n",
       "  <thead>\n",
       "    <tr style=\"text-align: right;\">\n",
       "      <th></th>\n",
       "      <th>Test RMSE</th>\n",
       "      <th>SE</th>\n",
       "      <th>Test R2</th>\n",
       "      <th>SE</th>\n",
       "      <th>MAE</th>\n",
       "    </tr>\n",
       "  </thead>\n",
       "  <tbody>\n",
       "    <tr>\n",
       "      <th>Lasso</th>\n",
       "      <td>32421.452</td>\n",
       "      <td>3673.317</td>\n",
       "      <td>0.785</td>\n",
       "      <td>0.038</td>\n",
       "      <td>21681.675</td>\n",
       "    </tr>\n",
       "    <tr>\n",
       "      <th>Adaboost Tree</th>\n",
       "      <td>21765.585</td>\n",
       "      <td>2131.775</td>\n",
       "      <td>0.903</td>\n",
       "      <td>0.011</td>\n",
       "      <td>15667.966</td>\n",
       "    </tr>\n",
       "    <tr>\n",
       "      <th>Lasso + Tree</th>\n",
       "      <td>24119.075</td>\n",
       "      <td>2756.184</td>\n",
       "      <td>0.881</td>\n",
       "      <td>0.016</td>\n",
       "      <td>16262.404</td>\n",
       "    </tr>\n",
       "    <tr>\n",
       "      <th>Ridge</th>\n",
       "      <td>22742.014</td>\n",
       "      <td>3622.616</td>\n",
       "      <td>0.894</td>\n",
       "      <td>0.031</td>\n",
       "      <td>14822.266</td>\n",
       "    </tr>\n",
       "    <tr>\n",
       "      <th>Enet</th>\n",
       "      <td>33798.607</td>\n",
       "      <td>3404.502</td>\n",
       "      <td>0.767</td>\n",
       "      <td>0.037</td>\n",
       "      <td>23229.632</td>\n",
       "    </tr>\n",
       "    <tr>\n",
       "      <th>Tree + Ridge</th>\n",
       "      <td>19161.662</td>\n",
       "      <td>2034.263</td>\n",
       "      <td>0.925</td>\n",
       "      <td>0.010</td>\n",
       "      <td>13058.764</td>\n",
       "    </tr>\n",
       "    <tr>\n",
       "      <th>Tree + Enet</th>\n",
       "      <td>24684.927</td>\n",
       "      <td>2665.540</td>\n",
       "      <td>0.875</td>\n",
       "      <td>0.016</td>\n",
       "      <td>16876.821</td>\n",
       "    </tr>\n",
       "    <tr>\n",
       "      <th>Tree + All 3</th>\n",
       "      <td>21140.310</td>\n",
       "      <td>2419.839</td>\n",
       "      <td>0.909</td>\n",
       "      <td>0.013</td>\n",
       "      <td>14132.884</td>\n",
       "    </tr>\n",
       "    <tr>\n",
       "      <th>Forward</th>\n",
       "      <td>22240.102</td>\n",
       "      <td>2315.032</td>\n",
       "      <td>0.899</td>\n",
       "      <td>0.024</td>\n",
       "      <td>15109.307</td>\n",
       "    </tr>\n",
       "    <tr>\n",
       "      <th>Forward + Tree</th>\n",
       "      <td>18502.279</td>\n",
       "      <td>1372.057</td>\n",
       "      <td>0.930</td>\n",
       "      <td>0.008</td>\n",
       "      <td>13230.422</td>\n",
       "    </tr>\n",
       "    <tr>\n",
       "      <th>Forward + Tree + Ridge</th>\n",
       "      <td>19002.613</td>\n",
       "      <td>1788.009</td>\n",
       "      <td>0.926</td>\n",
       "      <td>0.012</td>\n",
       "      <td>13084.649</td>\n",
       "    </tr>\n",
       "    <tr>\n",
       "      <th>KRR</th>\n",
       "      <td>24505.018</td>\n",
       "      <td>2727.011</td>\n",
       "      <td>0.877</td>\n",
       "      <td>0.030</td>\n",
       "      <td>16512.862</td>\n",
       "    </tr>\n",
       "    <tr>\n",
       "      <th>GBoost</th>\n",
       "      <td>20998.196</td>\n",
       "      <td>3485.240</td>\n",
       "      <td>0.910</td>\n",
       "      <td>0.020</td>\n",
       "      <td>13910.467</td>\n",
       "    </tr>\n",
       "    <tr>\n",
       "      <th>Forward Tree Ridge GB</th>\n",
       "      <td>18503.309</td>\n",
       "      <td>1900.977</td>\n",
       "      <td>0.930</td>\n",
       "      <td>0.009</td>\n",
       "      <td>12729.371</td>\n",
       "    </tr>\n",
       "    <tr>\n",
       "      <th>Forward Tree Ridge GB KRR</th>\n",
       "      <td>18417.535</td>\n",
       "      <td>1433.928</td>\n",
       "      <td>0.931</td>\n",
       "      <td>0.010</td>\n",
       "      <td>12956.659</td>\n",
       "    </tr>\n",
       "  </tbody>\n",
       "</table>\n",
       "</div>"
      ],
      "text/plain": [
       "                           Test RMSE        SE  Test R2     SE        MAE\n",
       "Lasso                      32421.452  3673.317    0.785  0.038  21681.675\n",
       "Adaboost Tree              21765.585  2131.775    0.903  0.011  15667.966\n",
       "Lasso + Tree               24119.075  2756.184    0.881  0.016  16262.404\n",
       "Ridge                      22742.014  3622.616    0.894  0.031  14822.266\n",
       "Enet                       33798.607  3404.502    0.767  0.037  23229.632\n",
       "Tree + Ridge               19161.662  2034.263    0.925  0.010  13058.764\n",
       "Tree + Enet                24684.927  2665.540    0.875  0.016  16876.821\n",
       "Tree + All 3               21140.310  2419.839    0.909  0.013  14132.884\n",
       "Forward                    22240.102  2315.032    0.899  0.024  15109.307\n",
       "Forward + Tree             18502.279  1372.057    0.930  0.008  13230.422\n",
       "Forward + Tree + Ridge     19002.613  1788.009    0.926  0.012  13084.649\n",
       "KRR                        24505.018  2727.011    0.877  0.030  16512.862\n",
       "GBoost                     20998.196  3485.240    0.910  0.020  13910.467\n",
       "Forward Tree Ridge GB      18503.309  1900.977    0.930  0.009  12729.371\n",
       "Forward Tree Ridge GB KRR  18417.535  1433.928    0.931  0.010  12956.659"
      ]
     },
     "execution_count": 288,
     "metadata": {},
     "output_type": "execute_result"
    }
   ],
   "source": [
    "from QBUS2820 import rmse_jack, r2_jack \n",
    "columns=['Test RMSE', 'SE', 'Test R2', 'SE', 'MAE']\n",
    "rows = ['Lasso', 'Adaboost Tree', 'Lasso + Tree', 'Ridge', 'Enet', 'Tree + Ridge', 'Tree + Enet', 'Tree + All 3', 'Forward', 'Forward + Tree', 'Forward + Tree + Ridge', 'KRR', 'GBoost','Forward Tree Ridge GB','Forward Tree Ridge GB KRR']\n",
    "results=pd.DataFrame(0.0, columns=columns, index=rows) \n",
    "\n",
    "results.iloc[0,0], results.iloc[0,1] = rmse_jack(y_test, pred_L)\n",
    "results.iloc[0,2], results.iloc[0,3] = (r2_jack(y_test, pred_L))\n",
    "results.iloc[1,0], results.iloc[1,1] = rmse_jack(y_test, pred_T)\n",
    "results.iloc[1,2], results.iloc[1,3] = (r2_jack(y_test, pred_T))\n",
    "results.iloc[2,0], results.iloc[2,1] = rmse_jack(y_test, pred_combined)\n",
    "results.iloc[2,2], results.iloc[2,3] = (r2_jack(y_test, pred_combined))\n",
    "results.iloc[3,0], results.iloc[3,1] = rmse_jack(y_test, pred_R)\n",
    "results.iloc[3,2], results.iloc[3,3] = (r2_jack(y_test, pred_R))\n",
    "results.iloc[4,0], results.iloc[4,1] = rmse_jack(y_test, pred_E)\n",
    "results.iloc[4,2], results.iloc[4,3] = (r2_jack(y_test, pred_E))\n",
    "results.iloc[5,0], results.iloc[5,1] = rmse_jack(y_test, pred_combined2)\n",
    "results.iloc[5,2], results.iloc[5,3] = (r2_jack(y_test, pred_combined2))\n",
    "results.iloc[6,0], results.iloc[6,1] = rmse_jack(y_test, pred_combined3)\n",
    "results.iloc[6,2], results.iloc[6,3] = (r2_jack(y_test, pred_combined3))\n",
    "results.iloc[7,0], results.iloc[7,1] = rmse_jack(y_test, pred_combined4)\n",
    "results.iloc[7,2], results.iloc[7,3] = (r2_jack(y_test, pred_combined4))\n",
    "results.iloc[8,0], results.iloc[8,1] = (rmse_jack(y_test, pred_F))\n",
    "results.iloc[8,2], results.iloc[8,3] = (r2_jack(y_test, pred_F))\n",
    "results.iloc[9,0], results.iloc[9,1] = rmse_jack(y_test, pred_combined5)\n",
    "results.iloc[9,2], results.iloc[9,3] = (r2_jack(y_test, pred_combined5))\n",
    "results.iloc[10,0], results.iloc[10,1] = rmse_jack(y_test, pred_combined6)\n",
    "results.iloc[10,2], results.iloc[10,3] = (r2_jack(y_test, pred_combined6))\n",
    "results.iloc[11,0], results.iloc[11,1] = rmse_jack(y_test, pred_K)\n",
    "results.iloc[11,2], results.iloc[11,3] = (r2_jack(y_test, pred_K))\n",
    "results.iloc[12,0], results.iloc[12,1] = rmse_jack(y_test, pred_GB)\n",
    "results.iloc[12,2], results.iloc[12,3] = (r2_jack(y_test, pred_GB))\n",
    "results.iloc[13,0], results.iloc[13,1] = rmse_jack(y_test, pred_combined7)\n",
    "results.iloc[13,2], results.iloc[13,3] = (r2_jack(y_test, pred_combined7))\n",
    "results.iloc[14,0], results.iloc[14,1] = rmse_jack(y_test, pred_combined8)\n",
    "results.iloc[14,2], results.iloc[14,3] = (r2_jack(y_test, pred_combined8))\n",
    "results.iloc[0,4] = mean_absolute_error(y_test, pred_L)\n",
    "results.iloc[1,4] = mean_absolute_error(y_test, pred_T)\n",
    "results.iloc[2,4] = mean_absolute_error(y_test, pred_combined)\n",
    "results.iloc[3,4] = mean_absolute_error(y_test, pred_R)\n",
    "results.iloc[4,4] = mean_absolute_error(y_test, pred_E)\n",
    "results.iloc[5,4] = mean_absolute_error(y_test, pred_combined2)\n",
    "results.iloc[6,4] = mean_absolute_error(y_test, pred_combined3)\n",
    "results.iloc[7,4] = mean_absolute_error(y_test, pred_combined4)\n",
    "results.iloc[8,4] = mean_absolute_error(y_test, pred_F)\n",
    "results.iloc[9,4] = mean_absolute_error(y_test, pred_combined5)\n",
    "results.iloc[10,4] = mean_absolute_error(y_test, pred_combined6)\n",
    "results.iloc[11,4] = mean_absolute_error(y_test, pred_K)\n",
    "results.iloc[12,4] = mean_absolute_error(y_test, pred_GB)\n",
    "results.iloc[13,4] = mean_absolute_error(y_test, pred_combined7)\n",
    "results.iloc[14,4] = mean_absolute_error(y_test, pred_combined8)\n",
    "results.round(3)"
   ]
  },
  {
   "cell_type": "markdown",
   "metadata": {
    "deletable": true,
    "editable": true
   },
   "source": [
    "# Predicting on Kaggle Data"
   ]
  },
  {
   "cell_type": "code",
   "execution_count": 327,
   "metadata": {
    "collapsed": false,
    "deletable": true,
    "editable": true
   },
   "outputs": [],
   "source": [
    "data = pd.read_csv('Train6.csv')\n",
    "y_price = data.pop('SalePrice')"
   ]
  },
  {
   "cell_type": "code",
   "execution_count": 328,
   "metadata": {
    "collapsed": false,
    "deletable": true,
    "editable": true
   },
   "outputs": [],
   "source": [
    "#regr = (DecisionTreeRegressor(max_depth=9))\n",
    "regr = AdaBoostRegressor(DecisionTreeRegressor(max_depth=optimal_node),random_state=0)\n",
    "regr = regr.fit(data,y_price)\n",
    "\n",
    "\n",
    "\n",
    "alphas = np.exp(np.linspace(-10,20,500)) \n",
    "ridge = RidgeCV(alphas=alphas, cv=10)\n",
    "ridge.fit(data, np.ravel(y_price))\n",
    "ridge = Ridge(alpha=ridge.alpha_)\n",
    "ridge.fit(data, np.ravel(y_price))\n",
    "\n",
    "GBoost = GradientBoostingRegressor(n_estimators=3000, learning_rate=0.05,\n",
    "                                   max_depth=4, max_features='sqrt',\n",
    "                                   min_samples_leaf=15, min_samples_split=10, \n",
    "                                   loss='huber', random_state =5)\n",
    "GBoost.fit(data,y_price)\n",
    "\n",
    "#Forward selection\n",
    "from QBUS2820 import forward\n",
    "\n",
    "fwd = forward()\n",
    "fwd.fit(data, y_price)\n"
   ]
  },
  {
   "cell_type": "code",
   "execution_count": 329,
   "metadata": {
    "collapsed": false,
    "deletable": true,
    "editable": true
   },
   "outputs": [],
   "source": [
    "kaggle = pd.read_csv('Test6.csv')\n",
    "np.any(np.isnan(kaggle))\n",
    "np.all(np.isfinite(kaggle))\n",
    "kaggle = kaggle.replace(np.nan, 0, regex=True)\n",
    "#kaggle.to_csv(\"Test1_edited.csv\", index=False)\n"
   ]
  },
  {
   "cell_type": "code",
   "execution_count": 330,
   "metadata": {
    "collapsed": false,
    "deletable": true,
    "editable": true
   },
   "outputs": [],
   "source": [
    "prediction_T = regr.predict(kaggle)\n",
    "prediction_R = ridge.predict(kaggle)\n",
    "pred_GB = GBoost.predict(kaggle)\n",
    "pred_F = fwd.predict(kaggle)"
   ]
  },
  {
   "cell_type": "code",
   "execution_count": 340,
   "metadata": {
    "collapsed": false,
    "deletable": true,
    "editable": true
   },
   "outputs": [
    {
     "data": {
      "text/plain": [
       "1608"
      ]
     },
     "execution_count": 340,
     "metadata": {},
     "output_type": "execute_result"
    }
   ],
   "source": [
    "prediction = (prediction_T+prediction_R+pred_F+pred_GB)/4\n",
    "len(prediction)"
   ]
  },
  {
   "cell_type": "code",
   "execution_count": 341,
   "metadata": {
    "collapsed": true,
    "deletable": true,
    "editable": true
   },
   "outputs": [],
   "source": [
    "#This is for the indices\n",
    "ind = np.arange(1,1609)"
   ]
  },
  {
   "cell_type": "code",
   "execution_count": 342,
   "metadata": {
    "collapsed": false,
    "deletable": true,
    "editable": true
   },
   "outputs": [
    {
     "data": {
      "text/html": [
       "<div>\n",
       "<table border=\"1\" class=\"dataframe\">\n",
       "  <thead>\n",
       "    <tr style=\"text-align: right;\">\n",
       "      <th></th>\n",
       "      <th>Id</th>\n",
       "      <th>Prediction</th>\n",
       "    </tr>\n",
       "  </thead>\n",
       "  <tbody>\n",
       "    <tr>\n",
       "      <th>0</th>\n",
       "      <td>1</td>\n",
       "      <td>93948.363916</td>\n",
       "    </tr>\n",
       "    <tr>\n",
       "      <th>1</th>\n",
       "      <td>2</td>\n",
       "      <td>161848.629679</td>\n",
       "    </tr>\n",
       "    <tr>\n",
       "      <th>2</th>\n",
       "      <td>3</td>\n",
       "      <td>141864.777252</td>\n",
       "    </tr>\n",
       "    <tr>\n",
       "      <th>3</th>\n",
       "      <td>4</td>\n",
       "      <td>192411.696709</td>\n",
       "    </tr>\n",
       "    <tr>\n",
       "      <th>4</th>\n",
       "      <td>5</td>\n",
       "      <td>151754.730469</td>\n",
       "    </tr>\n",
       "    <tr>\n",
       "      <th>5</th>\n",
       "      <td>6</td>\n",
       "      <td>330888.748432</td>\n",
       "    </tr>\n",
       "    <tr>\n",
       "      <th>6</th>\n",
       "      <td>7</td>\n",
       "      <td>128273.033201</td>\n",
       "    </tr>\n",
       "    <tr>\n",
       "      <th>7</th>\n",
       "      <td>8</td>\n",
       "      <td>280039.821416</td>\n",
       "    </tr>\n",
       "    <tr>\n",
       "      <th>8</th>\n",
       "      <td>9</td>\n",
       "      <td>116780.877276</td>\n",
       "    </tr>\n",
       "    <tr>\n",
       "      <th>9</th>\n",
       "      <td>10</td>\n",
       "      <td>123140.447783</td>\n",
       "    </tr>\n",
       "    <tr>\n",
       "      <th>10</th>\n",
       "      <td>11</td>\n",
       "      <td>132633.768339</td>\n",
       "    </tr>\n",
       "    <tr>\n",
       "      <th>11</th>\n",
       "      <td>12</td>\n",
       "      <td>139950.549197</td>\n",
       "    </tr>\n",
       "    <tr>\n",
       "      <th>12</th>\n",
       "      <td>13</td>\n",
       "      <td>184044.966300</td>\n",
       "    </tr>\n",
       "    <tr>\n",
       "      <th>13</th>\n",
       "      <td>14</td>\n",
       "      <td>245452.333387</td>\n",
       "    </tr>\n",
       "    <tr>\n",
       "      <th>14</th>\n",
       "      <td>15</td>\n",
       "      <td>136934.180697</td>\n",
       "    </tr>\n",
       "    <tr>\n",
       "      <th>15</th>\n",
       "      <td>16</td>\n",
       "      <td>119335.347156</td>\n",
       "    </tr>\n",
       "    <tr>\n",
       "      <th>16</th>\n",
       "      <td>17</td>\n",
       "      <td>239597.365826</td>\n",
       "    </tr>\n",
       "    <tr>\n",
       "      <th>17</th>\n",
       "      <td>18</td>\n",
       "      <td>70830.504948</td>\n",
       "    </tr>\n",
       "    <tr>\n",
       "      <th>18</th>\n",
       "      <td>19</td>\n",
       "      <td>177055.029010</td>\n",
       "    </tr>\n",
       "    <tr>\n",
       "      <th>19</th>\n",
       "      <td>20</td>\n",
       "      <td>134103.881259</td>\n",
       "    </tr>\n",
       "    <tr>\n",
       "      <th>20</th>\n",
       "      <td>21</td>\n",
       "      <td>292511.520818</td>\n",
       "    </tr>\n",
       "    <tr>\n",
       "      <th>21</th>\n",
       "      <td>22</td>\n",
       "      <td>198354.775753</td>\n",
       "    </tr>\n",
       "    <tr>\n",
       "      <th>22</th>\n",
       "      <td>23</td>\n",
       "      <td>144536.157766</td>\n",
       "    </tr>\n",
       "    <tr>\n",
       "      <th>23</th>\n",
       "      <td>24</td>\n",
       "      <td>124581.111556</td>\n",
       "    </tr>\n",
       "    <tr>\n",
       "      <th>24</th>\n",
       "      <td>25</td>\n",
       "      <td>129554.605087</td>\n",
       "    </tr>\n",
       "    <tr>\n",
       "      <th>25</th>\n",
       "      <td>26</td>\n",
       "      <td>138993.722786</td>\n",
       "    </tr>\n",
       "    <tr>\n",
       "      <th>26</th>\n",
       "      <td>27</td>\n",
       "      <td>173345.467940</td>\n",
       "    </tr>\n",
       "    <tr>\n",
       "      <th>27</th>\n",
       "      <td>28</td>\n",
       "      <td>127148.911307</td>\n",
       "    </tr>\n",
       "    <tr>\n",
       "      <th>28</th>\n",
       "      <td>29</td>\n",
       "      <td>227464.007834</td>\n",
       "    </tr>\n",
       "    <tr>\n",
       "      <th>29</th>\n",
       "      <td>30</td>\n",
       "      <td>292481.731491</td>\n",
       "    </tr>\n",
       "    <tr>\n",
       "      <th>...</th>\n",
       "      <td>...</td>\n",
       "      <td>...</td>\n",
       "    </tr>\n",
       "    <tr>\n",
       "      <th>1578</th>\n",
       "      <td>1579</td>\n",
       "      <td>232574.238177</td>\n",
       "    </tr>\n",
       "    <tr>\n",
       "      <th>1579</th>\n",
       "      <td>1580</td>\n",
       "      <td>250073.732582</td>\n",
       "    </tr>\n",
       "    <tr>\n",
       "      <th>1580</th>\n",
       "      <td>1581</td>\n",
       "      <td>152099.195792</td>\n",
       "    </tr>\n",
       "    <tr>\n",
       "      <th>1581</th>\n",
       "      <td>1582</td>\n",
       "      <td>200666.285587</td>\n",
       "    </tr>\n",
       "    <tr>\n",
       "      <th>1582</th>\n",
       "      <td>1583</td>\n",
       "      <td>131879.199398</td>\n",
       "    </tr>\n",
       "    <tr>\n",
       "      <th>1583</th>\n",
       "      <td>1584</td>\n",
       "      <td>310806.086210</td>\n",
       "    </tr>\n",
       "    <tr>\n",
       "      <th>1584</th>\n",
       "      <td>1585</td>\n",
       "      <td>250795.247822</td>\n",
       "    </tr>\n",
       "    <tr>\n",
       "      <th>1585</th>\n",
       "      <td>1586</td>\n",
       "      <td>180000.045573</td>\n",
       "    </tr>\n",
       "    <tr>\n",
       "      <th>1586</th>\n",
       "      <td>1587</td>\n",
       "      <td>138901.245313</td>\n",
       "    </tr>\n",
       "    <tr>\n",
       "      <th>1587</th>\n",
       "      <td>1588</td>\n",
       "      <td>151985.327424</td>\n",
       "    </tr>\n",
       "    <tr>\n",
       "      <th>1588</th>\n",
       "      <td>1589</td>\n",
       "      <td>111389.707676</td>\n",
       "    </tr>\n",
       "    <tr>\n",
       "      <th>1589</th>\n",
       "      <td>1590</td>\n",
       "      <td>95622.556761</td>\n",
       "    </tr>\n",
       "    <tr>\n",
       "      <th>1590</th>\n",
       "      <td>1591</td>\n",
       "      <td>132346.289652</td>\n",
       "    </tr>\n",
       "    <tr>\n",
       "      <th>1591</th>\n",
       "      <td>1592</td>\n",
       "      <td>156314.303224</td>\n",
       "    </tr>\n",
       "    <tr>\n",
       "      <th>1592</th>\n",
       "      <td>1593</td>\n",
       "      <td>212786.711197</td>\n",
       "    </tr>\n",
       "    <tr>\n",
       "      <th>1593</th>\n",
       "      <td>1594</td>\n",
       "      <td>125306.780719</td>\n",
       "    </tr>\n",
       "    <tr>\n",
       "      <th>1594</th>\n",
       "      <td>1595</td>\n",
       "      <td>274240.620172</td>\n",
       "    </tr>\n",
       "    <tr>\n",
       "      <th>1595</th>\n",
       "      <td>1596</td>\n",
       "      <td>190062.146673</td>\n",
       "    </tr>\n",
       "    <tr>\n",
       "      <th>1596</th>\n",
       "      <td>1597</td>\n",
       "      <td>214949.084367</td>\n",
       "    </tr>\n",
       "    <tr>\n",
       "      <th>1597</th>\n",
       "      <td>1598</td>\n",
       "      <td>225110.333758</td>\n",
       "    </tr>\n",
       "    <tr>\n",
       "      <th>1598</th>\n",
       "      <td>1599</td>\n",
       "      <td>166692.022874</td>\n",
       "    </tr>\n",
       "    <tr>\n",
       "      <th>1599</th>\n",
       "      <td>1600</td>\n",
       "      <td>158778.109787</td>\n",
       "    </tr>\n",
       "    <tr>\n",
       "      <th>1600</th>\n",
       "      <td>1601</td>\n",
       "      <td>411755.609372</td>\n",
       "    </tr>\n",
       "    <tr>\n",
       "      <th>1601</th>\n",
       "      <td>1602</td>\n",
       "      <td>54065.487234</td>\n",
       "    </tr>\n",
       "    <tr>\n",
       "      <th>1602</th>\n",
       "      <td>1603</td>\n",
       "      <td>170722.359532</td>\n",
       "    </tr>\n",
       "    <tr>\n",
       "      <th>1603</th>\n",
       "      <td>1604</td>\n",
       "      <td>172788.154017</td>\n",
       "    </tr>\n",
       "    <tr>\n",
       "      <th>1604</th>\n",
       "      <td>1605</td>\n",
       "      <td>146342.758892</td>\n",
       "    </tr>\n",
       "    <tr>\n",
       "      <th>1605</th>\n",
       "      <td>1606</td>\n",
       "      <td>83341.379271</td>\n",
       "    </tr>\n",
       "    <tr>\n",
       "      <th>1606</th>\n",
       "      <td>1607</td>\n",
       "      <td>208015.806474</td>\n",
       "    </tr>\n",
       "    <tr>\n",
       "      <th>1607</th>\n",
       "      <td>1608</td>\n",
       "      <td>217500.043449</td>\n",
       "    </tr>\n",
       "  </tbody>\n",
       "</table>\n",
       "<p>1608 rows × 2 columns</p>\n",
       "</div>"
      ],
      "text/plain": [
       "        Id     Prediction\n",
       "0        1   93948.363916\n",
       "1        2  161848.629679\n",
       "2        3  141864.777252\n",
       "3        4  192411.696709\n",
       "4        5  151754.730469\n",
       "5        6  330888.748432\n",
       "6        7  128273.033201\n",
       "7        8  280039.821416\n",
       "8        9  116780.877276\n",
       "9       10  123140.447783\n",
       "10      11  132633.768339\n",
       "11      12  139950.549197\n",
       "12      13  184044.966300\n",
       "13      14  245452.333387\n",
       "14      15  136934.180697\n",
       "15      16  119335.347156\n",
       "16      17  239597.365826\n",
       "17      18   70830.504948\n",
       "18      19  177055.029010\n",
       "19      20  134103.881259\n",
       "20      21  292511.520818\n",
       "21      22  198354.775753\n",
       "22      23  144536.157766\n",
       "23      24  124581.111556\n",
       "24      25  129554.605087\n",
       "25      26  138993.722786\n",
       "26      27  173345.467940\n",
       "27      28  127148.911307\n",
       "28      29  227464.007834\n",
       "29      30  292481.731491\n",
       "...    ...            ...\n",
       "1578  1579  232574.238177\n",
       "1579  1580  250073.732582\n",
       "1580  1581  152099.195792\n",
       "1581  1582  200666.285587\n",
       "1582  1583  131879.199398\n",
       "1583  1584  310806.086210\n",
       "1584  1585  250795.247822\n",
       "1585  1586  180000.045573\n",
       "1586  1587  138901.245313\n",
       "1587  1588  151985.327424\n",
       "1588  1589  111389.707676\n",
       "1589  1590   95622.556761\n",
       "1590  1591  132346.289652\n",
       "1591  1592  156314.303224\n",
       "1592  1593  212786.711197\n",
       "1593  1594  125306.780719\n",
       "1594  1595  274240.620172\n",
       "1595  1596  190062.146673\n",
       "1596  1597  214949.084367\n",
       "1597  1598  225110.333758\n",
       "1598  1599  166692.022874\n",
       "1599  1600  158778.109787\n",
       "1600  1601  411755.609372\n",
       "1601  1602   54065.487234\n",
       "1602  1603  170722.359532\n",
       "1603  1604  172788.154017\n",
       "1604  1605  146342.758892\n",
       "1605  1606   83341.379271\n",
       "1606  1607  208015.806474\n",
       "1607  1608  217500.043449\n",
       "\n",
       "[1608 rows x 2 columns]"
      ]
     },
     "execution_count": 342,
     "metadata": {},
     "output_type": "execute_result"
    }
   ],
   "source": [
    "headers = ['Id','Prediction']\n",
    "predictions = pd.DataFrame({'Id':ind, 'Prediction':prediction})\n",
    "predictions"
   ]
  },
  {
   "cell_type": "code",
   "execution_count": 343,
   "metadata": {
    "collapsed": false,
    "deletable": true,
    "editable": true
   },
   "outputs": [],
   "source": [
    "#Saving results into CSV file \n",
    "predictions.to_csv(\"PredictionsFinal.csv\", index=False)"
   ]
  },
  {
   "cell_type": "code",
   "execution_count": null,
   "metadata": {
    "collapsed": true,
    "deletable": true,
    "editable": true
   },
   "outputs": [],
   "source": []
  },
  {
   "cell_type": "code",
   "execution_count": null,
   "metadata": {
    "collapsed": true,
    "deletable": true,
    "editable": true
   },
   "outputs": [],
   "source": []
  },
  {
   "cell_type": "code",
   "execution_count": 306,
   "metadata": {
    "collapsed": true,
    "deletable": true,
    "editable": true
   },
   "outputs": [],
   "source": [
    "from sklearn.base import BaseEstimator, TransformerMixin, RegressorMixin, clone\n",
    "class AveragingModels(BaseEstimator, RegressorMixin, TransformerMixin):\n",
    "    def __init__(self, models):\n",
    "        self.models = models\n",
    "        \n",
    "    # we define clones of the original models to fit the data in\n",
    "    def fit(self, X, y):\n",
    "        self.models_ = [clone(x) for x in self.models]\n",
    "        \n",
    "        # Train cloned base models\n",
    "        for model in self.models_:\n",
    "            model.fit(X, y)\n",
    "\n",
    "        return self\n",
    "    \n",
    "    #Now we do the predictions for cloned models and average them\n",
    "    def predict(self, X):\n",
    "        predictions = np.column_stack([\n",
    "            model.predict(X) for model in self.models_\n",
    "        ])\n",
    "        return np.mean(predictions, axis=1)   "
   ]
  },
  {
   "cell_type": "code",
   "execution_count": 313,
   "metadata": {
    "collapsed": true,
    "deletable": true,
    "editable": true
   },
   "outputs": [],
   "source": [
    "#Validation function\n",
    "n_folds = 5\n",
    "\n",
    "def rmsle_cv(model):\n",
    "    kf = KFold(n_folds, shuffle=True, random_state=42).get_n_splits(data.values)\n",
    "    rmse= np.sqrt(-cross_val_score(model, data, y_price, scoring=\"neg_mean_squared_error\", cv = kf))\n",
    "    return(rmse)"
   ]
  },
  {
   "cell_type": "code",
   "execution_count": 312,
   "metadata": {
    "collapsed": false,
    "deletable": true,
    "editable": true
   },
   "outputs": [
    {
     "name": "stdout",
     "output_type": "stream",
     "text": [
      " Averaged base models score: 18630.1142 (2059.9310)\n",
      "\n"
     ]
    }
   ],
   "source": [
    "averaged_models = AveragingModels(models = (GBoost, ridge, regr))\n",
    "\n",
    "score = rmsle_cv(averaged_models)\n",
    "print(\" Averaged base models score: {:.4f} ({:.4f})\\n\".format(score.mean(), score.std()))"
   ]
  },
  {
   "cell_type": "code",
   "execution_count": 320,
   "metadata": {
    "collapsed": false,
    "deletable": true,
    "editable": true
   },
   "outputs": [],
   "source": [
    "averaged_models.fit(data,y_price)\n",
    "prediction = averaged_models.predict(kaggle)"
   ]
  },
  {
   "cell_type": "code",
   "execution_count": 321,
   "metadata": {
    "collapsed": false,
    "deletable": true,
    "editable": true
   },
   "outputs": [
    {
     "data": {
      "text/html": [
       "<div>\n",
       "<table border=\"1\" class=\"dataframe\">\n",
       "  <thead>\n",
       "    <tr style=\"text-align: right;\">\n",
       "      <th></th>\n",
       "      <th>Id</th>\n",
       "      <th>Prediction</th>\n",
       "    </tr>\n",
       "  </thead>\n",
       "  <tbody>\n",
       "    <tr>\n",
       "      <th>0</th>\n",
       "      <td>1</td>\n",
       "      <td>95263.306134</td>\n",
       "    </tr>\n",
       "    <tr>\n",
       "      <th>1</th>\n",
       "      <td>2</td>\n",
       "      <td>158733.856853</td>\n",
       "    </tr>\n",
       "    <tr>\n",
       "      <th>2</th>\n",
       "      <td>3</td>\n",
       "      <td>140288.486132</td>\n",
       "    </tr>\n",
       "    <tr>\n",
       "      <th>3</th>\n",
       "      <td>4</td>\n",
       "      <td>190663.037170</td>\n",
       "    </tr>\n",
       "    <tr>\n",
       "      <th>4</th>\n",
       "      <td>5</td>\n",
       "      <td>149878.058677</td>\n",
       "    </tr>\n",
       "    <tr>\n",
       "      <th>5</th>\n",
       "      <td>6</td>\n",
       "      <td>339970.158532</td>\n",
       "    </tr>\n",
       "    <tr>\n",
       "      <th>6</th>\n",
       "      <td>7</td>\n",
       "      <td>129233.121292</td>\n",
       "    </tr>\n",
       "    <tr>\n",
       "      <th>7</th>\n",
       "      <td>8</td>\n",
       "      <td>281331.946530</td>\n",
       "    </tr>\n",
       "    <tr>\n",
       "      <th>8</th>\n",
       "      <td>9</td>\n",
       "      <td>114598.091487</td>\n",
       "    </tr>\n",
       "    <tr>\n",
       "      <th>9</th>\n",
       "      <td>10</td>\n",
       "      <td>124152.596155</td>\n",
       "    </tr>\n",
       "    <tr>\n",
       "      <th>10</th>\n",
       "      <td>11</td>\n",
       "      <td>135115.466461</td>\n",
       "    </tr>\n",
       "    <tr>\n",
       "      <th>11</th>\n",
       "      <td>12</td>\n",
       "      <td>137022.123481</td>\n",
       "    </tr>\n",
       "    <tr>\n",
       "      <th>12</th>\n",
       "      <td>13</td>\n",
       "      <td>181003.640530</td>\n",
       "    </tr>\n",
       "    <tr>\n",
       "      <th>13</th>\n",
       "      <td>14</td>\n",
       "      <td>245069.928448</td>\n",
       "    </tr>\n",
       "    <tr>\n",
       "      <th>14</th>\n",
       "      <td>15</td>\n",
       "      <td>137895.432901</td>\n",
       "    </tr>\n",
       "    <tr>\n",
       "      <th>15</th>\n",
       "      <td>16</td>\n",
       "      <td>120607.826515</td>\n",
       "    </tr>\n",
       "    <tr>\n",
       "      <th>16</th>\n",
       "      <td>17</td>\n",
       "      <td>231450.862885</td>\n",
       "    </tr>\n",
       "    <tr>\n",
       "      <th>17</th>\n",
       "      <td>18</td>\n",
       "      <td>71074.402820</td>\n",
       "    </tr>\n",
       "    <tr>\n",
       "      <th>18</th>\n",
       "      <td>19</td>\n",
       "      <td>175999.207694</td>\n",
       "    </tr>\n",
       "    <tr>\n",
       "      <th>19</th>\n",
       "      <td>20</td>\n",
       "      <td>134987.411392</td>\n",
       "    </tr>\n",
       "    <tr>\n",
       "      <th>20</th>\n",
       "      <td>21</td>\n",
       "      <td>290671.951497</td>\n",
       "    </tr>\n",
       "    <tr>\n",
       "      <th>21</th>\n",
       "      <td>22</td>\n",
       "      <td>198052.900255</td>\n",
       "    </tr>\n",
       "    <tr>\n",
       "      <th>22</th>\n",
       "      <td>23</td>\n",
       "      <td>145356.845439</td>\n",
       "    </tr>\n",
       "    <tr>\n",
       "      <th>23</th>\n",
       "      <td>24</td>\n",
       "      <td>126513.375358</td>\n",
       "    </tr>\n",
       "    <tr>\n",
       "      <th>24</th>\n",
       "      <td>25</td>\n",
       "      <td>128963.221635</td>\n",
       "    </tr>\n",
       "    <tr>\n",
       "      <th>25</th>\n",
       "      <td>26</td>\n",
       "      <td>139239.761234</td>\n",
       "    </tr>\n",
       "    <tr>\n",
       "      <th>26</th>\n",
       "      <td>27</td>\n",
       "      <td>173748.778341</td>\n",
       "    </tr>\n",
       "    <tr>\n",
       "      <th>27</th>\n",
       "      <td>28</td>\n",
       "      <td>124858.207342</td>\n",
       "    </tr>\n",
       "    <tr>\n",
       "      <th>28</th>\n",
       "      <td>29</td>\n",
       "      <td>228030.625440</td>\n",
       "    </tr>\n",
       "    <tr>\n",
       "      <th>29</th>\n",
       "      <td>30</td>\n",
       "      <td>291392.202585</td>\n",
       "    </tr>\n",
       "    <tr>\n",
       "      <th>...</th>\n",
       "      <td>...</td>\n",
       "      <td>...</td>\n",
       "    </tr>\n",
       "    <tr>\n",
       "      <th>1578</th>\n",
       "      <td>1579</td>\n",
       "      <td>232335.042049</td>\n",
       "    </tr>\n",
       "    <tr>\n",
       "      <th>1579</th>\n",
       "      <td>1580</td>\n",
       "      <td>251229.295854</td>\n",
       "    </tr>\n",
       "    <tr>\n",
       "      <th>1580</th>\n",
       "      <td>1581</td>\n",
       "      <td>151190.780824</td>\n",
       "    </tr>\n",
       "    <tr>\n",
       "      <th>1581</th>\n",
       "      <td>1582</td>\n",
       "      <td>204205.509879</td>\n",
       "    </tr>\n",
       "    <tr>\n",
       "      <th>1582</th>\n",
       "      <td>1583</td>\n",
       "      <td>129905.387099</td>\n",
       "    </tr>\n",
       "    <tr>\n",
       "      <th>1583</th>\n",
       "      <td>1584</td>\n",
       "      <td>313902.746081</td>\n",
       "    </tr>\n",
       "    <tr>\n",
       "      <th>1584</th>\n",
       "      <td>1585</td>\n",
       "      <td>255190.939777</td>\n",
       "    </tr>\n",
       "    <tr>\n",
       "      <th>1585</th>\n",
       "      <td>1586</td>\n",
       "      <td>179031.148176</td>\n",
       "    </tr>\n",
       "    <tr>\n",
       "      <th>1586</th>\n",
       "      <td>1587</td>\n",
       "      <td>139901.367885</td>\n",
       "    </tr>\n",
       "    <tr>\n",
       "      <th>1587</th>\n",
       "      <td>1588</td>\n",
       "      <td>150447.041599</td>\n",
       "    </tr>\n",
       "    <tr>\n",
       "      <th>1588</th>\n",
       "      <td>1589</td>\n",
       "      <td>114476.547881</td>\n",
       "    </tr>\n",
       "    <tr>\n",
       "      <th>1589</th>\n",
       "      <td>1590</td>\n",
       "      <td>97932.534203</td>\n",
       "    </tr>\n",
       "    <tr>\n",
       "      <th>1590</th>\n",
       "      <td>1591</td>\n",
       "      <td>131415.168230</td>\n",
       "    </tr>\n",
       "    <tr>\n",
       "      <th>1591</th>\n",
       "      <td>1592</td>\n",
       "      <td>153294.337536</td>\n",
       "    </tr>\n",
       "    <tr>\n",
       "      <th>1592</th>\n",
       "      <td>1593</td>\n",
       "      <td>213536.828314</td>\n",
       "    </tr>\n",
       "    <tr>\n",
       "      <th>1593</th>\n",
       "      <td>1594</td>\n",
       "      <td>125918.744830</td>\n",
       "    </tr>\n",
       "    <tr>\n",
       "      <th>1594</th>\n",
       "      <td>1595</td>\n",
       "      <td>277287.718083</td>\n",
       "    </tr>\n",
       "    <tr>\n",
       "      <th>1595</th>\n",
       "      <td>1596</td>\n",
       "      <td>190328.119951</td>\n",
       "    </tr>\n",
       "    <tr>\n",
       "      <th>1596</th>\n",
       "      <td>1597</td>\n",
       "      <td>215809.897560</td>\n",
       "    </tr>\n",
       "    <tr>\n",
       "      <th>1597</th>\n",
       "      <td>1598</td>\n",
       "      <td>225878.693081</td>\n",
       "    </tr>\n",
       "    <tr>\n",
       "      <th>1598</th>\n",
       "      <td>1599</td>\n",
       "      <td>167562.406793</td>\n",
       "    </tr>\n",
       "    <tr>\n",
       "      <th>1599</th>\n",
       "      <td>1600</td>\n",
       "      <td>157790.294175</td>\n",
       "    </tr>\n",
       "    <tr>\n",
       "      <th>1600</th>\n",
       "      <td>1601</td>\n",
       "      <td>416991.595700</td>\n",
       "    </tr>\n",
       "    <tr>\n",
       "      <th>1601</th>\n",
       "      <td>1602</td>\n",
       "      <td>55779.460493</td>\n",
       "    </tr>\n",
       "    <tr>\n",
       "      <th>1602</th>\n",
       "      <td>1603</td>\n",
       "      <td>172185.458657</td>\n",
       "    </tr>\n",
       "    <tr>\n",
       "      <th>1603</th>\n",
       "      <td>1604</td>\n",
       "      <td>173673.272374</td>\n",
       "    </tr>\n",
       "    <tr>\n",
       "      <th>1604</th>\n",
       "      <td>1605</td>\n",
       "      <td>145892.747972</td>\n",
       "    </tr>\n",
       "    <tr>\n",
       "      <th>1605</th>\n",
       "      <td>1606</td>\n",
       "      <td>84713.428046</td>\n",
       "    </tr>\n",
       "    <tr>\n",
       "      <th>1606</th>\n",
       "      <td>1607</td>\n",
       "      <td>200158.061396</td>\n",
       "    </tr>\n",
       "    <tr>\n",
       "      <th>1607</th>\n",
       "      <td>1608</td>\n",
       "      <td>216211.096154</td>\n",
       "    </tr>\n",
       "  </tbody>\n",
       "</table>\n",
       "<p>1608 rows × 2 columns</p>\n",
       "</div>"
      ],
      "text/plain": [
       "        Id     Prediction\n",
       "0        1   95263.306134\n",
       "1        2  158733.856853\n",
       "2        3  140288.486132\n",
       "3        4  190663.037170\n",
       "4        5  149878.058677\n",
       "5        6  339970.158532\n",
       "6        7  129233.121292\n",
       "7        8  281331.946530\n",
       "8        9  114598.091487\n",
       "9       10  124152.596155\n",
       "10      11  135115.466461\n",
       "11      12  137022.123481\n",
       "12      13  181003.640530\n",
       "13      14  245069.928448\n",
       "14      15  137895.432901\n",
       "15      16  120607.826515\n",
       "16      17  231450.862885\n",
       "17      18   71074.402820\n",
       "18      19  175999.207694\n",
       "19      20  134987.411392\n",
       "20      21  290671.951497\n",
       "21      22  198052.900255\n",
       "22      23  145356.845439\n",
       "23      24  126513.375358\n",
       "24      25  128963.221635\n",
       "25      26  139239.761234\n",
       "26      27  173748.778341\n",
       "27      28  124858.207342\n",
       "28      29  228030.625440\n",
       "29      30  291392.202585\n",
       "...    ...            ...\n",
       "1578  1579  232335.042049\n",
       "1579  1580  251229.295854\n",
       "1580  1581  151190.780824\n",
       "1581  1582  204205.509879\n",
       "1582  1583  129905.387099\n",
       "1583  1584  313902.746081\n",
       "1584  1585  255190.939777\n",
       "1585  1586  179031.148176\n",
       "1586  1587  139901.367885\n",
       "1587  1588  150447.041599\n",
       "1588  1589  114476.547881\n",
       "1589  1590   97932.534203\n",
       "1590  1591  131415.168230\n",
       "1591  1592  153294.337536\n",
       "1592  1593  213536.828314\n",
       "1593  1594  125918.744830\n",
       "1594  1595  277287.718083\n",
       "1595  1596  190328.119951\n",
       "1596  1597  215809.897560\n",
       "1597  1598  225878.693081\n",
       "1598  1599  167562.406793\n",
       "1599  1600  157790.294175\n",
       "1600  1601  416991.595700\n",
       "1601  1602   55779.460493\n",
       "1602  1603  172185.458657\n",
       "1603  1604  173673.272374\n",
       "1604  1605  145892.747972\n",
       "1605  1606   84713.428046\n",
       "1606  1607  200158.061396\n",
       "1607  1608  216211.096154\n",
       "\n",
       "[1608 rows x 2 columns]"
      ]
     },
     "execution_count": 321,
     "metadata": {},
     "output_type": "execute_result"
    }
   ],
   "source": [
    "headers = ['Id','Prediction']\n",
    "predictions = pd.DataFrame({'Id':ind, 'Prediction':prediction})\n",
    "predictions"
   ]
  },
  {
   "cell_type": "code",
   "execution_count": 322,
   "metadata": {
    "collapsed": true,
    "deletable": true,
    "editable": true
   },
   "outputs": [],
   "source": [
    "#Saving results into CSV file \n",
    "predictions.to_csv(\"Predictions6.csv\", index=False)"
   ]
  },
  {
   "cell_type": "code",
   "execution_count": 324,
   "metadata": {
    "collapsed": false,
    "deletable": true,
    "editable": true
   },
   "outputs": [
    {
     "name": "stdout",
     "output_type": "stream",
     "text": [
      "12782.9415182\n",
      "(0.92637546092480094, 0.012194779117396599)\n"
     ]
    }
   ],
   "source": [
    "data = pd.read_csv('Train6.csv')\n",
    "final_train = data.sample(frac=0.6, random_state=1)\n",
    "final_test = data[data.index.isin(final_train.index)==False]\n",
    "final_train.head()\n",
    "y_train = final_train.pop('SalePrice')\n",
    "y_test = final_test.pop('SalePrice')\n",
    "averaged_models.fit(final_train,y_train)\n",
    "prediction = averaged_models.predict(final_test)\n",
    "print(mean_absolute_error(y_test, prediction))\n",
    "print(r2_jack(y_test, prediction))"
   ]
  },
  {
   "cell_type": "code",
   "execution_count": 348,
   "metadata": {
    "collapsed": true,
    "deletable": true,
    "editable": true
   },
   "outputs": [],
   "source": [
    "from sklearn.ensemble import RandomForestRegressor\n",
    "from sklearn.ensemble import GradientBoostingRegressor\n",
    "from sklearn.ensemble import ExtraTreesRegressor\n",
    "from sklearn.ensemble import BaggingRegressor"
   ]
  },
  {
   "cell_type": "markdown",
   "metadata": {},
   "source": [
    "### Trying out learning models"
   ]
  },
  {
   "cell_type": "code",
   "execution_count": 350,
   "metadata": {
    "collapsed": false
   },
   "outputs": [
    {
     "name": "stdout",
     "output_type": "stream",
     "text": [
      "17349.3645963\n",
      "(0.87681040063502624, 0.019429542755916837)\n",
      "14736.963304\n",
      "(0.90803696593536321, 0.016003155413911684)\n",
      "14667.381677\n",
      "(0.91830706286221209, 0.009264426944876461)\n",
      "17395.0841615\n",
      "(0.88328310351363315, 0.013689744351550731)\n",
      "18883.7267235\n",
      "(0.86334937375067777, 0.016383731965058431)\n"
     ]
    }
   ],
   "source": [
    "data = pd.read_csv('Train6.csv')\n",
    "final_train = data.sample(frac=0.6, random_state=1)\n",
    "final_test = data[data.index.isin(final_train.index)==False]\n",
    "final_train.head()\n",
    "y_train = final_train.pop('SalePrice')\n",
    "y_test = final_test.pop('SalePrice')\n",
    "\n",
    "\n",
    "regr = RandomForestRegressor()\n",
    "regr = regr.fit(final_train,y_train)\n",
    "prediction = regr.predict(final_test)\n",
    "print(mean_absolute_error(y_test, prediction))\n",
    "print(r2_jack(y_test, prediction))\n",
    "\n",
    "regr = GradientBoostingRegressor()\n",
    "regr = regr.fit(final_train,y_train)\n",
    "prediction = regr.predict(final_test)\n",
    "print(mean_absolute_error(y_test, prediction))\n",
    "print(r2_jack(y_test, prediction))\n",
    "\n",
    "regr = ExtraTreesRegressor()\n",
    "regr = regr.fit(final_train,y_train)\n",
    "prediction = regr.predict(final_test)\n",
    "print(mean_absolute_error(y_test, prediction))\n",
    "print(r2_jack(y_test, prediction))\n",
    "\n",
    "regr = BaggingRegressor()\n",
    "regr = regr.fit(final_train,y_train)\n",
    "prediction = regr.predict(final_test)\n",
    "print(mean_absolute_error(y_test, prediction))\n",
    "print(r2_jack(y_test, prediction))\n",
    "\n",
    "\n",
    "regr = AdaBoostRegressor()\n",
    "regr = regr.fit(final_train,y_train)\n",
    "prediction = regr.predict(final_test)\n",
    "print(mean_absolute_error(y_test, prediction))\n",
    "print(r2_jack(y_test, prediction))"
   ]
  },
  {
   "cell_type": "markdown",
   "metadata": {},
   "source": [
    "### Combining our regressor with ensemble techniques"
   ]
  },
  {
   "cell_type": "code",
   "execution_count": 357,
   "metadata": {
    "collapsed": false
   },
   "outputs": [
    {
     "name": "stdout",
     "output_type": "stream",
     "text": [
      "15667.9656898\n",
      "(0.90318828575875654, 0.011394514860448169)\n",
      "17314.7883701\n",
      "(0.87310459729234757, 0.019839352531541194)\n"
     ]
    }
   ],
   "source": [
    "\n",
    "regr = AdaBoostRegressor(DecisionTreeRegressor(max_depth=optimal_node),random_state=0)\n",
    "regr = regr.fit(final_train,y_train)\n",
    "prediction = regr.predict(final_test)\n",
    "print(mean_absolute_error(y_test, prediction))\n",
    "print(r2_jack(y_test, prediction))\n",
    "\n",
    "regr = BaggingRegressor(DecisionTreeRegressor(max_depth=optimal_node),random_state=0)\n",
    "regr = regr.fit(final_train,y_train)\n",
    "prediction = regr.predict(final_test)\n",
    "print(mean_absolute_error(y_test, prediction))\n",
    "print(r2_jack(y_test, prediction))\n"
   ]
  },
  {
   "cell_type": "code",
   "execution_count": 358,
   "metadata": {
    "collapsed": true
   },
   "outputs": [],
   "source": [
    "from sklearn.svm import SVR"
   ]
  },
  {
   "cell_type": "code",
   "execution_count": 364,
   "metadata": {
    "collapsed": false
   },
   "outputs": [
    {
     "name": "stdout",
     "output_type": "stream",
     "text": [
      "50947.7504542\n",
      "(-0.11446608721681084, 0.030382379704914194)\n"
     ]
    }
   ],
   "source": [
    "clf = SVR(C=10.0, epsilon=1.2)\n",
    "clf = clf.fit(final_train,y_train)\n",
    "prediction = clf.predict(final_test)\n",
    "print(mean_absolute_error(y_test, prediction))\n",
    "print(r2_jack(y_test, prediction))"
   ]
  },
  {
   "cell_type": "code",
   "execution_count": null,
   "metadata": {
    "collapsed": true
   },
   "outputs": [],
   "source": []
  }
 ],
 "metadata": {
  "kernelspec": {
   "display_name": "python36",
   "language": "python",
   "name": "python36"
  },
  "language_info": {
   "codemirror_mode": {
    "name": "ipython",
    "version": 2
   },
   "file_extension": ".py",
   "mimetype": "text/x-python",
   "name": "python",
   "nbconvert_exporter": "python",
   "pygments_lexer": "ipython2",
   "version": "2.7.13"
  }
 },
 "nbformat": 4,
 "nbformat_minor": 2
}
