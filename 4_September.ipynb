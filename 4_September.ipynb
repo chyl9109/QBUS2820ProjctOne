{
 "cells": [
  {
   "cell_type": "code",
   "execution_count": 92,
   "metadata": {},
   "outputs": [],
   "source": [
    "from sklearn.model_selection import cross_val_score\n",
    "from sklearn.linear_model import LassoCV\n",
    "from sklearn.model_selection import KFold\n",
    "from sklearn.metrics import r2_score\n",
    "from sklearn.preprocessing import StandardScaler\n",
    "from sklearn.pipeline import Pipeline\n",
    "from sklearn.metrics import make_scorer\n",
    "from sklearn.tree import DecisionTreeRegressor\n",
    "from sklearn.model_selection import GridSearchCV\n",
    "from sklearn.model_selection import ShuffleSplit\n",
    "import pandas as pd\n",
    "import numpy as np\n",
    "import matplotlib.pyplot as plt\n",
    "import seaborn as sns\n",
    "import warnings\n",
    "import statsmodels.formula.api as smf\n",
    "from sklearn.metrics import mean_absolute_error\n",
    "from sklearn.ensemble import AdaBoostRegressor, GradientBoostingRegressor, ExtraTreesRegressor\n",
    "from sklearn.tree import DecisionTreeRegressor\n",
    "from QBUS2820 import rmse_jack, r2_jack \n",
    "from sklearn.linear_model import Ridge\n",
    "from sklearn.linear_model import RidgeCV\n",
    "import xgboost as xgb\n",
    "from sklearn.grid_search import GridSearchCV\n",
    "from ExtraCode import getResultTable\n",
    "from sklearn.model_selection import cross_val_score"
   ]
  },
  {
   "cell_type": "code",
   "execution_count": 2,
   "metadata": {
    "collapsed": true
   },
   "outputs": [],
   "source": [
    "data = pd.read_csv('TrainSalePriceNEW.csv')\n",
    "y_price = data.pop('SalePrice')\n"
   ]
  },
  {
   "cell_type": "code",
   "execution_count": null,
   "metadata": {
    "collapsed": true
   },
   "outputs": [],
   "source": []
  },
  {
   "cell_type": "code",
   "execution_count": 53,
   "metadata": {
    "collapsed": true
   },
   "outputs": [],
   "source": [
    "#Extremely Random forest\n",
    "regr = ExtraTreesRegressor(criterion='mae',max_depth=None,min_samples_split=2)\n",
    "regr = regr.fit(data,y_price)\n",
    "\n",
    "#\n",
    "GBoost = GradientBoostingRegressor(n_estimators=3000, learning_rate=0.05,\n",
    "                                   max_depth=4, max_features='sqrt',\n",
    "                                   min_samples_leaf=15, min_samples_split=10, \n",
    "                                   loss='huber', random_state =5)\n",
    "GBoost.fit(data,y_price)\n",
    "\n",
    "#Forward selection\n",
    "from QBUS2820 import forward\n",
    "\n",
    "fwd = forward()\n",
    "fwd.fit(data, y_price)\n"
   ]
  },
  {
   "cell_type": "code",
   "execution_count": 54,
   "metadata": {
    "collapsed": true
   },
   "outputs": [],
   "source": [
    "kaggle = pd.read_csv('TestSalePriceNEW.csv')"
   ]
  },
  {
   "cell_type": "code",
   "execution_count": 55,
   "metadata": {
    "collapsed": true
   },
   "outputs": [],
   "source": [
    "prediction_T = regr.predict(kaggle)\n",
    "pred_GB = GBoost.predict(kaggle)\n",
    "pred_F = fwd.predict(kaggle)"
   ]
  },
  {
   "cell_type": "code",
   "execution_count": 56,
   "metadata": {},
   "outputs": [
    {
     "data": {
      "text/plain": [
       "1608"
      ]
     },
     "execution_count": 56,
     "metadata": {},
     "output_type": "execute_result"
    }
   ],
   "source": [
    "prediction = (prediction_T+pred_F+pred_GB)/3\n",
    "len(prediction)"
   ]
  },
  {
   "cell_type": "code",
   "execution_count": 57,
   "metadata": {
    "collapsed": true
   },
   "outputs": [],
   "source": [
    "#This is for the indices\n",
    "ind = np.arange(1,1609)"
   ]
  },
  {
   "cell_type": "code",
   "execution_count": 58,
   "metadata": {},
   "outputs": [
    {
     "data": {
      "text/html": [
       "<div>\n",
       "<style>\n",
       "    .dataframe thead tr:only-child th {\n",
       "        text-align: right;\n",
       "    }\n",
       "\n",
       "    .dataframe thead th {\n",
       "        text-align: left;\n",
       "    }\n",
       "\n",
       "    .dataframe tbody tr th {\n",
       "        vertical-align: top;\n",
       "    }\n",
       "</style>\n",
       "<table border=\"1\" class=\"dataframe\">\n",
       "  <thead>\n",
       "    <tr style=\"text-align: right;\">\n",
       "      <th></th>\n",
       "      <th>Id</th>\n",
       "      <th>Prediction</th>\n",
       "    </tr>\n",
       "  </thead>\n",
       "  <tbody>\n",
       "    <tr>\n",
       "      <th>0</th>\n",
       "      <td>1</td>\n",
       "      <td>98518.762329</td>\n",
       "    </tr>\n",
       "    <tr>\n",
       "      <th>1</th>\n",
       "      <td>2</td>\n",
       "      <td>147706.469947</td>\n",
       "    </tr>\n",
       "    <tr>\n",
       "      <th>2</th>\n",
       "      <td>3</td>\n",
       "      <td>138607.831906</td>\n",
       "    </tr>\n",
       "    <tr>\n",
       "      <th>3</th>\n",
       "      <td>4</td>\n",
       "      <td>191711.539284</td>\n",
       "    </tr>\n",
       "    <tr>\n",
       "      <th>4</th>\n",
       "      <td>5</td>\n",
       "      <td>151433.221133</td>\n",
       "    </tr>\n",
       "    <tr>\n",
       "      <th>5</th>\n",
       "      <td>6</td>\n",
       "      <td>339282.146014</td>\n",
       "    </tr>\n",
       "    <tr>\n",
       "      <th>6</th>\n",
       "      <td>7</td>\n",
       "      <td>129561.013932</td>\n",
       "    </tr>\n",
       "    <tr>\n",
       "      <th>7</th>\n",
       "      <td>8</td>\n",
       "      <td>271363.866886</td>\n",
       "    </tr>\n",
       "    <tr>\n",
       "      <th>8</th>\n",
       "      <td>9</td>\n",
       "      <td>112129.272999</td>\n",
       "    </tr>\n",
       "    <tr>\n",
       "      <th>9</th>\n",
       "      <td>10</td>\n",
       "      <td>122289.065044</td>\n",
       "    </tr>\n",
       "    <tr>\n",
       "      <th>10</th>\n",
       "      <td>11</td>\n",
       "      <td>131471.747515</td>\n",
       "    </tr>\n",
       "    <tr>\n",
       "      <th>11</th>\n",
       "      <td>12</td>\n",
       "      <td>133826.159598</td>\n",
       "    </tr>\n",
       "    <tr>\n",
       "      <th>12</th>\n",
       "      <td>13</td>\n",
       "      <td>181332.328960</td>\n",
       "    </tr>\n",
       "    <tr>\n",
       "      <th>13</th>\n",
       "      <td>14</td>\n",
       "      <td>246618.572637</td>\n",
       "    </tr>\n",
       "    <tr>\n",
       "      <th>14</th>\n",
       "      <td>15</td>\n",
       "      <td>138706.668973</td>\n",
       "    </tr>\n",
       "    <tr>\n",
       "      <th>15</th>\n",
       "      <td>16</td>\n",
       "      <td>117202.152298</td>\n",
       "    </tr>\n",
       "    <tr>\n",
       "      <th>16</th>\n",
       "      <td>17</td>\n",
       "      <td>229077.007945</td>\n",
       "    </tr>\n",
       "    <tr>\n",
       "      <th>17</th>\n",
       "      <td>18</td>\n",
       "      <td>68322.928154</td>\n",
       "    </tr>\n",
       "    <tr>\n",
       "      <th>18</th>\n",
       "      <td>19</td>\n",
       "      <td>177069.290670</td>\n",
       "    </tr>\n",
       "    <tr>\n",
       "      <th>19</th>\n",
       "      <td>20</td>\n",
       "      <td>133370.401039</td>\n",
       "    </tr>\n",
       "    <tr>\n",
       "      <th>20</th>\n",
       "      <td>21</td>\n",
       "      <td>300880.792075</td>\n",
       "    </tr>\n",
       "    <tr>\n",
       "      <th>21</th>\n",
       "      <td>22</td>\n",
       "      <td>197308.505493</td>\n",
       "    </tr>\n",
       "    <tr>\n",
       "      <th>22</th>\n",
       "      <td>23</td>\n",
       "      <td>145936.784187</td>\n",
       "    </tr>\n",
       "    <tr>\n",
       "      <th>23</th>\n",
       "      <td>24</td>\n",
       "      <td>131465.525465</td>\n",
       "    </tr>\n",
       "    <tr>\n",
       "      <th>24</th>\n",
       "      <td>25</td>\n",
       "      <td>129331.368101</td>\n",
       "    </tr>\n",
       "    <tr>\n",
       "      <th>25</th>\n",
       "      <td>26</td>\n",
       "      <td>134377.795981</td>\n",
       "    </tr>\n",
       "    <tr>\n",
       "      <th>26</th>\n",
       "      <td>27</td>\n",
       "      <td>174233.092540</td>\n",
       "    </tr>\n",
       "    <tr>\n",
       "      <th>27</th>\n",
       "      <td>28</td>\n",
       "      <td>123524.921666</td>\n",
       "    </tr>\n",
       "    <tr>\n",
       "      <th>28</th>\n",
       "      <td>29</td>\n",
       "      <td>219530.670118</td>\n",
       "    </tr>\n",
       "    <tr>\n",
       "      <th>29</th>\n",
       "      <td>30</td>\n",
       "      <td>295885.401599</td>\n",
       "    </tr>\n",
       "    <tr>\n",
       "      <th>...</th>\n",
       "      <td>...</td>\n",
       "      <td>...</td>\n",
       "    </tr>\n",
       "    <tr>\n",
       "      <th>1578</th>\n",
       "      <td>1579</td>\n",
       "      <td>229945.100084</td>\n",
       "    </tr>\n",
       "    <tr>\n",
       "      <th>1579</th>\n",
       "      <td>1580</td>\n",
       "      <td>257495.057427</td>\n",
       "    </tr>\n",
       "    <tr>\n",
       "      <th>1580</th>\n",
       "      <td>1581</td>\n",
       "      <td>151267.352429</td>\n",
       "    </tr>\n",
       "    <tr>\n",
       "      <th>1581</th>\n",
       "      <td>1582</td>\n",
       "      <td>203663.390223</td>\n",
       "    </tr>\n",
       "    <tr>\n",
       "      <th>1582</th>\n",
       "      <td>1583</td>\n",
       "      <td>130315.702329</td>\n",
       "    </tr>\n",
       "    <tr>\n",
       "      <th>1583</th>\n",
       "      <td>1584</td>\n",
       "      <td>311065.899113</td>\n",
       "    </tr>\n",
       "    <tr>\n",
       "      <th>1584</th>\n",
       "      <td>1585</td>\n",
       "      <td>261011.664711</td>\n",
       "    </tr>\n",
       "    <tr>\n",
       "      <th>1585</th>\n",
       "      <td>1586</td>\n",
       "      <td>181554.201982</td>\n",
       "    </tr>\n",
       "    <tr>\n",
       "      <th>1586</th>\n",
       "      <td>1587</td>\n",
       "      <td>140343.866842</td>\n",
       "    </tr>\n",
       "    <tr>\n",
       "      <th>1587</th>\n",
       "      <td>1588</td>\n",
       "      <td>151687.334552</td>\n",
       "    </tr>\n",
       "    <tr>\n",
       "      <th>1588</th>\n",
       "      <td>1589</td>\n",
       "      <td>116198.095161</td>\n",
       "    </tr>\n",
       "    <tr>\n",
       "      <th>1589</th>\n",
       "      <td>1590</td>\n",
       "      <td>91966.819472</td>\n",
       "    </tr>\n",
       "    <tr>\n",
       "      <th>1590</th>\n",
       "      <td>1591</td>\n",
       "      <td>131999.169235</td>\n",
       "    </tr>\n",
       "    <tr>\n",
       "      <th>1591</th>\n",
       "      <td>1592</td>\n",
       "      <td>159642.392372</td>\n",
       "    </tr>\n",
       "    <tr>\n",
       "      <th>1592</th>\n",
       "      <td>1593</td>\n",
       "      <td>215892.789595</td>\n",
       "    </tr>\n",
       "    <tr>\n",
       "      <th>1593</th>\n",
       "      <td>1594</td>\n",
       "      <td>127257.662900</td>\n",
       "    </tr>\n",
       "    <tr>\n",
       "      <th>1594</th>\n",
       "      <td>1595</td>\n",
       "      <td>282393.575099</td>\n",
       "    </tr>\n",
       "    <tr>\n",
       "      <th>1595</th>\n",
       "      <td>1596</td>\n",
       "      <td>194937.432655</td>\n",
       "    </tr>\n",
       "    <tr>\n",
       "      <th>1596</th>\n",
       "      <td>1597</td>\n",
       "      <td>218351.774181</td>\n",
       "    </tr>\n",
       "    <tr>\n",
       "      <th>1597</th>\n",
       "      <td>1598</td>\n",
       "      <td>231566.310354</td>\n",
       "    </tr>\n",
       "    <tr>\n",
       "      <th>1598</th>\n",
       "      <td>1599</td>\n",
       "      <td>171168.225556</td>\n",
       "    </tr>\n",
       "    <tr>\n",
       "      <th>1599</th>\n",
       "      <td>1600</td>\n",
       "      <td>162669.495805</td>\n",
       "    </tr>\n",
       "    <tr>\n",
       "      <th>1600</th>\n",
       "      <td>1601</td>\n",
       "      <td>406558.212486</td>\n",
       "    </tr>\n",
       "    <tr>\n",
       "      <th>1601</th>\n",
       "      <td>1602</td>\n",
       "      <td>49844.340484</td>\n",
       "    </tr>\n",
       "    <tr>\n",
       "      <th>1602</th>\n",
       "      <td>1603</td>\n",
       "      <td>171067.449470</td>\n",
       "    </tr>\n",
       "    <tr>\n",
       "      <th>1603</th>\n",
       "      <td>1604</td>\n",
       "      <td>174874.235082</td>\n",
       "    </tr>\n",
       "    <tr>\n",
       "      <th>1604</th>\n",
       "      <td>1605</td>\n",
       "      <td>151458.303026</td>\n",
       "    </tr>\n",
       "    <tr>\n",
       "      <th>1605</th>\n",
       "      <td>1606</td>\n",
       "      <td>89973.039159</td>\n",
       "    </tr>\n",
       "    <tr>\n",
       "      <th>1606</th>\n",
       "      <td>1607</td>\n",
       "      <td>205020.371269</td>\n",
       "    </tr>\n",
       "    <tr>\n",
       "      <th>1607</th>\n",
       "      <td>1608</td>\n",
       "      <td>214457.160360</td>\n",
       "    </tr>\n",
       "  </tbody>\n",
       "</table>\n",
       "<p>1608 rows × 2 columns</p>\n",
       "</div>"
      ],
      "text/plain": [
       "        Id     Prediction\n",
       "0        1   98518.762329\n",
       "1        2  147706.469947\n",
       "2        3  138607.831906\n",
       "3        4  191711.539284\n",
       "4        5  151433.221133\n",
       "5        6  339282.146014\n",
       "6        7  129561.013932\n",
       "7        8  271363.866886\n",
       "8        9  112129.272999\n",
       "9       10  122289.065044\n",
       "10      11  131471.747515\n",
       "11      12  133826.159598\n",
       "12      13  181332.328960\n",
       "13      14  246618.572637\n",
       "14      15  138706.668973\n",
       "15      16  117202.152298\n",
       "16      17  229077.007945\n",
       "17      18   68322.928154\n",
       "18      19  177069.290670\n",
       "19      20  133370.401039\n",
       "20      21  300880.792075\n",
       "21      22  197308.505493\n",
       "22      23  145936.784187\n",
       "23      24  131465.525465\n",
       "24      25  129331.368101\n",
       "25      26  134377.795981\n",
       "26      27  174233.092540\n",
       "27      28  123524.921666\n",
       "28      29  219530.670118\n",
       "29      30  295885.401599\n",
       "...    ...            ...\n",
       "1578  1579  229945.100084\n",
       "1579  1580  257495.057427\n",
       "1580  1581  151267.352429\n",
       "1581  1582  203663.390223\n",
       "1582  1583  130315.702329\n",
       "1583  1584  311065.899113\n",
       "1584  1585  261011.664711\n",
       "1585  1586  181554.201982\n",
       "1586  1587  140343.866842\n",
       "1587  1588  151687.334552\n",
       "1588  1589  116198.095161\n",
       "1589  1590   91966.819472\n",
       "1590  1591  131999.169235\n",
       "1591  1592  159642.392372\n",
       "1592  1593  215892.789595\n",
       "1593  1594  127257.662900\n",
       "1594  1595  282393.575099\n",
       "1595  1596  194937.432655\n",
       "1596  1597  218351.774181\n",
       "1597  1598  231566.310354\n",
       "1598  1599  171168.225556\n",
       "1599  1600  162669.495805\n",
       "1600  1601  406558.212486\n",
       "1601  1602   49844.340484\n",
       "1602  1603  171067.449470\n",
       "1603  1604  174874.235082\n",
       "1604  1605  151458.303026\n",
       "1605  1606   89973.039159\n",
       "1606  1607  205020.371269\n",
       "1607  1608  214457.160360\n",
       "\n",
       "[1608 rows x 2 columns]"
      ]
     },
     "execution_count": 58,
     "metadata": {},
     "output_type": "execute_result"
    }
   ],
   "source": [
    "headers = ['Id','Prediction']\n",
    "predictions = pd.DataFrame({'Id':ind, 'Prediction':prediction})\n",
    "predictions"
   ]
  },
  {
   "cell_type": "code",
   "execution_count": 59,
   "metadata": {
    "collapsed": true
   },
   "outputs": [],
   "source": [
    "#Saving results into CSV file \n",
    "predictions.to_csv(\"Day4_2.csv\", index=False)"
   ]
  },
  {
   "cell_type": "code",
   "execution_count": 4,
   "metadata": {
    "collapsed": true
   },
   "outputs": [],
   "source": [
    "#Forward selection\n",
    "from QBUS2820 import forward\n",
    "\n",
    "fwd = forward()\n",
    "fwd.fit(data, y_price)"
   ]
  },
  {
   "cell_type": "code",
   "execution_count": 6,
   "metadata": {},
   "outputs": [
    {
     "ename": "AttributeError",
     "evalue": "'forward' object has no attribute 'params'",
     "output_type": "error",
     "traceback": [
      "\u001b[0;31m---------------------------------------------------------------------------\u001b[0m",
      "\u001b[0;31mAttributeError\u001b[0m                            Traceback (most recent call last)",
      "\u001b[0;32m<ipython-input-6-07fb188742ae>\u001b[0m in \u001b[0;36m<module>\u001b[0;34m()\u001b[0m\n\u001b[0;32m----> 1\u001b[0;31m \u001b[0mfwd\u001b[0m\u001b[0;34m.\u001b[0m\u001b[0mparams\u001b[0m\u001b[0;34m\u001b[0m\u001b[0m\n\u001b[0m",
      "\u001b[0;31mAttributeError\u001b[0m: 'forward' object has no attribute 'params'"
     ]
    }
   ],
   "source": []
  },
  {
   "cell_type": "code",
   "execution_count": null,
   "metadata": {
    "collapsed": true
   },
   "outputs": [],
   "source": []
  },
  {
   "cell_type": "markdown",
   "metadata": {},
   "source": [
    "# XGBoost Tuning"
   ]
  },
  {
   "cell_type": "code",
   "execution_count": 93,
   "metadata": {},
   "outputs": [],
   "source": [
    "data = pd.read_csv('Train6.csv')\n",
    "final_train = data.sample(frac=0.6, random_state=1)\n",
    "final_test = data[data.index.isin(final_train.index)==False]\n",
    "final_train.head()\n",
    "y_train = final_train.pop('SalePrice')\n",
    "y_test = final_test.pop('SalePrice')\n"
   ]
  },
  {
   "cell_type": "code",
   "execution_count": 14,
   "metadata": {
    "collapsed": true
   },
   "outputs": [],
   "source": [
    "cv_params = {'max_depth': [3,5,7], 'min_child_weight': [1,3,5]}\n",
    "ind_params = {'learning_rate': 0.1, 'n_estimators': 1000, 'seed':0, 'subsample': 0.8, 'colsample_bytree': 0.8, \n",
    "             'objective': 'reg:linear'}\n",
    "optimized_GBM = GridSearchCV(xgb.XGBRegressor(**ind_params), \n",
    "                            cv_params, \n",
    "                             scoring = 'neg_mean_absolute_error', cv = 5, n_jobs = -1) \n",
    "# Optimize for accuracy since that is the metric used in the Adult Data Set notation"
   ]
  },
  {
   "cell_type": "code",
   "execution_count": 15,
   "metadata": {},
   "outputs": [
    {
     "data": {
      "text/plain": [
       "GridSearchCV(cv=5, error_score='raise',\n",
       "       estimator=XGBRegressor(base_score=0.5, colsample_bylevel=1, colsample_bytree=0.8,\n",
       "       gamma=0, learning_rate=0.1, max_delta_step=0, max_depth=3,\n",
       "       min_child_weight=1, missing=None, n_estimators=1000, nthread=-1,\n",
       "       objective='reg:linear', reg_alpha=0, reg_lambda=1,\n",
       "       scale_pos_weight=1, seed=0, silent=True, subsample=0.8),\n",
       "       fit_params={}, iid=True, n_jobs=-1,\n",
       "       param_grid={'max_depth': [3, 5, 7], 'min_child_weight': [1, 3, 5]},\n",
       "       pre_dispatch='2*n_jobs', refit=True,\n",
       "       scoring='neg_mean_absolute_error', verbose=0)"
      ]
     },
     "execution_count": 15,
     "metadata": {},
     "output_type": "execute_result"
    }
   ],
   "source": [
    "optimized_GBM.fit(final_train, y_train)"
   ]
  },
  {
   "cell_type": "code",
   "execution_count": 17,
   "metadata": {},
   "outputs": [
    {
     "data": {
      "text/plain": [
       "[mean: -13783.45090, std: 918.80661, params: {'max_depth': 3, 'min_child_weight': 1},\n",
       " mean: -13875.07333, std: 1114.66367, params: {'max_depth': 3, 'min_child_weight': 3},\n",
       " mean: -13354.93034, std: 946.41787, params: {'max_depth': 3, 'min_child_weight': 5},\n",
       " mean: -14152.26892, std: 1598.71330, params: {'max_depth': 5, 'min_child_weight': 1},\n",
       " mean: -14176.66304, std: 935.64559, params: {'max_depth': 5, 'min_child_weight': 3},\n",
       " mean: -13980.26430, std: 1252.29721, params: {'max_depth': 5, 'min_child_weight': 5},\n",
       " mean: -14468.35220, std: 1413.62806, params: {'max_depth': 7, 'min_child_weight': 1},\n",
       " mean: -14527.32854, std: 1382.86723, params: {'max_depth': 7, 'min_child_weight': 3},\n",
       " mean: -13888.80677, std: 1239.51815, params: {'max_depth': 7, 'min_child_weight': 5}]"
      ]
     },
     "execution_count": 17,
     "metadata": {},
     "output_type": "execute_result"
    }
   ],
   "source": [
    "optimized_GBM.grid_scores_"
   ]
  },
  {
   "cell_type": "code",
   "execution_count": 38,
   "metadata": {
    "collapsed": true
   },
   "outputs": [],
   "source": [
    "xgdmat = xgb.DMatrix(final_train, y_train) # Create our DMatrix to make XGBoost more efficient"
   ]
  },
  {
   "cell_type": "code",
   "execution_count": 94,
   "metadata": {
    "collapsed": true
   },
   "outputs": [],
   "source": [
    "our_params = {'eta': 0.1, 'seed':0, 'subsample': 0.8, 'colsample_bytree': 0.8, \n",
    "             'objective': 'reg:linear', 'max_depth':3, 'min_child_weight':1} \n",
    "\n",
    "final_gb = xgb.train(our_params, xgdmat, num_boost_round = 432)"
   ]
  },
  {
   "cell_type": "code",
   "execution_count": 56,
   "metadata": {},
   "outputs": [
    {
     "data": {
      "text/plain": [
       "<matplotlib.axes._subplots.AxesSubplot at 0x124d0de80>"
      ]
     },
     "execution_count": 56,
     "metadata": {},
     "output_type": "execute_result"
    },
    {
     "data": {
      "image/png": "[encoded data removed]",
      "text/plain": [
       "<matplotlib.figure.Figure at 0x12284e668>"
      ]
     },
     "metadata": {},
     "output_type": "display_data"
    }
   ],
   "source": [
    "%matplotlib inline\n",
    "import seaborn as sns\n",
    "sns.set(font_scale = 0.5)\n",
    "xgb.plot_importance(final_gb)"
   ]
  },
  {
   "cell_type": "code",
   "execution_count": 57,
   "metadata": {},
   "outputs": [
    {
     "data": {
      "text/plain": [
       "{'1stFlrSF': 195,\n",
       " '2ndFlrSF': 75,\n",
       " 'Alley': 3,\n",
       " 'BedroomAbvGr': 34,\n",
       " 'BldgType_1Fam': 3,\n",
       " 'BldgType_2fmCon': 1,\n",
       " 'BldgType_Duplex': 2,\n",
       " 'BldgType_Twnhs': 8,\n",
       " 'BldgType_TwnhsE': 2,\n",
       " 'BsmtCond': 11,\n",
       " 'BsmtExposure': 55,\n",
       " 'BsmtFinSF1': 132,\n",
       " 'BsmtFinType1': 27,\n",
       " 'BsmtFullBath': 18,\n",
       " 'BsmtQual': 14,\n",
       " 'BsmtUnfSF': 151,\n",
       " 'CentralAir': 4,\n",
       " 'Condition1_Artery': 11,\n",
       " 'Condition1_Feedr': 1,\n",
       " 'Condition1_Norm': 6,\n",
       " 'Condition1_PosA': 5,\n",
       " 'Condition1_PosN': 7,\n",
       " 'Condition1_RRAe': 2,\n",
       " 'Condition2_Norm': 3,\n",
       " 'Electrical_FuseA': 2,\n",
       " 'EnclosedPorch': 46,\n",
       " 'ExterCond': 6,\n",
       " 'ExterQual': 18,\n",
       " 'Exterior1st_AsbShng': 1,\n",
       " 'Exterior1st_BrkFace': 11,\n",
       " 'Exterior1st_CemntBd': 3,\n",
       " 'Exterior1st_HdBoard': 8,\n",
       " 'Exterior1st_MetalSd': 1,\n",
       " 'Exterior1st_Plywood': 2,\n",
       " 'Exterior1st_Stucco': 8,\n",
       " 'Exterior1st_VinylSd': 5,\n",
       " 'Exterior1st_Wd Sdng': 3,\n",
       " 'Exterior2nd_AsbShng': 3,\n",
       " 'Exterior2nd_CmentBd': 1,\n",
       " 'Exterior2nd_HdBoard': 13,\n",
       " 'Exterior2nd_ImStucc': 6,\n",
       " 'Exterior2nd_MetalSd': 1,\n",
       " 'Exterior2nd_Plywood': 4,\n",
       " 'Exterior2nd_Stucco': 3,\n",
       " 'Exterior2nd_Wd Sdng': 4,\n",
       " 'Exterior2nd_Wd Shng': 1,\n",
       " 'Fence': 23,\n",
       " 'Fireplaces': 22,\n",
       " 'Foundation_BrkTil': 2,\n",
       " 'Foundation_CBlock': 2,\n",
       " 'Foundation_PConc': 1,\n",
       " 'FullBath': 6,\n",
       " 'Functional': 26,\n",
       " 'GarageArea': 163,\n",
       " 'GarageCars': 10,\n",
       " 'GarageQual': 5,\n",
       " 'GarageType_Attchd': 6,\n",
       " 'GarageType_Basment': 1,\n",
       " 'GarageType_BuiltIn': 5,\n",
       " 'GarageType_Detchd': 2,\n",
       " 'GrLivArea': 99,\n",
       " 'GrLivArea.1': 26,\n",
       " 'HeatingQC': 17,\n",
       " 'Heating_GasA': 2,\n",
       " 'HouseStyle_1.5Fin': 6,\n",
       " 'HouseStyle_2.5Unf': 4,\n",
       " 'HouseStyle_2Story': 3,\n",
       " 'HouseStyle_SFoyer': 3,\n",
       " 'HouseStyle_SLvl': 4,\n",
       " 'KitchenQual': 8,\n",
       " 'LandContour_Bnk': 1,\n",
       " 'LandContour_HLS': 8,\n",
       " 'LandContour_Low': 1,\n",
       " 'LandContour_Lvl': 12,\n",
       " 'LotArea': 174,\n",
       " 'LotConfig_Corner': 7,\n",
       " 'LotConfig_CulDSac': 8,\n",
       " 'LotConfig_FR2': 5,\n",
       " 'LotConfig_Inside': 4,\n",
       " 'LotFrontage': 72,\n",
       " 'LotShape': 12,\n",
       " 'MSZoning_FV': 7,\n",
       " 'MSZoning_RH': 9,\n",
       " 'MSZoning_RL': 5,\n",
       " 'MSZoning_RM': 4,\n",
       " 'MasVnrType_BrkFace': 12,\n",
       " 'MasVnrType_None': 5,\n",
       " 'MasVnrType_Stone': 4,\n",
       " 'MiscFeature_No': 4,\n",
       " 'MoSold': 67,\n",
       " 'Neighborhood_Blmngtn': 7,\n",
       " 'Neighborhood_Blueste': 3,\n",
       " 'Neighborhood_BrkSide': 18,\n",
       " 'Neighborhood_ClearCr': 9,\n",
       " 'Neighborhood_CollgCr': 10,\n",
       " 'Neighborhood_Crawfor': 21,\n",
       " 'Neighborhood_Edwards': 19,\n",
       " 'Neighborhood_Gilbert': 6,\n",
       " 'Neighborhood_IDOTRR': 1,\n",
       " 'Neighborhood_MeadowV': 1,\n",
       " 'Neighborhood_Mitchel': 8,\n",
       " 'Neighborhood_NAmes': 5,\n",
       " 'Neighborhood_NWAmes': 3,\n",
       " 'Neighborhood_NoRidge': 5,\n",
       " 'Neighborhood_NridgHt': 8,\n",
       " 'Neighborhood_OldTown': 6,\n",
       " 'Neighborhood_SWISU': 2,\n",
       " 'Neighborhood_Sawyer': 9,\n",
       " 'Neighborhood_SawyerW': 6,\n",
       " 'Neighborhood_Somerst': 11,\n",
       " 'Neighborhood_StoneBr': 7,\n",
       " 'OpenPorchSF': 92,\n",
       " 'OverallCond': 55,\n",
       " 'OverallQual': 74,\n",
       " 'RoofMatl_CompShg': 4,\n",
       " 'RoofMatl_WdShngl': 1,\n",
       " 'RoofStyle_Gable': 8,\n",
       " 'RoofStyle_Gambrel': 2,\n",
       " 'RoofStyle_Hip': 10,\n",
       " 'SaleType_COD': 1,\n",
       " 'SaleType_ConLD': 1,\n",
       " 'SaleType_ConLI': 1,\n",
       " 'SaleType_WD ': 1,\n",
       " 'ScreenPorch': 38,\n",
       " 'TotRmsAbvGrd': 25,\n",
       " 'TotalBsmtSF': 93,\n",
       " 'TotalSF': 150,\n",
       " 'WoodDeckSF': 67,\n",
       " 'YearBuilt': 117,\n",
       " 'YearRemod/Add': 86,\n",
       " 'YrSold': 66}"
      ]
     },
     "execution_count": 57,
     "metadata": {},
     "output_type": "execute_result"
    }
   ],
   "source": [
    "importances = final_gb.get_fscore()\n",
    "importances"
   ]
  },
  {
   "cell_type": "code",
   "execution_count": 58,
   "metadata": {
    "collapsed": true
   },
   "outputs": [],
   "source": [
    "testdmat = xgb.DMatrix(final_test)"
   ]
  },
  {
   "cell_type": "code",
   "execution_count": 59,
   "metadata": {},
   "outputs": [
    {
     "data": {
      "text/plain": [
       "322"
      ]
     },
     "execution_count": 59,
     "metadata": {},
     "output_type": "execute_result"
    }
   ],
   "source": [
    "from sklearn.metrics import accuracy_score\n",
    "y_pred = final_gb.predict(testdmat) # Predict using our testdmat\n",
    "len(y_pred)"
   ]
  },
  {
   "cell_type": "code",
   "execution_count": 60,
   "metadata": {},
   "outputs": [
    {
     "data": {
      "text/plain": [
       "0.99627841235041936"
      ]
     },
     "execution_count": 60,
     "metadata": {},
     "output_type": "execute_result"
    }
   ],
   "source": [
    "r2_score(y_test,y_pred)"
   ]
  },
  {
   "cell_type": "code",
   "execution_count": 61,
   "metadata": {
    "collapsed": true
   },
   "outputs": [],
   "source": [
    "data = pd.read_csv('Train6.csv')\n",
    "y_price = data.pop('SalePrice')\n",
    "kaggle = pd.read_csv('Test6.csv')\n",
    "\n",
    "xgdmat = xgb.DMatrix(data, y_price) # Create our DMatrix to make XGBoost more efficient"
   ]
  },
  {
   "cell_type": "code",
   "execution_count": 62,
   "metadata": {
    "collapsed": true
   },
   "outputs": [],
   "source": [
    "testFinaldmat = xgb.DMatrix(kaggle)"
   ]
  },
  {
   "cell_type": "code",
   "execution_count": 63,
   "metadata": {
    "collapsed": true
   },
   "outputs": [],
   "source": [
    "our_params = {'eta': 0.1, 'seed':0, 'subsample': 0.8, 'colsample_bytree': 0.8, \n",
    "             'objective': 'reg:linear', 'max_depth':3, 'min_child_weight':1} \n",
    "\n",
    "final_gb = xgb.train(our_params, xgdmat, num_boost_round = 432)"
   ]
  },
  {
   "cell_type": "code",
   "execution_count": 64,
   "metadata": {},
   "outputs": [],
   "source": [
    "prediction = final_gb.predict(testFinaldmat)"
   ]
  },
  {
   "cell_type": "code",
   "execution_count": 65,
   "metadata": {},
   "outputs": [],
   "source": [
    "#This is for the indices\n",
    "ind = np.arange(1,1609)\n",
    "headers = ['Id','Prediction']\n",
    "prediction3 = pd.DataFrame({'Id':ind, 'Prediction':prediction})\n",
    "prediction3\n",
    "#Saving results into CSV file \n",
    "prediction3.to_csv(\"Day4_4.csv\", index=False)"
   ]
  },
  {
   "cell_type": "markdown",
   "metadata": {},
   "source": [
    "### It's ok..."
   ]
  },
  {
   "cell_type": "code",
   "execution_count": 95,
   "metadata": {},
   "outputs": [],
   "source": [
    "pred = []\n",
    "method = []\n",
    "\n",
    "data = pd.read_csv('Train6.csv')\n",
    "final_train = data.sample(frac=0.6, random_state=1)\n",
    "final_test = data[data.index.isin(final_train.index)==False]\n",
    "final_train.head()\n",
    "y_train = final_train.pop('SalePrice')\n",
    "y_test = final_test.pop('SalePrice')\n",
    "\n",
    "\n",
    "#Forward selection\n",
    "fwd = forward()\n",
    "fwd.fit(final_train, y_train)\n",
    "predforward = fwd.predict(final_test)\n",
    "method.append('Forward')\n",
    "pred.append(predforward)\n",
    "\n",
    "GBoost = GradientBoostingRegressor(n_estimators=3000, learning_rate=0.05,\n",
    "                                   max_depth=4, max_features='sqrt',\n",
    "                                   min_samples_leaf=15, min_samples_split=10, \n",
    "                                   loss='huber', random_state =5)\n",
    "GBoost.fit(final_train,y_train)\n",
    "predFinalBoost = GBoost.predict(final_test)\n",
    "method.append('GBoost')\n",
    "pred.append(predFinalBoost)\n",
    "\n",
    "regr = AdaBoostRegressor(loss='linear', learning_rate = 1, n_estimators = 350)\n",
    "regr = regr.fit(final_train,y_train)\n",
    "adapred = regr.predict(final_test)\n",
    "method.append('AdaBoost')\n",
    "pred.append(adapred)"
   ]
  },
  {
   "cell_type": "code",
   "execution_count": 96,
   "metadata": {},
   "outputs": [],
   "source": [
    "xgdmat = xgb.DMatrix(final_train, y_train) # Create our DMatrix to make XGBoost more efficient\n",
    "our_params = {'eta': 0.1, 'seed':0, 'subsample': 0.8, 'colsample_bytree': 0.8, \n",
    "             'objective': 'reg:linear', 'max_depth':3, 'min_child_weight':1} \n",
    "\n",
    "final_gb = xgb.train(our_params, xgdmat, num_boost_round = 432)\n",
    "testFinaldmat = xgb.DMatrix(final_test)\n",
    "xgpred = final_gb.predict(testFinaldmat)\n",
    "method.append('XGBoost')\n",
    "pred.append(xgpred)"
   ]
  },
  {
   "cell_type": "code",
   "execution_count": 101,
   "metadata": {},
   "outputs": [
    {
     "name": "stdout",
     "output_type": "stream",
     "text": [
      "[ 0.85275042  0.82535487  0.80528102]\n",
      "[ 0.83397613  0.83553196  0.82378095]\n"
     ]
    }
   ],
   "source": [
    "#print(cross_val_score(final_gb, final_test, y_test)) \n",
    "print(cross_val_score(regr, final_test, y_test)) \n",
    "#print(cross_val_score(fwd, final_test, y_test)) \n",
    "print(cross_val_score(regr2, final_test, y_test)) "
   ]
  },
  {
   "cell_type": "code",
   "execution_count": 71,
   "metadata": {
    "collapsed": true
   },
   "outputs": [],
   "source": [
    "pred2 = (xgpred+adapred+predFinalBoost+predforward)/4\n",
    "pred.append(pred2)\n",
    "method.append('XGBoost, ada, GB, Forward')"
   ]
  },
  {
   "cell_type": "code",
   "execution_count": 72,
   "metadata": {
    "collapsed": true
   },
   "outputs": [],
   "source": [
    "pred3 = (xgpred+predFinalBoost)/2\n",
    "pred4 = (xgpred+predforward)/2\n",
    "pred5 = (xgpred+adapred)/2\n",
    "pred.append(pred3)\n",
    "pred.append(pred4)\n",
    "pred.append(pred5)\n",
    "method.append('xg GB')\n",
    "method.append('xg forward')\n",
    "method.append('xg adaboost')"
   ]
  },
  {
   "cell_type": "code",
   "execution_count": 98,
   "metadata": {
    "collapsed": true
   },
   "outputs": [],
   "source": [
    "#Extremely Random forest\n",
    "regr2 = ExtraTreesRegressor(criterion='mae',max_depth=None,min_samples_split=2)\n",
    "regr2 = regr.fit(final_train,y_train)\n",
    "predFinalExtRandomForestlad = regr.predict(final_test)\n",
    "\n",
    "pred5 = (xgpred+predFinalExtRandomForestlad+predFinalBoost+predforward)/4\n",
    "pred.append(pred5)\n",
    "method.append('XGBoost, random tree, GB, Forward')"
   ]
  },
  {
   "cell_type": "code",
   "execution_count": 74,
   "metadata": {
    "collapsed": true
   },
   "outputs": [],
   "source": [
    "pred6 = (xgpred+predFinalExtRandomForestlad)/2\n",
    "pred.append(pred6)\n",
    "method.append('xg Random tree')"
   ]
  },
  {
   "cell_type": "code",
   "execution_count": 82,
   "metadata": {},
   "outputs": [
    {
     "data": {
      "text/html": [
       "<div>\n",
       "<style>\n",
       "    .dataframe thead tr:only-child th {\n",
       "        text-align: right;\n",
       "    }\n",
       "\n",
       "    .dataframe thead th {\n",
       "        text-align: left;\n",
       "    }\n",
       "\n",
       "    .dataframe tbody tr th {\n",
       "        vertical-align: top;\n",
       "    }\n",
       "</style>\n",
       "<table border=\"1\" class=\"dataframe\">\n",
       "  <thead>\n",
       "    <tr style=\"text-align: right;\">\n",
       "      <th></th>\n",
       "      <th>Test RMSE</th>\n",
       "      <th>SE</th>\n",
       "      <th>Jack R2</th>\n",
       "      <th>SE</th>\n",
       "      <th>MAE</th>\n",
       "      <th>R-square</th>\n",
       "    </tr>\n",
       "  </thead>\n",
       "  <tbody>\n",
       "    <tr>\n",
       "      <th>Forward</th>\n",
       "      <td>25043.039</td>\n",
       "      <td>3951.404</td>\n",
       "      <td>0.872</td>\n",
       "      <td>0.037</td>\n",
       "      <td>15656.400</td>\n",
       "      <td>0.872</td>\n",
       "    </tr>\n",
       "    <tr>\n",
       "      <th>GBoost</th>\n",
       "      <td>20880.046</td>\n",
       "      <td>3094.883</td>\n",
       "      <td>0.911</td>\n",
       "      <td>0.018</td>\n",
       "      <td>14154.274</td>\n",
       "      <td>0.911</td>\n",
       "    </tr>\n",
       "    <tr>\n",
       "      <th>AdaBoost</th>\n",
       "      <td>25768.104</td>\n",
       "      <td>2845.468</td>\n",
       "      <td>0.864</td>\n",
       "      <td>0.019</td>\n",
       "      <td>18608.233</td>\n",
       "      <td>0.864</td>\n",
       "    </tr>\n",
       "    <tr>\n",
       "      <th>XGBoost</th>\n",
       "      <td>21428.356</td>\n",
       "      <td>2651.816</td>\n",
       "      <td>0.906</td>\n",
       "      <td>0.015</td>\n",
       "      <td>14314.867</td>\n",
       "      <td>0.906</td>\n",
       "    </tr>\n",
       "    <tr>\n",
       "      <th>XGBoost, ada, GB, Forward</th>\n",
       "      <td>19770.821</td>\n",
       "      <td>2796.710</td>\n",
       "      <td>0.920</td>\n",
       "      <td>0.015</td>\n",
       "      <td>13523.631</td>\n",
       "      <td>0.920</td>\n",
       "    </tr>\n",
       "    <tr>\n",
       "      <th>xg GB</th>\n",
       "      <td>20411.829</td>\n",
       "      <td>2935.233</td>\n",
       "      <td>0.915</td>\n",
       "      <td>0.016</td>\n",
       "      <td>13727.156</td>\n",
       "      <td>0.915</td>\n",
       "    </tr>\n",
       "    <tr>\n",
       "      <th>xg forward</th>\n",
       "      <td>20348.628</td>\n",
       "      <td>2430.770</td>\n",
       "      <td>0.915</td>\n",
       "      <td>0.014</td>\n",
       "      <td>13517.261</td>\n",
       "      <td>0.915</td>\n",
       "    </tr>\n",
       "    <tr>\n",
       "      <th>xg adaboost</th>\n",
       "      <td>22351.224</td>\n",
       "      <td>2877.661</td>\n",
       "      <td>0.898</td>\n",
       "      <td>0.017</td>\n",
       "      <td>15415.433</td>\n",
       "      <td>0.898</td>\n",
       "    </tr>\n",
       "    <tr>\n",
       "      <th>XGBoost, random tree, GB, Forward</th>\n",
       "      <td>18973.230</td>\n",
       "      <td>2461.885</td>\n",
       "      <td>0.926</td>\n",
       "      <td>0.012</td>\n",
       "      <td>13133.117</td>\n",
       "      <td>0.926</td>\n",
       "    </tr>\n",
       "    <tr>\n",
       "      <th>xg Random tree</th>\n",
       "      <td>20448.128</td>\n",
       "      <td>2266.275</td>\n",
       "      <td>0.915</td>\n",
       "      <td>0.011</td>\n",
       "      <td>14287.620</td>\n",
       "      <td>0.915</td>\n",
       "    </tr>\n",
       "  </tbody>\n",
       "</table>\n",
       "</div>"
      ],
      "text/plain": [
       "                                   Test RMSE        SE  Jack R2     SE  \\\n",
       "Forward                            25043.039  3951.404    0.872  0.037   \n",
       "GBoost                             20880.046  3094.883    0.911  0.018   \n",
       "AdaBoost                           25768.104  2845.468    0.864  0.019   \n",
       "XGBoost                            21428.356  2651.816    0.906  0.015   \n",
       "XGBoost, ada, GB, Forward          19770.821  2796.710    0.920  0.015   \n",
       "xg GB                              20411.829  2935.233    0.915  0.016   \n",
       "xg forward                         20348.628  2430.770    0.915  0.014   \n",
       "xg adaboost                        22351.224  2877.661    0.898  0.017   \n",
       "XGBoost, random tree, GB, Forward  18973.230  2461.885    0.926  0.012   \n",
       "xg Random tree                     20448.128  2266.275    0.915  0.011   \n",
       "\n",
       "                                         MAE  R-square  \n",
       "Forward                            15656.400     0.872  \n",
       "GBoost                             14154.274     0.911  \n",
       "AdaBoost                           18608.233     0.864  \n",
       "XGBoost                            14314.867     0.906  \n",
       "XGBoost, ada, GB, Forward          13523.631     0.920  \n",
       "xg GB                              13727.156     0.915  \n",
       "xg forward                         13517.261     0.915  \n",
       "xg adaboost                        15415.433     0.898  \n",
       "XGBoost, random tree, GB, Forward  13133.117     0.926  \n",
       "xg Random tree                     14287.620     0.915  "
      ]
     },
     "execution_count": 82,
     "metadata": {},
     "output_type": "execute_result"
    }
   ],
   "source": [
    "getResultTable(method,pred)"
   ]
  },
  {
   "cell_type": "code",
   "execution_count": 81,
   "metadata": {
    "collapsed": true
   },
   "outputs": [],
   "source": [
    "def getResultTable(rows, predictions):\n",
    "    columns=['Test RMSE', 'SE', 'Jack R2', 'SE', 'MAE', 'R-square']\n",
    "    results=pd.DataFrame(0.0, columns=columns, index=rows)\n",
    "\n",
    "    for row,pred in zip(range(0,len(rows)),predictions):\n",
    "        results.iloc[row,0], results.iloc[row,1] = rmse_jack(y_test, pred)\n",
    "        results.iloc[row,2], results.iloc[row,3] = (r2_jack(y_test, pred))\n",
    "        results.iloc[row,4] = mean_absolute_error(y_test, pred)\n",
    "        results.iloc[row,5] = r2_score(y_test,pred)\n",
    "    return results.round(3)"
   ]
  },
  {
   "cell_type": "markdown",
   "metadata": {},
   "source": [
    "# Kaggle Predictions"
   ]
  },
  {
   "cell_type": "code",
   "execution_count": 84,
   "metadata": {
    "collapsed": true
   },
   "outputs": [],
   "source": [
    "data = pd.read_csv('Train6.csv')\n",
    "y_price = data.pop('SalePrice')\n",
    "kaggle = pd.read_csv('Test6.csv')\n",
    "\n",
    "xgdmat = xgb.DMatrix(data, y_price) # Create our DMatrix to make XGBoost more efficient\n",
    "testFinaldmat = xgb.DMatrix(kaggle)"
   ]
  },
  {
   "cell_type": "code",
   "execution_count": 85,
   "metadata": {
    "collapsed": true
   },
   "outputs": [],
   "source": [
    "our_params = {'eta': 0.1, 'seed':0, 'subsample': 0.8, 'colsample_bytree': 0.8, \n",
    "             'objective': 'reg:linear', 'max_depth':3, 'min_child_weight':1} \n",
    "\n",
    "final_gb = xgb.train(our_params, xgdmat, num_boost_round = 432)\n",
    "prediction = final_gb.predict(testFinaldmat)"
   ]
  },
  {
   "cell_type": "code",
   "execution_count": 86,
   "metadata": {
    "collapsed": true
   },
   "outputs": [],
   "source": [
    "#Extremely Random forest\n",
    "regr = ExtraTreesRegressor(criterion='mae',max_depth=None,min_samples_split=2)\n",
    "regr = regr.fit(data,y_price)\n",
    "predFinalExtRandomForestlad = regr.predict(kaggle)"
   ]
  },
  {
   "cell_type": "code",
   "execution_count": 87,
   "metadata": {
    "collapsed": true
   },
   "outputs": [],
   "source": [
    "\n",
    "GBoost = GradientBoostingRegressor(n_estimators=3000, learning_rate=0.05,\n",
    "                                   max_depth=4, max_features='sqrt',\n",
    "                                   min_samples_leaf=15, min_samples_split=10, \n",
    "                                   loss='huber', random_state =5)\n",
    "GBoost.fit(data,y_price)\n",
    "predFinalBoost = GBoost.predict(kaggle)\n"
   ]
  },
  {
   "cell_type": "code",
   "execution_count": 88,
   "metadata": {
    "collapsed": true
   },
   "outputs": [],
   "source": [
    "fwd = forward()\n",
    "fwd.fit(data, y_price)\n",
    "predforward = fwd.predict(kaggle)"
   ]
  },
  {
   "cell_type": "code",
   "execution_count": 90,
   "metadata": {},
   "outputs": [],
   "source": [
    "finalprediction = (predforward+predFinalBoost+predFinalExtRandomForestlad+prediction)/4"
   ]
  },
  {
   "cell_type": "code",
   "execution_count": 91,
   "metadata": {
    "collapsed": true
   },
   "outputs": [],
   "source": [
    "#This is for the indices\n",
    "ind = np.arange(1,1609)\n",
    "headers = ['Id','Prediction']\n",
    "prediction5 = pd.DataFrame({'Id':ind, 'Prediction':finalprediction})\n",
    "#Saving results into CSV file \n",
    "prediction5.to_csv(\"Day4_5.csv\", index=False)"
   ]
  },
  {
   "cell_type": "code",
   "execution_count": null,
   "metadata": {
    "collapsed": true
   },
   "outputs": [],
   "source": []
  }
 ],
 "metadata": {
  "kernelspec": {
   "display_name": "Python 3",
   "language": "python",
   "name": "python3"
  },
  "language_info": {
   "codemirror_mode": {
    "name": "ipython",
    "version": 3
   },
   "file_extension": ".py",
   "mimetype": "text/x-python",
   "name": "python",
   "nbconvert_exporter": "python",
   "pygments_lexer": "ipython3",
   "version": "3.6.1"
  }
 },
 "nbformat": 4,
 "nbformat_minor": 2
}
