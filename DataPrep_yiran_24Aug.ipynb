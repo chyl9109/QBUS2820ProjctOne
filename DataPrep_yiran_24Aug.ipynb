{
 "cells": [
  {
   "cell_type": "code",
   "execution_count": 152,
   "metadata": {},
   "outputs": [
    {
     "data": {
      "text/html": [
       "<div>\n",
       "<style>\n",
       "    .dataframe thead tr:only-child th {\n",
       "        text-align: right;\n",
       "    }\n",
       "\n",
       "    .dataframe thead th {\n",
       "        text-align: left;\n",
       "    }\n",
       "\n",
       "    .dataframe tbody tr th {\n",
       "        vertical-align: top;\n",
       "    }\n",
       "</style>\n",
       "<table border=\"1\" class=\"dataframe\">\n",
       "  <thead>\n",
       "    <tr style=\"text-align: right;\">\n",
       "      <th></th>\n",
       "      <th>MSSubClass</th>\n",
       "      <th>MSZoning</th>\n",
       "      <th>LotFrontage</th>\n",
       "      <th>LotArea</th>\n",
       "      <th>Street</th>\n",
       "      <th>Alley</th>\n",
       "      <th>LotShape</th>\n",
       "      <th>LandContour</th>\n",
       "      <th>Utilities</th>\n",
       "      <th>LotConfig</th>\n",
       "      <th>...</th>\n",
       "      <th>ScreenPorch</th>\n",
       "      <th>PoolArea</th>\n",
       "      <th>PoolQC</th>\n",
       "      <th>Fence</th>\n",
       "      <th>MiscFeature</th>\n",
       "      <th>MiscVal</th>\n",
       "      <th>MoSold</th>\n",
       "      <th>YrSold</th>\n",
       "      <th>SaleType</th>\n",
       "      <th>SalePrice</th>\n",
       "    </tr>\n",
       "  </thead>\n",
       "  <tbody>\n",
       "    <tr>\n",
       "      <th>0</th>\n",
       "      <td>20</td>\n",
       "      <td>RL</td>\n",
       "      <td>NaN</td>\n",
       "      <td>7000</td>\n",
       "      <td>Pave</td>\n",
       "      <td>NaN</td>\n",
       "      <td>IR1</td>\n",
       "      <td>Lvl</td>\n",
       "      <td>AllPub</td>\n",
       "      <td>CulDSac</td>\n",
       "      <td>...</td>\n",
       "      <td>0</td>\n",
       "      <td>0</td>\n",
       "      <td>NaN</td>\n",
       "      <td>GdWo</td>\n",
       "      <td>NaN</td>\n",
       "      <td>0</td>\n",
       "      <td>7</td>\n",
       "      <td>2009</td>\n",
       "      <td>WD</td>\n",
       "      <td>136500</td>\n",
       "    </tr>\n",
       "    <tr>\n",
       "      <th>1</th>\n",
       "      <td>20</td>\n",
       "      <td>RL</td>\n",
       "      <td>70.0</td>\n",
       "      <td>11767</td>\n",
       "      <td>Pave</td>\n",
       "      <td>NaN</td>\n",
       "      <td>Reg</td>\n",
       "      <td>Lvl</td>\n",
       "      <td>AllPub</td>\n",
       "      <td>Inside</td>\n",
       "      <td>...</td>\n",
       "      <td>0</td>\n",
       "      <td>0</td>\n",
       "      <td>NaN</td>\n",
       "      <td>NaN</td>\n",
       "      <td>Shed</td>\n",
       "      <td>900</td>\n",
       "      <td>6</td>\n",
       "      <td>2009</td>\n",
       "      <td>WD</td>\n",
       "      <td>120000</td>\n",
       "    </tr>\n",
       "    <tr>\n",
       "      <th>2</th>\n",
       "      <td>60</td>\n",
       "      <td>RL</td>\n",
       "      <td>75.0</td>\n",
       "      <td>9675</td>\n",
       "      <td>Pave</td>\n",
       "      <td>NaN</td>\n",
       "      <td>Reg</td>\n",
       "      <td>Lvl</td>\n",
       "      <td>AllPub</td>\n",
       "      <td>Inside</td>\n",
       "      <td>...</td>\n",
       "      <td>0</td>\n",
       "      <td>0</td>\n",
       "      <td>NaN</td>\n",
       "      <td>NaN</td>\n",
       "      <td>NaN</td>\n",
       "      <td>0</td>\n",
       "      <td>2</td>\n",
       "      <td>2009</td>\n",
       "      <td>WD</td>\n",
       "      <td>253000</td>\n",
       "    </tr>\n",
       "    <tr>\n",
       "      <th>3</th>\n",
       "      <td>160</td>\n",
       "      <td>FV</td>\n",
       "      <td>24.0</td>\n",
       "      <td>2160</td>\n",
       "      <td>Pave</td>\n",
       "      <td>Pave</td>\n",
       "      <td>Reg</td>\n",
       "      <td>Lvl</td>\n",
       "      <td>AllPub</td>\n",
       "      <td>Inside</td>\n",
       "      <td>...</td>\n",
       "      <td>0</td>\n",
       "      <td>0</td>\n",
       "      <td>NaN</td>\n",
       "      <td>NaN</td>\n",
       "      <td>NaN</td>\n",
       "      <td>0</td>\n",
       "      <td>6</td>\n",
       "      <td>2008</td>\n",
       "      <td>WD</td>\n",
       "      <td>170000</td>\n",
       "    </tr>\n",
       "    <tr>\n",
       "      <th>4</th>\n",
       "      <td>75</td>\n",
       "      <td>RM</td>\n",
       "      <td>65.0</td>\n",
       "      <td>8850</td>\n",
       "      <td>Pave</td>\n",
       "      <td>NaN</td>\n",
       "      <td>IR1</td>\n",
       "      <td>Bnk</td>\n",
       "      <td>AllPub</td>\n",
       "      <td>Corner</td>\n",
       "      <td>...</td>\n",
       "      <td>0</td>\n",
       "      <td>0</td>\n",
       "      <td>NaN</td>\n",
       "      <td>NaN</td>\n",
       "      <td>NaN</td>\n",
       "      <td>0</td>\n",
       "      <td>7</td>\n",
       "      <td>2006</td>\n",
       "      <td>ConLw</td>\n",
       "      <td>144000</td>\n",
       "    </tr>\n",
       "  </tbody>\n",
       "</table>\n",
       "<p>5 rows × 79 columns</p>\n",
       "</div>"
      ],
      "text/plain": [
       "   MSSubClass MSZoning  LotFrontage  LotArea Street Alley LotShape  \\\n",
       "0          20       RL          NaN     7000   Pave   NaN      IR1   \n",
       "1          20       RL         70.0    11767   Pave   NaN      Reg   \n",
       "2          60       RL         75.0     9675   Pave   NaN      Reg   \n",
       "3         160       FV         24.0     2160   Pave  Pave      Reg   \n",
       "4          75       RM         65.0     8850   Pave   NaN      IR1   \n",
       "\n",
       "  LandContour Utilities LotConfig    ...     ScreenPorch PoolArea PoolQC  \\\n",
       "0         Lvl    AllPub   CulDSac    ...               0        0    NaN   \n",
       "1         Lvl    AllPub    Inside    ...               0        0    NaN   \n",
       "2         Lvl    AllPub    Inside    ...               0        0    NaN   \n",
       "3         Lvl    AllPub    Inside    ...               0        0    NaN   \n",
       "4         Bnk    AllPub    Corner    ...               0        0    NaN   \n",
       "\n",
       "  Fence MiscFeature MiscVal  MoSold  YrSold  SaleType  SalePrice  \n",
       "0  GdWo         NaN       0       7    2009       WD      136500  \n",
       "1   NaN        Shed     900       6    2009       WD      120000  \n",
       "2   NaN         NaN       0       2    2009       WD      253000  \n",
       "3   NaN         NaN       0       6    2008       WD      170000  \n",
       "4   NaN         NaN       0       7    2006     ConLw     144000  \n",
       "\n",
       "[5 rows x 79 columns]"
      ]
     },
     "execution_count": 152,
     "metadata": {},
     "output_type": "execute_result"
    }
   ],
   "source": [
    "import pandas as pd\n",
    "import numpy as np\n",
    "import matplotlib.pyplot as plt\n",
    "import seaborn as sns\n",
    "import warnings\n",
    "import statsmodels.formula.api as smf\n",
    "warnings.filterwarnings('ignore')\n",
    "train = pd.read_csv('train.csv')\n",
    "test = pd.read_csv('test.csv')\n",
    "#train['Obs']=range(1,805)  # maybe change index from 1 to 804\n",
    "train.head(5)"
   ]
  },
  {
   "cell_type": "code",
   "execution_count": 153,
   "metadata": {},
   "outputs": [
    {
     "name": "stdout",
     "output_type": "stream",
     "text": [
      "804\n",
      "79\n"
     ]
    }
   ],
   "source": [
    "rows, columns = train.shape\n",
    "print(rows)\n",
    "print(columns)"
   ]
  },
  {
   "cell_type": "code",
   "execution_count": 154,
   "metadata": {},
   "outputs": [
    {
     "data": {
      "text/html": [
       "<div>\n",
       "<style>\n",
       "    .dataframe thead tr:only-child th {\n",
       "        text-align: right;\n",
       "    }\n",
       "\n",
       "    .dataframe thead th {\n",
       "        text-align: left;\n",
       "    }\n",
       "\n",
       "    .dataframe tbody tr th {\n",
       "        vertical-align: top;\n",
       "    }\n",
       "</style>\n",
       "<table border=\"1\" class=\"dataframe\">\n",
       "  <thead>\n",
       "    <tr style=\"text-align: right;\">\n",
       "      <th></th>\n",
       "      <th>MSSubClass</th>\n",
       "      <th>LotFrontage</th>\n",
       "      <th>LotArea</th>\n",
       "      <th>OverallQual</th>\n",
       "      <th>OverallCond</th>\n",
       "      <th>YearBuilt</th>\n",
       "      <th>YearRemod/Add</th>\n",
       "      <th>MasVnrArea</th>\n",
       "      <th>BsmtFinSF1</th>\n",
       "      <th>BsmtFinSF2</th>\n",
       "      <th>...</th>\n",
       "      <th>WoodDeckSF</th>\n",
       "      <th>OpenPorchSF</th>\n",
       "      <th>EnclosedPorch</th>\n",
       "      <th>3SsnPorch</th>\n",
       "      <th>ScreenPorch</th>\n",
       "      <th>PoolArea</th>\n",
       "      <th>MiscVal</th>\n",
       "      <th>MoSold</th>\n",
       "      <th>YrSold</th>\n",
       "      <th>SalePrice</th>\n",
       "    </tr>\n",
       "  </thead>\n",
       "  <tbody>\n",
       "    <tr>\n",
       "      <th>count</th>\n",
       "      <td>804.00</td>\n",
       "      <td>647.00</td>\n",
       "      <td>804.00</td>\n",
       "      <td>804.00</td>\n",
       "      <td>804.00</td>\n",
       "      <td>804.00</td>\n",
       "      <td>804.00</td>\n",
       "      <td>800.00</td>\n",
       "      <td>804.00</td>\n",
       "      <td>804.00</td>\n",
       "      <td>...</td>\n",
       "      <td>804.00</td>\n",
       "      <td>804.00</td>\n",
       "      <td>804.00</td>\n",
       "      <td>804.00</td>\n",
       "      <td>804.00</td>\n",
       "      <td>804.00</td>\n",
       "      <td>804.00</td>\n",
       "      <td>804.00</td>\n",
       "      <td>804.00</td>\n",
       "      <td>804.00</td>\n",
       "    </tr>\n",
       "    <tr>\n",
       "      <th>mean</th>\n",
       "      <td>57.30</td>\n",
       "      <td>68.36</td>\n",
       "      <td>10016.71</td>\n",
       "      <td>5.99</td>\n",
       "      <td>5.65</td>\n",
       "      <td>1969.80</td>\n",
       "      <td>1983.02</td>\n",
       "      <td>100.63</td>\n",
       "      <td>434.91</td>\n",
       "      <td>57.37</td>\n",
       "      <td>...</td>\n",
       "      <td>95.31</td>\n",
       "      <td>43.73</td>\n",
       "      <td>23.76</td>\n",
       "      <td>3.03</td>\n",
       "      <td>16.30</td>\n",
       "      <td>1.35</td>\n",
       "      <td>24.29</td>\n",
       "      <td>6.00</td>\n",
       "      <td>2007.90</td>\n",
       "      <td>175324.47</td>\n",
       "    </tr>\n",
       "    <tr>\n",
       "      <th>std</th>\n",
       "      <td>42.49</td>\n",
       "      <td>22.04</td>\n",
       "      <td>7721.43</td>\n",
       "      <td>1.31</td>\n",
       "      <td>1.08</td>\n",
       "      <td>28.52</td>\n",
       "      <td>20.60</td>\n",
       "      <td>179.79</td>\n",
       "      <td>415.95</td>\n",
       "      <td>187.09</td>\n",
       "      <td>...</td>\n",
       "      <td>129.46</td>\n",
       "      <td>61.36</td>\n",
       "      <td>62.51</td>\n",
       "      <td>27.96</td>\n",
       "      <td>54.42</td>\n",
       "      <td>24.61</td>\n",
       "      <td>212.26</td>\n",
       "      <td>2.61</td>\n",
       "      <td>1.32</td>\n",
       "      <td>70035.49</td>\n",
       "    </tr>\n",
       "    <tr>\n",
       "      <th>min</th>\n",
       "      <td>20.00</td>\n",
       "      <td>21.00</td>\n",
       "      <td>1300.00</td>\n",
       "      <td>2.00</td>\n",
       "      <td>3.00</td>\n",
       "      <td>1879.00</td>\n",
       "      <td>1950.00</td>\n",
       "      <td>0.00</td>\n",
       "      <td>0.00</td>\n",
       "      <td>0.00</td>\n",
       "      <td>...</td>\n",
       "      <td>0.00</td>\n",
       "      <td>0.00</td>\n",
       "      <td>0.00</td>\n",
       "      <td>0.00</td>\n",
       "      <td>0.00</td>\n",
       "      <td>0.00</td>\n",
       "      <td>0.00</td>\n",
       "      <td>1.00</td>\n",
       "      <td>2006.00</td>\n",
       "      <td>35000.00</td>\n",
       "    </tr>\n",
       "    <tr>\n",
       "      <th>25%</th>\n",
       "      <td>20.00</td>\n",
       "      <td>57.00</td>\n",
       "      <td>7513.50</td>\n",
       "      <td>5.00</td>\n",
       "      <td>5.00</td>\n",
       "      <td>1953.00</td>\n",
       "      <td>1964.00</td>\n",
       "      <td>0.00</td>\n",
       "      <td>0.00</td>\n",
       "      <td>0.00</td>\n",
       "      <td>...</td>\n",
       "      <td>0.00</td>\n",
       "      <td>0.00</td>\n",
       "      <td>0.00</td>\n",
       "      <td>0.00</td>\n",
       "      <td>0.00</td>\n",
       "      <td>0.00</td>\n",
       "      <td>0.00</td>\n",
       "      <td>4.00</td>\n",
       "      <td>2007.00</td>\n",
       "      <td>129500.00</td>\n",
       "    </tr>\n",
       "    <tr>\n",
       "      <th>50%</th>\n",
       "      <td>50.00</td>\n",
       "      <td>70.00</td>\n",
       "      <td>9469.50</td>\n",
       "      <td>6.00</td>\n",
       "      <td>5.00</td>\n",
       "      <td>1971.00</td>\n",
       "      <td>1991.00</td>\n",
       "      <td>0.00</td>\n",
       "      <td>388.50</td>\n",
       "      <td>0.00</td>\n",
       "      <td>...</td>\n",
       "      <td>0.00</td>\n",
       "      <td>21.00</td>\n",
       "      <td>0.00</td>\n",
       "      <td>0.00</td>\n",
       "      <td>0.00</td>\n",
       "      <td>0.00</td>\n",
       "      <td>0.00</td>\n",
       "      <td>6.00</td>\n",
       "      <td>2008.00</td>\n",
       "      <td>158725.00</td>\n",
       "    </tr>\n",
       "    <tr>\n",
       "      <th>75%</th>\n",
       "      <td>70.00</td>\n",
       "      <td>80.00</td>\n",
       "      <td>11438.00</td>\n",
       "      <td>7.00</td>\n",
       "      <td>6.00</td>\n",
       "      <td>1997.25</td>\n",
       "      <td>2002.00</td>\n",
       "      <td>150.75</td>\n",
       "      <td>697.25</td>\n",
       "      <td>0.00</td>\n",
       "      <td>...</td>\n",
       "      <td>168.00</td>\n",
       "      <td>68.00</td>\n",
       "      <td>0.00</td>\n",
       "      <td>0.00</td>\n",
       "      <td>0.00</td>\n",
       "      <td>0.00</td>\n",
       "      <td>0.00</td>\n",
       "      <td>7.00</td>\n",
       "      <td>2009.00</td>\n",
       "      <td>206225.00</td>\n",
       "    </tr>\n",
       "    <tr>\n",
       "      <th>max</th>\n",
       "      <td>190.00</td>\n",
       "      <td>155.00</td>\n",
       "      <td>164660.00</td>\n",
       "      <td>10.00</td>\n",
       "      <td>9.00</td>\n",
       "      <td>2009.00</td>\n",
       "      <td>2010.00</td>\n",
       "      <td>1224.00</td>\n",
       "      <td>2257.00</td>\n",
       "      <td>1526.00</td>\n",
       "      <td>...</td>\n",
       "      <td>690.00</td>\n",
       "      <td>365.00</td>\n",
       "      <td>368.00</td>\n",
       "      <td>508.00</td>\n",
       "      <td>291.00</td>\n",
       "      <td>576.00</td>\n",
       "      <td>4500.00</td>\n",
       "      <td>12.00</td>\n",
       "      <td>2010.00</td>\n",
       "      <td>615000.00</td>\n",
       "    </tr>\n",
       "  </tbody>\n",
       "</table>\n",
       "<p>8 rows × 37 columns</p>\n",
       "</div>"
      ],
      "text/plain": [
       "       MSSubClass  LotFrontage    LotArea  OverallQual  OverallCond  \\\n",
       "count      804.00       647.00     804.00       804.00       804.00   \n",
       "mean        57.30        68.36   10016.71         5.99         5.65   \n",
       "std         42.49        22.04    7721.43         1.31         1.08   \n",
       "min         20.00        21.00    1300.00         2.00         3.00   \n",
       "25%         20.00        57.00    7513.50         5.00         5.00   \n",
       "50%         50.00        70.00    9469.50         6.00         5.00   \n",
       "75%         70.00        80.00   11438.00         7.00         6.00   \n",
       "max        190.00       155.00  164660.00        10.00         9.00   \n",
       "\n",
       "       YearBuilt  YearRemod/Add  MasVnrArea  BsmtFinSF1  BsmtFinSF2  \\\n",
       "count     804.00         804.00      800.00      804.00      804.00   \n",
       "mean     1969.80        1983.02      100.63      434.91       57.37   \n",
       "std        28.52          20.60      179.79      415.95      187.09   \n",
       "min      1879.00        1950.00        0.00        0.00        0.00   \n",
       "25%      1953.00        1964.00        0.00        0.00        0.00   \n",
       "50%      1971.00        1991.00        0.00      388.50        0.00   \n",
       "75%      1997.25        2002.00      150.75      697.25        0.00   \n",
       "max      2009.00        2010.00     1224.00     2257.00     1526.00   \n",
       "\n",
       "         ...      WoodDeckSF  OpenPorchSF  EnclosedPorch  3SsnPorch  \\\n",
       "count    ...          804.00       804.00         804.00     804.00   \n",
       "mean     ...           95.31        43.73          23.76       3.03   \n",
       "std      ...          129.46        61.36          62.51      27.96   \n",
       "min      ...            0.00         0.00           0.00       0.00   \n",
       "25%      ...            0.00         0.00           0.00       0.00   \n",
       "50%      ...            0.00        21.00           0.00       0.00   \n",
       "75%      ...          168.00        68.00           0.00       0.00   \n",
       "max      ...          690.00       365.00         368.00     508.00   \n",
       "\n",
       "       ScreenPorch  PoolArea  MiscVal  MoSold   YrSold  SalePrice  \n",
       "count       804.00    804.00   804.00  804.00   804.00     804.00  \n",
       "mean         16.30      1.35    24.29    6.00  2007.90  175324.47  \n",
       "std          54.42     24.61   212.26    2.61     1.32   70035.49  \n",
       "min           0.00      0.00     0.00    1.00  2006.00   35000.00  \n",
       "25%           0.00      0.00     0.00    4.00  2007.00  129500.00  \n",
       "50%           0.00      0.00     0.00    6.00  2008.00  158725.00  \n",
       "75%           0.00      0.00     0.00    7.00  2009.00  206225.00  \n",
       "max         291.00    576.00  4500.00   12.00  2010.00  615000.00  \n",
       "\n",
       "[8 rows x 37 columns]"
      ]
     },
     "execution_count": 154,
     "metadata": {},
     "output_type": "execute_result"
    }
   ],
   "source": [
    "train.describe().round(2) # without object type"
   ]
  },
  {
   "cell_type": "code",
   "execution_count": 155,
   "metadata": {
    "collapsed": true
   },
   "outputs": [],
   "source": [
    "# variable preparation\n",
    "\n",
    "predictors=list(train.columns[2:-1])\n",
    "continuous_predictors=train.select_dtypes(['int64']).columns\n",
    "columns_categorical=train.select_dtypes(['object']).columns\n"
   ]
  },
  {
   "cell_type": "code",
   "execution_count": 156,
   "metadata": {},
   "outputs": [],
   "source": [
    "# detailed discussion are in EDA below.\n",
    "correlation=train.corr()"
   ]
  },
  {
   "cell_type": "markdown",
   "metadata": {},
   "source": [
    "# Task 1: Data preparation "
   ]
  },
  {
   "cell_type": "code",
   "execution_count": 157,
   "metadata": {},
   "outputs": [
    {
     "data": {
      "text/plain": [
       "MSSubClass         int64\n",
       "MSZoning          object\n",
       "LotFrontage      float64\n",
       "LotArea            int64\n",
       "Street            object\n",
       "Alley             object\n",
       "LotShape          object\n",
       "LandContour       object\n",
       "Utilities         object\n",
       "LotConfig         object\n",
       "LandSlope         object\n",
       "Neighborhood      object\n",
       "Condition1        object\n",
       "Condition2        object\n",
       "BldgType          object\n",
       "HouseStyle        object\n",
       "OverallQual        int64\n",
       "OverallCond        int64\n",
       "YearBuilt          int64\n",
       "YearRemod/Add      int64\n",
       "dtype: object"
      ]
     },
     "execution_count": 157,
     "metadata": {},
     "output_type": "execute_result"
    }
   ],
   "source": [
    "price=train.loc[:,'SalePrice']\n",
    "train.dtypes.head(20)   # include integer, float and object."
   ]
  },
  {
   "cell_type": "code",
   "execution_count": null,
   "metadata": {
    "collapsed": true
   },
   "outputs": [],
   "source": []
  },
  {
   "cell_type": "code",
   "execution_count": null,
   "metadata": {
    "collapsed": true
   },
   "outputs": [],
   "source": []
  },
  {
   "cell_type": "code",
   "execution_count": null,
   "metadata": {
    "collapsed": true
   },
   "outputs": [],
   "source": []
  },
  {
   "cell_type": "markdown",
   "metadata": {},
   "source": [
    "## Step 1: Categorial variables clean and discussion"
   ]
  },
  {
   "cell_type": "code",
   "execution_count": 158,
   "metadata": {},
   "outputs": [
    {
     "data": {
      "text/plain": [
       "array(['RL', 'FV', 'RM', 'RH', 'C (all)', 'I (all)'], dtype=object)"
      ]
     },
     "execution_count": 158,
     "metadata": {},
     "output_type": "execute_result"
    }
   ],
   "source": [
    "train['MSZoning'].unique()"
   ]
  },
  {
   "cell_type": "code",
   "execution_count": 159,
   "metadata": {
    "collapsed": true
   },
   "outputs": [],
   "source": [
    "# these variables are part of 'columns_categorical', \n",
    "categorical=['MSZoning', 'Street','LotShape', 'LandContour','Utilities','LotConfig', 'LandSlope'\n",
    "           , 'Neighborhood', 'Condition1', 'Condition2' ,'BldgType','HouseStyle', 'RoofStyle', 'RoofMatl', \n",
    "             'Exterior1st','Exterior2nd','ExterQual', 'ExterCond', 'Foundation','Heating'\n",
    "            , 'HeatingQC', 'CentralAir', 'Electrical', 'KitchenQual','Functional'\n",
    "            , 'PavedDrive','SaleType']\n",
    "\n",
    "\n",
    "train['MSZoning']=train['MSZoning'].str.replace('(',\"\")\n",
    "train['MSZoning']=train['MSZoning'].str.replace(')',\"\")\n",
    "for item1 in categorical:\n",
    "    train[item1]=train[item1].str.replace(' ',\"\")\n",
    "    length=len(train[item1].unique())\n",
    "    count=0\n",
    "    while (length-1)>=count:\n",
    "        for item2 in train[item1].unique():\n",
    "            count1=str(count)\n",
    "            train[item1]=train[item1].str.replace(item2,count1)\n",
    "            count=int(count1)+1"
   ]
  },
  {
   "cell_type": "code",
   "execution_count": null,
   "metadata": {
    "collapsed": true
   },
   "outputs": [],
   "source": []
  },
  {
   "cell_type": "code",
   "execution_count": null,
   "metadata": {
    "collapsed": true
   },
   "outputs": [],
   "source": []
  },
  {
   "cell_type": "code",
   "execution_count": null,
   "metadata": {
    "collapsed": true
   },
   "outputs": [],
   "source": []
  },
  {
   "cell_type": "code",
   "execution_count": 160,
   "metadata": {
    "collapsed": true
   },
   "outputs": [],
   "source": [
    "## zoe:\n",
    "# 804 observations, so other 3 classes might be removed. (9/804<1%) \n",
    "# but may be resampling method could strength MSZoning=3. \n",
    "# delate observation could increase bias, "
   ]
  },
  {
   "cell_type": "code",
   "execution_count": 161,
   "metadata": {
    "collapsed": true
   },
   "outputs": [],
   "source": [
    "#This is to replace NaN with empty string for now\n",
    "train = train.replace(np.nan, '', regex=True)\n",
    "\n",
    "#Use this to replace whatever first argument is with second argument\n",
    "#train['Alley'] = train['Alley'].replace(0,'' , regex=True)\n"
   ]
  },
  {
   "cell_type": "markdown",
   "metadata": {},
   "source": [
    "## Other categorial variables "
   ]
  },
  {
   "cell_type": "markdown",
   "metadata": {},
   "source": [
    "## 1 ) MSSubclass (type of dwelling)\n",
    "### corr is only 0.06"
   ]
  },
  {
   "cell_type": "code",
   "execution_count": 162,
   "metadata": {
    "scrolled": true
   },
   "outputs": [
    {
     "name": "stdout",
     "output_type": "stream",
     "text": [
      "[ 20  60 160  75  50  30  90 180 190 120  70  80  85  40  45 150]\n",
      "MSSubClass\n",
      "20     295\n",
      "30      40\n",
      "40       2\n",
      "45       4\n",
      "50      84\n",
      "60     149\n",
      "70      37\n",
      "75       6\n",
      "80      31\n",
      "85      18\n",
      "90      31\n",
      "120     47\n",
      "150      1\n",
      "160     40\n",
      "180      7\n",
      "190     12\n",
      "Name: SalePrice, dtype: int64\n"
     ]
    }
   ],
   "source": [
    "# zoe : for this predictor, i think it should be trade as categorial variable, although its data type is integer.\n",
    "print(train['MSSubClass'].unique())\n",
    "\n",
    "count1=train.groupby(\"MSSubClass\").count()\n",
    "print(count1.loc[:,'SalePrice'])"
   ]
  },
  {
   "cell_type": "code",
   "execution_count": 163,
   "metadata": {},
   "outputs": [
    {
     "data": {
      "image/png": "[encoded data removed]",
      "text/plain": [
       "<matplotlib.figure.Figure at 0x115bf8908>"
      ]
     },
     "metadata": {},
     "output_type": "display_data"
    }
   ],
   "source": [
    "rows=train['MSSubClass'] # too few observations for 150， 40，45 ， so should we remove them? \n",
    "sns.boxplot(x=train.loc[rows,'MSSubClass'], y=train.loc[rows,'SalePrice'], palette='Blues')\n",
    "plt.show()\n",
    "# nonlinear relationship, so itis better to treat it as categorial variable.\n",
    "# apparent outliers.... "
   ]
  },
  {
   "cell_type": "markdown",
   "metadata": {},
   "source": [
    "## 2) OverallQual"
   ]
  },
  {
   "cell_type": "code",
   "execution_count": 164,
   "metadata": {},
   "outputs": [
    {
     "name": "stdout",
     "output_type": "stream",
     "text": [
      "[ 5  7  6  8  4  9  3  2 10]\n",
      "OverallQual\n",
      "2       4\n",
      "3      11\n",
      "4      58\n",
      "5     246\n",
      "6     221\n",
      "7     147\n",
      "8      96\n",
      "9      18\n",
      "10      3\n",
      "Name: SalePrice, dtype: int64\n"
     ]
    }
   ],
   "source": [
    "print(train['OverallQual'].unique())\n",
    "\n",
    "count1=train.groupby(\"OverallQual\").count()\n",
    "print(count1.loc[:,'SalePrice'])"
   ]
  },
  {
   "cell_type": "code",
   "execution_count": 165,
   "metadata": {},
   "outputs": [
    {
     "data": {
      "image/png": "[encoded data removed]",
      "text/plain": [
       "<matplotlib.figure.Figure at 0x114fada58>"
      ]
     },
     "metadata": {},
     "output_type": "display_data"
    }
   ],
   "source": [
    "rows=train['OverallQual'] # this plot has problem , donot show all classes\n",
    "sns.boxplot(x=train.loc[rows,'OverallQual'], y=train.loc[rows,'SalePrice'], palette='Blues')\n",
    "plt.show()"
   ]
  },
  {
   "cell_type": "markdown",
   "metadata": {},
   "source": [
    "## 3) OverallCond"
   ]
  },
  {
   "cell_type": "code",
   "execution_count": 166,
   "metadata": {},
   "outputs": [
    {
     "name": "stdout",
     "output_type": "stream",
     "text": [
      "[8 5 6 7 4 3 9]\n",
      "OverallCond\n",
      "3     15\n",
      "4     27\n",
      "5    420\n",
      "6    172\n",
      "7    113\n",
      "8     49\n",
      "9      8\n",
      "Name: SalePrice, dtype: int64\n"
     ]
    }
   ],
   "source": [
    "print(train['OverallCond'].unique())\n",
    "\n",
    "count1=train.groupby(\"OverallCond\").count()\n",
    "print(count1.loc[:,'SalePrice'])"
   ]
  },
  {
   "cell_type": "code",
   "execution_count": 167,
   "metadata": {},
   "outputs": [
    {
     "data": {
      "image/png": "[encoded data removed]",
      "text/plain": [
       "<matplotlib.figure.Figure at 0x115d00cf8>"
      ]
     },
     "metadata": {},
     "output_type": "display_data"
    }
   ],
   "source": [
    "rows=train['OverallCond'] # this plot has problem as well\n",
    "sns.boxplot(x=train.loc[rows,'OverallCond'], y=train.loc[rows,'SalePrice'], palette='Blues')\n",
    "plt.show()"
   ]
  },
  {
   "cell_type": "markdown",
   "metadata": {},
   "source": [
    "# Task 2: EDA"
   ]
  },
  {
   "cell_type": "markdown",
   "metadata": {},
   "source": [
    "## Part 1: Individual variables analysis \n",
    "## Response :Houseprice\n",
    "\n",
    "### as we need build several model to compare, for ols, data transformation should be considered."
   ]
  },
  {
   "cell_type": "code",
   "execution_count": 168,
   "metadata": {},
   "outputs": [
    {
     "name": "stdout",
     "output_type": "stream",
     "text": [
      "804\n",
      "-0.0773275771249\n"
     ]
    },
    {
     "data": {
      "text/html": [
       "<div>\n",
       "<style>\n",
       "    .dataframe thead tr:only-child th {\n",
       "        text-align: right;\n",
       "    }\n",
       "\n",
       "    .dataframe thead th {\n",
       "        text-align: left;\n",
       "    }\n",
       "\n",
       "    .dataframe tbody tr th {\n",
       "        vertical-align: top;\n",
       "    }\n",
       "</style>\n",
       "<table border=\"1\" class=\"dataframe\">\n",
       "  <thead>\n",
       "    <tr style=\"text-align: right;\">\n",
       "      <th></th>\n",
       "      <th>MSSubClass</th>\n",
       "      <th>MSZoning</th>\n",
       "      <th>LotFrontage</th>\n",
       "      <th>LotArea</th>\n",
       "      <th>Street</th>\n",
       "      <th>Alley</th>\n",
       "      <th>LotShape</th>\n",
       "      <th>LandContour</th>\n",
       "      <th>Utilities</th>\n",
       "      <th>LotConfig</th>\n",
       "      <th>...</th>\n",
       "      <th>PoolQC</th>\n",
       "      <th>Fence</th>\n",
       "      <th>MiscFeature</th>\n",
       "      <th>MiscVal</th>\n",
       "      <th>MoSold</th>\n",
       "      <th>YrSold</th>\n",
       "      <th>SaleType</th>\n",
       "      <th>SalePrice</th>\n",
       "      <th>BoxCoxPrice</th>\n",
       "      <th>LogPrice</th>\n",
       "    </tr>\n",
       "  </thead>\n",
       "  <tbody>\n",
       "    <tr>\n",
       "      <th>0</th>\n",
       "      <td>20</td>\n",
       "      <td>0</td>\n",
       "      <td></td>\n",
       "      <td>7000</td>\n",
       "      <td>0</td>\n",
       "      <td></td>\n",
       "      <td>0</td>\n",
       "      <td>0</td>\n",
       "      <td>0</td>\n",
       "      <td>0</td>\n",
       "      <td>...</td>\n",
       "      <td></td>\n",
       "      <td>GdWo</td>\n",
       "      <td></td>\n",
       "      <td>0</td>\n",
       "      <td>7</td>\n",
       "      <td>2009</td>\n",
       "      <td>0</td>\n",
       "      <td>136500</td>\n",
       "      <td>7.749033</td>\n",
       "      <td>11.824080</td>\n",
       "    </tr>\n",
       "    <tr>\n",
       "      <th>1</th>\n",
       "      <td>20</td>\n",
       "      <td>0</td>\n",
       "      <td>70</td>\n",
       "      <td>11767</td>\n",
       "      <td>0</td>\n",
       "      <td></td>\n",
       "      <td>1</td>\n",
       "      <td>0</td>\n",
       "      <td>0</td>\n",
       "      <td>1</td>\n",
       "      <td>...</td>\n",
       "      <td></td>\n",
       "      <td></td>\n",
       "      <td>Shed</td>\n",
       "      <td>900</td>\n",
       "      <td>6</td>\n",
       "      <td>2009</td>\n",
       "      <td>0</td>\n",
       "      <td>120000</td>\n",
       "      <td>7.697140</td>\n",
       "      <td>11.695247</td>\n",
       "    </tr>\n",
       "    <tr>\n",
       "      <th>2</th>\n",
       "      <td>60</td>\n",
       "      <td>0</td>\n",
       "      <td>75</td>\n",
       "      <td>9675</td>\n",
       "      <td>0</td>\n",
       "      <td></td>\n",
       "      <td>1</td>\n",
       "      <td>0</td>\n",
       "      <td>0</td>\n",
       "      <td>1</td>\n",
       "      <td>...</td>\n",
       "      <td></td>\n",
       "      <td></td>\n",
       "      <td></td>\n",
       "      <td>0</td>\n",
       "      <td>2</td>\n",
       "      <td>2009</td>\n",
       "      <td>0</td>\n",
       "      <td>253000</td>\n",
       "      <td>7.990536</td>\n",
       "      <td>12.441145</td>\n",
       "    </tr>\n",
       "    <tr>\n",
       "      <th>3</th>\n",
       "      <td>160</td>\n",
       "      <td>1</td>\n",
       "      <td>24</td>\n",
       "      <td>2160</td>\n",
       "      <td>0</td>\n",
       "      <td>Pave</td>\n",
       "      <td>1</td>\n",
       "      <td>0</td>\n",
       "      <td>0</td>\n",
       "      <td>1</td>\n",
       "      <td>...</td>\n",
       "      <td></td>\n",
       "      <td></td>\n",
       "      <td></td>\n",
       "      <td>0</td>\n",
       "      <td>6</td>\n",
       "      <td>2008</td>\n",
       "      <td>0</td>\n",
       "      <td>170000</td>\n",
       "      <td>7.836252</td>\n",
       "      <td>12.043554</td>\n",
       "    </tr>\n",
       "    <tr>\n",
       "      <th>4</th>\n",
       "      <td>75</td>\n",
       "      <td>2</td>\n",
       "      <td>65</td>\n",
       "      <td>8850</td>\n",
       "      <td>0</td>\n",
       "      <td></td>\n",
       "      <td>0</td>\n",
       "      <td>1</td>\n",
       "      <td>0</td>\n",
       "      <td>2</td>\n",
       "      <td>...</td>\n",
       "      <td></td>\n",
       "      <td></td>\n",
       "      <td></td>\n",
       "      <td>0</td>\n",
       "      <td>7</td>\n",
       "      <td>2006</td>\n",
       "      <td>1</td>\n",
       "      <td>144000</td>\n",
       "      <td>7.770426</td>\n",
       "      <td>11.877569</td>\n",
       "    </tr>\n",
       "  </tbody>\n",
       "</table>\n",
       "<p>5 rows × 81 columns</p>\n",
       "</div>"
      ],
      "text/plain": [
       "   MSSubClass MSZoning LotFrontage  LotArea Street Alley LotShape LandContour  \\\n",
       "0          20        0                 7000      0              0           0   \n",
       "1          20        0          70    11767      0              1           0   \n",
       "2          60        0          75     9675      0              1           0   \n",
       "3         160        1          24     2160      0  Pave        1           0   \n",
       "4          75        2          65     8850      0              0           1   \n",
       "\n",
       "  Utilities LotConfig    ...     PoolQC Fence MiscFeature MiscVal MoSold  \\\n",
       "0         0         0    ...             GdWo                   0      7   \n",
       "1         0         1    ...                         Shed     900      6   \n",
       "2         0         1    ...                                    0      2   \n",
       "3         0         1    ...                                    0      6   \n",
       "4         0         2    ...                                    0      7   \n",
       "\n",
       "  YrSold  SaleType  SalePrice  BoxCoxPrice   LogPrice  \n",
       "0   2009         0     136500     7.749033  11.824080  \n",
       "1   2009         0     120000     7.697140  11.695247  \n",
       "2   2009         0     253000     7.990536  12.441145  \n",
       "3   2008         0     170000     7.836252  12.043554  \n",
       "4   2006         1     144000     7.770426  11.877569  \n",
       "\n",
       "[5 rows x 81 columns]"
      ]
     },
     "execution_count": 168,
     "metadata": {},
     "output_type": "execute_result"
    }
   ],
   "source": [
    "#data transsformation\n",
    "from scipy import stats\n",
    "y, lmbda=stats.boxcox(train['SalePrice'])\n",
    "train['BoxCoxPrice']=((train['SalePrice']**lmbda - 1) / lmbda)\n",
    "train['LogPrice']=np.log(train['SalePrice'])\n",
    "prices=['SalePrice','LogPrice','BoxCoxPrice']\n",
    "#print(lmbda)\n",
    "print(len(train))\n",
    "print(lmbda)\n",
    "train.head()"
   ]
  },
  {
   "cell_type": "raw",
   "metadata": {},
   "source": [
    "Firstly, we study the univariate EDAs for price, logprice and box-cox price, to find the most appropriate response for ols pricing model. The logprice stands for the log transformation of price, and the box-coxprice stands for the Box-cox transformation of the price.\n"
   ]
  },
  {
   "cell_type": "code",
   "execution_count": 169,
   "metadata": {},
   "outputs": [
    {
     "data": {
      "image/png": "[encoded data removed]",
      "text/plain": [
       "<matplotlib.figure.Figure at 0x115de5588>"
      ]
     },
     "metadata": {},
     "output_type": "display_data"
    }
   ],
   "source": [
    "# plot the distribution and the box plot of the responses \n",
    "\n",
    "fig, ax= plt.subplots(2,3, figsize=(18,10))\n",
    "sns.distplot(train['SalePrice'], ax=ax[0,0], kde=True,hist_kws={'alpha': 0.9}, kde_kws={'color': 'black', 'alpha': 0.6})\n",
    "ax[0,0].set(title='Historgam of Price', xlabel='price')\n",
    "sns.boxplot(train['SalePrice'], data=train, orient='v', ax=ax[1,0])\n",
    "ax[1,0].set(title='Box plot of Price', ylabel='Price')\n",
    "\n",
    "sns.distplot(train['LogPrice'], ax=ax[0,1], kde=True,hist_kws={'alpha': 0.9}, kde_kws={'color': 'black', 'alpha': 0.6})\n",
    "ax[0,1].set(title='Historgam of LogPrice', xlabel='LogPrice')\n",
    "sns.boxplot(train['LogPrice'], data=train, orient='v', ax=ax[1,1])\n",
    "ax[1,1].set(title='Box plot of LogPrice', ylabel='LogPrice')\n",
    "\n",
    "sns.distplot(train['BoxCoxPrice'], ax=ax[0,2], kde=True,hist_kws={'alpha': 0.9}, kde_kws={'color': 'black', 'alpha': 0.6})\n",
    "ax[0,2].set(title='Historgam of Box-Cox Price', xlabel='Box-Cox Price')\n",
    "sns.boxplot(train['BoxCoxPrice'], data=train, orient='v', ax=ax[1,2])\n",
    "ax[1,2].set(title='Box plot of Box-Cox Price', ylabel='Box-Cox Price')\n",
    "\n",
    "plt.show()\n",
    "fig.savefig(\"1.1.png\",format=\"png\",dpi=250) "
   ]
  },
  {
   "cell_type": "raw",
   "metadata": {},
   "source": [
    "# it is apparent that the histogram of price shows an asymmetric distribution with relatively heavy right tails and the histograms of LogPrice and Box-CoxPrice seem better. Secondly, we find that the kurtosis and skewness problems are also less serious in logprice and box-coxprice, compared with price. Thirdly, the logprice and box-coxprice show the fewer outliers, compared with price."
   ]
  },
  {
   "cell_type": "code",
   "execution_count": 170,
   "metadata": {},
   "outputs": [
    {
     "data": {
      "text/html": [
       "<div>\n",
       "<style>\n",
       "    .dataframe thead tr:only-child th {\n",
       "        text-align: right;\n",
       "    }\n",
       "\n",
       "    .dataframe thead th {\n",
       "        text-align: left;\n",
       "    }\n",
       "\n",
       "    .dataframe tbody tr th {\n",
       "        vertical-align: top;\n",
       "    }\n",
       "</style>\n",
       "<table border=\"1\" class=\"dataframe\">\n",
       "  <thead>\n",
       "    <tr style=\"text-align: right;\">\n",
       "      <th></th>\n",
       "      <th>SalePrice</th>\n",
       "      <th>LogPrice</th>\n",
       "      <th>BoxCoxPrice</th>\n",
       "    </tr>\n",
       "  </thead>\n",
       "  <tbody>\n",
       "    <tr>\n",
       "      <th>count</th>\n",
       "      <td>804.00000</td>\n",
       "      <td>804.00000</td>\n",
       "      <td>804.00000</td>\n",
       "    </tr>\n",
       "    <tr>\n",
       "      <th>mean</th>\n",
       "      <td>175324.46642</td>\n",
       "      <td>12.00440</td>\n",
       "      <td>7.81871</td>\n",
       "    </tr>\n",
       "    <tr>\n",
       "      <th>std</th>\n",
       "      <td>70035.48520</td>\n",
       "      <td>0.37066</td>\n",
       "      <td>0.14638</td>\n",
       "    </tr>\n",
       "    <tr>\n",
       "      <th>min</th>\n",
       "      <td>35000.00000</td>\n",
       "      <td>10.46310</td>\n",
       "      <td>7.17384</td>\n",
       "    </tr>\n",
       "    <tr>\n",
       "      <th>25%</th>\n",
       "      <td>129500.00000</td>\n",
       "      <td>11.77144</td>\n",
       "      <td>7.72789</td>\n",
       "    </tr>\n",
       "    <tr>\n",
       "      <th>50%</th>\n",
       "      <td>158725.00000</td>\n",
       "      <td>11.97493</td>\n",
       "      <td>7.80914</td>\n",
       "    </tr>\n",
       "    <tr>\n",
       "      <th>75%</th>\n",
       "      <td>206225.00000</td>\n",
       "      <td>12.23672</td>\n",
       "      <td>7.91180</td>\n",
       "    </tr>\n",
       "    <tr>\n",
       "      <th>max</th>\n",
       "      <td>615000.00000</td>\n",
       "      <td>13.32938</td>\n",
       "      <td>8.31855</td>\n",
       "    </tr>\n",
       "    <tr>\n",
       "      <th>Skew</th>\n",
       "      <td>1.58138</td>\n",
       "      <td>0.10948</td>\n",
       "      <td>-0.00702</td>\n",
       "    </tr>\n",
       "    <tr>\n",
       "      <th>Kurt</th>\n",
       "      <td>4.27673</td>\n",
       "      <td>0.69715</td>\n",
       "      <td>0.77309</td>\n",
       "    </tr>\n",
       "  </tbody>\n",
       "</table>\n",
       "</div>"
      ],
      "text/plain": [
       "          SalePrice   LogPrice  BoxCoxPrice\n",
       "count     804.00000  804.00000    804.00000\n",
       "mean   175324.46642   12.00440      7.81871\n",
       "std     70035.48520    0.37066      0.14638\n",
       "min     35000.00000   10.46310      7.17384\n",
       "25%    129500.00000   11.77144      7.72789\n",
       "50%    158725.00000   11.97493      7.80914\n",
       "75%    206225.00000   12.23672      7.91180\n",
       "max    615000.00000   13.32938      8.31855\n",
       "Skew        1.58138    0.10948     -0.00702\n",
       "Kurt        4.27673    0.69715      0.77309"
      ]
     },
     "execution_count": 170,
     "metadata": {},
     "output_type": "execute_result"
    }
   ],
   "source": [
    "table1_1=train[prices].describe().round(5)\n",
    "table1_1.loc['Skew', :]=train[prices].skew() \n",
    "table1_1.loc['Kurt', :]=train[prices].kurt() \n",
    "table1_1.to_csv(\"table1_1.csv\")\n",
    "table1_1.round(5)"
   ]
  },
  {
   "cell_type": "markdown",
   "metadata": {},
   "source": [
    "## Part II: Exploratory analysis between predictors and response"
   ]
  },
  {
   "cell_type": "markdown",
   "metadata": {
    "collapsed": true
   },
   "source": [
    "###As the there are too many predictors (78), and may be only 1/8 will be used in model. so I begin with the highest corr for EDA.\n"
   ]
  },
  {
   "cell_type": "code",
   "execution_count": 171,
   "metadata": {},
   "outputs": [
    {
     "data": {
      "image/png": "[encoded data removed]",
      "text/plain": [
       "<matplotlib.figure.Figure at 0x1150e8c50>"
      ]
     },
     "metadata": {},
     "output_type": "display_data"
    }
   ],
   "source": [
    "# correlation matrix for all variables \n",
    "# find useful predictors.\n",
    "train.corr().round(2)\n",
    "fig, ax = plt.subplots(figsize=(20,15))\n",
    "cmap = sns.diverging_palette(220, 10, as_cmap=True)\n",
    "sns.heatmap(train.corr(), ax=ax, cmap=cmap)\n",
    "ax.set_title('Correlation matrix', fontweight='bold', fontsize=13)\n",
    "plt.tight_layout()\n",
    "plt.show()\n",
    "fig.savefig(\"1.7.png\",format=\"png\",dpi=250) "
   ]
  },
  {
   "cell_type": "code",
   "execution_count": 172,
   "metadata": {},
   "outputs": [
    {
     "name": "stdout",
     "output_type": "stream",
     "text": [
      "36\n",
      "corr >=0.5 :\n",
      "['OverallQual', 'YearBuilt', 'YearRemod/Add', '1stFlrSF', 'GrLivArea', 'FullBath', 'HalfBath', 'TotRmsAbvGrd', 'Fireplaces', 'WoodDeckSF', 'OpenPorchSF', 'SalePrice']\n",
      "------------------------\n",
      "corr<=0.5 :\n",
      "no predictor\n"
     ]
    }
   ],
   "source": [
    "# potential high corr variables should be found and might be removed.\n",
    "\n",
    "correlation=train.corr()\n",
    "print(len(correlation['SalePrice'])) #no object included  \n",
    "\n",
    "high_corr=[]\n",
    "print('corr >=0.5 :')\n",
    "for i in continuous_predictors:\n",
    "    if correlation['SalePrice'][i]>=0.3:\n",
    "        high_corr.append(i) \n",
    "print(high_corr)\n",
    "print(\"------------------------\")\n",
    "print(\"corr<=0.5 :\")\n",
    "for i in continuous_predictors:\n",
    "    if correlation['SalePrice'][i]<=-0.3:\n",
    "        print(i)\n",
    "    else: \n",
    "        print('no predictor')\n",
    "        break"
   ]
  },
  {
   "cell_type": "code",
   "execution_count": 173,
   "metadata": {},
   "outputs": [
    {
     "name": "stdout",
     "output_type": "stream",
     "text": [
      "OverallQual OverallQual\n",
      "OverallQual YearBuilt\n",
      "OverallQual YearRemod/Add\n",
      "OverallQual 1stFlrSF\n",
      "OverallQual GrLivArea\n",
      "OverallQual FullBath\n",
      "OverallQual HalfBath\n",
      "OverallQual TotRmsAbvGrd\n",
      "OverallQual Fireplaces\n",
      "OverallQual WoodDeckSF\n",
      "OverallQual OpenPorchSF\n",
      "OverallQual SalePrice\n",
      "YearBuilt OverallQual\n",
      "YearBuilt YearBuilt\n",
      "YearBuilt YearRemod/Add\n",
      "YearBuilt 1stFlrSF\n",
      "YearBuilt GrLivArea\n",
      "YearBuilt FullBath\n",
      "YearBuilt HalfBath\n",
      "YearBuilt TotRmsAbvGrd\n",
      "YearBuilt Fireplaces\n",
      "YearBuilt WoodDeckSF\n",
      "YearBuilt OpenPorchSF\n",
      "YearBuilt SalePrice\n",
      "YearRemod/Add OverallQual\n",
      "YearRemod/Add YearBuilt\n",
      "YearRemod/Add YearRemod/Add\n",
      "YearRemod/Add 1stFlrSF\n",
      "YearRemod/Add GrLivArea\n",
      "YearRemod/Add FullBath\n",
      "YearRemod/Add HalfBath\n",
      "YearRemod/Add TotRmsAbvGrd\n",
      "YearRemod/Add Fireplaces\n",
      "YearRemod/Add WoodDeckSF\n",
      "YearRemod/Add OpenPorchSF\n",
      "YearRemod/Add SalePrice\n",
      "1stFlrSF OverallQual\n",
      "1stFlrSF YearBuilt\n",
      "1stFlrSF YearRemod/Add\n",
      "1stFlrSF 1stFlrSF\n",
      "1stFlrSF GrLivArea\n",
      "1stFlrSF FullBath\n",
      "1stFlrSF HalfBath\n",
      "1stFlrSF TotRmsAbvGrd\n",
      "1stFlrSF Fireplaces\n",
      "1stFlrSF WoodDeckSF\n",
      "1stFlrSF OpenPorchSF\n",
      "1stFlrSF SalePrice\n",
      "GrLivArea OverallQual\n",
      "GrLivArea YearBuilt\n",
      "GrLivArea YearRemod/Add\n",
      "GrLivArea 1stFlrSF\n",
      "GrLivArea GrLivArea\n",
      "GrLivArea FullBath\n",
      "GrLivArea HalfBath\n",
      "GrLivArea TotRmsAbvGrd\n",
      "GrLivArea Fireplaces\n",
      "GrLivArea WoodDeckSF\n",
      "GrLivArea OpenPorchSF\n",
      "GrLivArea SalePrice\n",
      "FullBath OverallQual\n",
      "FullBath YearBuilt\n",
      "FullBath YearRemod/Add\n",
      "FullBath 1stFlrSF\n",
      "FullBath GrLivArea\n",
      "FullBath FullBath\n",
      "FullBath HalfBath\n",
      "FullBath TotRmsAbvGrd\n",
      "FullBath Fireplaces\n",
      "FullBath WoodDeckSF\n",
      "FullBath OpenPorchSF\n",
      "FullBath SalePrice\n",
      "HalfBath OverallQual\n",
      "HalfBath YearBuilt\n",
      "HalfBath YearRemod/Add\n",
      "HalfBath 1stFlrSF\n",
      "HalfBath GrLivArea\n",
      "HalfBath FullBath\n",
      "HalfBath HalfBath\n",
      "HalfBath TotRmsAbvGrd\n",
      "HalfBath Fireplaces\n",
      "HalfBath WoodDeckSF\n",
      "HalfBath OpenPorchSF\n",
      "HalfBath SalePrice\n",
      "TotRmsAbvGrd OverallQual\n",
      "TotRmsAbvGrd YearBuilt\n",
      "TotRmsAbvGrd YearRemod/Add\n",
      "TotRmsAbvGrd 1stFlrSF\n",
      "TotRmsAbvGrd GrLivArea\n",
      "TotRmsAbvGrd FullBath\n",
      "TotRmsAbvGrd HalfBath\n",
      "TotRmsAbvGrd TotRmsAbvGrd\n",
      "TotRmsAbvGrd Fireplaces\n",
      "TotRmsAbvGrd WoodDeckSF\n",
      "TotRmsAbvGrd OpenPorchSF\n",
      "TotRmsAbvGrd SalePrice\n",
      "Fireplaces OverallQual\n",
      "Fireplaces YearBuilt\n",
      "Fireplaces YearRemod/Add\n",
      "Fireplaces 1stFlrSF\n",
      "Fireplaces GrLivArea\n",
      "Fireplaces FullBath\n",
      "Fireplaces HalfBath\n",
      "Fireplaces TotRmsAbvGrd\n",
      "Fireplaces Fireplaces\n",
      "Fireplaces WoodDeckSF\n",
      "Fireplaces OpenPorchSF\n",
      "Fireplaces SalePrice\n",
      "WoodDeckSF OverallQual\n",
      "WoodDeckSF YearBuilt\n",
      "WoodDeckSF YearRemod/Add\n",
      "WoodDeckSF 1stFlrSF\n",
      "WoodDeckSF GrLivArea\n",
      "WoodDeckSF FullBath\n",
      "WoodDeckSF HalfBath\n",
      "WoodDeckSF TotRmsAbvGrd\n",
      "WoodDeckSF Fireplaces\n",
      "WoodDeckSF WoodDeckSF\n",
      "WoodDeckSF OpenPorchSF\n",
      "WoodDeckSF SalePrice\n",
      "OpenPorchSF OverallQual\n",
      "OpenPorchSF YearBuilt\n",
      "OpenPorchSF YearRemod/Add\n",
      "OpenPorchSF 1stFlrSF\n",
      "OpenPorchSF GrLivArea\n",
      "OpenPorchSF FullBath\n",
      "OpenPorchSF HalfBath\n",
      "OpenPorchSF TotRmsAbvGrd\n",
      "OpenPorchSF Fireplaces\n",
      "OpenPorchSF WoodDeckSF\n",
      "OpenPorchSF OpenPorchSF\n",
      "OpenPorchSF SalePrice\n",
      "SalePrice OverallQual\n",
      "SalePrice YearBuilt\n",
      "SalePrice YearRemod/Add\n",
      "SalePrice 1stFlrSF\n",
      "SalePrice GrLivArea\n",
      "SalePrice FullBath\n",
      "SalePrice HalfBath\n",
      "SalePrice TotRmsAbvGrd\n",
      "SalePrice Fireplaces\n",
      "SalePrice WoodDeckSF\n",
      "SalePrice OpenPorchSF\n",
      "SalePrice SalePrice\n"
     ]
    }
   ],
   "source": [
    "# Check VIF\n",
    "# the method below is wrong, i donot know why , but based on corr matrix, seems no corr >0.9. \n",
    "# therefore, i will check these 11 variables first in EDA.\n",
    "\n",
    "\n",
    "\n",
    "for i in high_corr: \n",
    "    for j in high_corr:\n",
    "        if correlation[i][i]>=0.9:   \n",
    "            print(i,j)"
   ]
  },
  {
   "cell_type": "markdown",
   "metadata": {
    "collapsed": true
   },
   "source": [
    "# Continuous variables : high corr with SalesPrice\n",
    "## OverallQual\n",
    "### corr with SalesPrice is close to 0.8. "
   ]
  },
  {
   "cell_type": "code",
   "execution_count": 175,
   "metadata": {},
   "outputs": [
    {
     "data": {
      "image/png": "[encoded data removed]",
      "text/plain": [
       "<matplotlib.figure.Figure at 0x115f76908>"
      ]
     },
     "metadata": {},
     "output_type": "display_data"
    }
   ],
   "source": [
    "# this is Ordinal , but trade as continuous could be reasonable ..  ?????????\n",
    "# why loss at meddle?\n",
    "\n",
    "plt.hist(train['OverallQual'])\n",
    "plt.show() "
   ]
  },
  {
   "cell_type": "code",
   "execution_count": 176,
   "metadata": {},
   "outputs": [
    {
     "name": "stdout",
     "output_type": "stream",
     "text": [
      "OverallQual\n",
      "2       4\n",
      "3      11\n",
      "4      58\n",
      "5     246\n",
      "6     221\n",
      "7     147\n",
      "8      96\n",
      "9      18\n",
      "10      3\n",
      "Name: SalePrice, dtype: int64\n"
     ]
    }
   ],
   "source": [
    "count_o=train.groupby(\"OverallQual\").count()\n",
    "print(count_o.loc[:,'SalePrice'])  # no drop for continuous?????????"
   ]
  },
  {
   "cell_type": "code",
   "execution_count": null,
   "metadata": {},
   "outputs": [],
   "source": [
    "# EDA for OverallQual\n",
    "## maybe just add one knot\n",
    "\n",
    "fig, ax= plt.subplots(2,3, figsize=(20,10))\n",
    "\n",
    "sns.regplot(train['OverallQual'], train['SalePrice'], ax=ax[0,0],ci=True, lowess=True, scatter_kws={'alpha':0.6})\n",
    "ax[0,0].set(title='OverallQual VS Price without restriction',xlabel='OverallQual')\n",
    "\n",
    "sns.regplot(train['OverallQual'], train['LogPrice'], ax=ax[0,1],ci=True, lowess=True,scatter_kws={'alpha':0.6})\n",
    "ax[0,1].set(title='OverallQual VS LogPrice without restriction',xlabel='OverallQual')\n",
    "\n",
    "sns.regplot(train['OverallQual'], train['BoxCoxPrice'], ax=ax[0,2], ci=True,lowess=True,scatter_kws={'alpha':0.6})\n",
    "ax[0,2].set(title='OverallQual VS BoxCoxPrice without restriction',xlabel='OverallQual')\n",
    "ax[0,2].set_ylim(1.2,1.8)\n",
    "\n",
    "sns.regplot(train['OverallQual'], train['SalePrice'], ax=ax[1,0],ci=True, scatter_kws={'alpha':0.6})\n",
    "ax[1,0].set(title='OverallQual VS Price restricted to linear model',xlabel='OverallQualOverallQual')\n",
    "\n",
    "sns.regplot(train['OverallQual'], train['LogPrice'], ax=ax[1,1],ci=True, scatter_kws={'alpha':0.6})\n",
    "ax[1,1].set(title='OverallQual VS LogPrice restricted to linear model',xlabel='OverallQual')\n",
    "\n",
    "sns.regplot(train['OverallQual'], train['BoxCoxPrice'], ax=ax[1,2], ci=True,scatter_kws={'alpha':0.6})\n",
    "ax[1,2].set(title='OverallQual VS BoxCoxPrice restricted to linear model',xlabel='OverallQual')\n",
    "ax[1,2].set_ylim(1.2,1.8)\n",
    "\n",
    "plt.show()\n",
    "fig.savefig(\"1.10_1.png\",format=\"png\",dpi=250) "
   ]
  },
  {
   "cell_type": "code",
   "execution_count": null,
   "metadata": {},
   "outputs": [],
   "source": [
    "# EDA for the nonlinear approximation of OverallQuat \n",
    "\n",
    "# a nonparametric (model free) estimate of the relationship between the lot and the residuals\n",
    "\n",
    "formula1_1='LogPrice ~ OverallQual'\n",
    "reg1_1 = smf.ols(formula=formula1_1, data=train).fit()\n",
    "residuals1_1=reg1_1.resid\n",
    "\n",
    "fig, ax= plt.subplots()\n",
    "sns.regplot(train['OverallQual'], residuals1_1, lowess=True, ax=ax, scatter_kws={'s': 35, 'alpha': .6})\n",
    "ax.set_xlabel('OverallQual',  {'fontsize': 12})\n",
    "ax.set_ylabel('Residuals', {'fontsize': 12})\n",
    "ax.set_title('OverallQual against residuals')\n",
    "plt.axhline(color='Black', alpha=0.3, linestyle='--')  \n",
    "plt.show()"
   ]
  },
  {
   "cell_type": "code",
   "execution_count": null,
   "metadata": {},
   "outputs": [],
   "source": [
    "# nonlinearity formulation for lot with 1 knot\n",
    "\n",
    "xi1_1=train['OverallQual'].median()\n",
    "train['Step1_1']=(train['OverallQual']>xi1_1)*(train['OverallQual']-xi1_1)\n",
    "\n",
    "formula1_2='LogPrice ~ OverallQual + Step1_1'\n",
    "reg1_2 = smf.ols(formula=formula1_2, data=train).fit()\n",
    "print(reg1_2.summary())"
   ]
  },
  {
   "cell_type": "code",
   "execution_count": null,
   "metadata": {},
   "outputs": [],
   "source": [
    "# plot 1 for the reg1_2\n",
    "\n",
    "fig, ax= plt.subplots()\n",
    "sns.regplot(train['OverallQual'], train['LogPrice'], ci=None, fit_reg=False, scatter_kws={'s': 35, 'alpha': 0.6})\n",
    "\n",
    "a=train['OverallQual'].min()\n",
    "b=train['OverallQual'].max()+0.1\n",
    "x=np.linspace(a, b)\n",
    "\n",
    "y=reg1_2.predict({'OverallQual': x, 'Step1_1': (x-xi1_1)*((x>xi1_1).astype(int))})\n",
    "ax.plot(x, y, color='Black')\n",
    "\n",
    "ax.set_xlabel('OverallQual')\n",
    "ax.set_ylabel('LogPrice')\n",
    "ax.set_title('Linear spline (1 knot) for OverallQual and LogPrice')\n",
    "\n",
    "sns.despine()\n",
    "plt.show()"
   ]
  },
  {
   "cell_type": "code",
   "execution_count": null,
   "metadata": {},
   "outputs": [],
   "source": [
    "formula1_2='LogPrice ~ OverallQual + Step1_1'\n",
    "reg1_2 = smf.ols(formula=formula1_2, data=train).fit()\n",
    "residuals1_2=reg1_2.resid\n",
    "\n",
    "fig, ax= plt.subplots()\n",
    "sns.regplot(train['OverallQual'], residuals1_2, lowess=True, ax=ax, scatter_kws={'s': 35, 'alpha': .6})\n",
    "ax.set_xlabel('OverallQual',  {'fontsize': 12})\n",
    "ax.set_ylabel('Residuals', {'fontsize': 12})\n",
    "ax.set_title('OverallQual (1 knot) against residuals')\n",
    "plt.axhline(color='Black', alpha=0.3, linestyle='--')  \n",
    "plt.show()"
   ]
  },
  {
   "cell_type": "code",
   "execution_count": null,
   "metadata": {
    "collapsed": true
   },
   "outputs": [],
   "source": []
  },
  {
   "cell_type": "markdown",
   "metadata": {},
   "source": [
    "## MZ Zoning Code\n",
    "\n",
    "RL - 0 - Residential Low Density\n",
    "\n",
    "FV - 1 - Floating Village Residential\n",
    " \n",
    "RM - 2 - Residential Medium Density"
   ]
  },
  {
   "cell_type": "code",
   "execution_count": null,
   "metadata": {},
   "outputs": [],
   "source": [
    "count2=train.groupby(\"MSZoning\").count()\n",
    "print(count2.loc[:,'SalePrice'])"
   ]
  },
  {
   "cell_type": "code",
   "execution_count": null,
   "metadata": {},
   "outputs": [],
   "source": [
    "rows=(train['MSZoning']<'4')\n",
    "sns.boxplot(x=train.loc[rows,'MSZoning'], y=train.loc[rows,'SalePrice'], palette='Blues')\n",
    "plt.show() "
   ]
  },
  {
   "cell_type": "code",
   "execution_count": null,
   "metadata": {},
   "outputs": [],
   "source": [
    "rows=(train['MSZoning']<'4')\n",
    "sns.boxplot(x=train.loc[rows,'MSZoning'], y=train.loc[rows,'LogPrice'], palette='Blues')\n",
    "plt.show()"
   ]
  },
  {
   "cell_type": "markdown",
   "metadata": {},
   "source": [
    "### It is apparent that there are nonlinear relationships between  price and the medians of  MSZoning based on above figure . And the outliers are significant, especially when the number of MSZoning=0 and 2."
   ]
  },
  {
   "cell_type": "code",
   "execution_count": null,
   "metadata": {
    "collapsed": true
   },
   "outputs": [],
   "source": [
    "# PoolQC  \n",
    "# Fence\n",
    "# MiscFeature\n",
    "## Chris: These are ordinal variables"
   ]
  },
  {
   "cell_type": "markdown",
   "metadata": {
    "collapsed": true
   },
   "source": [
    "### Interesting to note that PoolQC only have 3 data points that are off a different value"
   ]
  },
  {
   "cell_type": "code",
   "execution_count": null,
   "metadata": {},
   "outputs": [],
   "source": [
    "df = pd.DataFrame({'PoolQC':list(train['PoolQC'])})\n",
    "pd.get_dummies(df).head()"
   ]
  },
  {
   "cell_type": "markdown",
   "metadata": {
    "collapsed": true
   },
   "source": [
    "### Only 3 values with pool variables, we can just drop this"
   ]
  },
  {
   "cell_type": "code",
   "execution_count": null,
   "metadata": {
    "collapsed": true
   },
   "outputs": [],
   "source": [
    "del train['PoolQC']\n",
    "del train['PoolArea']\n",
    "del test['PoolQC']\n",
    "del test['PoolArea']"
   ]
  },
  {
   "cell_type": "code",
   "execution_count": null,
   "metadata": {},
   "outputs": [],
   "source": [
    "df = pd.DataFrame({'Fence':list(train['Fence'])})\n",
    "pd.get_dummies(df).head()\n",
    "#Here, the base case Fence means the house does not have a "
   ]
  },
  {
   "cell_type": "markdown",
   "metadata": {},
   "source": [
    "23 places have a feature out of 805 observations. Is it worthwhile to even include? Only 2% of observations have this\n",
    "\n",
    "Therefore, I decided to remove it."
   ]
  },
  {
   "cell_type": "code",
   "execution_count": null,
   "metadata": {
    "collapsed": true
   },
   "outputs": [],
   "source": [
    "del train['MiscFeature']\n",
    "del test['MiscFeature']"
   ]
  },
  {
   "cell_type": "code",
   "execution_count": null,
   "metadata": {},
   "outputs": [],
   "source": [
    "train.head()"
   ]
  },
  {
   "cell_type": "code",
   "execution_count": null,
   "metadata": {
    "collapsed": true
   },
   "outputs": [],
   "source": []
  },
  {
   "cell_type": "code",
   "execution_count": null,
   "metadata": {
    "collapsed": true
   },
   "outputs": [],
   "source": []
  },
  {
   "cell_type": "code",
   "execution_count": null,
   "metadata": {
    "collapsed": true
   },
   "outputs": [],
   "source": []
  }
 ],
 "metadata": {
  "kernelspec": {
   "display_name": "Python 3",
   "language": "python",
   "name": "python3"
  },
  "language_info": {
   "codemirror_mode": {
    "name": "ipython",
    "version": 3
   },
   "file_extension": ".py",
   "mimetype": "text/x-python",
   "name": "python",
   "nbconvert_exporter": "python",
   "pygments_lexer": "ipython3",
   "version": "3.6.2"
  }
 },
 "nbformat": 4,
 "nbformat_minor": 2
}
