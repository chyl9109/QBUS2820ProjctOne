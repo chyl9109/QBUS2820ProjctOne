{
 "cells": [
  {
   "cell_type": "markdown",
   "metadata": {},
   "source": [
    "# ORIGINAL clearned DATASET \n",
    "# contain three kinds of response (price, boxcoxprice, logprice). \n",
    "\n",
    "## I use train set of this for EDA"
   ]
  },
  {
   "cell_type": "code",
   "execution_count": 128,
   "metadata": {},
   "outputs": [],
   "source": [
    "import pandas as pd\n",
    "import numpy as np\n",
    "%matplotlib inline\n",
    "import matplotlib.pyplot as plt\n",
    "import seaborn as sns\n",
    "import warnings\n",
    "import statsmodels.formula.api as smf\n",
    "warnings.filterwarnings('ignore')\n",
    "from scipy import stats\n",
    "from scipy.stats import norm, skew\n",
    "from sklearn.preprocessing import LabelEncoder\n",
    "import statsmodels.api as sm\n",
    "color = sns.color_palette() \n",
    "sns.set_style('darkgrid') \n",
    "pd.set_option('display.float_format', lambda x: '{:.3f}'.format(x)) #Limiting floats output to 3 decimal points\n",
    "\n",
    "\n",
    "train = pd.read_csv('train.csv')\n",
    "test = pd.read_csv('test.csv')\n",
    "\n",
    "\n",
    "\n"
   ]
  },
  {
   "cell_type": "markdown",
   "metadata": {},
   "source": [
    "# Check for duplicates  (only test set has Id)"
   ]
  },
  {
   "cell_type": "code",
   "execution_count": 129,
   "metadata": {},
   "outputs": [
    {
     "name": "stdout",
     "output_type": "stream",
     "text": [
      "There are 0 duplicate IDs for 1608 total entries\n"
     ]
    }
   ],
   "source": [
    "idsUnique = len(set(test.Id))\n",
    "idsTotal = test.shape[0]\n",
    "idsDupli = idsTotal - idsUnique\n",
    "print(\"There are \" + str(idsDupli) + \" duplicate IDs for \" + str(idsTotal) + \" total entries\")"
   ]
  },
  {
   "cell_type": "code",
   "execution_count": 130,
   "metadata": {
    "collapsed": true
   },
   "outputs": [],
   "source": [
    "test.drop(\"Id\", axis = 1, inplace = True)"
   ]
  },
  {
   "cell_type": "code",
   "execution_count": 131,
   "metadata": {},
   "outputs": [
    {
     "name": "stdout",
     "output_type": "stream",
     "text": [
      "The train data size is : (804, 79) \n",
      "The test data size after dropping Id feature is : (1608, 78) \n"
     ]
    }
   ],
   "source": [
    "print(\"The train data size is : {} \".format(train.shape))    \n",
    "print(\"The test data size after dropping Id feature is : {} \".format(test.shape))"
   ]
  },
  {
   "cell_type": "markdown",
   "metadata": {},
   "source": [
    "# add data transformation for response "
   ]
  },
  {
   "cell_type": "code",
   "execution_count": 132,
   "metadata": {},
   "outputs": [
    {
     "name": "stdout",
     "output_type": "stream",
     "text": [
      "-0.0773275771249\n",
      "all_data size no delete bvariables is : (2412, 81)\n"
     ]
    }
   ],
   "source": [
    "y, lmbda=stats.boxcox(train['SalePrice'])\n",
    "train['BoxCoxPrice']=((train['SalePrice']**lmbda - 1) / lmbda)\n",
    "train['LogPrice']=np.log(train['SalePrice'])\n",
    "prices=['SalePrice','LogPrice','BoxCoxPrice']\n",
    "print(lmbda)   # check magnitude of lmbda. not large, ok. \n",
    "\n",
    "ntrain = train.shape[0]\n",
    "ntest = test.shape[0]\n",
    "y_train = train.SalePrice.values\n",
    "all_data = pd.concat((train, test)).reset_index(drop=True)\n",
    "print(\"all_data size no delete bvariables is : {}\".format(all_data.shape))"
   ]
  },
  {
   "cell_type": "markdown",
   "metadata": {},
   "source": [
    "# Imputing missing values"
   ]
  },
  {
   "cell_type": "code",
   "execution_count": 133,
   "metadata": {
    "collapsed": true
   },
   "outputs": [],
   "source": [
    "# PoolQC : data description says NA means \"no pool\"\n",
    "all_data.loc[:, \"PoolQC\"] = all_data.loc[:, \"PoolQC\"].fillna(\"No\")\n",
    "\n",
    "# MiscFeature : data description says NA means \"no misc feature\"\n",
    "all_data.loc[:, \"MiscFeature\"] = all_data.loc[:, \"MiscFeature\"].fillna(\"No\")\n",
    "\n",
    "# Alley : data description says NA means \"no alley access\"                        \n",
    "all_data.loc[:, \"Alley\"] = all_data.loc[:, \"Alley\"].fillna(\"None\") \n",
    "\n",
    "# Fence: data description says NA means \"no fence\"\n",
    "all_data.loc[:, \"Fence\"] = all_data.loc[:, \"Fence\"].fillna(\"No\")\n",
    "# FireplaceQu : data description says NA means \"no fireplace\"\n",
    "all_data.loc[:, \"FireplaceQu\"] = all_data.loc[:, \"FireplaceQu\"].fillna(\"No\")\n",
    "\n",
    "# LotFrontage : NA most likely means no lot frontage\n",
    "all_data.loc[:, \"LotFrontage\"] = all_data.loc[:, \"LotFrontage\"].fillna(0)\n",
    "# BsmtQual etc : data description says NA for basement features is \"no basement\"     \n",
    "all_data.loc[:, \"BsmtQual\"] = all_data.loc[:, \"BsmtQual\"].fillna(\"No\")        \n",
    "all_data.loc[:, \"BsmtCond\"] = all_data.loc[:, \"BsmtCond\"].fillna(\"No\")        \n",
    "all_data.loc[:, \"BsmtExposure\"] = all_data.loc[:, \"BsmtExposure\"].fillna(\"No\")\n",
    "all_data.loc[:, \"BsmtFinType1\"] = all_data.loc[:, \"BsmtFinType1\"].fillna(\"No\")\n",
    "all_data.loc[:, \"BsmtFinType2\"] = all_data.loc[:, \"BsmtFinType2\"].fillna(\"No\")\n",
    "all_data.loc[:, \"BsmtFullBath\"] = all_data.loc[:, \"BsmtFullBath\"].fillna(0)\n",
    "all_data.loc[:, \"BsmtHalfBath\"] = all_data.loc[:, \"BsmtHalfBath\"].fillna(0)\n",
    "\n",
    "\n",
    "# GarageType etc : data description says NA for garage features is \"no garage\"\n",
    "all_data.loc[:, \"GarageType\"] = all_data.loc[:, \"GarageType\"].fillna(\"No\")\n",
    "all_data.loc[:, \"GarageFinish\"] = all_data.loc[:, \"GarageFinish\"].fillna(\"No\")\n",
    "all_data.loc[:, \"GarageQual\"] = all_data.loc[:, \"GarageQual\"].fillna(\"No\")\n",
    "all_data.loc[:, \"GarageCond\"] = all_data.loc[:, \"GarageCond\"].fillna(\"No\")\n",
    "all_data.loc[:, \"GarageYrBlt\"] = all_data.loc[:, \"GarageYrBlt\"].fillna(0)  \n",
    "\n",
    "# MasVnrType : NA most likely means no veneer\n",
    "all_data.loc[:, \"MasVnrType\"] = all_data.loc[:, \"MasVnrType\"].fillna(\"None\")\n",
    "all_data.loc[:, \"MasVnrArea\"] = all_data.loc[:, \"MasVnrArea\"].fillna(0)\n",
    "\n",
    "# Electrical: data description says NA means \"no Electrical system\"  \n",
    "all_data.loc[:, \"Electrical\"] =all_data.loc[:, \"Electrical\"].fillna(\"No\") "
   ]
  },
  {
   "cell_type": "markdown",
   "metadata": {},
   "source": [
    "# Transforming some numerical variables that are really categorical"
   ]
  },
  {
   "cell_type": "code",
   "execution_count": 134,
   "metadata": {
    "collapsed": true
   },
   "outputs": [],
   "source": [
    "all_data['MSSubClass'] = all_data['MSSubClass'].apply(str)\n",
    "\n",
    "## Overall Cond (Ordinal): Rates the overall condition of the house\n",
    "\n",
    "all_data['OverallCond'] = all_data['OverallCond'].astype(str)\n",
    "\n",
    "\n",
    "all_data['YrSold'] = all_data['YrSold'].astype(str)\n",
    "all_data['MoSold'] = all_data['MoSold'].astype(str)\n",
    "\n",
    "all_data = all_data.replace({\"MSSubClass\" : {20 : \"SC20\", 30 : \"SC30\", 40 : \"SC40\", 45 : \"SC45\", \n",
    "                                       50 : \"SC50\", 60 : \"SC60\", 70 : \"SC70\", 75 : \"SC75\", \n",
    "                                       80 : \"SC80\", 85 : \"SC85\", 90 : \"SC90\", 120 : \"SC120\", \n",
    "                                       150 : \"SC150\", 160 : \"SC160\", 180 : \"SC180\", 190 : \"SC190\"},\n",
    "                             \n",
    "                             \"OverallCond\" : {1 :\"Very Poor\",2 :\"Poor\",3 :\"Fair\",4 :\"Below Average\",5 :\"Average\",\n",
    "                                              6 :\"Above Average\",7 :\"Good\",8 :\"Very Good\",9 :\"Excellent\",\n",
    "                                              10 :\"Very Excellent\"},\n",
    "                             \"YrSold\": {2006 : \"Year2006\", 2007 : \"Year2007\", 2008 : \"Year2008\", 2009 : \"Year2009\",\n",
    "                                         2010 :\"Year2010\"},\n",
    "                             \n",
    "                       \"MoSold\" : {1 : \"Jan\", 2 : \"Feb\", 3 : \"Mar\", 4 : \"Apr\", 5 : \"May\", 6 : \"Jun\",\n",
    "                                   7 : \"Jul\", 8 : \"Aug\", 9 : \"Sep\", 10 : \"Oct\", 11 : \"Nov\", 12 : \"Dec\"}\n",
    "                      })"
   ]
  },
  {
   "cell_type": "code",
   "execution_count": 135,
   "metadata": {},
   "outputs": [
    {
     "name": "stdout",
     "output_type": "stream",
     "text": [
      "(2412, 81)\n"
     ]
    }
   ],
   "source": [
    "#all_data = pd.get_dummies(all_data)\n",
    "print(all_data.shape)"
   ]
  },
  {
   "cell_type": "code",
   "execution_count": 136,
   "metadata": {},
   "outputs": [
    {
     "data": {
      "text/html": [
       "<div>\n",
       "<style>\n",
       "    .dataframe thead tr:only-child th {\n",
       "        text-align: right;\n",
       "    }\n",
       "\n",
       "    .dataframe thead th {\n",
       "        text-align: left;\n",
       "    }\n",
       "\n",
       "    .dataframe tbody tr th {\n",
       "        vertical-align: top;\n",
       "    }\n",
       "</style>\n",
       "<table border=\"1\" class=\"dataframe\">\n",
       "  <thead>\n",
       "    <tr style=\"text-align: right;\">\n",
       "      <th></th>\n",
       "      <th>1stFlrSF</th>\n",
       "      <th>2ndFlrSF</th>\n",
       "      <th>3SsnPorch</th>\n",
       "      <th>Alley</th>\n",
       "      <th>BedroomAbvGr</th>\n",
       "      <th>BldgType</th>\n",
       "      <th>BoxCoxPrice</th>\n",
       "      <th>BsmtCond</th>\n",
       "      <th>BsmtExposure</th>\n",
       "      <th>BsmtFinSF1</th>\n",
       "      <th>...</th>\n",
       "      <th>SaleType</th>\n",
       "      <th>ScreenPorch</th>\n",
       "      <th>Street</th>\n",
       "      <th>TotRmsAbvGrd</th>\n",
       "      <th>TotalBsmtSF</th>\n",
       "      <th>Utilities</th>\n",
       "      <th>WoodDeckSF</th>\n",
       "      <th>YearBuilt</th>\n",
       "      <th>YearRemod/Add</th>\n",
       "      <th>YrSold</th>\n",
       "    </tr>\n",
       "  </thead>\n",
       "  <tbody>\n",
       "    <tr>\n",
       "      <th>0</th>\n",
       "      <td>864</td>\n",
       "      <td>0</td>\n",
       "      <td>0</td>\n",
       "      <td>None</td>\n",
       "      <td>3</td>\n",
       "      <td>1Fam</td>\n",
       "      <td>7.749</td>\n",
       "      <td>TA</td>\n",
       "      <td>No</td>\n",
       "      <td>646.000</td>\n",
       "      <td>...</td>\n",
       "      <td>WD</td>\n",
       "      <td>0</td>\n",
       "      <td>Pave</td>\n",
       "      <td>6</td>\n",
       "      <td>864.000</td>\n",
       "      <td>AllPub</td>\n",
       "      <td>0</td>\n",
       "      <td>1978</td>\n",
       "      <td>2005</td>\n",
       "      <td>2009</td>\n",
       "    </tr>\n",
       "    <tr>\n",
       "      <th>1</th>\n",
       "      <td>1368</td>\n",
       "      <td>0</td>\n",
       "      <td>0</td>\n",
       "      <td>None</td>\n",
       "      <td>3</td>\n",
       "      <td>1Fam</td>\n",
       "      <td>7.697</td>\n",
       "      <td>TA</td>\n",
       "      <td>Mn</td>\n",
       "      <td>1078.000</td>\n",
       "      <td>...</td>\n",
       "      <td>WD</td>\n",
       "      <td>0</td>\n",
       "      <td>Pave</td>\n",
       "      <td>6</td>\n",
       "      <td>1078.000</td>\n",
       "      <td>AllPub</td>\n",
       "      <td>0</td>\n",
       "      <td>1950</td>\n",
       "      <td>1950</td>\n",
       "      <td>2009</td>\n",
       "    </tr>\n",
       "    <tr>\n",
       "      <th>2</th>\n",
       "      <td>1113</td>\n",
       "      <td>858</td>\n",
       "      <td>0</td>\n",
       "      <td>None</td>\n",
       "      <td>3</td>\n",
       "      <td>1Fam</td>\n",
       "      <td>7.991</td>\n",
       "      <td>TA</td>\n",
       "      <td>Mn</td>\n",
       "      <td>341.000</td>\n",
       "      <td>...</td>\n",
       "      <td>WD</td>\n",
       "      <td>0</td>\n",
       "      <td>Pave</td>\n",
       "      <td>8</td>\n",
       "      <td>1113.000</td>\n",
       "      <td>AllPub</td>\n",
       "      <td>0</td>\n",
       "      <td>2005</td>\n",
       "      <td>2005</td>\n",
       "      <td>2009</td>\n",
       "    </tr>\n",
       "    <tr>\n",
       "      <th>3</th>\n",
       "      <td>684</td>\n",
       "      <td>720</td>\n",
       "      <td>0</td>\n",
       "      <td>Pave</td>\n",
       "      <td>3</td>\n",
       "      <td>Twnhs</td>\n",
       "      <td>7.836</td>\n",
       "      <td>TA</td>\n",
       "      <td>No</td>\n",
       "      <td>600.000</td>\n",
       "      <td>...</td>\n",
       "      <td>WD</td>\n",
       "      <td>0</td>\n",
       "      <td>Pave</td>\n",
       "      <td>5</td>\n",
       "      <td>672.000</td>\n",
       "      <td>AllPub</td>\n",
       "      <td>20</td>\n",
       "      <td>1999</td>\n",
       "      <td>2000</td>\n",
       "      <td>2008</td>\n",
       "    </tr>\n",
       "    <tr>\n",
       "      <th>4</th>\n",
       "      <td>815</td>\n",
       "      <td>875</td>\n",
       "      <td>0</td>\n",
       "      <td>None</td>\n",
       "      <td>3</td>\n",
       "      <td>1Fam</td>\n",
       "      <td>7.770</td>\n",
       "      <td>TA</td>\n",
       "      <td>No</td>\n",
       "      <td>0.000</td>\n",
       "      <td>...</td>\n",
       "      <td>ConLw</td>\n",
       "      <td>0</td>\n",
       "      <td>Pave</td>\n",
       "      <td>7</td>\n",
       "      <td>815.000</td>\n",
       "      <td>AllPub</td>\n",
       "      <td>0</td>\n",
       "      <td>1916</td>\n",
       "      <td>1950</td>\n",
       "      <td>2006</td>\n",
       "    </tr>\n",
       "  </tbody>\n",
       "</table>\n",
       "<p>5 rows × 81 columns</p>\n",
       "</div>"
      ],
      "text/plain": [
       "   1stFlrSF  2ndFlrSF  3SsnPorch Alley  BedroomAbvGr BldgType  BoxCoxPrice  \\\n",
       "0       864         0          0  None             3     1Fam        7.749   \n",
       "1      1368         0          0  None             3     1Fam        7.697   \n",
       "2      1113       858          0  None             3     1Fam        7.991   \n",
       "3       684       720          0  Pave             3    Twnhs        7.836   \n",
       "4       815       875          0  None             3     1Fam        7.770   \n",
       "\n",
       "  BsmtCond BsmtExposure  BsmtFinSF1  ...    SaleType ScreenPorch Street  \\\n",
       "0       TA           No     646.000  ...         WD            0   Pave   \n",
       "1       TA           Mn    1078.000  ...         WD            0   Pave   \n",
       "2       TA           Mn     341.000  ...         WD            0   Pave   \n",
       "3       TA           No     600.000  ...         WD            0   Pave   \n",
       "4       TA           No       0.000  ...       ConLw           0   Pave   \n",
       "\n",
       "   TotRmsAbvGrd  TotalBsmtSF Utilities  WoodDeckSF YearBuilt YearRemod/Add  \\\n",
       "0             6      864.000    AllPub           0      1978          2005   \n",
       "1             6     1078.000    AllPub           0      1950          1950   \n",
       "2             8     1113.000    AllPub           0      2005          2005   \n",
       "3             5      672.000    AllPub          20      1999          2000   \n",
       "4             7      815.000    AllPub           0      1916          1950   \n",
       "\n",
       "  YrSold  \n",
       "0   2009  \n",
       "1   2009  \n",
       "2   2009  \n",
       "3   2008  \n",
       "4   2006  \n",
       "\n",
       "[5 rows x 81 columns]"
      ]
     },
     "execution_count": 136,
     "metadata": {},
     "output_type": "execute_result"
    }
   ],
   "source": [
    "train_EDA = all_data[:ntrain]\n",
    "test_EDA = all_data[ntrain:]\n",
    "test_EDA.drop(['SalePrice'], axis=1, inplace=True)\n",
    "test_EDA.drop(['LogPrice'], axis=1, inplace=True)  \n",
    "test_EDA.drop(['BoxCoxPrice'], axis=1, inplace=True)\n",
    "train_EDA.head() "
   ]
  },
  {
   "cell_type": "code",
   "execution_count": 137,
   "metadata": {},
   "outputs": [],
   "source": [
    "train_EDA.to_csv(\"Train_EDA.csv\")\n",
    "test_EDA.to_csv(\"Test_EDA.csv\")"
   ]
  },
  {
   "cell_type": "code",
   "execution_count": null,
   "metadata": {
    "collapsed": true
   },
   "outputs": [],
   "source": []
  }
 ],
 "metadata": {
  "kernelspec": {
   "display_name": "Python 3",
   "language": "python",
   "name": "python3"
  },
  "language_info": {
   "codemirror_mode": {
    "name": "ipython",
    "version": 3
   },
   "file_extension": ".py",
   "mimetype": "text/x-python",
   "name": "python",
   "nbconvert_exporter": "python",
   "pygments_lexer": "ipython3",
   "version": "3.6.2"
  }
 },
 "nbformat": 4,
 "nbformat_minor": 2
}
