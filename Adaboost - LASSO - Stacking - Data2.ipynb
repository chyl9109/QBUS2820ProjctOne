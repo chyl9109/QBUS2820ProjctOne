{
 "cells": [
  {
   "cell_type": "code",
   "execution_count": 183,
   "metadata": {},
   "outputs": [
    {
     "data": {
      "text/html": [
       "<div>\n",
       "<style>\n",
       "    .dataframe thead tr:only-child th {\n",
       "        text-align: right;\n",
       "    }\n",
       "\n",
       "    .dataframe thead th {\n",
       "        text-align: left;\n",
       "    }\n",
       "\n",
       "    .dataframe tbody tr th {\n",
       "        vertical-align: top;\n",
       "    }\n",
       "</style>\n",
       "<table border=\"1\" class=\"dataframe\">\n",
       "  <thead>\n",
       "    <tr style=\"text-align: right;\">\n",
       "      <th></th>\n",
       "      <th>MSSubClass</th>\n",
       "      <th>MSZoning</th>\n",
       "      <th>LotFrontage</th>\n",
       "      <th>LotArea</th>\n",
       "      <th>Street</th>\n",
       "      <th>Alley</th>\n",
       "      <th>LotShape</th>\n",
       "      <th>LandContour</th>\n",
       "      <th>Utilities</th>\n",
       "      <th>LotConfig</th>\n",
       "      <th>...</th>\n",
       "      <th>ScreenPorch</th>\n",
       "      <th>PoolArea</th>\n",
       "      <th>PoolQC</th>\n",
       "      <th>Fence</th>\n",
       "      <th>MiscFeature</th>\n",
       "      <th>MiscVal</th>\n",
       "      <th>MoSold</th>\n",
       "      <th>YrSold</th>\n",
       "      <th>SaleType</th>\n",
       "      <th>SalePrice</th>\n",
       "    </tr>\n",
       "  </thead>\n",
       "  <tbody>\n",
       "    <tr>\n",
       "      <th>8</th>\n",
       "      <td>20</td>\n",
       "      <td>RL</td>\n",
       "      <td>NaN</td>\n",
       "      <td>6853</td>\n",
       "      <td>Pave</td>\n",
       "      <td>NaN</td>\n",
       "      <td>IR1</td>\n",
       "      <td>Lvl</td>\n",
       "      <td>AllPub</td>\n",
       "      <td>Inside</td>\n",
       "      <td>...</td>\n",
       "      <td>0</td>\n",
       "      <td>0</td>\n",
       "      <td>NaN</td>\n",
       "      <td>NaN</td>\n",
       "      <td>NaN</td>\n",
       "      <td>0</td>\n",
       "      <td>6</td>\n",
       "      <td>2009</td>\n",
       "      <td>WD</td>\n",
       "      <td>220000</td>\n",
       "    </tr>\n",
       "    <tr>\n",
       "      <th>791</th>\n",
       "      <td>160</td>\n",
       "      <td>FV</td>\n",
       "      <td>30.0</td>\n",
       "      <td>3180</td>\n",
       "      <td>Pave</td>\n",
       "      <td>Pave</td>\n",
       "      <td>Reg</td>\n",
       "      <td>Lvl</td>\n",
       "      <td>AllPub</td>\n",
       "      <td>Inside</td>\n",
       "      <td>...</td>\n",
       "      <td>0</td>\n",
       "      <td>0</td>\n",
       "      <td>NaN</td>\n",
       "      <td>NaN</td>\n",
       "      <td>NaN</td>\n",
       "      <td>0</td>\n",
       "      <td>6</td>\n",
       "      <td>2006</td>\n",
       "      <td>WD</td>\n",
       "      <td>151000</td>\n",
       "    </tr>\n",
       "    <tr>\n",
       "      <th>571</th>\n",
       "      <td>20</td>\n",
       "      <td>RL</td>\n",
       "      <td>60.0</td>\n",
       "      <td>6960</td>\n",
       "      <td>Pave</td>\n",
       "      <td>NaN</td>\n",
       "      <td>Reg</td>\n",
       "      <td>Lvl</td>\n",
       "      <td>AllPub</td>\n",
       "      <td>Inside</td>\n",
       "      <td>...</td>\n",
       "      <td>0</td>\n",
       "      <td>0</td>\n",
       "      <td>NaN</td>\n",
       "      <td>NaN</td>\n",
       "      <td>Shed</td>\n",
       "      <td>500</td>\n",
       "      <td>11</td>\n",
       "      <td>2009</td>\n",
       "      <td>WD</td>\n",
       "      <td>120500</td>\n",
       "    </tr>\n",
       "    <tr>\n",
       "      <th>224</th>\n",
       "      <td>20</td>\n",
       "      <td>RL</td>\n",
       "      <td>70.0</td>\n",
       "      <td>8050</td>\n",
       "      <td>Pave</td>\n",
       "      <td>NaN</td>\n",
       "      <td>Reg</td>\n",
       "      <td>Lvl</td>\n",
       "      <td>AllPub</td>\n",
       "      <td>Inside</td>\n",
       "      <td>...</td>\n",
       "      <td>0</td>\n",
       "      <td>0</td>\n",
       "      <td>NaN</td>\n",
       "      <td>NaN</td>\n",
       "      <td>NaN</td>\n",
       "      <td>0</td>\n",
       "      <td>3</td>\n",
       "      <td>2007</td>\n",
       "      <td>WD</td>\n",
       "      <td>127000</td>\n",
       "    </tr>\n",
       "    <tr>\n",
       "      <th>498</th>\n",
       "      <td>20</td>\n",
       "      <td>RL</td>\n",
       "      <td>NaN</td>\n",
       "      <td>9556</td>\n",
       "      <td>Pave</td>\n",
       "      <td>NaN</td>\n",
       "      <td>IR1</td>\n",
       "      <td>Lvl</td>\n",
       "      <td>AllPub</td>\n",
       "      <td>Corner</td>\n",
       "      <td>...</td>\n",
       "      <td>0</td>\n",
       "      <td>0</td>\n",
       "      <td>NaN</td>\n",
       "      <td>NaN</td>\n",
       "      <td>NaN</td>\n",
       "      <td>0</td>\n",
       "      <td>8</td>\n",
       "      <td>2007</td>\n",
       "      <td>WD</td>\n",
       "      <td>160000</td>\n",
       "    </tr>\n",
       "  </tbody>\n",
       "</table>\n",
       "<p>5 rows × 79 columns</p>\n",
       "</div>"
      ],
      "text/plain": [
       "     MSSubClass MSZoning  LotFrontage  LotArea Street Alley LotShape  \\\n",
       "8            20       RL          NaN     6853   Pave   NaN      IR1   \n",
       "791         160       FV         30.0     3180   Pave  Pave      Reg   \n",
       "571          20       RL         60.0     6960   Pave   NaN      Reg   \n",
       "224          20       RL         70.0     8050   Pave   NaN      Reg   \n",
       "498          20       RL          NaN     9556   Pave   NaN      IR1   \n",
       "\n",
       "    LandContour Utilities LotConfig    ...     ScreenPorch PoolArea PoolQC  \\\n",
       "8           Lvl    AllPub    Inside    ...               0        0    NaN   \n",
       "791         Lvl    AllPub    Inside    ...               0        0    NaN   \n",
       "571         Lvl    AllPub    Inside    ...               0        0    NaN   \n",
       "224         Lvl    AllPub    Inside    ...               0        0    NaN   \n",
       "498         Lvl    AllPub    Corner    ...               0        0    NaN   \n",
       "\n",
       "    Fence MiscFeature MiscVal  MoSold  YrSold  SaleType  SalePrice  \n",
       "8     NaN         NaN       0       6    2009       WD      220000  \n",
       "791   NaN         NaN       0       6    2006       WD      151000  \n",
       "571   NaN        Shed     500      11    2009       WD      120500  \n",
       "224   NaN         NaN       0       3    2007       WD      127000  \n",
       "498   NaN         NaN       0       8    2007       WD      160000  \n",
       "\n",
       "[5 rows x 79 columns]"
      ]
     },
     "execution_count": 183,
     "metadata": {},
     "output_type": "execute_result"
    }
   ],
   "source": [
    "import pandas as pd\n",
    "import numpy as np\n",
    "import matplotlib.pyplot as plt\n",
    "import seaborn as sns\n",
    "import warnings\n",
    "import statsmodels.formula.api as smf\n",
    "warnings.filterwarnings('ignore')\n",
    "data = pd.read_csv('train.csv')\n",
    "train = data.sample(frac=0.7, random_state=1)\n",
    "test = data[data.index.isin(train.index)==False]\n",
    "#train['Obs']=range(1,805)  # maybe change index from 1 to 804\n",
    "train.head(5)"
   ]
  },
  {
   "cell_type": "code",
   "execution_count": 184,
   "metadata": {},
   "outputs": [
    {
     "name": "stdout",
     "output_type": "stream",
     "text": [
      "563\n",
      "79\n"
     ]
    }
   ],
   "source": [
    "rows, columns = train.shape\n",
    "print(rows)\n",
    "print(columns)"
   ]
  },
  {
   "cell_type": "code",
   "execution_count": 185,
   "metadata": {},
   "outputs": [
    {
     "data": {
      "text/html": [
       "<div>\n",
       "<style>\n",
       "    .dataframe thead tr:only-child th {\n",
       "        text-align: right;\n",
       "    }\n",
       "\n",
       "    .dataframe thead th {\n",
       "        text-align: left;\n",
       "    }\n",
       "\n",
       "    .dataframe tbody tr th {\n",
       "        vertical-align: top;\n",
       "    }\n",
       "</style>\n",
       "<table border=\"1\" class=\"dataframe\">\n",
       "  <thead>\n",
       "    <tr style=\"text-align: right;\">\n",
       "      <th></th>\n",
       "      <th>MSSubClass</th>\n",
       "      <th>LotFrontage</th>\n",
       "      <th>LotArea</th>\n",
       "      <th>OverallQual</th>\n",
       "      <th>OverallCond</th>\n",
       "      <th>YearBuilt</th>\n",
       "      <th>YearRemod/Add</th>\n",
       "      <th>MasVnrArea</th>\n",
       "      <th>BsmtFinSF1</th>\n",
       "      <th>BsmtFinSF2</th>\n",
       "      <th>...</th>\n",
       "      <th>WoodDeckSF</th>\n",
       "      <th>OpenPorchSF</th>\n",
       "      <th>EnclosedPorch</th>\n",
       "      <th>3SsnPorch</th>\n",
       "      <th>ScreenPorch</th>\n",
       "      <th>PoolArea</th>\n",
       "      <th>MiscVal</th>\n",
       "      <th>MoSold</th>\n",
       "      <th>YrSold</th>\n",
       "      <th>SalePrice</th>\n",
       "    </tr>\n",
       "  </thead>\n",
       "  <tbody>\n",
       "    <tr>\n",
       "      <th>count</th>\n",
       "      <td>563.00</td>\n",
       "      <td>451.00</td>\n",
       "      <td>563.00</td>\n",
       "      <td>563.00</td>\n",
       "      <td>563.00</td>\n",
       "      <td>563.00</td>\n",
       "      <td>563.00</td>\n",
       "      <td>560.00</td>\n",
       "      <td>563.00</td>\n",
       "      <td>563.00</td>\n",
       "      <td>...</td>\n",
       "      <td>563.00</td>\n",
       "      <td>563.00</td>\n",
       "      <td>563.00</td>\n",
       "      <td>563.00</td>\n",
       "      <td>563.00</td>\n",
       "      <td>563.00</td>\n",
       "      <td>563.00</td>\n",
       "      <td>563.00</td>\n",
       "      <td>563.00</td>\n",
       "      <td>563.00</td>\n",
       "    </tr>\n",
       "    <tr>\n",
       "      <th>mean</th>\n",
       "      <td>56.86</td>\n",
       "      <td>68.29</td>\n",
       "      <td>9800.64</td>\n",
       "      <td>5.97</td>\n",
       "      <td>5.63</td>\n",
       "      <td>1970.00</td>\n",
       "      <td>1982.61</td>\n",
       "      <td>103.04</td>\n",
       "      <td>439.10</td>\n",
       "      <td>54.17</td>\n",
       "      <td>...</td>\n",
       "      <td>90.55</td>\n",
       "      <td>41.44</td>\n",
       "      <td>25.37</td>\n",
       "      <td>1.73</td>\n",
       "      <td>14.31</td>\n",
       "      <td>1.02</td>\n",
       "      <td>21.76</td>\n",
       "      <td>6.06</td>\n",
       "      <td>2007.91</td>\n",
       "      <td>173867.17</td>\n",
       "    </tr>\n",
       "    <tr>\n",
       "      <th>std</th>\n",
       "      <td>41.65</td>\n",
       "      <td>22.60</td>\n",
       "      <td>5832.44</td>\n",
       "      <td>1.32</td>\n",
       "      <td>1.08</td>\n",
       "      <td>27.55</td>\n",
       "      <td>20.78</td>\n",
       "      <td>189.73</td>\n",
       "      <td>410.48</td>\n",
       "      <td>186.25</td>\n",
       "      <td>...</td>\n",
       "      <td>121.59</td>\n",
       "      <td>59.17</td>\n",
       "      <td>64.31</td>\n",
       "      <td>17.14</td>\n",
       "      <td>49.66</td>\n",
       "      <td>24.28</td>\n",
       "      <td>223.55</td>\n",
       "      <td>2.58</td>\n",
       "      <td>1.30</td>\n",
       "      <td>69561.87</td>\n",
       "    </tr>\n",
       "    <tr>\n",
       "      <th>min</th>\n",
       "      <td>20.00</td>\n",
       "      <td>21.00</td>\n",
       "      <td>1300.00</td>\n",
       "      <td>2.00</td>\n",
       "      <td>3.00</td>\n",
       "      <td>1880.00</td>\n",
       "      <td>1950.00</td>\n",
       "      <td>0.00</td>\n",
       "      <td>0.00</td>\n",
       "      <td>0.00</td>\n",
       "      <td>...</td>\n",
       "      <td>0.00</td>\n",
       "      <td>0.00</td>\n",
       "      <td>0.00</td>\n",
       "      <td>0.00</td>\n",
       "      <td>0.00</td>\n",
       "      <td>0.00</td>\n",
       "      <td>0.00</td>\n",
       "      <td>1.00</td>\n",
       "      <td>2006.00</td>\n",
       "      <td>35000.00</td>\n",
       "    </tr>\n",
       "    <tr>\n",
       "      <th>25%</th>\n",
       "      <td>20.00</td>\n",
       "      <td>56.00</td>\n",
       "      <td>7490.00</td>\n",
       "      <td>5.00</td>\n",
       "      <td>5.00</td>\n",
       "      <td>1953.00</td>\n",
       "      <td>1963.50</td>\n",
       "      <td>0.00</td>\n",
       "      <td>0.00</td>\n",
       "      <td>0.00</td>\n",
       "      <td>...</td>\n",
       "      <td>0.00</td>\n",
       "      <td>0.00</td>\n",
       "      <td>0.00</td>\n",
       "      <td>0.00</td>\n",
       "      <td>0.00</td>\n",
       "      <td>0.00</td>\n",
       "      <td>0.00</td>\n",
       "      <td>4.00</td>\n",
       "      <td>2007.00</td>\n",
       "      <td>129000.00</td>\n",
       "    </tr>\n",
       "    <tr>\n",
       "      <th>50%</th>\n",
       "      <td>50.00</td>\n",
       "      <td>69.00</td>\n",
       "      <td>9259.00</td>\n",
       "      <td>6.00</td>\n",
       "      <td>5.00</td>\n",
       "      <td>1970.00</td>\n",
       "      <td>1990.00</td>\n",
       "      <td>0.00</td>\n",
       "      <td>404.00</td>\n",
       "      <td>0.00</td>\n",
       "      <td>...</td>\n",
       "      <td>0.00</td>\n",
       "      <td>16.00</td>\n",
       "      <td>0.00</td>\n",
       "      <td>0.00</td>\n",
       "      <td>0.00</td>\n",
       "      <td>0.00</td>\n",
       "      <td>0.00</td>\n",
       "      <td>6.00</td>\n",
       "      <td>2008.00</td>\n",
       "      <td>156000.00</td>\n",
       "    </tr>\n",
       "    <tr>\n",
       "      <th>75%</th>\n",
       "      <td>70.00</td>\n",
       "      <td>80.00</td>\n",
       "      <td>11366.50</td>\n",
       "      <td>7.00</td>\n",
       "      <td>6.00</td>\n",
       "      <td>1997.00</td>\n",
       "      <td>2002.00</td>\n",
       "      <td>148.00</td>\n",
       "      <td>695.50</td>\n",
       "      <td>0.00</td>\n",
       "      <td>...</td>\n",
       "      <td>166.00</td>\n",
       "      <td>62.00</td>\n",
       "      <td>0.00</td>\n",
       "      <td>0.00</td>\n",
       "      <td>0.00</td>\n",
       "      <td>0.00</td>\n",
       "      <td>0.00</td>\n",
       "      <td>7.00</td>\n",
       "      <td>2009.00</td>\n",
       "      <td>206500.00</td>\n",
       "    </tr>\n",
       "    <tr>\n",
       "      <th>max</th>\n",
       "      <td>190.00</td>\n",
       "      <td>155.00</td>\n",
       "      <td>70761.00</td>\n",
       "      <td>10.00</td>\n",
       "      <td>9.00</td>\n",
       "      <td>2008.00</td>\n",
       "      <td>2009.00</td>\n",
       "      <td>1224.00</td>\n",
       "      <td>1965.00</td>\n",
       "      <td>1526.00</td>\n",
       "      <td>...</td>\n",
       "      <td>646.00</td>\n",
       "      <td>365.00</td>\n",
       "      <td>364.00</td>\n",
       "      <td>219.00</td>\n",
       "      <td>287.00</td>\n",
       "      <td>576.00</td>\n",
       "      <td>4500.00</td>\n",
       "      <td>12.00</td>\n",
       "      <td>2010.00</td>\n",
       "      <td>538000.00</td>\n",
       "    </tr>\n",
       "  </tbody>\n",
       "</table>\n",
       "<p>8 rows × 37 columns</p>\n",
       "</div>"
      ],
      "text/plain": [
       "       MSSubClass  LotFrontage   LotArea  OverallQual  OverallCond  YearBuilt  \\\n",
       "count      563.00       451.00    563.00       563.00       563.00     563.00   \n",
       "mean        56.86        68.29   9800.64         5.97         5.63    1970.00   \n",
       "std         41.65        22.60   5832.44         1.32         1.08      27.55   \n",
       "min         20.00        21.00   1300.00         2.00         3.00    1880.00   \n",
       "25%         20.00        56.00   7490.00         5.00         5.00    1953.00   \n",
       "50%         50.00        69.00   9259.00         6.00         5.00    1970.00   \n",
       "75%         70.00        80.00  11366.50         7.00         6.00    1997.00   \n",
       "max        190.00       155.00  70761.00        10.00         9.00    2008.00   \n",
       "\n",
       "       YearRemod/Add  MasVnrArea  BsmtFinSF1  BsmtFinSF2    ...      \\\n",
       "count         563.00      560.00      563.00      563.00    ...       \n",
       "mean         1982.61      103.04      439.10       54.17    ...       \n",
       "std            20.78      189.73      410.48      186.25    ...       \n",
       "min          1950.00        0.00        0.00        0.00    ...       \n",
       "25%          1963.50        0.00        0.00        0.00    ...       \n",
       "50%          1990.00        0.00      404.00        0.00    ...       \n",
       "75%          2002.00      148.00      695.50        0.00    ...       \n",
       "max          2009.00     1224.00     1965.00     1526.00    ...       \n",
       "\n",
       "       WoodDeckSF  OpenPorchSF  EnclosedPorch  3SsnPorch  ScreenPorch  \\\n",
       "count      563.00       563.00         563.00     563.00       563.00   \n",
       "mean        90.55        41.44          25.37       1.73        14.31   \n",
       "std        121.59        59.17          64.31      17.14        49.66   \n",
       "min          0.00         0.00           0.00       0.00         0.00   \n",
       "25%          0.00         0.00           0.00       0.00         0.00   \n",
       "50%          0.00        16.00           0.00       0.00         0.00   \n",
       "75%        166.00        62.00           0.00       0.00         0.00   \n",
       "max        646.00       365.00         364.00     219.00       287.00   \n",
       "\n",
       "       PoolArea  MiscVal  MoSold   YrSold  SalePrice  \n",
       "count    563.00   563.00  563.00   563.00     563.00  \n",
       "mean       1.02    21.76    6.06  2007.91  173867.17  \n",
       "std       24.28   223.55    2.58     1.30   69561.87  \n",
       "min        0.00     0.00    1.00  2006.00   35000.00  \n",
       "25%        0.00     0.00    4.00  2007.00  129000.00  \n",
       "50%        0.00     0.00    6.00  2008.00  156000.00  \n",
       "75%        0.00     0.00    7.00  2009.00  206500.00  \n",
       "max      576.00  4500.00   12.00  2010.00  538000.00  \n",
       "\n",
       "[8 rows x 37 columns]"
      ]
     },
     "execution_count": 185,
     "metadata": {},
     "output_type": "execute_result"
    }
   ],
   "source": [
    "train.describe().round(2) # without object type"
   ]
  },
  {
   "cell_type": "code",
   "execution_count": 186,
   "metadata": {
    "collapsed": true
   },
   "outputs": [],
   "source": [
    "# variable preparation\n",
    "\n",
    "predictors=list(train.columns[2:-1])\n",
    "continuous_predictors=train.select_dtypes(['int64']).columns\n",
    "columns_categorical=train.select_dtypes(['object']).columns\n"
   ]
  },
  {
   "cell_type": "markdown",
   "metadata": {},
   "source": [
    "## Step 1: Categorial variables clean and discussion"
   ]
  },
  {
   "cell_type": "code",
   "execution_count": 187,
   "metadata": {},
   "outputs": [
    {
     "data": {
      "text/plain": [
       "array(['RL', 'FV', 'RM', 'RH', 'C (all)', 'I (all)'], dtype=object)"
      ]
     },
     "execution_count": 187,
     "metadata": {},
     "output_type": "execute_result"
    }
   ],
   "source": [
    "train['MSZoning'].unique()"
   ]
  },
  {
   "cell_type": "code",
   "execution_count": 188,
   "metadata": {
    "collapsed": true
   },
   "outputs": [],
   "source": [
    "# these variables are part of 'columns_categorical', \n",
    "categorical=['MSZoning', 'Street','LotShape', 'LandContour','Utilities','LotConfig', 'LandSlope'\n",
    "           , 'Neighborhood', 'Condition1', 'Condition2' ,'BldgType','HouseStyle', 'RoofStyle', 'RoofMatl', \n",
    "             'Exterior1st','Exterior2nd','ExterQual', 'ExterCond', 'Foundation','Heating'\n",
    "            , 'HeatingQC', 'CentralAir', 'Electrical', 'KitchenQual','Functional'\n",
    "            , 'PavedDrive','SaleType']\n",
    "\n",
    "\n",
    "train['MSZoning']=train['MSZoning'].str.replace('(',\"\")\n",
    "train['MSZoning']=train['MSZoning'].str.replace(')',\"\")\n",
    "for item1 in categorical:\n",
    "    train[item1]=train[item1].str.replace(' ',\"\")\n",
    "    length=len(train[item1].unique())\n",
    "    count=0\n",
    "    while (length-1)>=count:\n",
    "        for item2 in train[item1].unique():\n",
    "            count1=str(count)\n",
    "            train[item1]=train[item1].str.replace(item2,count1)\n",
    "            count=int(count1)+1"
   ]
  },
  {
   "cell_type": "code",
   "execution_count": null,
   "metadata": {
    "collapsed": true
   },
   "outputs": [],
   "source": []
  },
  {
   "cell_type": "code",
   "execution_count": 189,
   "metadata": {
    "collapsed": true
   },
   "outputs": [],
   "source": [
    "#This is to replace NaN with empty string for now\n",
    "train = train.replace(np.nan, '', regex=True)\n",
    "\n",
    "#Use this to replace whatever first argument is with second argument\n",
    "#train['Alley'] = train['Alley'].replace(0,'' , regex=True)\n"
   ]
  },
  {
   "cell_type": "markdown",
   "metadata": {
    "collapsed": true
   },
   "source": [
    "### Only 3 values with pool variables, we can just drop this"
   ]
  },
  {
   "cell_type": "code",
   "execution_count": 190,
   "metadata": {
    "collapsed": true
   },
   "outputs": [],
   "source": [
    "del train['PoolQC']\n",
    "del train['PoolArea']\n",
    "del test['PoolQC']\n",
    "del test['PoolArea']"
   ]
  },
  {
   "cell_type": "code",
   "execution_count": 191,
   "metadata": {},
   "outputs": [
    {
     "data": {
      "text/html": [
       "<div>\n",
       "<style>\n",
       "    .dataframe thead tr:only-child th {\n",
       "        text-align: right;\n",
       "    }\n",
       "\n",
       "    .dataframe thead th {\n",
       "        text-align: left;\n",
       "    }\n",
       "\n",
       "    .dataframe tbody tr th {\n",
       "        vertical-align: top;\n",
       "    }\n",
       "</style>\n",
       "<table border=\"1\" class=\"dataframe\">\n",
       "  <thead>\n",
       "    <tr style=\"text-align: right;\">\n",
       "      <th></th>\n",
       "      <th>Fence_</th>\n",
       "      <th>Fence_GdPrv</th>\n",
       "      <th>Fence_GdWo</th>\n",
       "      <th>Fence_MnPrv</th>\n",
       "      <th>Fence_MnWw</th>\n",
       "    </tr>\n",
       "  </thead>\n",
       "  <tbody>\n",
       "    <tr>\n",
       "      <th>0</th>\n",
       "      <td>1</td>\n",
       "      <td>0</td>\n",
       "      <td>0</td>\n",
       "      <td>0</td>\n",
       "      <td>0</td>\n",
       "    </tr>\n",
       "    <tr>\n",
       "      <th>1</th>\n",
       "      <td>1</td>\n",
       "      <td>0</td>\n",
       "      <td>0</td>\n",
       "      <td>0</td>\n",
       "      <td>0</td>\n",
       "    </tr>\n",
       "    <tr>\n",
       "      <th>2</th>\n",
       "      <td>1</td>\n",
       "      <td>0</td>\n",
       "      <td>0</td>\n",
       "      <td>0</td>\n",
       "      <td>0</td>\n",
       "    </tr>\n",
       "    <tr>\n",
       "      <th>3</th>\n",
       "      <td>1</td>\n",
       "      <td>0</td>\n",
       "      <td>0</td>\n",
       "      <td>0</td>\n",
       "      <td>0</td>\n",
       "    </tr>\n",
       "    <tr>\n",
       "      <th>4</th>\n",
       "      <td>1</td>\n",
       "      <td>0</td>\n",
       "      <td>0</td>\n",
       "      <td>0</td>\n",
       "      <td>0</td>\n",
       "    </tr>\n",
       "  </tbody>\n",
       "</table>\n",
       "</div>"
      ],
      "text/plain": [
       "   Fence_  Fence_GdPrv  Fence_GdWo  Fence_MnPrv  Fence_MnWw\n",
       "0       1            0           0            0           0\n",
       "1       1            0           0            0           0\n",
       "2       1            0           0            0           0\n",
       "3       1            0           0            0           0\n",
       "4       1            0           0            0           0"
      ]
     },
     "execution_count": 191,
     "metadata": {},
     "output_type": "execute_result"
    }
   ],
   "source": [
    "df = pd.DataFrame({'Fence':list(train['Fence'])})\n",
    "pd.get_dummies(df).head()\n",
    "#Here, the base case Fence means the house does not have a "
   ]
  },
  {
   "cell_type": "markdown",
   "metadata": {},
   "source": [
    "23 places have a feature out of 805 observations. Is it worthwhile to even include? Only 2% of observations have this\n",
    "\n",
    "Therefore, I decided to remove it."
   ]
  },
  {
   "cell_type": "code",
   "execution_count": 192,
   "metadata": {
    "collapsed": true
   },
   "outputs": [],
   "source": [
    "del train['MiscFeature']\n",
    "del test['MiscFeature']"
   ]
  },
  {
   "cell_type": "code",
   "execution_count": 193,
   "metadata": {},
   "outputs": [
    {
     "data": {
      "text/html": [
       "<div>\n",
       "<style>\n",
       "    .dataframe thead tr:only-child th {\n",
       "        text-align: right;\n",
       "    }\n",
       "\n",
       "    .dataframe thead th {\n",
       "        text-align: left;\n",
       "    }\n",
       "\n",
       "    .dataframe tbody tr th {\n",
       "        vertical-align: top;\n",
       "    }\n",
       "</style>\n",
       "<table border=\"1\" class=\"dataframe\">\n",
       "  <thead>\n",
       "    <tr style=\"text-align: right;\">\n",
       "      <th></th>\n",
       "      <th>MSSubClass</th>\n",
       "      <th>MSZoning</th>\n",
       "      <th>LotFrontage</th>\n",
       "      <th>LotArea</th>\n",
       "      <th>Street</th>\n",
       "      <th>Alley</th>\n",
       "      <th>LotShape</th>\n",
       "      <th>LandContour</th>\n",
       "      <th>Utilities</th>\n",
       "      <th>LotConfig</th>\n",
       "      <th>...</th>\n",
       "      <th>OpenPorchSF</th>\n",
       "      <th>EnclosedPorch</th>\n",
       "      <th>3SsnPorch</th>\n",
       "      <th>ScreenPorch</th>\n",
       "      <th>Fence</th>\n",
       "      <th>MiscVal</th>\n",
       "      <th>MoSold</th>\n",
       "      <th>YrSold</th>\n",
       "      <th>SaleType</th>\n",
       "      <th>SalePrice</th>\n",
       "    </tr>\n",
       "  </thead>\n",
       "  <tbody>\n",
       "    <tr>\n",
       "      <th>8</th>\n",
       "      <td>20</td>\n",
       "      <td>0</td>\n",
       "      <td></td>\n",
       "      <td>6853</td>\n",
       "      <td>0</td>\n",
       "      <td></td>\n",
       "      <td>0</td>\n",
       "      <td>0</td>\n",
       "      <td>0</td>\n",
       "      <td>0</td>\n",
       "      <td>...</td>\n",
       "      <td>25</td>\n",
       "      <td>0</td>\n",
       "      <td>0</td>\n",
       "      <td>0</td>\n",
       "      <td></td>\n",
       "      <td>0</td>\n",
       "      <td>6</td>\n",
       "      <td>2009</td>\n",
       "      <td>0</td>\n",
       "      <td>220000</td>\n",
       "    </tr>\n",
       "    <tr>\n",
       "      <th>791</th>\n",
       "      <td>160</td>\n",
       "      <td>1</td>\n",
       "      <td>30</td>\n",
       "      <td>3180</td>\n",
       "      <td>0</td>\n",
       "      <td>Pave</td>\n",
       "      <td>1</td>\n",
       "      <td>0</td>\n",
       "      <td>0</td>\n",
       "      <td>0</td>\n",
       "      <td>...</td>\n",
       "      <td>166</td>\n",
       "      <td>0</td>\n",
       "      <td>0</td>\n",
       "      <td>0</td>\n",
       "      <td></td>\n",
       "      <td>0</td>\n",
       "      <td>6</td>\n",
       "      <td>2006</td>\n",
       "      <td>0</td>\n",
       "      <td>151000</td>\n",
       "    </tr>\n",
       "    <tr>\n",
       "      <th>571</th>\n",
       "      <td>20</td>\n",
       "      <td>0</td>\n",
       "      <td>60</td>\n",
       "      <td>6960</td>\n",
       "      <td>0</td>\n",
       "      <td></td>\n",
       "      <td>1</td>\n",
       "      <td>0</td>\n",
       "      <td>0</td>\n",
       "      <td>0</td>\n",
       "      <td>...</td>\n",
       "      <td>0</td>\n",
       "      <td>0</td>\n",
       "      <td>0</td>\n",
       "      <td>0</td>\n",
       "      <td></td>\n",
       "      <td>500</td>\n",
       "      <td>11</td>\n",
       "      <td>2009</td>\n",
       "      <td>0</td>\n",
       "      <td>120500</td>\n",
       "    </tr>\n",
       "    <tr>\n",
       "      <th>224</th>\n",
       "      <td>20</td>\n",
       "      <td>0</td>\n",
       "      <td>70</td>\n",
       "      <td>8050</td>\n",
       "      <td>0</td>\n",
       "      <td></td>\n",
       "      <td>1</td>\n",
       "      <td>0</td>\n",
       "      <td>0</td>\n",
       "      <td>0</td>\n",
       "      <td>...</td>\n",
       "      <td>64</td>\n",
       "      <td>0</td>\n",
       "      <td>0</td>\n",
       "      <td>0</td>\n",
       "      <td></td>\n",
       "      <td>0</td>\n",
       "      <td>3</td>\n",
       "      <td>2007</td>\n",
       "      <td>0</td>\n",
       "      <td>127000</td>\n",
       "    </tr>\n",
       "    <tr>\n",
       "      <th>498</th>\n",
       "      <td>20</td>\n",
       "      <td>0</td>\n",
       "      <td></td>\n",
       "      <td>9556</td>\n",
       "      <td>0</td>\n",
       "      <td></td>\n",
       "      <td>0</td>\n",
       "      <td>0</td>\n",
       "      <td>0</td>\n",
       "      <td>1</td>\n",
       "      <td>...</td>\n",
       "      <td>21</td>\n",
       "      <td>0</td>\n",
       "      <td>0</td>\n",
       "      <td>0</td>\n",
       "      <td></td>\n",
       "      <td>0</td>\n",
       "      <td>8</td>\n",
       "      <td>2007</td>\n",
       "      <td>0</td>\n",
       "      <td>160000</td>\n",
       "    </tr>\n",
       "  </tbody>\n",
       "</table>\n",
       "<p>5 rows × 76 columns</p>\n",
       "</div>"
      ],
      "text/plain": [
       "     MSSubClass MSZoning LotFrontage  LotArea Street Alley LotShape  \\\n",
       "8            20        0                 6853      0              0   \n",
       "791         160        1          30     3180      0  Pave        1   \n",
       "571          20        0          60     6960      0              1   \n",
       "224          20        0          70     8050      0              1   \n",
       "498          20        0                 9556      0              0   \n",
       "\n",
       "    LandContour Utilities LotConfig    ...     OpenPorchSF EnclosedPorch  \\\n",
       "8             0         0         0    ...              25             0   \n",
       "791           0         0         0    ...             166             0   \n",
       "571           0         0         0    ...               0             0   \n",
       "224           0         0         0    ...              64             0   \n",
       "498           0         0         1    ...              21             0   \n",
       "\n",
       "    3SsnPorch ScreenPorch Fence MiscVal  MoSold  YrSold  SaleType  SalePrice  \n",
       "8           0           0             0       6    2009         0     220000  \n",
       "791         0           0             0       6    2006         0     151000  \n",
       "571         0           0           500      11    2009         0     120500  \n",
       "224         0           0             0       3    2007         0     127000  \n",
       "498         0           0             0       8    2007         0     160000  \n",
       "\n",
       "[5 rows x 76 columns]"
      ]
     },
     "execution_count": 193,
     "metadata": {},
     "output_type": "execute_result"
    }
   ],
   "source": [
    "train.head()"
   ]
  },
  {
   "cell_type": "code",
   "execution_count": 194,
   "metadata": {
    "collapsed": true
   },
   "outputs": [],
   "source": [
    "del train['Alley']\n",
    "del test['Alley']"
   ]
  },
  {
   "cell_type": "code",
   "execution_count": null,
   "metadata": {
    "collapsed": true
   },
   "outputs": [],
   "source": []
  },
  {
   "cell_type": "code",
   "execution_count": 195,
   "metadata": {
    "collapsed": true
   },
   "outputs": [],
   "source": [
    "#Need to conver any string into integer for machine learning algorithm to work\n",
    "combined_set = pd.concat([train, test], axis = 0)"
   ]
  },
  {
   "cell_type": "code",
   "execution_count": 196,
   "metadata": {
    "collapsed": true
   },
   "outputs": [],
   "source": [
    "for feature in combined_set.columns: # Loop through all columns in the dataframe\n",
    "    if combined_set[feature].dtype == 'object': # Only apply for columns with categorical strings\n",
    "        combined_set[feature] = pd.Categorical(combined_set[feature]).codes # Replace strings with an integer"
   ]
  },
  {
   "cell_type": "code",
   "execution_count": 197,
   "metadata": {},
   "outputs": [
    {
     "name": "stdout",
     "output_type": "stream",
     "text": [
      "<class 'pandas.core.frame.DataFrame'>\n",
      "Int64Index: 804 entries, 8 to 802\n",
      "Data columns (total 75 columns):\n",
      "MSSubClass       804 non-null int64\n",
      "MSZoning         804 non-null int8\n",
      "LotFrontage      804 non-null int8\n",
      "LotArea          804 non-null int64\n",
      "Street           804 non-null int8\n",
      "LotShape         804 non-null int8\n",
      "LandContour      804 non-null int8\n",
      "Utilities        804 non-null int8\n",
      "LotConfig        804 non-null int8\n",
      "LandSlope        804 non-null int8\n",
      "Neighborhood     804 non-null int8\n",
      "Condition1       804 non-null int8\n",
      "Condition2       804 non-null int8\n",
      "BldgType         804 non-null int8\n",
      "HouseStyle       804 non-null int8\n",
      "OverallQual      804 non-null int64\n",
      "OverallCond      804 non-null int64\n",
      "YearBuilt        804 non-null int64\n",
      "YearRemod/Add    804 non-null int64\n",
      "RoofStyle        804 non-null int8\n",
      "RoofMatl         804 non-null int8\n",
      "Exterior1st      804 non-null int8\n",
      "Exterior2nd      804 non-null int8\n",
      "MasVnrType       804 non-null int8\n",
      "MasVnrArea       804 non-null int16\n",
      "ExterQual        804 non-null int8\n",
      "ExterCond        804 non-null int8\n",
      "Foundation       804 non-null int8\n",
      "BsmtQual         804 non-null int8\n",
      "BsmtCond         804 non-null int8\n",
      "BsmtExposure     804 non-null int8\n",
      "BsmtFinType1     804 non-null int8\n",
      "BsmtFinSF1       804 non-null float64\n",
      "BsmtFinType2     804 non-null int8\n",
      "BsmtFinSF2       804 non-null float64\n",
      "BsmtUnfSF        804 non-null float64\n",
      "TotalBsmtSF      804 non-null float64\n",
      "Heating          804 non-null int8\n",
      "HeatingQC        804 non-null int8\n",
      "CentralAir       804 non-null int8\n",
      "Electrical       804 non-null int8\n",
      "1stFlrSF         804 non-null int64\n",
      "2ndFlrSF         804 non-null int64\n",
      "LowQualFinSF     804 non-null int64\n",
      "GrLivArea        804 non-null int64\n",
      "BsmtFullBath     804 non-null float64\n",
      "BsmtHalfBath     804 non-null float64\n",
      "FullBath         804 non-null int64\n",
      "HalfBath         804 non-null int64\n",
      "BedroomAbvGr     804 non-null int64\n",
      "KitchenAbvGr     804 non-null int64\n",
      "KitchenQual      804 non-null int8\n",
      "TotRmsAbvGrd     804 non-null int64\n",
      "Functional       804 non-null int8\n",
      "Fireplaces       804 non-null int64\n",
      "FireplaceQu      804 non-null int8\n",
      "GarageType       804 non-null int8\n",
      "GarageYrBlt      804 non-null int8\n",
      "GarageFinish     804 non-null int8\n",
      "GarageCars       804 non-null float64\n",
      "GarageArea       804 non-null float64\n",
      "GarageQual       804 non-null int8\n",
      "GarageCond       804 non-null int8\n",
      "PavedDrive       804 non-null int8\n",
      "WoodDeckSF       804 non-null int64\n",
      "OpenPorchSF      804 non-null int64\n",
      "EnclosedPorch    804 non-null int64\n",
      "3SsnPorch        804 non-null int64\n",
      "ScreenPorch      804 non-null int64\n",
      "Fence            804 non-null int8\n",
      "MiscVal          804 non-null int64\n",
      "MoSold           804 non-null int64\n",
      "YrSold           804 non-null int64\n",
      "SaleType         804 non-null int8\n",
      "SalePrice        804 non-null int64\n",
      "dtypes: float64(8), int16(1), int64(25), int8(41)\n",
      "memory usage: 247.3 KB\n"
     ]
    }
   ],
   "source": [
    "combined_set.info()"
   ]
  },
  {
   "cell_type": "code",
   "execution_count": 198,
   "metadata": {
    "collapsed": true
   },
   "outputs": [],
   "source": [
    "final_train = combined_set[:train.shape[0]] # Up to the last initial training set row\n",
    "final_test = combined_set[train.shape[0]:] # Past the last initial training set row"
   ]
  },
  {
   "cell_type": "code",
   "execution_count": 199,
   "metadata": {
    "collapsed": true
   },
   "outputs": [],
   "source": [
    "#This is the price variable we need to remove\n",
    "y_train = final_train.pop('SalePrice')\n",
    "y_test = final_test.pop('SalePrice')"
   ]
  },
  {
   "cell_type": "code",
   "execution_count": 332,
   "metadata": {},
   "outputs": [],
   "source": [
    "data = pd.read_csv('train2.csv')\n",
    "final_train = data.sample(frac=0.5, random_state=1)\n",
    "final_test = data[data.index.isin(train.index)==False]\n",
    "final_train.head()\n",
    "y_train = final_train.pop('SalePrice')\n",
    "y_test = final_test.pop('SalePrice')"
   ]
  },
  {
   "cell_type": "code",
   "execution_count": 333,
   "metadata": {
    "collapsed": true
   },
   "outputs": [],
   "source": [
    "import numpy\n",
    "import pandas\n",
    "from sklearn.model_selection import cross_val_score\n",
    "from sklearn.model_selection import KFold\n",
    "from sklearn.preprocessing import StandardScaler\n",
    "from sklearn.pipeline import Pipeline"
   ]
  },
  {
   "cell_type": "markdown",
   "metadata": {},
   "source": [
    "# Time for some Adaptive boosting with Decision Trees"
   ]
  },
  {
   "cell_type": "code",
   "execution_count": 334,
   "metadata": {},
   "outputs": [],
   "source": [
    "from sklearn.metrics import make_scorer\n",
    "from sklearn.tree import DecisionTreeRegressor\n",
    "from sklearn.model_selection import GridSearchCV\n",
    "from sklearn.model_selection import ShuffleSplit\n"
   ]
  },
  {
   "cell_type": "markdown",
   "metadata": {},
   "source": [
    "### Testing to see if I can actually use Adaboost"
   ]
  },
  {
   "cell_type": "code",
   "execution_count": 335,
   "metadata": {},
   "outputs": [
    {
     "data": {
      "text/plain": [
       "AdaBoostRegressor(base_estimator=DecisionTreeRegressor(criterion='mse', max_depth=9, max_features=None,\n",
       "           max_leaf_nodes=None, min_impurity_decrease=0.0,\n",
       "           min_impurity_split=None, min_samples_leaf=1,\n",
       "           min_samples_split=2, min_weight_fraction_leaf=0.0,\n",
       "           presort=False, random_state=None, splitter='best'),\n",
       "         learning_rate=1.0, loss='linear', n_estimators=50, random_state=0)"
      ]
     },
     "execution_count": 335,
     "metadata": {},
     "output_type": "execute_result"
    }
   ],
   "source": [
    "from sklearn.ensemble import AdaBoostRegressor\n",
    "from sklearn.tree import DecisionTreeRegressor\n",
    "\n",
    "#http://scikit-learn.org/stable/modules/generated/sklearn.ensemble.AdaBoostRegressor.html#sklearn.ensemble.AdaBoostRegressor\n",
    "#http://scikit-learn.org/stable/auto_examples/ensemble/plot_adaboost_regression.html\n",
    "\n",
    "regr = AdaBoostRegressor(DecisionTreeRegressor(max_depth=9),random_state=0)\n",
    "regr.fit(final_train,y_train)"
   ]
  },
  {
   "cell_type": "code",
   "execution_count": 336,
   "metadata": {},
   "outputs": [
    {
     "data": {
      "text/plain": [
       "array([ 0.99836973,  0.9997479 ,  0.96160041,  0.99640933,  0.99143292,\n",
       "        0.99800124,  0.9894673 ,  0.99845941,  0.99869284,  0.99925115])"
      ]
     },
     "execution_count": 336,
     "metadata": {},
     "output_type": "execute_result"
    }
   ],
   "source": [
    "from sklearn.model_selection import cross_val_score\n",
    "#This uses cross validation to evaluate the score\n",
    "cross_val_score(regr, final_train, y_train, cv=10)"
   ]
  },
  {
   "cell_type": "markdown",
   "metadata": {},
   "source": [
    "# Bringing it all together to find optimal level of nodes to use!"
   ]
  },
  {
   "cell_type": "code",
   "execution_count": null,
   "metadata": {},
   "outputs": [],
   "source": [
    "values = range(1,20)\n",
    "maximum = 0\n",
    "optimal_node = 0\n",
    "for i in values:\n",
    "    regr = AdaBoostRegressor(DecisionTreeRegressor(max_depth=i),random_state=0)\n",
    "    print(\"Cross val score for {} nodes\".format(i))\n",
    "    print(cross_val_score(regr, final_train, y_train, cv=10))\n",
    "    tot = 0\n",
    "    g = cross_val_score(regr, final_train, y_train, cv=10)\n",
    "    #Check to see if this layer is better since highest cross_val_score\n",
    "    for x in g:\n",
    "        tot = tot+x\n",
    "    if tot>maximum:\n",
    "        optimal_node = i\n",
    "       "
   ]
  },
  {
   "cell_type": "code",
   "execution_count": 337,
   "metadata": {},
   "outputs": [
    {
     "name": "stdout",
     "output_type": "stream",
     "text": [
      "Optimal nodes is 19\n",
      "Cross val score for 19 nodes\n",
      "[ 0.99830095  0.99975312  0.96885033  0.99894196  0.99145446  0.99782327\n",
      "  0.98822158  0.99818815  0.99870081  0.99954786]\n",
      "Cross-Predicted Accuracy: 0.9971166558740375\n"
     ]
    }
   ],
   "source": [
    "from sklearn.metrics import r2_score\n",
    "print(\"Optimal nodes is {}\".format(19))\n",
    "regr = AdaBoostRegressor(DecisionTreeRegressor(max_depth=19),random_state=0)\n",
    "print(\"Cross val score for {} nodes\".format(19))\n",
    "print(cross_val_score(regr, final_train, y_train, cv=10))\n",
    "\n",
    "regr.fit(final_train, y_train)\n",
    "y_1 = regr.predict(final_test)\n",
    "accuracy = r2_score(y_test, y_1)\n",
    "print(\"Cross-Predicted Accuracy: {}\".format(accuracy))"
   ]
  },
  {
   "cell_type": "code",
   "execution_count": 338,
   "metadata": {},
   "outputs": [
    {
     "data": {
      "text/html": [
       "<div>\n",
       "<style>\n",
       "    .dataframe thead tr:only-child th {\n",
       "        text-align: right;\n",
       "    }\n",
       "\n",
       "    .dataframe thead th {\n",
       "        text-align: left;\n",
       "    }\n",
       "\n",
       "    .dataframe tbody tr th {\n",
       "        vertical-align: top;\n",
       "    }\n",
       "</style>\n",
       "<table border=\"1\" class=\"dataframe\">\n",
       "  <thead>\n",
       "    <tr style=\"text-align: right;\">\n",
       "      <th></th>\n",
       "      <th>Test RMSE</th>\n",
       "      <th>SE</th>\n",
       "      <th>Test R2</th>\n",
       "      <th>SE</th>\n",
       "    </tr>\n",
       "  </thead>\n",
       "  <tbody>\n",
       "    <tr>\n",
       "      <th>Results</th>\n",
       "      <td>0.118</td>\n",
       "      <td>0.052</td>\n",
       "      <td>0.997</td>\n",
       "      <td>0.002</td>\n",
       "    </tr>\n",
       "  </tbody>\n",
       "</table>\n",
       "</div>"
      ],
      "text/plain": [
       "         Test RMSE     SE  Test R2     SE\n",
       "Results      0.118  0.052    0.997  0.002"
      ]
     },
     "execution_count": 338,
     "metadata": {},
     "output_type": "execute_result"
    }
   ],
   "source": [
    "from QBUS2820 import rmse_jack, r2_jack \n",
    "#Jackknife method to be able to report the standard errors for the test results\n",
    "\n",
    "columns=['Test RMSE', 'SE', 'Test R2', 'SE']\n",
    "rows = ['Results']\n",
    "results=pd.DataFrame(0.0, columns=columns, index=rows) \n",
    "\n",
    "results.iloc[0,0], results.iloc[0,1] = rmse_jack(y_test, y_1)\n",
    "results.iloc[0,2], results.iloc[0,3] = (r2_jack(y_test, y_1))\n",
    "results.round(3)"
   ]
  },
  {
   "cell_type": "code",
   "execution_count": null,
   "metadata": {
    "collapsed": true
   },
   "outputs": [],
   "source": []
  },
  {
   "cell_type": "markdown",
   "metadata": {},
   "source": [
    "# Here we create an esemble by using Lasso in addition to it"
   ]
  },
  {
   "cell_type": "code",
   "execution_count": 339,
   "metadata": {
    "collapsed": true
   },
   "outputs": [],
   "source": [
    "from sklearn.linear_model import LassoCV\n",
    "\n",
    "lasso = LassoCV(cv=10)\n",
    "lasso.fit(final_train, np.ravel(y_train)) \n",
    "pred_L = lasso.predict(final_test)"
   ]
  },
  {
   "cell_type": "code",
   "execution_count": 340,
   "metadata": {
    "collapsed": true
   },
   "outputs": [],
   "source": [
    "#The decision tree with AdaBoosting\n",
    "regr.fit(final_train, y_train)\n",
    "pred_T = regr.predict(final_test)"
   ]
  },
  {
   "cell_type": "code",
   "execution_count": 341,
   "metadata": {
    "collapsed": true
   },
   "outputs": [],
   "source": [
    "#Combining the 2 predictions\n",
    "pred_combined = (pred_L+pred_T)/2"
   ]
  },
  {
   "cell_type": "code",
   "execution_count": 342,
   "metadata": {},
   "outputs": [
    {
     "data": {
      "text/html": [
       "<div>\n",
       "<style>\n",
       "    .dataframe thead tr:only-child th {\n",
       "        text-align: right;\n",
       "    }\n",
       "\n",
       "    .dataframe thead th {\n",
       "        text-align: left;\n",
       "    }\n",
       "\n",
       "    .dataframe tbody tr th {\n",
       "        vertical-align: top;\n",
       "    }\n",
       "</style>\n",
       "<table border=\"1\" class=\"dataframe\">\n",
       "  <thead>\n",
       "    <tr style=\"text-align: right;\">\n",
       "      <th></th>\n",
       "      <th>Test RMSE</th>\n",
       "      <th>SE</th>\n",
       "      <th>Test R2</th>\n",
       "      <th>SE</th>\n",
       "    </tr>\n",
       "  </thead>\n",
       "  <tbody>\n",
       "    <tr>\n",
       "      <th>Lasso</th>\n",
       "      <td>0.383</td>\n",
       "      <td>0.018</td>\n",
       "      <td>0.969</td>\n",
       "      <td>0.004</td>\n",
       "    </tr>\n",
       "    <tr>\n",
       "      <th>Adaboost Tree</th>\n",
       "      <td>0.118</td>\n",
       "      <td>0.052</td>\n",
       "      <td>0.997</td>\n",
       "      <td>0.002</td>\n",
       "    </tr>\n",
       "    <tr>\n",
       "      <th>Lasso + Tree</th>\n",
       "      <td>0.209</td>\n",
       "      <td>0.020</td>\n",
       "      <td>0.991</td>\n",
       "      <td>0.001</td>\n",
       "    </tr>\n",
       "  </tbody>\n",
       "</table>\n",
       "</div>"
      ],
      "text/plain": [
       "               Test RMSE     SE  Test R2     SE\n",
       "Lasso              0.383  0.018    0.969  0.004\n",
       "Adaboost Tree      0.118  0.052    0.997  0.002\n",
       "Lasso + Tree       0.209  0.020    0.991  0.001"
      ]
     },
     "execution_count": 342,
     "metadata": {},
     "output_type": "execute_result"
    }
   ],
   "source": [
    "columns=['Test RMSE', 'SE', 'Test R2', 'SE']\n",
    "rows = ['Lasso', 'Adaboost Tree', 'Lasso + Tree']\n",
    "results=pd.DataFrame(0.0, columns=columns, index=rows) \n",
    "\n",
    "results.iloc[0,0], results.iloc[0,1] = rmse_jack(y_test, pred_L)\n",
    "results.iloc[0,2], results.iloc[0,3] = (r2_jack(y_test, pred_L))\n",
    "results.iloc[1,0], results.iloc[1,1] = rmse_jack(y_test, pred_T)\n",
    "results.iloc[1,2], results.iloc[1,3] = (r2_jack(y_test, pred_T))\n",
    "results.iloc[2,0], results.iloc[2,1] = rmse_jack(y_test, pred_combined)\n",
    "results.iloc[2,2], results.iloc[2,3] = (r2_jack(y_test, pred_combined))\n",
    "\n",
    "results.round(3)"
   ]
  },
  {
   "cell_type": "markdown",
   "metadata": {},
   "source": [
    "# Worked! Let's try combining ridge and Enet too"
   ]
  },
  {
   "cell_type": "code",
   "execution_count": 343,
   "metadata": {},
   "outputs": [
    {
     "data": {
      "text/plain": [
       "ElasticNet(alpha=0.0038021659512414213, copy_X=True, fit_intercept=True,\n",
       "      l1_ratio=0.98999999999999999, max_iter=1000, normalize=False,\n",
       "      positive=False, precompute=False, random_state=None,\n",
       "      selection='cyclic', tol=0.0001, warm_start=False)"
      ]
     },
     "execution_count": 343,
     "metadata": {},
     "output_type": "execute_result"
    }
   ],
   "source": [
    "#Elastic Net\n",
    "from sklearn.linear_model import ElasticNetCV\n",
    "enet = ElasticNetCV(l1_ratio=[0.01,0.05,0.1,0.2,0.3,0.4,0.5,0.6,0.7,0.8,0.9,0.95,0.99], cv=5)\n",
    "enet.fit(final_train, np.ravel(y_train))\n",
    "\n",
    "from sklearn.linear_model import ElasticNet\n",
    "enet = ElasticNet(alpha=enet.alpha_, l1_ratio=enet.l1_ratio_)\n",
    "enet.fit(final_train, np.ravel(y_train))"
   ]
  },
  {
   "cell_type": "code",
   "execution_count": 344,
   "metadata": {},
   "outputs": [
    {
     "data": {
      "text/plain": [
       "Ridge(alpha=4.5399929762484854e-05, copy_X=True, fit_intercept=True,\n",
       "   max_iter=None, normalize=False, random_state=None, solver='auto',\n",
       "   tol=0.001)"
      ]
     },
     "execution_count": 344,
     "metadata": {},
     "output_type": "execute_result"
    }
   ],
   "source": [
    "#Ridge Regression\n",
    "from sklearn.linear_model import Ridge\n",
    "from sklearn.linear_model import RidgeCV\n",
    "\n",
    "alphas = np.exp(np.linspace(-10,20,500)) \n",
    "ridge = RidgeCV(alphas=alphas, cv=5)\n",
    "ridge.fit(final_train, np.ravel(y_train))\n",
    "ridge = Ridge(alpha=ridge.alpha_)\n",
    "ridge.fit(final_train, np.ravel(y_train))"
   ]
  },
  {
   "cell_type": "code",
   "execution_count": 345,
   "metadata": {
    "collapsed": true
   },
   "outputs": [],
   "source": [
    "pred_R = ridge.predict(final_test)\n",
    "pred_L = lasso.predict(final_test)\n",
    "pred_E = enet.predict(final_test)"
   ]
  },
  {
   "cell_type": "code",
   "execution_count": 346,
   "metadata": {
    "collapsed": true
   },
   "outputs": [],
   "source": [
    "#Combining the all predictions\n",
    "pred_combined = (pred_L+pred_T)/2\n",
    "pred_combined2 = (pred_R+pred_T)/2\n",
    "pred_combined3 = (pred_E+pred_T)/2\n",
    "pred_combined4 = (pred_L+ + pred_R + pred_E + pred_T)/4"
   ]
  },
  {
   "cell_type": "code",
   "execution_count": 347,
   "metadata": {},
   "outputs": [
    {
     "data": {
      "text/html": [
       "<div>\n",
       "<style>\n",
       "    .dataframe thead tr:only-child th {\n",
       "        text-align: right;\n",
       "    }\n",
       "\n",
       "    .dataframe thead th {\n",
       "        text-align: left;\n",
       "    }\n",
       "\n",
       "    .dataframe tbody tr th {\n",
       "        vertical-align: top;\n",
       "    }\n",
       "</style>\n",
       "<table border=\"1\" class=\"dataframe\">\n",
       "  <thead>\n",
       "    <tr style=\"text-align: right;\">\n",
       "      <th></th>\n",
       "      <th>Test RMSE</th>\n",
       "      <th>SE</th>\n",
       "      <th>Test R2</th>\n",
       "      <th>SE</th>\n",
       "    </tr>\n",
       "  </thead>\n",
       "  <tbody>\n",
       "    <tr>\n",
       "      <th>Lasso</th>\n",
       "      <td>0.383</td>\n",
       "      <td>0.018</td>\n",
       "      <td>0.969</td>\n",
       "      <td>0.004</td>\n",
       "    </tr>\n",
       "    <tr>\n",
       "      <th>Adaboost Tree</th>\n",
       "      <td>0.118</td>\n",
       "      <td>0.052</td>\n",
       "      <td>0.997</td>\n",
       "      <td>0.002</td>\n",
       "    </tr>\n",
       "    <tr>\n",
       "      <th>Lasso + Tree</th>\n",
       "      <td>0.209</td>\n",
       "      <td>0.020</td>\n",
       "      <td>0.991</td>\n",
       "      <td>0.001</td>\n",
       "    </tr>\n",
       "    <tr>\n",
       "      <th>Ridge</th>\n",
       "      <td>0.187</td>\n",
       "      <td>0.034</td>\n",
       "      <td>0.993</td>\n",
       "      <td>0.003</td>\n",
       "    </tr>\n",
       "    <tr>\n",
       "      <th>Enet</th>\n",
       "      <td>0.443</td>\n",
       "      <td>0.021</td>\n",
       "      <td>0.959</td>\n",
       "      <td>0.005</td>\n",
       "    </tr>\n",
       "    <tr>\n",
       "      <th>Tree + Ridge</th>\n",
       "      <td>0.116</td>\n",
       "      <td>0.022</td>\n",
       "      <td>0.997</td>\n",
       "      <td>0.001</td>\n",
       "    </tr>\n",
       "    <tr>\n",
       "      <th>Tree + Enet</th>\n",
       "      <td>0.237</td>\n",
       "      <td>0.018</td>\n",
       "      <td>0.988</td>\n",
       "      <td>0.001</td>\n",
       "    </tr>\n",
       "    <tr>\n",
       "      <th>Tree + All 3</th>\n",
       "      <td>0.225</td>\n",
       "      <td>0.014</td>\n",
       "      <td>0.989</td>\n",
       "      <td>0.001</td>\n",
       "    </tr>\n",
       "  </tbody>\n",
       "</table>\n",
       "</div>"
      ],
      "text/plain": [
       "               Test RMSE     SE  Test R2     SE\n",
       "Lasso              0.383  0.018    0.969  0.004\n",
       "Adaboost Tree      0.118  0.052    0.997  0.002\n",
       "Lasso + Tree       0.209  0.020    0.991  0.001\n",
       "Ridge              0.187  0.034    0.993  0.003\n",
       "Enet               0.443  0.021    0.959  0.005\n",
       "Tree + Ridge       0.116  0.022    0.997  0.001\n",
       "Tree + Enet        0.237  0.018    0.988  0.001\n",
       "Tree + All 3       0.225  0.014    0.989  0.001"
      ]
     },
     "execution_count": 347,
     "metadata": {},
     "output_type": "execute_result"
    }
   ],
   "source": [
    "columns=['Test RMSE', 'SE', 'Test R2', 'SE']\n",
    "rows = ['Lasso', 'Adaboost Tree', 'Lasso + Tree', 'Ridge', 'Enet', 'Tree + Ridge', 'Tree + Enet', 'Tree + All 3']\n",
    "results=pd.DataFrame(0.0, columns=columns, index=rows) \n",
    "\n",
    "results.iloc[0,0], results.iloc[0,1] = rmse_jack(y_test, pred_L)\n",
    "results.iloc[0,2], results.iloc[0,3] = (r2_jack(y_test, pred_L))\n",
    "results.iloc[1,0], results.iloc[1,1] = rmse_jack(y_test, pred_T)\n",
    "results.iloc[1,2], results.iloc[1,3] = (r2_jack(y_test, pred_T))\n",
    "results.iloc[2,0], results.iloc[2,1] = rmse_jack(y_test, pred_combined)\n",
    "results.iloc[2,2], results.iloc[2,3] = (r2_jack(y_test, pred_combined))\n",
    "results.iloc[3,0], results.iloc[3,1] = rmse_jack(y_test, pred_R)\n",
    "results.iloc[3,2], results.iloc[3,3] = (r2_jack(y_test, pred_R))\n",
    "results.iloc[4,0], results.iloc[4,1] = rmse_jack(y_test, pred_E)\n",
    "results.iloc[4,2], results.iloc[4,3] = (r2_jack(y_test, pred_E))\n",
    "results.iloc[5,0], results.iloc[5,1] = rmse_jack(y_test, pred_combined2)\n",
    "results.iloc[5,2], results.iloc[5,3] = (r2_jack(y_test, pred_combined2))\n",
    "results.iloc[6,0], results.iloc[6,1] = rmse_jack(y_test, pred_combined3)\n",
    "results.iloc[6,2], results.iloc[6,3] = (r2_jack(y_test, pred_combined3))\n",
    "results.iloc[7,0], results.iloc[7,1] = rmse_jack(y_test, pred_combined4)\n",
    "results.iloc[7,2], results.iloc[7,3] = (r2_jack(y_test, pred_combined4))\n",
    "results.round(3)"
   ]
  },
  {
   "cell_type": "markdown",
   "metadata": {},
   "source": [
    "# From this, it appears that Lasso + Tree is the best Model"
   ]
  },
  {
   "cell_type": "code",
   "execution_count": null,
   "metadata": {
    "collapsed": true
   },
   "outputs": [],
   "source": []
  },
  {
   "cell_type": "markdown",
   "metadata": {},
   "source": [
    "# Let's try Tree + PCR"
   ]
  },
  {
   "cell_type": "code",
   "execution_count": 348,
   "metadata": {
    "collapsed": true
   },
   "outputs": [],
   "source": [
    "from QBUS2820 import pcrCV\n",
    "pcr=pcrCV(final_train, y_train)"
   ]
  },
  {
   "cell_type": "code",
   "execution_count": 349,
   "metadata": {
    "collapsed": true
   },
   "outputs": [],
   "source": [
    "pred_pcr = pcr.predict(final_test)"
   ]
  },
  {
   "cell_type": "code",
   "execution_count": 350,
   "metadata": {
    "collapsed": true
   },
   "outputs": [],
   "source": [
    "#The decision tree with AdaBoosting\n",
    "regr.fit(final_train, y_train)\n",
    "pred_T = regr.predict(final_test)"
   ]
  },
  {
   "cell_type": "code",
   "execution_count": 351,
   "metadata": {
    "collapsed": true
   },
   "outputs": [],
   "source": [
    "pred_combined = (pred_pcr+pred_T)/2"
   ]
  },
  {
   "cell_type": "code",
   "execution_count": 352,
   "metadata": {},
   "outputs": [
    {
     "data": {
      "text/html": [
       "<div>\n",
       "<style>\n",
       "    .dataframe thead tr:only-child th {\n",
       "        text-align: right;\n",
       "    }\n",
       "\n",
       "    .dataframe thead th {\n",
       "        text-align: left;\n",
       "    }\n",
       "\n",
       "    .dataframe tbody tr th {\n",
       "        vertical-align: top;\n",
       "    }\n",
       "</style>\n",
       "<table border=\"1\" class=\"dataframe\">\n",
       "  <thead>\n",
       "    <tr style=\"text-align: right;\">\n",
       "      <th></th>\n",
       "      <th>Test RMSE</th>\n",
       "      <th>SE</th>\n",
       "      <th>Test R2</th>\n",
       "      <th>SE</th>\n",
       "    </tr>\n",
       "  </thead>\n",
       "  <tbody>\n",
       "    <tr>\n",
       "      <th>PCR</th>\n",
       "      <td>0.599</td>\n",
       "      <td>0.032</td>\n",
       "      <td>0.925</td>\n",
       "      <td>0.011</td>\n",
       "    </tr>\n",
       "    <tr>\n",
       "      <th>Adaboost Tree</th>\n",
       "      <td>0.118</td>\n",
       "      <td>0.052</td>\n",
       "      <td>0.997</td>\n",
       "      <td>0.002</td>\n",
       "    </tr>\n",
       "    <tr>\n",
       "      <th>PCR + Tree</th>\n",
       "      <td>0.307</td>\n",
       "      <td>0.018</td>\n",
       "      <td>0.980</td>\n",
       "      <td>0.002</td>\n",
       "    </tr>\n",
       "  </tbody>\n",
       "</table>\n",
       "</div>"
      ],
      "text/plain": [
       "               Test RMSE     SE  Test R2     SE\n",
       "PCR                0.599  0.032    0.925  0.011\n",
       "Adaboost Tree      0.118  0.052    0.997  0.002\n",
       "PCR + Tree         0.307  0.018    0.980  0.002"
      ]
     },
     "execution_count": 352,
     "metadata": {},
     "output_type": "execute_result"
    }
   ],
   "source": [
    "columns=['Test RMSE', 'SE', 'Test R2', 'SE']\n",
    "rows = ['PCR', 'Adaboost Tree', 'PCR + Tree']\n",
    "results=pd.DataFrame(0.0, columns=columns, index=rows) \n",
    "\n",
    "results.iloc[0,0], results.iloc[0,1] = rmse_jack(y_test, pred_pcr)\n",
    "results.iloc[0,2], results.iloc[0,3] = (r2_jack(y_test, pred_pcr))\n",
    "results.iloc[1,0], results.iloc[1,1] = rmse_jack(y_test, pred_T)\n",
    "results.iloc[1,2], results.iloc[1,3] = (r2_jack(y_test, pred_T))\n",
    "results.iloc[2,0], results.iloc[2,1] = rmse_jack(y_test, pred_combined)\n",
    "results.iloc[2,2], results.iloc[2,3] = (r2_jack(y_test, pred_combined))\n",
    "\n",
    "results.round(3)"
   ]
  },
  {
   "cell_type": "code",
   "execution_count": 353,
   "metadata": {
    "collapsed": true
   },
   "outputs": [],
   "source": [
    "#Adding lasso back now\n",
    "pred_L = lasso.predict(final_test)"
   ]
  },
  {
   "cell_type": "code",
   "execution_count": 354,
   "metadata": {
    "collapsed": true
   },
   "outputs": [],
   "source": [
    "pred_combined = (pred_pcr+pred_T+pred_L)/3"
   ]
  },
  {
   "cell_type": "code",
   "execution_count": 355,
   "metadata": {},
   "outputs": [
    {
     "data": {
      "text/html": [
       "<div>\n",
       "<style>\n",
       "    .dataframe thead tr:only-child th {\n",
       "        text-align: right;\n",
       "    }\n",
       "\n",
       "    .dataframe thead th {\n",
       "        text-align: left;\n",
       "    }\n",
       "\n",
       "    .dataframe tbody tr th {\n",
       "        vertical-align: top;\n",
       "    }\n",
       "</style>\n",
       "<table border=\"1\" class=\"dataframe\">\n",
       "  <thead>\n",
       "    <tr style=\"text-align: right;\">\n",
       "      <th></th>\n",
       "      <th>Test RMSE</th>\n",
       "      <th>SE</th>\n",
       "      <th>Test R2</th>\n",
       "      <th>SE</th>\n",
       "    </tr>\n",
       "  </thead>\n",
       "  <tbody>\n",
       "    <tr>\n",
       "      <th>LASSO + PCR + Tree</th>\n",
       "      <td>0.324</td>\n",
       "      <td>0.018</td>\n",
       "      <td>0.978</td>\n",
       "      <td>0.003</td>\n",
       "    </tr>\n",
       "  </tbody>\n",
       "</table>\n",
       "</div>"
      ],
      "text/plain": [
       "                    Test RMSE     SE  Test R2     SE\n",
       "LASSO + PCR + Tree      0.324  0.018    0.978  0.003"
      ]
     },
     "execution_count": 355,
     "metadata": {},
     "output_type": "execute_result"
    }
   ],
   "source": [
    "columns=['Test RMSE', 'SE', 'Test R2', 'SE']\n",
    "rows = [ 'LASSO + PCR + Tree']\n",
    "results=pd.DataFrame(0.0, columns=columns, index=rows) \n",
    "\n",
    "results.iloc[0,0], results.iloc[0,1] = rmse_jack(y_test, pred_combined)\n",
    "results.iloc[0,2], results.iloc[0,3] = (r2_jack(y_test, pred_combined))\n",
    "\n",
    "results.round(3)"
   ]
  },
  {
   "cell_type": "markdown",
   "metadata": {},
   "source": [
    "# Lasso + Tree seems to do better without dimension reduction"
   ]
  },
  {
   "cell_type": "code",
   "execution_count": null,
   "metadata": {
    "collapsed": true
   },
   "outputs": [],
   "source": []
  },
  {
   "cell_type": "markdown",
   "metadata": {},
   "source": [
    "# Trying out model stacking now where we combine both lasso and tree to be predictors in an OLS regression"
   ]
  },
  {
   "cell_type": "code",
   "execution_count": 356,
   "metadata": {
    "collapsed": true
   },
   "outputs": [],
   "source": [
    "#The decision tree with AdaBoosting\n",
    "regr.fit(final_train, y_train)\n",
    "pred_T = regr.predict(final_test)"
   ]
  },
  {
   "cell_type": "code",
   "execution_count": 357,
   "metadata": {
    "collapsed": true
   },
   "outputs": [],
   "source": [
    "#Adding lasso back now\n",
    "pred_L = lasso.predict(final_test)"
   ]
  },
  {
   "cell_type": "code",
   "execution_count": 358,
   "metadata": {},
   "outputs": [
    {
     "name": "stdout",
     "output_type": "stream",
     "text": [
      "402\n",
      "402\n",
      "241\n",
      "241\n"
     ]
    }
   ],
   "source": [
    "print(len(final_train))\n",
    "print(len(y_train))\n",
    "print(len(final_test))\n",
    "print(len(y_test))"
   ]
  },
  {
   "cell_type": "code",
   "execution_count": 359,
   "metadata": {
    "collapsed": true
   },
   "outputs": [],
   "source": [
    "import numpy as np\n",
    "import pandas as pd\n",
    "\n",
    "stacked_lasso_tree = pd.DataFrame({'Lasso':pred_L, 'Tree':pred_T, 'Price':y_test})\n",
    "#Created new dataframe with both predictions as values"
   ]
  },
  {
   "cell_type": "code",
   "execution_count": 360,
   "metadata": {
    "collapsed": true
   },
   "outputs": [],
   "source": [
    "import statsmodels.formula.api as sm\n",
    "result = sm.ols(formula=\"Price ~ Lasso + Tree\", data=stacked_lasso_tree).fit()"
   ]
  },
  {
   "cell_type": "code",
   "execution_count": 361,
   "metadata": {},
   "outputs": [
    {
     "data": {
      "text/html": [
       "<table class=\"simpletable\">\n",
       "<caption>OLS Regression Results</caption>\n",
       "<tr>\n",
       "  <th>Dep. Variable:</th>          <td>Price</td>      <th>  R-squared:         </th> <td>   0.997</td> \n",
       "</tr>\n",
       "<tr>\n",
       "  <th>Model:</th>                   <td>OLS</td>       <th>  Adj. R-squared:    </th> <td>   0.997</td> \n",
       "</tr>\n",
       "<tr>\n",
       "  <th>Method:</th>             <td>Least Squares</td>  <th>  F-statistic:       </th> <td>4.424e+04</td>\n",
       "</tr>\n",
       "<tr>\n",
       "  <th>Date:</th>             <td>Thu, 31 Aug 2017</td> <th>  Prob (F-statistic):</th> <td>1.01e-306</td>\n",
       "</tr>\n",
       "<tr>\n",
       "  <th>Time:</th>                 <td>18:13:07</td>     <th>  Log-Likelihood:    </th> <td>  182.76</td> \n",
       "</tr>\n",
       "<tr>\n",
       "  <th>No. Observations:</th>      <td>   241</td>      <th>  AIC:               </th> <td>  -359.5</td> \n",
       "</tr>\n",
       "<tr>\n",
       "  <th>Df Residuals:</th>          <td>   238</td>      <th>  BIC:               </th> <td>  -349.1</td> \n",
       "</tr>\n",
       "<tr>\n",
       "  <th>Df Model:</th>              <td>     2</td>      <th>                     </th>     <td> </td>    \n",
       "</tr>\n",
       "<tr>\n",
       "  <th>Covariance Type:</th>      <td>nonrobust</td>    <th>                     </th>     <td> </td>    \n",
       "</tr>\n",
       "</table>\n",
       "<table class=\"simpletable\">\n",
       "<tr>\n",
       "      <td></td>         <th>coef</th>     <th>std err</th>      <th>t</th>      <th>P>|t|</th>  <th>[0.025</th>    <th>0.975]</th>  \n",
       "</tr>\n",
       "<tr>\n",
       "  <th>Intercept</th> <td>   -0.3851</td> <td>    0.119</td> <td>   -3.244</td> <td> 0.001</td> <td>   -0.619</td> <td>   -0.151</td>\n",
       "</tr>\n",
       "<tr>\n",
       "  <th>Lasso</th>     <td>    0.0626</td> <td>    0.020</td> <td>    3.160</td> <td> 0.002</td> <td>    0.024</td> <td>    0.102</td>\n",
       "</tr>\n",
       "<tr>\n",
       "  <th>Tree</th>      <td>    0.9490</td> <td>    0.019</td> <td>   49.284</td> <td> 0.000</td> <td>    0.911</td> <td>    0.987</td>\n",
       "</tr>\n",
       "</table>\n",
       "<table class=\"simpletable\">\n",
       "<tr>\n",
       "  <th>Omnibus:</th>       <td>404.161</td> <th>  Durbin-Watson:     </th> <td>   1.979</td> \n",
       "</tr>\n",
       "<tr>\n",
       "  <th>Prob(Omnibus):</th> <td> 0.000</td>  <th>  Jarque-Bera (JB):  </th> <td>97342.522</td>\n",
       "</tr>\n",
       "<tr>\n",
       "  <th>Skew:</th>          <td> 8.632</td>  <th>  Prob(JB):          </th> <td>    0.00</td> \n",
       "</tr>\n",
       "<tr>\n",
       "  <th>Kurtosis:</th>      <td>99.932</td>  <th>  Cond. No.          </th> <td>    777.</td> \n",
       "</tr>\n",
       "</table>"
      ],
      "text/plain": [
       "<class 'statsmodels.iolib.summary.Summary'>\n",
       "\"\"\"\n",
       "                            OLS Regression Results                            \n",
       "==============================================================================\n",
       "Dep. Variable:                  Price   R-squared:                       0.997\n",
       "Model:                            OLS   Adj. R-squared:                  0.997\n",
       "Method:                 Least Squares   F-statistic:                 4.424e+04\n",
       "Date:                Thu, 31 Aug 2017   Prob (F-statistic):          1.01e-306\n",
       "Time:                        18:13:07   Log-Likelihood:                 182.76\n",
       "No. Observations:                 241   AIC:                            -359.5\n",
       "Df Residuals:                     238   BIC:                            -349.1\n",
       "Df Model:                           2                                         \n",
       "Covariance Type:            nonrobust                                         \n",
       "==============================================================================\n",
       "                 coef    std err          t      P>|t|      [0.025      0.975]\n",
       "------------------------------------------------------------------------------\n",
       "Intercept     -0.3851      0.119     -3.244      0.001      -0.619      -0.151\n",
       "Lasso          0.0626      0.020      3.160      0.002       0.024       0.102\n",
       "Tree           0.9490      0.019     49.284      0.000       0.911       0.987\n",
       "==============================================================================\n",
       "Omnibus:                      404.161   Durbin-Watson:                   1.979\n",
       "Prob(Omnibus):                  0.000   Jarque-Bera (JB):            97342.522\n",
       "Skew:                           8.632   Prob(JB):                         0.00\n",
       "Kurtosis:                      99.932   Cond. No.                         777.\n",
       "==============================================================================\n",
       "\n",
       "Warnings:\n",
       "[1] Standard Errors assume that the covariance matrix of the errors is correctly specified.\n",
       "\"\"\""
      ]
     },
     "execution_count": 361,
     "metadata": {},
     "output_type": "execute_result"
    }
   ],
   "source": [
    "result.summary()"
   ]
  },
  {
   "cell_type": "code",
   "execution_count": 362,
   "metadata": {
    "collapsed": true
   },
   "outputs": [],
   "source": [
    "predictions = result.predict(exog=stacked_lasso_tree) "
   ]
  },
  {
   "cell_type": "code",
   "execution_count": 363,
   "metadata": {},
   "outputs": [
    {
     "data": {
      "text/html": [
       "<div>\n",
       "<style>\n",
       "    .dataframe thead tr:only-child th {\n",
       "        text-align: right;\n",
       "    }\n",
       "\n",
       "    .dataframe thead th {\n",
       "        text-align: left;\n",
       "    }\n",
       "\n",
       "    .dataframe tbody tr th {\n",
       "        vertical-align: top;\n",
       "    }\n",
       "</style>\n",
       "<table border=\"1\" class=\"dataframe\">\n",
       "  <thead>\n",
       "    <tr style=\"text-align: right;\">\n",
       "      <th></th>\n",
       "      <th>Test RMSE</th>\n",
       "      <th>SE</th>\n",
       "      <th>Test R2</th>\n",
       "      <th>SE</th>\n",
       "    </tr>\n",
       "  </thead>\n",
       "  <tbody>\n",
       "    <tr>\n",
       "      <th>Stacked Model with Tree and LASSO</th>\n",
       "      <td>0.113</td>\n",
       "      <td>0.045</td>\n",
       "      <td>0.997</td>\n",
       "      <td>0.002</td>\n",
       "    </tr>\n",
       "  </tbody>\n",
       "</table>\n",
       "</div>"
      ],
      "text/plain": [
       "                                   Test RMSE     SE  Test R2     SE\n",
       "Stacked Model with Tree and LASSO      0.113  0.045    0.997  0.002"
      ]
     },
     "execution_count": 363,
     "metadata": {},
     "output_type": "execute_result"
    }
   ],
   "source": [
    "columns=['Test RMSE', 'SE', 'Test R2', 'SE']\n",
    "rows = [ 'Stacked Model with Tree and LASSO']\n",
    "results=pd.DataFrame(0.0, columns=columns, index=rows) \n",
    "\n",
    "results.iloc[0,0], results.iloc[0,1] = rmse_jack(y_test, predictions)\n",
    "results.iloc[0,2], results.iloc[0,3] = (r2_jack(y_test, predictions))\n",
    "\n",
    "results.round(3)"
   ]
  },
  {
   "cell_type": "code",
   "execution_count": null,
   "metadata": {
    "collapsed": true
   },
   "outputs": [],
   "source": []
  }
 ],
 "metadata": {
  "kernelspec": {
   "display_name": "Python 3",
   "language": "python",
   "name": "python3"
  },
  "language_info": {
   "codemirror_mode": {
    "name": "ipython",
    "version": 3
   },
   "file_extension": ".py",
   "mimetype": "text/x-python",
   "name": "python",
   "nbconvert_exporter": "python",
   "pygments_lexer": "ipython3",
   "version": "3.6.1"
  }
 },
 "nbformat": 4,
 "nbformat_minor": 2
}
