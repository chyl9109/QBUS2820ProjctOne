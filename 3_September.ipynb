{
 "cells": [
  {
   "cell_type": "code",
   "execution_count": 1,
   "metadata": {},
   "outputs": [
    {
     "name": "stderr",
     "output_type": "stream",
     "text": [
      "/Users/ChristopherHyland/anaconda/lib/python3.6/site-packages/statsmodels/compat/pandas.py:56: FutureWarning: The pandas.core.datetools module is deprecated and will be removed in a future version. Please use the pandas.tseries module instead.\n",
      "  from pandas.core import datetools\n"
     ]
    }
   ],
   "source": [
    "from sklearn.model_selection import cross_val_score\n",
    "from sklearn.linear_model import LassoCV\n",
    "from sklearn.model_selection import KFold\n",
    "from sklearn.linear_model import ElasticNetCV\n",
    "from sklearn.metrics import r2_score\n",
    "from sklearn.preprocessing import StandardScaler\n",
    "from sklearn.pipeline import Pipeline\n",
    "from sklearn.metrics import make_scorer\n",
    "from sklearn.tree import DecisionTreeRegressor\n",
    "from sklearn.model_selection import GridSearchCV\n",
    "from sklearn.model_selection import ShuffleSplit\n",
    "import pandas as pd\n",
    "import numpy as np\n",
    "import matplotlib.pyplot as plt\n",
    "import seaborn as sns\n",
    "from sklearn.metrics import r2_score\n",
    "import warnings\n",
    "import statsmodels.formula.api as smf\n",
    "from sklearn.metrics import mean_absolute_error\n",
    "from sklearn.ensemble import AdaBoostRegressor\n",
    "from sklearn.tree import DecisionTreeRegressor\n",
    "from QBUS2820 import rmse_jack, r2_jack \n",
    "from sklearn.linear_model import Ridge\n",
    "from sklearn.linear_model import RidgeCV\n",
    "from QBUS2820 import forward\n",
    "from sklearn.ensemble import ExtraTreesRegressor, BaggingRegressor, GradientBoostingRegressor,RandomForestRegressor\n",
    "from sklearn import linear_model\n",
    "from sklearn.neighbors import RadiusNeighborsRegressor,NearestNeighbors"
   ]
  },
  {
   "cell_type": "markdown",
   "metadata": {},
   "source": [
    "### Using standardised data for LASSO, and Ridge"
   ]
  },
  {
   "cell_type": "code",
   "execution_count": 2,
   "metadata": {
    "collapsed": true
   },
   "outputs": [],
   "source": [
    "data = pd.read_csv('TrainStandard.csv')\n",
    "final_train = data.sample(frac=0.6, random_state=1)\n",
    "final_test = data[data.index.isin(final_train.index)==False]\n",
    "final_train.head()\n",
    "y_train = final_train.pop('SalePrice')\n",
    "y_test = final_test.pop('SalePrice')\n",
    "\n",
    "y_train\n",
    "mu=y_train.mean()\n",
    "sigma=y_train.std() \n",
    "\n",
    "standardPrice=(y_train-mu)/sigma"
   ]
  },
  {
   "cell_type": "code",
   "execution_count": 3,
   "metadata": {
    "collapsed": true
   },
   "outputs": [],
   "source": [
    "method = []\n",
    "pred = []"
   ]
  },
  {
   "cell_type": "code",
   "execution_count": 4,
   "metadata": {
    "collapsed": true
   },
   "outputs": [],
   "source": [
    "#LASSO\n",
    "lasso = LassoCV(cv=10)\n",
    "lasso.fit(final_train, np.ravel(standardPrice)) \n",
    "pred_L = lasso.predict(final_test)\n",
    "predFinalLasso = (pred_L*sigma) + mu\n",
    "method.append('LASSO')\n",
    "pred.append(predFinalLasso)"
   ]
  },
  {
   "cell_type": "code",
   "execution_count": 5,
   "metadata": {
    "collapsed": true
   },
   "outputs": [],
   "source": [
    "#RIDGE\n",
    "alphas = np.exp(np.linspace(-10,20,500)) \n",
    "ridge = RidgeCV(alphas=alphas, cv=10)\n",
    "ridge.fit(final_train, np.ravel(standardPrice))\n",
    "ridge = Ridge(alpha=ridge.alpha_)\n",
    "ridge.fit(final_train, np.ravel(standardPrice))\n",
    "pred_R = ridge.predict(final_test)\n",
    "predFinalRidge = (pred_R*sigma) + mu\n",
    "method.append('Ridge')\n",
    "pred.append(predFinalRidge)"
   ]
  },
  {
   "cell_type": "code",
   "execution_count": 6,
   "metadata": {
    "collapsed": true
   },
   "outputs": [],
   "source": [
    "#ENET\n",
    "#Elastic Net\n",
    "\n",
    "enet = ElasticNetCV(l1_ratio=[0.01,0.05,0.1,0.2,0.3,0.4,0.5,0.6,0.7,0.8,0.9,0.95,0.99], cv=10)\n",
    "enet.fit(final_train, np.ravel(standardPrice))\n",
    "\n",
    "from sklearn.linear_model import ElasticNet\n",
    "enet = ElasticNet(alpha=enet.alpha_, l1_ratio=enet.l1_ratio_)\n",
    "enet.fit(final_train, np.ravel(standardPrice))\n",
    "pred_E = enet.predict(final_test)\n",
    "predFinalEnet = (pred_E*sigma) + mu\n",
    "method.append('ENET')\n",
    "pred.append(predFinalEnet)"
   ]
  },
  {
   "cell_type": "code",
   "execution_count": 8,
   "metadata": {},
   "outputs": [
    {
     "data": {
      "text/html": [
       "<div>\n",
       "<style>\n",
       "    .dataframe thead tr:only-child th {\n",
       "        text-align: right;\n",
       "    }\n",
       "\n",
       "    .dataframe thead th {\n",
       "        text-align: left;\n",
       "    }\n",
       "\n",
       "    .dataframe tbody tr th {\n",
       "        vertical-align: top;\n",
       "    }\n",
       "</style>\n",
       "<table border=\"1\" class=\"dataframe\">\n",
       "  <thead>\n",
       "    <tr style=\"text-align: right;\">\n",
       "      <th></th>\n",
       "      <th>Test RMSE</th>\n",
       "      <th>SE</th>\n",
       "      <th>Jack R2</th>\n",
       "      <th>SE</th>\n",
       "      <th>MAE</th>\n",
       "      <th>R-square</th>\n",
       "    </tr>\n",
       "  </thead>\n",
       "  <tbody>\n",
       "    <tr>\n",
       "      <th>LASSO</th>\n",
       "      <td>22302.821</td>\n",
       "      <td>3273.858</td>\n",
       "      <td>0.898</td>\n",
       "      <td>0.027</td>\n",
       "      <td>14657.405</td>\n",
       "      <td>0.898</td>\n",
       "    </tr>\n",
       "    <tr>\n",
       "      <th>Ridge</th>\n",
       "      <td>22198.874</td>\n",
       "      <td>3205.593</td>\n",
       "      <td>0.899</td>\n",
       "      <td>0.027</td>\n",
       "      <td>14814.092</td>\n",
       "      <td>0.899</td>\n",
       "    </tr>\n",
       "    <tr>\n",
       "      <th>ENET</th>\n",
       "      <td>22302.881</td>\n",
       "      <td>3274.824</td>\n",
       "      <td>0.898</td>\n",
       "      <td>0.027</td>\n",
       "      <td>14657.273</td>\n",
       "      <td>0.898</td>\n",
       "    </tr>\n",
       "  </tbody>\n",
       "</table>\n",
       "</div>"
      ],
      "text/plain": [
       "       Test RMSE        SE  Jack R2     SE        MAE  R-square\n",
       "LASSO  22302.821  3273.858    0.898  0.027  14657.405     0.898\n",
       "Ridge  22198.874  3205.593    0.899  0.027  14814.092     0.899\n",
       "ENET   22302.881  3274.824    0.898  0.027  14657.273     0.898"
      ]
     },
     "execution_count": 8,
     "metadata": {},
     "output_type": "execute_result"
    }
   ],
   "source": [
    "getResultTable(method,pred)"
   ]
  },
  {
   "cell_type": "code",
   "execution_count": 10,
   "metadata": {},
   "outputs": [],
   "source": [
    "data = pd.read_csv('TrainSale1.csv')\n",
    "final_train = data.sample(frac=0.6, random_state=1)\n",
    "final_test = data[data.index.isin(final_train.index)==False]\n",
    "final_train.head()\n",
    "y_train = final_train.pop('SalePrice')\n",
    "y_test = final_test.pop('SalePrice')\n",
    "\n",
    "\n",
    "GBoost = GradientBoostingRegressor(n_estimators=3000, learning_rate=0.05,\n",
    "                                   max_depth=4, max_features='sqrt',\n",
    "                                   min_samples_leaf=15, min_samples_split=10, \n",
    "                                   loss='huber', random_state =5)\n",
    "GBoost.fit(final_train,y_train)\n",
    "predFinalBoost = GBoost.predict(final_test)\n",
    "method.append('GBoost')\n",
    "pred.append(predFinalBoost)\n",
    "\n",
    "#Forward selection\n",
    "fwd = forward()\n",
    "fwd.fit(final_train, y_train)\n",
    "predforward = fwd.predict(final_test)\n",
    "method.append('Forward')\n",
    "pred.append(predforward)\n",
    "\n",
    "\n"
   ]
  },
  {
   "cell_type": "code",
   "execution_count": 12,
   "metadata": {},
   "outputs": [],
   "source": [
    "regr = AdaBoostRegressor(loss='linear', learning_rate = 1, n_estimators = 350)\n",
    "regr = regr.fit(final_train,y_train)\n",
    "adapred = regr.predict(final_test)\n",
    "method.append('AdaBoost')\n",
    "pred.append(adapred)\n"
   ]
  },
  {
   "cell_type": "code",
   "execution_count": 14,
   "metadata": {
    "collapsed": true
   },
   "outputs": [],
   "source": [
    "GBoost = GradientBoostingRegressor(n_estimators=3000, learning_rate=0.05,\n",
    "                                   max_depth=4, max_features='sqrt',\n",
    "                                   min_samples_leaf=15, min_samples_split=10, \n",
    "                                   loss='lad', random_state =5)\n",
    "GBoost.fit(final_train,y_train)\n",
    "predFinalBoost = GBoost.predict(final_test)\n",
    "method.append('GBoost LAD')\n",
    "pred.append(predFinalBoost)"
   ]
  },
  {
   "cell_type": "code",
   "execution_count": 15,
   "metadata": {},
   "outputs": [
    {
     "data": {
      "text/html": [
       "<div>\n",
       "<style>\n",
       "    .dataframe thead tr:only-child th {\n",
       "        text-align: right;\n",
       "    }\n",
       "\n",
       "    .dataframe thead th {\n",
       "        text-align: left;\n",
       "    }\n",
       "\n",
       "    .dataframe tbody tr th {\n",
       "        vertical-align: top;\n",
       "    }\n",
       "</style>\n",
       "<table border=\"1\" class=\"dataframe\">\n",
       "  <thead>\n",
       "    <tr style=\"text-align: right;\">\n",
       "      <th></th>\n",
       "      <th>Test RMSE</th>\n",
       "      <th>SE</th>\n",
       "      <th>Jack R2</th>\n",
       "      <th>SE</th>\n",
       "      <th>MAE</th>\n",
       "      <th>R-square</th>\n",
       "    </tr>\n",
       "  </thead>\n",
       "  <tbody>\n",
       "    <tr>\n",
       "      <th>LASSO</th>\n",
       "      <td>22302.821</td>\n",
       "      <td>3273.858</td>\n",
       "      <td>0.898</td>\n",
       "      <td>0.027</td>\n",
       "      <td>14657.405</td>\n",
       "      <td>0.898</td>\n",
       "    </tr>\n",
       "    <tr>\n",
       "      <th>Ridge</th>\n",
       "      <td>22198.874</td>\n",
       "      <td>3205.593</td>\n",
       "      <td>0.899</td>\n",
       "      <td>0.027</td>\n",
       "      <td>14814.092</td>\n",
       "      <td>0.899</td>\n",
       "    </tr>\n",
       "    <tr>\n",
       "      <th>ENET</th>\n",
       "      <td>22302.881</td>\n",
       "      <td>3274.824</td>\n",
       "      <td>0.898</td>\n",
       "      <td>0.027</td>\n",
       "      <td>14657.273</td>\n",
       "      <td>0.898</td>\n",
       "    </tr>\n",
       "    <tr>\n",
       "      <th>GBoost</th>\n",
       "      <td>20998.196</td>\n",
       "      <td>3485.240</td>\n",
       "      <td>0.910</td>\n",
       "      <td>0.020</td>\n",
       "      <td>13910.467</td>\n",
       "      <td>0.910</td>\n",
       "    </tr>\n",
       "    <tr>\n",
       "      <th>Forward</th>\n",
       "      <td>23308.651</td>\n",
       "      <td>2581.009</td>\n",
       "      <td>0.889</td>\n",
       "      <td>0.022</td>\n",
       "      <td>15289.870</td>\n",
       "      <td>0.889</td>\n",
       "    </tr>\n",
       "    <tr>\n",
       "      <th>AdaBoost</th>\n",
       "      <td>25066.368</td>\n",
       "      <td>2520.651</td>\n",
       "      <td>0.872</td>\n",
       "      <td>0.016</td>\n",
       "      <td>18337.600</td>\n",
       "      <td>0.872</td>\n",
       "    </tr>\n",
       "    <tr>\n",
       "      <th>GBoost LAD</th>\n",
       "      <td>21317.049</td>\n",
       "      <td>3559.588</td>\n",
       "      <td>0.907</td>\n",
       "      <td>0.021</td>\n",
       "      <td>14102.206</td>\n",
       "      <td>0.907</td>\n",
       "    </tr>\n",
       "  </tbody>\n",
       "</table>\n",
       "</div>"
      ],
      "text/plain": [
       "            Test RMSE        SE  Jack R2     SE        MAE  R-square\n",
       "LASSO       22302.821  3273.858    0.898  0.027  14657.405     0.898\n",
       "Ridge       22198.874  3205.593    0.899  0.027  14814.092     0.899\n",
       "ENET        22302.881  3274.824    0.898  0.027  14657.273     0.898\n",
       "GBoost      20998.196  3485.240    0.910  0.020  13910.467     0.910\n",
       "Forward     23308.651  2581.009    0.889  0.022  15289.870     0.889\n",
       "AdaBoost    25066.368  2520.651    0.872  0.016  18337.600     0.872\n",
       "GBoost LAD  21317.049  3559.588    0.907  0.021  14102.206     0.907"
      ]
     },
     "execution_count": 15,
     "metadata": {},
     "output_type": "execute_result"
    }
   ],
   "source": [
    "getResultTable(method,pred)"
   ]
  },
  {
   "cell_type": "markdown",
   "metadata": {},
   "source": [
    "### Predictions"
   ]
  },
  {
   "cell_type": "code",
   "execution_count": null,
   "metadata": {
    "collapsed": true
   },
   "outputs": [],
   "source": [
    "#Using standardised data for ridge and lasso\n",
    "data = pd.read_csv('TrainStandard.csv')\n",
    "y_train = data.pop('SalePrice')\n",
    "\n",
    "y_train\n",
    "mu=y_train.mean()\n",
    "sigma=y_train.std() \n",
    "\n",
    "standardPrice=(y_train-mu)/sigma\n",
    "kaggle1 = pd.read_csv('TestStandard.csv')\n",
    "\n",
    "#RIDGE\n",
    "alphas = np.exp(np.linspace(-10,20,500)) \n",
    "ridge = RidgeCV(alphas=alphas, cv=10)\n",
    "ridge.fit(data, np.ravel(standardPrice))\n",
    "ridge = Ridge(alpha=ridge.alpha_)\n",
    "ridge.fit(data, np.ravel(standardPrice))\n",
    "pred_R = ridge.predict(kaggle1)\n",
    "predFinalRidge = (pred_R*sigma) + mu\n"
   ]
  },
  {
   "cell_type": "code",
   "execution_count": 16,
   "metadata": {
    "collapsed": true
   },
   "outputs": [],
   "source": [
    "data = pd.read_csv('Train6.csv')\n",
    "y_price = data.pop('SalePrice')\n",
    "kaggle = pd.read_csv('Test6.csv')\n",
    "\n",
    "GBoost = GradientBoostingRegressor(n_estimators=3000, learning_rate=0.05,\n",
    "                                   max_depth=4, max_features='sqrt',\n",
    "                                   min_samples_leaf=15, min_samples_split=10, \n",
    "                                   loss='huber', random_state =5)\n",
    "GBoost.fit(data,y_price)\n",
    "predFinalBoost = GBoost.predict(kaggle)"
   ]
  },
  {
   "cell_type": "code",
   "execution_count": 17,
   "metadata": {
    "collapsed": true
   },
   "outputs": [],
   "source": [
    "#This is for the indices\n",
    "ind = np.arange(1,1609)\n",
    "headers = ['Id','Prediction']\n",
    "prediction = pd.DataFrame({'Id':ind, 'Prediction':predFinalBoost})\n",
    "prediction\n",
    "#Saving results into CSV file \n",
    "prediction.to_csv(\"PredictionDay3_1.csv\", index=False)"
   ]
  },
  {
   "cell_type": "markdown",
   "metadata": {},
   "source": [
    "### Really strong performance"
   ]
  },
  {
   "cell_type": "code",
   "execution_count": 18,
   "metadata": {
    "collapsed": true
   },
   "outputs": [],
   "source": [
    "#Forward selection\n",
    "fwd = forward()\n",
    "fwd.fit(data, y_price)\n",
    "predforward = fwd.predict(kaggle)\n"
   ]
  },
  {
   "cell_type": "code",
   "execution_count": 20,
   "metadata": {},
   "outputs": [],
   "source": [
    "finalPred2 = (predforward+predFinalBoost)/2\n",
    "#This is for the indices\n",
    "ind = np.arange(1,1609)\n",
    "headers = ['Id','Prediction']\n",
    "prediction2 = pd.DataFrame({'Id':ind, 'Prediction':finalPred2})\n",
    "prediction2\n",
    "#Saving results into CSV file \n",
    "prediction2.to_csv(\"PredictionDay3_2.csv\", index=False)"
   ]
  },
  {
   "cell_type": "markdown",
   "metadata": {},
   "source": [
    "### Slightly better result"
   ]
  },
  {
   "cell_type": "code",
   "execution_count": 21,
   "metadata": {
    "collapsed": true
   },
   "outputs": [],
   "source": [
    "#Extremely Random forest\n",
    "regr = ExtraTreesRegressor(criterion='mae',max_depth=None,min_samples_split=2)\n",
    "regr = regr.fit(data,y_price)\n",
    "predFinalExtRandomForestlad = regr.predict(kaggle)\n"
   ]
  },
  {
   "cell_type": "code",
   "execution_count": 22,
   "metadata": {
    "collapsed": true
   },
   "outputs": [],
   "source": [
    "finalPred3 = (predFinalExtRandomForestlad+predFinalBoost+predforward)/3\n",
    "#This is for the indices\n",
    "ind = np.arange(1,1609)\n",
    "headers = ['Id','Prediction']\n",
    "prediction3 = pd.DataFrame({'Id':ind, 'Prediction':finalPred3})\n",
    "prediction3\n",
    "#Saving results into CSV file \n",
    "prediction3.to_csv(\"PredictionDay3_3.csv\", index=False)"
   ]
  },
  {
   "cell_type": "markdown",
   "metadata": {},
   "source": [
    "### Result has improved again"
   ]
  },
  {
   "cell_type": "code",
   "execution_count": 23,
   "metadata": {
    "collapsed": true
   },
   "outputs": [],
   "source": [
    "#Using standardised data for ridge and lasso\n",
    "data = pd.read_csv('TrainStandard.csv')\n",
    "y_train = data.pop('SalePrice')\n",
    "\n",
    "y_train\n",
    "mu=y_train.mean()\n",
    "sigma=y_train.std() \n",
    "\n",
    "standardPrice=(y_train-mu)/sigma\n",
    "kaggle1 = pd.read_csv('TestStandard.csv')\n",
    "\n",
    "#RIDGE\n",
    "alphas = np.exp(np.linspace(-10,20,500)) \n",
    "ridge = RidgeCV(alphas=alphas, cv=10)\n",
    "ridge.fit(data, np.ravel(standardPrice))\n",
    "ridge = Ridge(alpha=ridge.alpha_)\n",
    "ridge.fit(data, np.ravel(standardPrice))\n",
    "pred_R = ridge.predict(kaggle1)\n",
    "predFinalRidge = (pred_R*sigma) + mu\n"
   ]
  },
  {
   "cell_type": "code",
   "execution_count": 24,
   "metadata": {
    "collapsed": true
   },
   "outputs": [],
   "source": [
    "finalPred4 = (predFinalExtRandomForestlad+predFinalBoost+predforward+predFinalRidge)/4\n",
    "#This is for the indices\n",
    "ind = np.arange(1,1609)\n",
    "headers = ['Id','Prediction']\n",
    "prediction4 = pd.DataFrame({'Id':ind, 'Prediction':finalPred4})\n",
    "prediction4\n",
    "#Saving results into CSV file \n",
    "prediction4.to_csv(\"PredictionDay3_4.csv\", index=False)"
   ]
  },
  {
   "cell_type": "markdown",
   "metadata": {},
   "source": [
    "# Ridge Regression is bad for our final Model"
   ]
  },
  {
   "cell_type": "code",
   "execution_count": 35,
   "metadata": {
    "collapsed": true
   },
   "outputs": [],
   "source": [
    "data = pd.read_csv('Train6.csv')\n",
    "y_price = data.pop('SalePrice')\n",
    "kaggle = pd.read_csv('Test6.csv')\n",
    "\n",
    "regr = AdaBoostRegressor(DecisionTreeRegressor(max_depth=11),random_state=0)\n",
    "regr = regr.fit(data,y_price)\n",
    "predAda = regr.predict(kaggle)"
   ]
  },
  {
   "cell_type": "code",
   "execution_count": 36,
   "metadata": {
    "collapsed": true
   },
   "outputs": [],
   "source": [
    "#Extremely Random forest\n",
    "regr = ExtraTreesRegressor(criterion='mae',max_depth=None,min_samples_split=2)\n",
    "regr = regr.fit(data,y_price)\n",
    "predFinalExtRandomForestlad = regr.predict(kaggle)\n"
   ]
  },
  {
   "cell_type": "code",
   "execution_count": 37,
   "metadata": {
    "collapsed": true
   },
   "outputs": [],
   "source": [
    "GBoost = GradientBoostingRegressor(n_estimators=3000, learning_rate=0.05,\n",
    "                                   max_depth=4, max_features='sqrt',\n",
    "                                   min_samples_leaf=15, min_samples_split=10, \n",
    "                                   loss='huber', random_state =5)\n",
    "GBoost.fit(data,y_price)\n",
    "predFinalBoost = GBoost.predict(kaggle)"
   ]
  },
  {
   "cell_type": "code",
   "execution_count": 38,
   "metadata": {},
   "outputs": [],
   "source": [
    "#Forward selection\n",
    "fwd = forward()\n",
    "fwd.fit(data, y_price)\n",
    "predforward = fwd.predict(kaggle)\n"
   ]
  },
  {
   "cell_type": "code",
   "execution_count": 39,
   "metadata": {},
   "outputs": [],
   "source": [
    "finalPred5 = (predFinalExtRandomForestlad+predFinalBoost+predforward+predAda)/4\n",
    "#This is for the indices\n",
    "ind = np.arange(1,1609)\n",
    "headers = ['Id','Prediction']\n",
    "prediction5 = pd.DataFrame({'Id':ind, 'Prediction':finalPred5})\n",
    "prediction5\n",
    "#Saving results into CSV file \n",
    "prediction5.to_csv(\"PredictionDay3_5.csv\", index=False)"
   ]
  },
  {
   "cell_type": "code",
   "execution_count": null,
   "metadata": {
    "collapsed": true
   },
   "outputs": [],
   "source": []
  }
 ],
 "metadata": {
  "kernelspec": {
   "display_name": "Python 3",
   "language": "python",
   "name": "python3"
  },
  "language_info": {
   "codemirror_mode": {
    "name": "ipython",
    "version": 3
   },
   "file_extension": ".py",
   "mimetype": "text/x-python",
   "name": "python",
   "nbconvert_exporter": "python",
   "pygments_lexer": "ipython3",
   "version": "3.6.1"
  }
 },
 "nbformat": 4,
 "nbformat_minor": 2
}
