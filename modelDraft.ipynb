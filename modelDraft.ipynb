{
 "cells": [
  {
   "cell_type": "code",
   "execution_count": 342,
   "metadata": {
    "collapsed": true
   },
   "outputs": [],
   "source": [
    "import pandas as pd\n",
    "import numpy as np\n",
    "%matplotlib inline\n",
    "import matplotlib.pyplot as plt\n",
    "import seaborn as sns\n",
    "import warnings\n",
    "import statsmodels.formula.api as smf\n",
    "warnings.filterwarnings('ignore')\n",
    "from scipy import stats\n",
    "from scipy.stats import norm, skew\n",
    "from sklearn.preprocessing import LabelEncoder\n",
    "import statsmodels.api as sm\n",
    "data = pd.read_csv('Train2.csv')\n",
    "\n",
    "\n",
    "#y_train = final_train.pop('LogPrice')\n",
    "#y_test = final_test.pop('LogPrice')\n",
    "\n"
   ]
  },
  {
   "cell_type": "code",
   "execution_count": 343,
   "metadata": {
    "collapsed": true
   },
   "outputs": [],
   "source": [
    "## SalePrice as response\n",
    "\n",
    "\n",
    "final_train = data.sample(frac=0.5, random_state=1)\n",
    "final_test = data[data.index.isin(final_train.index)==False]\n",
    "\n",
    "\n",
    "\n",
    "#y_train = final_train.pop('SalePrice')\n",
    "#y_test = final_test.pop('SalePrice')"
   ]
  },
  {
   "cell_type": "code",
   "execution_count": 344,
   "metadata": {
    "collapsed": true
   },
   "outputs": [],
   "source": [
    "\n",
    "\n",
    "\n",
    "y_train = final_train.pop('BoxCoxPrice')\n",
    "y_test = final_test.pop('BoxCoxPrice')\n",
    "\n"
   ]
  },
  {
   "cell_type": "code",
   "execution_count": 345,
   "metadata": {
    "collapsed": true
   },
   "outputs": [],
   "source": [
    "import numpy\n",
    "import pandas\n",
    "from sklearn.model_selection import cross_val_score\n",
    "from sklearn.model_selection import KFold\n",
    "from sklearn.preprocessing import StandardScaler\n",
    "from sklearn.pipeline import Pipeline\n"
   ]
  },
  {
   "cell_type": "code",
   "execution_count": 346,
   "metadata": {
    "collapsed": true
   },
   "outputs": [],
   "source": [
    "from sklearn.metrics import make_scorer\n",
    "from sklearn.tree import DecisionTreeRegressor\n",
    "from sklearn.model_selection import GridSearchCV\n",
    "from sklearn.model_selection import ShuffleSplit"
   ]
  },
  {
   "cell_type": "code",
   "execution_count": 347,
   "metadata": {},
   "outputs": [
    {
     "data": {
      "text/plain": [
       "AdaBoostRegressor(base_estimator=DecisionTreeRegressor(criterion='mse', max_depth=9, max_features=None,\n",
       "           max_leaf_nodes=None, min_impurity_split=1e-07,\n",
       "           min_samples_leaf=1, min_samples_split=2,\n",
       "           min_weight_fraction_leaf=0.0, presort=False, random_state=None,\n",
       "           splitter='best'),\n",
       "         learning_rate=1.0, loss='linear', n_estimators=50, random_state=0)"
      ]
     },
     "execution_count": 347,
     "metadata": {},
     "output_type": "execute_result"
    }
   ],
   "source": [
    "from sklearn.ensemble import AdaBoostRegressor\n",
    "from sklearn.tree import DecisionTreeRegressor\n",
    "\n",
    "#http://scikit-learn.org/stable/modules/generated/sklearn.ensemble.AdaBoostRegressor.html#sklearn.ensemble.AdaBoostRegressor\n",
    "#http://scikit-learn.org/stable/auto_examples/ensemble/plot_adaboost_regression.html\n",
    "\n",
    "regr = AdaBoostRegressor(DecisionTreeRegressor(max_depth=9),random_state=0)\n",
    "regr.fit(final_train,y_train)"
   ]
  },
  {
   "cell_type": "code",
   "execution_count": 348,
   "metadata": {},
   "outputs": [
    {
     "data": {
      "text/plain": [
       "array([ 0.99733237,  0.99972011,  0.94914739,  0.99915505,  0.99543158,\n",
       "        0.99844488,  0.99369716,  0.99704496,  0.99867054,  0.99962393])"
      ]
     },
     "execution_count": 348,
     "metadata": {},
     "output_type": "execute_result"
    }
   ],
   "source": [
    "from sklearn.model_selection import cross_val_score\n",
    "#This uses cross validation to evaluate the score\n",
    "cross_val_score(regr, final_train, y_train, cv=10)"
   ]
  },
  {
   "cell_type": "raw",
   "metadata": {},
   "source": [
    "values = range(1,20)\n",
    "maximum = 0\n",
    "optimal_node = 0\n",
    "for i in values:\n",
    "    regr = AdaBoostRegressor(DecisionTreeRegressor(max_depth=i),random_state=0)\n",
    "    print(\"Cross val score for {} nodes\".format(i))\n",
    "    print(cross_val_score(regr, final_train, y_train, cv=10))\n",
    "    tot = 0\n",
    "    g = cross_val_score(regr, final_train, y_train, cv=10)\n",
    "    #Check to see if this layer is better since highest cross_val_score\n",
    "    for x in g:\n",
    "        tot = tot+x\n",
    "    if tot>maximum:\n",
    "        optimal_node = i"
   ]
  },
  {
   "cell_type": "code",
   "execution_count": 349,
   "metadata": {},
   "outputs": [
    {
     "name": "stdout",
     "output_type": "stream",
     "text": [
      "Optimal nodes is 19\n",
      "Cross val score for 19 nodes\n",
      "[ 0.99733237  0.99972011  0.94914739  0.99915505  0.99543158  0.99844488\n",
      "  0.99260007  0.99704496  0.99867054  0.99962393]\n",
      "Cross-Predicted Accuracy: 0.9961935892945614\n"
     ]
    }
   ],
   "source": [
    "from sklearn.metrics import r2_score\n",
    "print(\"Optimal nodes is {}\".format(19))\n",
    "regr = AdaBoostRegressor(DecisionTreeRegressor(max_depth=19),random_state=0)\n",
    "print(\"Cross val score for {} nodes\".format(19))\n",
    "print(cross_val_score(regr, final_train, y_train, cv=10))\n",
    "\n",
    "regr.fit(final_train, y_train)\n",
    "y_1 = regr.predict(final_test)\n",
    "accuracy = r2_score(y_test, y_1)\n",
    "print(\"Cross-Predicted Accuracy: {}\".format(accuracy))"
   ]
  },
  {
   "cell_type": "code",
   "execution_count": 350,
   "metadata": {},
   "outputs": [
    {
     "data": {
      "text/html": [
       "<div>\n",
       "<style>\n",
       "    .dataframe thead tr:only-child th {\n",
       "        text-align: right;\n",
       "    }\n",
       "\n",
       "    .dataframe thead th {\n",
       "        text-align: left;\n",
       "    }\n",
       "\n",
       "    .dataframe tbody tr th {\n",
       "        vertical-align: top;\n",
       "    }\n",
       "</style>\n",
       "<table border=\"1\" class=\"dataframe\">\n",
       "  <thead>\n",
       "    <tr style=\"text-align: right;\">\n",
       "      <th></th>\n",
       "      <th>Test RMSE</th>\n",
       "      <th>SE</th>\n",
       "      <th>Test R2</th>\n",
       "      <th>SE</th>\n",
       "    </tr>\n",
       "  </thead>\n",
       "  <tbody>\n",
       "    <tr>\n",
       "      <th>Results</th>\n",
       "      <td>0.001</td>\n",
       "      <td>0.0</td>\n",
       "      <td>0.996</td>\n",
       "      <td>0.002</td>\n",
       "    </tr>\n",
       "  </tbody>\n",
       "</table>\n",
       "</div>"
      ],
      "text/plain": [
       "         Test RMSE   SE  Test R2     SE\n",
       "Results      0.001  0.0    0.996  0.002"
      ]
     },
     "execution_count": 350,
     "metadata": {},
     "output_type": "execute_result"
    }
   ],
   "source": [
    "from QBUS2820 import rmse_jack, r2_jack \n",
    "#Jackknife method to be able to report the standard errors for the test results\n",
    "\n",
    "columns=['Test RMSE', 'SE', 'Test R2', 'SE']\n",
    "rows = ['Results']\n",
    "results=pd.DataFrame(0.0, columns=columns, index=rows) \n",
    "\n",
    "results.iloc[0,0], results.iloc[0,1] = rmse_jack(y_test, y_1)\n",
    "results.iloc[0,2], results.iloc[0,3] = (r2_jack(y_test, y_1))\n",
    "results.round(3)"
   ]
  },
  {
   "cell_type": "code",
   "execution_count": 351,
   "metadata": {
    "collapsed": true
   },
   "outputs": [],
   "source": [
    "from sklearn.linear_model import LassoCV\n",
    "\n",
    "lasso = LassoCV(cv=10)\n",
    "lasso.fit(final_train, np.ravel(y_train)) \n",
    "pred_L = lasso.predict(final_test)"
   ]
  },
  {
   "cell_type": "code",
   "execution_count": 352,
   "metadata": {
    "collapsed": true
   },
   "outputs": [],
   "source": [
    "#The decision tree with AdaBoosting\n",
    "regr.fit(final_train, y_train)\n",
    "pred_T = regr.predict(final_test)"
   ]
  },
  {
   "cell_type": "code",
   "execution_count": 353,
   "metadata": {
    "collapsed": true
   },
   "outputs": [],
   "source": [
    "#Combining the 2 predictions\n",
    "pred_combined = (pred_L+pred_T)/2"
   ]
  },
  {
   "cell_type": "code",
   "execution_count": 354,
   "metadata": {},
   "outputs": [
    {
     "data": {
      "text/html": [
       "<div>\n",
       "<style>\n",
       "    .dataframe thead tr:only-child th {\n",
       "        text-align: right;\n",
       "    }\n",
       "\n",
       "    .dataframe thead th {\n",
       "        text-align: left;\n",
       "    }\n",
       "\n",
       "    .dataframe tbody tr th {\n",
       "        vertical-align: top;\n",
       "    }\n",
       "</style>\n",
       "<table border=\"1\" class=\"dataframe\">\n",
       "  <thead>\n",
       "    <tr style=\"text-align: right;\">\n",
       "      <th></th>\n",
       "      <th>Test RMSE</th>\n",
       "      <th>SE</th>\n",
       "      <th>Test R2</th>\n",
       "      <th>SE</th>\n",
       "    </tr>\n",
       "  </thead>\n",
       "  <tbody>\n",
       "    <tr>\n",
       "      <th>Lasso</th>\n",
       "      <td>0.001</td>\n",
       "      <td>0.0</td>\n",
       "      <td>0.996</td>\n",
       "      <td>0.001</td>\n",
       "    </tr>\n",
       "    <tr>\n",
       "      <th>Adaboost Tree</th>\n",
       "      <td>0.001</td>\n",
       "      <td>0.0</td>\n",
       "      <td>0.996</td>\n",
       "      <td>0.002</td>\n",
       "    </tr>\n",
       "    <tr>\n",
       "      <th>Lasso + Tree</th>\n",
       "      <td>0.001</td>\n",
       "      <td>0.0</td>\n",
       "      <td>0.998</td>\n",
       "      <td>0.001</td>\n",
       "    </tr>\n",
       "  </tbody>\n",
       "</table>\n",
       "</div>"
      ],
      "text/plain": [
       "               Test RMSE   SE  Test R2     SE\n",
       "Lasso              0.001  0.0    0.996  0.001\n",
       "Adaboost Tree      0.001  0.0    0.996  0.002\n",
       "Lasso + Tree       0.001  0.0    0.998  0.001"
      ]
     },
     "execution_count": 354,
     "metadata": {},
     "output_type": "execute_result"
    }
   ],
   "source": [
    "columns=['Test RMSE', 'SE', 'Test R2', 'SE']\n",
    "rows = ['Lasso', 'Adaboost Tree', 'Lasso + Tree']\n",
    "results=pd.DataFrame(0.0, columns=columns, index=rows) \n",
    "\n",
    "results.iloc[0,0], results.iloc[0,1] = rmse_jack(y_test, pred_L)\n",
    "results.iloc[0,2], results.iloc[0,3] = (r2_jack(y_test, pred_L))\n",
    "results.iloc[1,0], results.iloc[1,1] = rmse_jack(y_test, pred_T)\n",
    "results.iloc[1,2], results.iloc[1,3] = (r2_jack(y_test, pred_T))\n",
    "results.iloc[2,0], results.iloc[2,1] = rmse_jack(y_test, pred_combined)\n",
    "results.iloc[2,2], results.iloc[2,3] = (r2_jack(y_test, pred_combined))\n",
    "\n",
    "results.round(3)"
   ]
  },
  {
   "cell_type": "code",
   "execution_count": 355,
   "metadata": {},
   "outputs": [
    {
     "data": {
      "text/plain": [
       "ElasticNet(alpha=7.8549277615487994e-05, copy_X=True, fit_intercept=True,\n",
       "      l1_ratio=0.90000000000000002, max_iter=1000, normalize=False,\n",
       "      positive=False, precompute=False, random_state=None,\n",
       "      selection='cyclic', tol=0.0001, warm_start=False)"
      ]
     },
     "execution_count": 355,
     "metadata": {},
     "output_type": "execute_result"
    }
   ],
   "source": [
    "#Elastic Net\n",
    "from sklearn.linear_model import ElasticNetCV\n",
    "enet = ElasticNetCV(l1_ratio=[0.01,0.05,0.1,0.2,0.3,0.4,0.5,0.6,0.7,0.8,0.9,0.95,0.99], cv=5)\n",
    "enet.fit(final_train, np.ravel(y_train))\n",
    "\n",
    "from sklearn.linear_model import ElasticNet\n",
    "enet = ElasticNet(alpha=enet.alpha_, l1_ratio=enet.l1_ratio_)\n",
    "enet.fit(final_train, np.ravel(y_train))"
   ]
  },
  {
   "cell_type": "code",
   "execution_count": 356,
   "metadata": {},
   "outputs": [
    {
     "data": {
      "text/plain": [
       "Ridge(alpha=4.5399929762484854e-05, copy_X=True, fit_intercept=True,\n",
       "   max_iter=None, normalize=False, random_state=None, solver='auto',\n",
       "   tol=0.001)"
      ]
     },
     "execution_count": 356,
     "metadata": {},
     "output_type": "execute_result"
    }
   ],
   "source": [
    "#Ridge Regression\n",
    "from sklearn.linear_model import Ridge\n",
    "from sklearn.linear_model import RidgeCV\n",
    "\n",
    "alphas = np.exp(np.linspace(-10,20,500)) \n",
    "ridge = RidgeCV(alphas=alphas, cv=5)\n",
    "ridge.fit(final_train, np.ravel(y_train))\n",
    "ridge = Ridge(alpha=ridge.alpha_)\n",
    "ridge.fit(final_train, np.ravel(y_train))"
   ]
  },
  {
   "cell_type": "code",
   "execution_count": 357,
   "metadata": {
    "collapsed": true
   },
   "outputs": [],
   "source": [
    "pred_R = ridge.predict(final_test)\n",
    "pred_L = lasso.predict(final_test)\n",
    "pred_E = enet.predict(final_test)"
   ]
  },
  {
   "cell_type": "code",
   "execution_count": 358,
   "metadata": {
    "collapsed": true
   },
   "outputs": [],
   "source": [
    "#Combining the all predictions\n",
    "pred_combined = (pred_L+pred_T)/2\n",
    "pred_combined2 = (pred_R+pred_T)/2\n",
    "pred_combined3 = (pred_E+pred_T)/2\n",
    "pred_combined4 = (pred_L+ + pred_R + pred_E + pred_T)/4"
   ]
  },
  {
   "cell_type": "code",
   "execution_count": 359,
   "metadata": {},
   "outputs": [
    {
     "data": {
      "text/html": [
       "<div>\n",
       "<style>\n",
       "    .dataframe thead tr:only-child th {\n",
       "        text-align: right;\n",
       "    }\n",
       "\n",
       "    .dataframe thead th {\n",
       "        text-align: left;\n",
       "    }\n",
       "\n",
       "    .dataframe tbody tr th {\n",
       "        vertical-align: top;\n",
       "    }\n",
       "</style>\n",
       "<table border=\"1\" class=\"dataframe\">\n",
       "  <thead>\n",
       "    <tr style=\"text-align: right;\">\n",
       "      <th></th>\n",
       "      <th>Test RMSE</th>\n",
       "      <th>SE</th>\n",
       "      <th>Test R2</th>\n",
       "      <th>SE</th>\n",
       "    </tr>\n",
       "  </thead>\n",
       "  <tbody>\n",
       "    <tr>\n",
       "      <th>Lasso</th>\n",
       "      <td>0.001</td>\n",
       "      <td>0.0</td>\n",
       "      <td>0.996</td>\n",
       "      <td>0.001</td>\n",
       "    </tr>\n",
       "    <tr>\n",
       "      <th>Adaboost Tree</th>\n",
       "      <td>0.001</td>\n",
       "      <td>0.0</td>\n",
       "      <td>0.996</td>\n",
       "      <td>0.002</td>\n",
       "    </tr>\n",
       "    <tr>\n",
       "      <th>Lasso + Tree</th>\n",
       "      <td>0.001</td>\n",
       "      <td>0.0</td>\n",
       "      <td>0.998</td>\n",
       "      <td>0.001</td>\n",
       "    </tr>\n",
       "    <tr>\n",
       "      <th>Ridge</th>\n",
       "      <td>0.000</td>\n",
       "      <td>0.0</td>\n",
       "      <td>1.000</td>\n",
       "      <td>0.000</td>\n",
       "    </tr>\n",
       "    <tr>\n",
       "      <th>Enet</th>\n",
       "      <td>0.001</td>\n",
       "      <td>0.0</td>\n",
       "      <td>0.996</td>\n",
       "      <td>0.001</td>\n",
       "    </tr>\n",
       "    <tr>\n",
       "      <th>Tree + Ridge</th>\n",
       "      <td>0.001</td>\n",
       "      <td>0.0</td>\n",
       "      <td>0.999</td>\n",
       "      <td>0.001</td>\n",
       "    </tr>\n",
       "    <tr>\n",
       "      <th>Tree + Enet</th>\n",
       "      <td>0.001</td>\n",
       "      <td>0.0</td>\n",
       "      <td>0.998</td>\n",
       "      <td>0.001</td>\n",
       "    </tr>\n",
       "    <tr>\n",
       "      <th>Tree + All 3</th>\n",
       "      <td>0.001</td>\n",
       "      <td>0.0</td>\n",
       "      <td>0.999</td>\n",
       "      <td>0.000</td>\n",
       "    </tr>\n",
       "  </tbody>\n",
       "</table>\n",
       "</div>"
      ],
      "text/plain": [
       "               Test RMSE   SE  Test R2     SE\n",
       "Lasso              0.001  0.0    0.996  0.001\n",
       "Adaboost Tree      0.001  0.0    0.996  0.002\n",
       "Lasso + Tree       0.001  0.0    0.998  0.001\n",
       "Ridge              0.000  0.0    1.000  0.000\n",
       "Enet               0.001  0.0    0.996  0.001\n",
       "Tree + Ridge       0.001  0.0    0.999  0.001\n",
       "Tree + Enet        0.001  0.0    0.998  0.001\n",
       "Tree + All 3       0.001  0.0    0.999  0.000"
      ]
     },
     "execution_count": 359,
     "metadata": {},
     "output_type": "execute_result"
    }
   ],
   "source": [
    "columns=['Test RMSE', 'SE', 'Test R2', 'SE']\n",
    "rows = ['Lasso', 'Adaboost Tree', 'Lasso + Tree', 'Ridge', 'Enet', 'Tree + Ridge', 'Tree + Enet', 'Tree + All 3']\n",
    "results=pd.DataFrame(0.0, columns=columns, index=rows) \n",
    "\n",
    "results.iloc[0,0], results.iloc[0,1] = rmse_jack(y_test, pred_L)\n",
    "results.iloc[0,2], results.iloc[0,3] = (r2_jack(y_test, pred_L))\n",
    "results.iloc[1,0], results.iloc[1,1] = rmse_jack(y_test, pred_T)\n",
    "results.iloc[1,2], results.iloc[1,3] = (r2_jack(y_test, pred_T))\n",
    "results.iloc[2,0], results.iloc[2,1] = rmse_jack(y_test, pred_combined)\n",
    "results.iloc[2,2], results.iloc[2,3] = (r2_jack(y_test, pred_combined))\n",
    "results.iloc[3,0], results.iloc[3,1] = rmse_jack(y_test, pred_R)\n",
    "results.iloc[3,2], results.iloc[3,3] = (r2_jack(y_test, pred_R))\n",
    "results.iloc[4,0], results.iloc[4,1] = rmse_jack(y_test, pred_E)\n",
    "results.iloc[4,2], results.iloc[4,3] = (r2_jack(y_test, pred_E))\n",
    "results.iloc[5,0], results.iloc[5,1] = rmse_jack(y_test, pred_combined2)\n",
    "results.iloc[5,2], results.iloc[5,3] = (r2_jack(y_test, pred_combined2))\n",
    "results.iloc[6,0], results.iloc[6,1] = rmse_jack(y_test, pred_combined3)\n",
    "results.iloc[6,2], results.iloc[6,3] = (r2_jack(y_test, pred_combined3))\n",
    "results.iloc[7,0], results.iloc[7,1] = rmse_jack(y_test, pred_combined4)\n",
    "results.iloc[7,2], results.iloc[7,3] = (r2_jack(y_test, pred_combined4))\n",
    "results.round(3)"
   ]
  },
  {
   "cell_type": "code",
   "execution_count": null,
   "metadata": {
    "collapsed": true
   },
   "outputs": [],
   "source": []
  }
 ],
 "metadata": {
  "kernelspec": {
   "display_name": "Python 3",
   "language": "python",
   "name": "python3"
  },
  "language_info": {
   "codemirror_mode": {
    "name": "ipython",
    "version": 3
   },
   "file_extension": ".py",
   "mimetype": "text/x-python",
   "name": "python",
   "nbconvert_exporter": "python",
   "pygments_lexer": "ipython3",
   "version": "3.6.2"
  }
 },
 "nbformat": 4,
 "nbformat_minor": 2
}
